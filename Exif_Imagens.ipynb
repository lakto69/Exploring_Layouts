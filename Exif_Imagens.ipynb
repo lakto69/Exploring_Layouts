{
  "cells": [
    {
      "cell_type": "markdown",
      "metadata": {
        "colab_type": "text",
        "id": "view-in-github"
      },
      "source": [
        "<a href=\"https://colab.research.google.com/github/lakto69/Exploring_Layouts/blob/master/Exif_Imagens.ipynb\" target=\"_parent\"><img src=\"https://colab.research.google.com/assets/colab-badge.svg\" alt=\"Open In Colab\"/></a>"
      ]
    },
    {
      "cell_type": "markdown",
      "metadata": {
        "id": "Kf-ApAyNUgzg"
      },
      "source": [
        "# Projeto de App (1ª parte):\n",
        "\n",
        "1. [Recebe pasta contendo arquivos de imagem](https://colab.research.google.com/drive/1oenYv80rXnlsSpx1-EIbtIkZorKtL97n#scrollTo=PW5whe68nrGj&line=1&uniqifier=1);\n",
        "1. [Verifica as coordenadas de cada uma das imagens contidas no `exif`](https://colab.research.google.com/drive/1oenYv80rXnlsSpx1-EIbtIkZorKtL97n#scrollTo=pALsoJo6t4c_);\n",
        "1. [Cria Pastas *(por país)* e Subpastas *(por cidade)* baseadas em seus dados de coordenadas](https://colab.research.google.com/drive/1oenYv80rXnlsSpx1-EIbtIkZorKtL97n#scrollTo=q9EGnQK4N1wH&line=1&uniqifier=1);\n",
        "1. [Move os arquivos com informações de coordenadas para as pastas correspondentes e mantém na pasta original as imagens sem informações de coordenadas](https://colab.research.google.com/drive/1oenYv80rXnlsSpx1-EIbtIkZorKtL97n#scrollTo=t89hDRmAVSo-&line=1&uniqifier=1).\n",
        "\n",
        "# Projeto de App (2ª parte):\n",
        "\n",
        "1. Renderiza um mapa com cada uma das fotos plotadas, como sendo um ponto, utilizando como referência de local a coordenada contida no `exif` ou o local definido pela pasta/subpasta, caso não haja informação no `exif`;\n",
        "1. Salva esse mapa em arquivo `html`.\n",
        "\n",
        "# Projeto de App (3ª parte):\n",
        "\n",
        "1. Criar uma interface de navegação por linha de tempo + localização;"
      ]
    },
    {
      "attachments": {},
      "cell_type": "markdown",
      "metadata": {},
      "source": [
        "---\n",
        "\n",
        "## Pré-requisitos:"
      ]
    },
    {
      "cell_type": "code",
      "execution_count": null,
      "metadata": {},
      "outputs": [],
      "source": [
        "%pip install pycountry\n",
        "%pip install --upgrade reverse_geocoder\n",
        "%pip install exifread\n",
        "%pip install exif\n",
        "%pip install GPSPhoto\n",
        "%pip install piexif\n",
        "%pip install folium"
      ]
    },
    {
      "cell_type": "markdown",
      "metadata": {
        "id": "PW5whe68nrGj"
      },
      "source": [
        "## Recebe pasta contendo arquivos de imagem;\n",
        "\n",
        "---\n",
        "\n"
      ]
    },
    {
      "cell_type": "code",
      "execution_count": 1,
      "metadata": {
        "id": "jhGQIIrDnu3A"
      },
      "outputs": [],
      "source": [
        "file_path = 'com.jpg'"
      ]
    },
    {
      "cell_type": "code",
      "execution_count": null,
      "metadata": {
        "id": "an_ecTuzxOs3"
      },
      "outputs": [],
      "source": [
        "file_path = 'sem.jpg'"
      ]
    },
    {
      "cell_type": "markdown",
      "metadata": {
        "id": "pALsoJo6t4c_"
      },
      "source": [
        "## Usa a biblioteca `GPSPhoto` para acessar dados geográficos de `exif`:\n",
        "\n",
        "2. https://stackoverflow.com/questions/19804768/interpreting-gps-info-of-exif-data-from-photo-in-python\n",
        "\n",
        "*Melhor alternativa!*"
      ]
    },
    {
      "cell_type": "code",
      "execution_count": 2,
      "metadata": {
        "id": "KkR2ozHs8Ukd"
      },
      "outputs": [],
      "source": [
        "from GPSPhoto import gpsphoto"
      ]
    },
    {
      "cell_type": "code",
      "execution_count": 3,
      "metadata": {
        "colab": {
          "base_uri": "https://localhost:8080/"
        },
        "id": "119o9uCZt4dA",
        "outputId": "6212d9d9-d319-4c78-b246-7297b7e5bdd7"
      },
      "outputs": [],
      "source": [
        "# Recebe o endereço de um arquivo e retorna um dicionário com informações de GPS do Exif\n",
        "data = gpsphoto.getGPSData(file_path)\n",
        "# print(data.get('Latitude'), data.get('Longitude'))\n",
        "data"
      ]
    },
    {
      "cell_type": "code",
      "execution_count": 4,
      "metadata": {},
      "outputs": [
        {
          "name": "stdout",
          "output_type": "stream",
          "text": [
            "None\n"
          ]
        }
      ],
      "source": [
        "print(gpsphoto.getGPSData('com.jpg'))"
      ]
    },
    {
      "cell_type": "markdown",
      "metadata": {
        "id": "5Mg9d6eju7Pf"
      },
      "source": [
        "### Examinando local das imagens com `reverse_geocoder` e `pycountry`:\n",
        "\n",
        "[https://auth0.com/blog/read-edit-exif-metadata-in-photos-with-python/]"
      ]
    },
    {
      "cell_type": "code",
      "execution_count": 5,
      "metadata": {
        "id": "JF8saIi5u7Pn"
      },
      "outputs": [],
      "source": [
        "import reverse_geocoder as rg\n",
        "import pycountry"
      ]
    },
    {
      "cell_type": "code",
      "execution_count": 6,
      "metadata": {
        "id": "i2imQITxHgOb"
      },
      "outputs": [],
      "source": [
        "# Função que recebe coordenadas geográficas e retorna Cidade e País ou None\n",
        "def latlong2cidade_pais(lati=None, longe=None):\n",
        "  if lati and longe:\n",
        "    # Dados geográficos sem Nome do país; só com sigla\n",
        "    # 'copy()' evita de alterar os dados localizados quando fizer alguma alteração na variável\n",
        "    location_info = rg.search((lati, longe))[0].copy()\n",
        "    # Pesquisa o nome do país pela sua sigla\n",
        "    if pycountry.countries.get(alpha_2=location_info['cc']):\n",
        "      pais = pycountry.countries.get(alpha_2=location_info['cc']).name\n",
        "    else:\n",
        "      pais = None\n",
        "    return location_info['name'], pais\n",
        "  else:\n",
        "    return None, None"
      ]
    },
    {
      "cell_type": "code",
      "execution_count": 7,
      "metadata": {
        "colab": {
          "base_uri": "https://localhost:8080/"
        },
        "id": "7w_t2T9GMfc7",
        "outputId": "3f827bf5-5b7f-40fe-ae0c-94b4048615f8"
      },
      "outputs": [
        {
          "ename": "AttributeError",
          "evalue": "'NoneType' object has no attribute 'get'",
          "output_type": "error",
          "traceback": [
            "\u001b[1;31m---------------------------------------------------------------------------\u001b[0m",
            "\u001b[1;31mAttributeError\u001b[0m                            Traceback (most recent call last)",
            "Cell \u001b[1;32mIn[7], line 1\u001b[0m\n\u001b[1;32m----> 1\u001b[0m \u001b[39mprint\u001b[39m(latlong2cidade_pais(data\u001b[39m.\u001b[39;49mget(\u001b[39m'\u001b[39m\u001b[39mLatitude\u001b[39m\u001b[39m'\u001b[39m), data\u001b[39m.\u001b[39mget(\u001b[39m'\u001b[39m\u001b[39mLongitude\u001b[39m\u001b[39m'\u001b[39m)))\n",
            "\u001b[1;31mAttributeError\u001b[0m: 'NoneType' object has no attribute 'get'"
          ]
        }
      ],
      "source": [
        "print(latlong2cidade_pais(data.get('Latitude'), data.get('Longitude')))"
      ]
    },
    {
      "cell_type": "code",
      "execution_count": null,
      "metadata": {
        "colab": {
          "base_uri": "https://localhost:8080/"
        },
        "id": "a2ceEw60QiqR",
        "outputId": "c0319d45-f711-4e57-b801-a9f75965c0b1"
      },
      "outputs": [
        {
          "name": "stdout",
          "output_type": "stream",
          "text": [
            "./Brazil/Brasilia\n"
          ]
        }
      ],
      "source": [
        "locais = latlong2cidade_pais(data.get('Latitude'), data.get('Longitude'))\n",
        "\n",
        "print(f'./{locais[1]}/{locais[0]}')"
      ]
    },
    {
      "cell_type": "markdown",
      "metadata": {
        "id": "q9EGnQK4N1wH"
      },
      "source": [
        "## 3. Criar Pastas (por país) e Subpastas (por cidade) baseadas em seus dados de coordenadas:"
      ]
    },
    {
      "cell_type": "code",
      "execution_count": 3,
      "metadata": {
        "id": "XYp93lJySAT3"
      },
      "outputs": [],
      "source": [
        "import os"
      ]
    },
    {
      "cell_type": "code",
      "execution_count": null,
      "metadata": {
        "id": "B0hyoWfjN9Ro"
      },
      "outputs": [],
      "source": [
        "# Busca a cidade e país de uma coordenada e cria as pastas, caso não exista\n",
        "\n",
        "locais = latlong2cidade_pais(data.get('Latitude'), data.get('Longitude'))\n",
        "if locais:\n",
        "  dir = f'./{locais[1]}/{locais[0]}'\n",
        "else:\n",
        "  dir = './pais/cidade'       \n",
        "if not os.path.exists(dir):\n",
        "  os.makedirs(dir)\n"
      ]
    },
    {
      "cell_type": "markdown",
      "metadata": {
        "id": "t89hDRmAVSo-"
      },
      "source": [
        "## 4. Move os arquivos com informações de coordenadas para as pastas correspondentes e mantém na pasta original as imagens sem informações de coordenadas"
      ]
    },
    {
      "cell_type": "code",
      "execution_count": null,
      "metadata": {
        "id": "7a1jWzrcN9En"
      },
      "outputs": [],
      "source": [
        "# movendo o arquivo\n",
        "\n",
        "os.replace(os.path.join('.', file_path), os.path.join(dir, file_path))"
      ]
    },
    {
      "cell_type": "code",
      "execution_count": null,
      "metadata": {
        "id": "QGFEhcG1N0TT"
      },
      "outputs": [],
      "source": []
    },
    {
      "cell_type": "markdown",
      "metadata": {
        "id": "LtE80anYu7Po"
      },
      "source": [
        "### Mostrando a foto no `Google Maps`:"
      ]
    },
    {
      "cell_type": "code",
      "execution_count": null,
      "metadata": {
        "id": "LYzSh7Bwu7Po"
      },
      "outputs": [],
      "source": [
        "import webbrowser"
      ]
    },
    {
      "cell_type": "code",
      "execution_count": null,
      "metadata": {
        "colab": {
          "base_uri": "https://localhost:8080/"
        },
        "id": "0IuwMAyNu7Pp",
        "outputId": "82a1219b-c041-4cb8-e91b-5198073fa65f"
      },
      "outputs": [
        {
          "data": {
            "text/plain": [
              "False"
            ]
          },
          "execution_count": 39,
          "metadata": {},
          "output_type": "execute_result"
        }
      ],
      "source": [
        "url = f\"https://www.google.com/maps?q={decimal_latitude},{decimal_longitude}\"\n",
        "webbrowser.open_new_tab(url)"
      ]
    },
    {
      "cell_type": "markdown",
      "metadata": {
        "id": "UNsYfJeKuFDF"
      },
      "source": [
        "\n",
        "\n",
        "---\n",
        "\n"
      ]
    },
    {
      "cell_type": "markdown",
      "metadata": {
        "id": "unDzge_5S2T3"
      },
      "source": [
        "# Trabalhando com `Exif` de imagens:\n",
        "\n",
        "1. Lista de TAGS Exif: [https://exiftool.org/TagNames/EXIF.html]\n",
        "1. TAGS Exif GPS: [https://exiftool.org/TagNames/GPS.html] e [https://exif.readthedocs.io/en/latest/api_reference.html#image-attributes]\n",
        "1. Trabalhando com dados de GPS da imagem: [https://auth0.com/blog/read-edit-exif-metadata-in-photos-with-python/]"
      ]
    },
    {
      "cell_type": "markdown",
      "metadata": {
        "id": "5tiQgISbqAET"
      },
      "source": [
        "Fonte: [https://www.geeksforgeeks.org/how-to-extract-image-metadata-in-python/]"
      ]
    },
    {
      "cell_type": "code",
      "execution_count": 6,
      "metadata": {
        "id": "HlmkjKBUTFJV"
      },
      "outputs": [
        {
          "ename": "ModuleNotFoundError",
          "evalue": "No module named 'PIL'",
          "output_type": "error",
          "traceback": [
            "\u001b[1;31m---------------------------------------------------------------------------\u001b[0m",
            "\u001b[1;31mModuleNotFoundError\u001b[0m                       Traceback (most recent call last)",
            "Cell \u001b[1;32mIn[6], line 3\u001b[0m\n\u001b[0;32m      1\u001b[0m \u001b[39m# Utilizando `PIL`\u001b[39;00m\n\u001b[0;32m      2\u001b[0m \u001b[39m# https://acervolima.com/como-extrair-metadados-de-imagem-em-python/\u001b[39;00m\n\u001b[1;32m----> 3\u001b[0m \u001b[39mfrom\u001b[39;00m \u001b[39mPIL\u001b[39;00m \u001b[39mimport\u001b[39;00m Image\n\u001b[0;32m      4\u001b[0m \u001b[39mfrom\u001b[39;00m \u001b[39mPIL\u001b[39;00m\u001b[39m.\u001b[39;00m\u001b[39mExifTags\u001b[39;00m \u001b[39mimport\u001b[39;00m TAGS\n",
            "\u001b[1;31mModuleNotFoundError\u001b[0m: No module named 'PIL'"
          ]
        }
      ],
      "source": [
        "# Utilizando `PIL`\n",
        "# https://acervolima.com/como-extrair-metadados-de-imagem-em-python/\n",
        "from PIL import Image\n",
        "from PIL.ExifTags import TAGS"
      ]
    },
    {
      "cell_type": "code",
      "execution_count": null,
      "metadata": {
        "colab": {
          "base_uri": "https://localhost:8080/"
        },
        "id": "ad7tDC6aSvVw",
        "outputId": "f8f3e4fd-2bb0-45ed-e4b7-f02f0ec98452"
      },
      "outputs": [
        {
          "name": "stdout",
          "output_type": "stream",
          "text": [
            "ExifVersion              : b'0220'\n",
            "\tExifVersion => 36864\n",
            "ColorSpace               : 1\n",
            "\tColorSpace => 40961\n",
            "ApertureValue            : (200, 100)\n",
            "\tApertureValue => 37378\n",
            "ExposureMode             : 0\n",
            "\tExposureMode => 41986\n",
            "DateTimeDigitized        : 2019:01:01 13:19:06\n",
            "\tDateTimeDigitized => 36868\n",
            "ExifImageHeight          : 1836\n",
            "\tExifImageHeight => 40963\n",
            "SceneCaptureType         : 0\n",
            "\tSceneCaptureType => 41990\n",
            "SceneType                : b'\\x01'\n",
            "\tSceneType => 41729\n",
            "DigitalZoomRatio         : (100, 100)\n",
            "\tDigitalZoomRatio => 41988\n",
            "WhiteBalance             : 0\n",
            "\tWhiteBalance => 41987\n",
            "FocalLength              : (260, 100)\n",
            "\tFocalLength => 37386\n",
            "ExifImageWidth           : 3264\n",
            "\tExifImageWidth => 40962\n",
            "MeteringMode             : 2\n",
            "\tMeteringMode => 37383\n",
            "UserComment              : b'   HB = 0,6,-6 FN=0 lidx=172.88   FM0   FC000000000\\x00\\x00\\x00\\x00\\x00\\x00\\x00\\x00\\x00\\x00\\x00\\x00\\x00\\x00\\x00\\x00\\x00\\x00\\x00\\x00\\x00\\x00\\x00\\x00\\x00\\x00\\x00\\x00\\x00\\x00\\x00\\x00\\x00\\x00\\x00\\x00\\x00\\x00\\x00\\x00\\x00\\x00\\x00\\x00\\x00\\x00\\x00\\x00\\x00\\x00\\x00\\x00\\x00\\x00\\x00\\x00\\x00\\x00\\x00\\x00\\x00\\x00\\x00\\x00\\x00\\x00\\x00\\x00\\x00\\x00\\x00\\x00\\x00\\x00\\x00\\x00\\x00\\x00\\x00\\x00\\x00\\x00\\x00\\x00\\x00\\x00\\x00\\x00\\x00\\x00\\x00\\x00\\x00\\x00\\x00\\x00\\x00\\x00\\x00\\x00\\x00\\x00\\x00\\x00\\x00\\x00\\x00\\x00\\x00\\x00\\x00\\x00\\x00\\x00\\x00\\x00\\x00\\x00\\x00\\x00\\x00\\x00\\x00\\x00\\x00\\x00\\x00\\x00\\x00\\x00\\x00\\x00\\x00\\x00\\x00\\x00\\x00\\x00\\x00\\x00\\x00\\x00\\x00\\x00\\x00\\x00\\x00\\x00\\x00\\x00\\x00\\x00\\x00\\x00\\x00\\x00\\x00\\x00\\x00\\x00\\x00\\x00\\x00\\x00\\x00\\x00\\x00\\x00\\x00\\x00\\x00\\x00\\x00\\x00\\x00\\x00\\x00\\x00\\x00\\x00\\x00\\x00\\x00\\x00\\x00\\x00\\x00\\x00\\x00\\x00\\x00\\x00\\x00\\x00\\x00\\x00\\x00\\x00\\x00\\x00\\x00\\x00\\x00\\x00\\x00\\x00\\x00\\x00\\x00\\x00\\x00\\x00\\x00\\x00\\x00\\x00\\x00\\x00\\x00\\x00\\x00\\x00\\x00\\x00\\x00\\x00\\x00\\x00\\x00\\x00\\x00\\x00\\x00\\x00\\x00\\x00\\x00\\x00\\x00\\x00\\x00\\x00\\x00\\x00\\x00\\x00\\x00\\x00\\x00\\x00\\x00\\x00\\x00\\x00\\x00\\x00\\x00\\x00\\x00\\x00\\x00\\x00\\x00\\x00\\x00\\x00\\x00\\x00\\x00\\x00\\x00\\x00\\x00\\x00\\x00\\x00\\x00\\x00\\x00\\x00\\x00\\x00\\x00\\x00\\x00\\x00\\x00\\x00\\x00\\x00\\x00\\x00\\x00\\x00\\x00\\x00\\x00\\x00\\x00\\x00\\x00\\x00\\x00\\x00\\x00\\x00\\x00\\x00\\x00\\x00\\x00\\x00\\x00\\x00\\x00\\x00\\x00\\x00\\x00\\x00\\x00\\x00\\x00\\x00\\x00\\x00\\x00\\x00\\x00\\x00\\x00\\x00\\x00\\x00\\x00\\x00\\x00\\x00\\x00\\x00\\x00\\x00\\x00\\x00\\x00\\x00\\x00\\x00\\x00\\x00\\x00\\x00\\x00\\x00\\x00\\x00\\x00\\x00\\x00\\x00\\x00\\x00\\x00\\x00\\x00\\x00\\x00\\x00\\x00\\x00\\x00\\x00\\x00\\x00\\x00\\x00\\x00\\x00\\x00\\x00\\x00\\x00\\x00\\x00\\x00\\x00\\x00\\x00\\x00\\x00\\x00\\x00\\x00\\x00\\x00\\x00\\x00\\x00\\x00\\x00\\x00\\x00\\x00\\x00\\x00\\x00\\x00\\x00\\x00\\x00\\x00\\x00\\x00\\x00\\x00\\x00\\x00\\x00\\x00\\x00\\x00\\x00\\x00\\x00\\x00\\x00\\x00\\x00\\x00\\x00\\x00\\x00\\x00\\x00\\x00\\x00\\x00\\x00\\x00\\x00\\x00\\x00\\x00\\x00\\x00\\x00\\x00\\x00\\x00\\x00\\x00\\x00\\x00\\x00\\x00\\x00\\x00\\x00\\x00\\x00\\x00'\n",
            "\tUserComment => 37510\n",
            "ComponentsConfiguration  : b'\\x01\\x02\\x03\\x00'\n",
            "\tComponentsConfiguration => 37121\n",
            "Flash                    : 16\n",
            "\tFlash => 37385\n",
            "SubsecTime               : 288862\n",
            "\tSubsecTime => 37520\n",
            "SubsecTimeOriginal       : 288862\n",
            "\tSubsecTimeOriginal => 37521\n",
            "SubsecTimeDigitized      : 288862\n",
            "\tSubsecTimeDigitized => 37522\n",
            "DateTimeOriginal         : 2019:01:01 13:19:06\n",
            "\tDateTimeOriginal => 36867\n",
            "Model                    : LG-H818P\n",
            "\tModel => 272\n",
            "YCbCrPositioning         : 1\n",
            "\tYCbCrPositioning => 531\n",
            "ShutterSpeedValue        : (8282, 1000)\n",
            "\tShutterSpeedValue => 37377\n",
            "SensingMethod            : 1\n",
            "\tSensingMethod => 41495\n",
            "Orientation              : 1\n",
            "\tOrientation => 274\n",
            "ExifInteroperabilityOffset: 2925\n",
            "\tExifInteroperabilityOffset => 40965\n",
            "ExposureTime             : (1, 311)\n",
            "\tExposureTime => 33434\n",
            "XResolution              : (72, 1)\n",
            "\tXResolution => 282\n",
            "FNumber                  : (200, 100)\n",
            "\tFNumber => 33437\n",
            "YResolution              : (72, 1)\n",
            "\tYResolution => 283\n",
            "BrightnessValue          : (565, 100)\n",
            "\tBrightnessValue => 37379\n",
            "ExposureProgram          : 0\n",
            "\tExposureProgram => 34850\n",
            "ExposureBiasValue        : (0, 6)\n",
            "\tExposureBiasValue => 37380\n",
            "GPSInfo                  : {1: 'N', 2: ((44, 1), (29, 1), (381710, 10000)), 3: 'E', 4: ((11, 1), (20, 1), (335709, 10000)), 5: (200, 100), 6: (189000, 1000), 7: ((12, 1), (19, 1), (20, 1)), 29: '2019:01:01'}\n",
            "\tGPSInfo => 34853\n",
            "ISOSpeedRatings          : 50\n",
            "\tISOSpeedRatings => 34855\n",
            "ResolutionUnit           : 2\n",
            "\tResolutionUnit => 296\n",
            "FlashPixVersion          : b'0100'\n",
            "\tFlashPixVersion => 40960\n",
            "DateTime                 : 2019:01:01 13:19:06\n",
            "\tDateTime => 306\n",
            "Make                     : LG Electronics\n",
            "\tMake => 271\n",
            "ExifOffset               : 194\n",
            "\tExifOffset => 34665\n",
            "MakerNote                : b'\\n\\nstat1S\\n\\n\\x00\\x00@\\x00\\x00\\x000\\x00\\x00\\x00&\\x00\\x00\\x002\\x00\\x00\\x00>w\\xd5?\\x00\\x00\\x80?\\x8cm\\xc5?\\x16\\x84/C&\\x00\\x00\\x00\\x00\\x00\\x00\\x00\\x00\\x00\\x00\\x00\\x00\\x00\\x00\\x00\\x00\\x00\\x00\\x00\\x00\\x00\\x00\\x00\\x00\\x00\\x00\\x00\\x00\\x00\\x00\\x00\\x00\\x00\\x00\\x00\\x00\\x00\\x00\\x00\\x00\\x00\\x00\\x00\\x00\\x00\\x00\\x00\\x00\\x00\\x00\\x00\\x00\\x00\\x00\\x00\\x00\\x00\\x00\\x00\\x00\\x00\\x00\\x00\\x00\\x00\\x00\\x00\\x00\\x00\\x00\\x00\\x00\\x00\\x00\\x00\\x00\\x00\\x00\\x00\\x00\\x00\\x00\\x00\\x00\\x00\\x00\\x00\\x00\\x00\\x00\\x00\\x00\\x00\\x00\\x00\\x00\\x00\\x00\\x00\\x00\\x00\\x00\\x00\\x00\\x00\\x00\\x00\\x00\\x00\\x00\\x00\\x00\\x00\\x00\\x00\\x00\\x00\\x00\\x00\\x00\\x00\\x00\\x00\\x00\\x00\\x00\\x00\\x00\\x00\\x00\\x00\\x00\\x00\\x00\\x00\\x00\\x00\\x00\\x00\\x00\\x00\\x00\\x00\\x00\\x00\\x00\\x00\\x00\\x00\\x00\\x00\\x00\\x00\\x00\\x00\\x00\\x00\\x00\\x00\\x00\\x00\\x00\\x00\\x00\\x00\\x00\\x00\\x00\\x00\\x00\\x00\\x00\\x00\\x00\\x00\\x00\\x00\\x00\\x00\\x00\\x00\\x00\\x00\\x00\\x00\\x00\\x00\\x00\\x00\\x00\\x00\\x00\\x00\\x00\\x00\\x00\\x00\\x00\\x00\\x00\\x00\\x00\\x00\\x00\\x00\\x00\\x00\\x00\\x00\\x00\\x00\\x00\\x00\\x00\\x00\\x00\\x00\\x00\\x00\\x00\\x00\\x00\\x00\\x00\\x00\\x00\\x00\\x00\\x00\\x00\\x00\\x00\\x00\\x00\\x00\\x00\\x00\\x00\\x00\\x00\\x00\\x00\\x00\\x00\\x00\\x00\\x00\\x00\\x00\\x00\\x00\\x00\\x00\\x00\\x00\\x00\\x00\\x00\\x00\\x00\\x00\\x00\\x00\\x00\\x00\\x00\\x00\\x00\\x00\\x00\\x00\\x00\\x00\\x00\\x00\\x00\\x00\\x00\\x00\\x00\\x00\\x00\\x00\\x00\\x00\\x00\\x00\\x00\\x00\\x00\\x00\\x00\\x00\\x00\\x00\\x00\\x00\\x00\\x00\\x00\\x00\\x00\\x00\\x00\\x00\\x00\\x00\\x00\\x00\\x00\\x00\\x00\\x00\\x00\\x00\\x00\\x00\\x00\\x00\\x00\\x00\\x00\\x00\\x00\\x00\\x00\\x00\\x00\\x00\\x00\\x00\\x00\\x00\\x00\\x00\\x00\\x00\\x00\\x00\\x00\\x00\\x00\\x00\\x00\\x00\\x00\\x00\\x00\\x00\\x00\\x00\\x00\\x00\\x00\\x00\\x00\\x00\\x00\\x00\\x00\\x00\\x00\\x00\\x00\\x00\\x00\\x00\\x00\\x00\\x00\\x00\\x00\\x00\\x00\\x00\\x00\\x00\\x00\\x00\\x00\\x00\\x00\\x00\\x00\\x00\\x00\\x00\\x00\\x00\\x00\\x00\\x00\\x00\\x00\\x00\\x00\\x00\\x00\\x00\\x00\\x00\\x00\\x00\\x00\\x00\\x00\\x00\\x00\\x00\\x00\\x00\\x00\\x00\\x00\\x00\\x00\\x00\\x00\\x00\\x00\\x00\\x00\\x00\\x00\\x00\\x00\\x00\\x00\\x00\\x00\\x00\\x00\\x00\\x00\\x00\\x00\\x00\\x00\\x00\\x00\\x00\\x00\\x00\\x00\\x00\\x00\\x00\\x00\\x00\\x00\\x00\\x00\\x00\\x00\\x00\\x00\\x00\\x00\\x00\\x00\\x00\\x00\\x00\\x00\\x00\\x00\\x00\\x00\\x00\\x00\\x00\\x00\\x00\\x00\\x00\\x00\\x00\\x00\\x00\\x00\\x00\\x00\\x00\\x00\\x00\\x00\\x00\\x00\\x00\\x00\\x00\\x00\\x00\\x00\\x00\\x00\\x00\\x00\\x00\\x00\\x00\\x00\\x00\\x00\\x00\\x00\\x00\\x00\\x00\\x00\\x00\\x00\\x00\\x00\\x00\\x00\\x00\\x00\\x00\\x00\\x00\\x00\\x00\\x00\\x00\\x00\\x00\\x00\\x00\\x00\\x00\\x00\\x00\\x00\\x00\\x00\\x00\\x00\\x00\\x00\\x00\\x00\\x00\\x00\\x00\\x00\\x00N\\x00\\x00\\x00R\\x00\\x00\\x00\\x06\\x00\\x00\\x00N\\x00\\x00\\x00R\\x00\\x00\\x00\\x06\\x00\\x00\\x00\\x00\\x00\\x00\\x00\\x01\\x00\\x00\\x00\\xa6\\x00\\x00\\x00\\x06\\x00\\x00\\x000\\x00\\x00\\x00\\x00\\x00\\x00\\x00\\x00\\x00\\x00\\x00\\x00\\x00\\x00\\x00\\x00\\x00\\x00\\x00\\x00\\x00\\x00\\x00\\x00\\x00\\x00\\x00\\x00\\x00\\x00\\x00\\x00\\x00\\x00\\x00\\x00\\x00\\x00\\x00\\n\\nstat1E\\n\\n\\x00\\x00\\x00\\x00\\x00\\x00\\x00\\x00\\x00\\x00\\x00\\x00\\x00\\x00\\x00\\x00\\x00\\x00\\x00\\x00\\x00\\x00\\x00\\x00\\x00\\x00\\x00\\x00\\x00\\x00\\x00\\x00\\x00\\x00\\x00\\x00\\x00\\x00\\x00\\x00\\x00\\x00\\x00\\x00\\x00\\x00\\x00\\x00\\x00\\x00\\x00\\x00\\x00\\x00\\x00\\x00\\x00\\x00\\x00\\x00\\x00\\x00\\x00\\x00\\x00\\x00\\x00\\x00\\x00\\x00\\x00\\x00\\x00\\x00\\x00\\x00\\x00\\x00\\x00\\x00\\x00\\x00\\x00\\x00\\x00\\x00\\x00\\x00\\x00\\x00\\x00\\x00\\x00\\x00\\x00\\x00\\x00\\x00\\x00\\x00\\x00\\x00\\x00\\x00\\x00\\x00\\x00\\x00\\x00\\x00\\x00\\x00\\x00\\x00\\x00\\x00\\x00\\x00\\x00\\x00\\x00\\x00\\x00\\x00\\x00\\x00\\x00\\x00\\x00\\x00\\x00\\x00\\x00\\x00\\x00\\x00\\x00\\x00\\x00\\x00\\x00\\x00\\x00\\x00\\x00\\x00\\x00\\x00\\x00\\x00\\x00\\x00\\x00\\x00\\x00\\x00\\x00\\x00\\x00\\x00\\x00\\x00\\x00\\x00\\x00\\x00\\x00\\x00\\x00\\x00\\x00\\x00\\x00\\x00\\x00\\x00\\x00\\x00\\x00\\x00\\x00\\x00\\x00\\x00\\x00\\x00\\x00\\x00\\x00\\x00\\x00\\x00\\x00\\x00\\x00\\x00\\x00\\x00\\x00\\x00\\x00\\x00\\x00\\x00\\x00\\x00\\x00\\x00\\x00\\x00\\x00\\x00\\x00\\x00\\x00\\x00\\x00\\x00\\x00\\x00\\x00\\x00\\x00\\x00\\x00\\x00\\x00\\x00\\x00\\x00\\x00\\x00\\x00\\x00\\x00\\x00\\x00\\x00\\x00\\x00\\x00\\x00\\x00\\x00\\x00\\x00\\x00\\x00\\x00\\x00\\x00\\x00\\x00\\x00\\x00\\x00\\x00\\x00\\x00\\x00\\x00\\x00\\x00\\x00\\x00\\x00\\x00\\x00\\x00\\x00\\x00\\x00\\x00\\x00\\x00\\x00\\x00\\x00\\x00\\x00\\x00\\x00\\x00\\x00\\x00\\x00\\x00\\x00\\x00\\x00\\x00\\x00\\x00\\x00\\x00\\x00\\x00\\x00\\x00\\x00\\x00\\x00\\x00\\x00\\x00\\x00\\x00\\x00\\x00\\x00\\x00\\x00\\x00\\x00\\x00\\x00\\x00\\x00\\x00\\x00\\x00\\x00\\x00\\x00\\x00\\x00\\x00\\x00\\x00\\x00\\x00\\x00\\x00\\x00\\x00\\x00\\x00\\x00\\x00\\x00\\x00\\x00\\x00\\x00\\x00\\x00\\x00\\x00\\x00\\x00\\x00\\x00\\x00\\x00\\x00\\x00\\x00\\x00\\x00\\x00\\x00\\x00\\x00\\x00\\x00\\x00\\x00\\x00\\x00\\x00\\x00\\x00\\x00\\x00\\x00\\x00\\x00\\x00\\x00\\x00\\x00\\x00\\x00\\x00\\x00\\x00\\x00\\x00\\x00\\x00\\x00\\x00\\x00\\x00\\x00\\x00\\x00\\x00\\x00\\x00\\x00\\x00\\x00\\x00\\x00\\x00\\x00\\x00\\x00\\x00\\x00\\x00\\x00\\x00\\x00\\x00\\x00\\x00\\x00\\x00\\x00\\x00\\x00\\x00\\x00\\x00\\x00\\x00\\x00\\x00\\x00\\x00\\x00\\x00\\x00\\x00\\x00\\x00\\x00\\x00\\x00\\x00\\x00\\x00\\x00\\x00\\x00\\x00\\x00\\x00\\x00\\x00\\x00\\x00\\x00\\x00\\x00\\x00\\x00\\x00\\x00\\x00\\x00\\x00\\x00\\x00\\x00\\x00\\x00\\x00\\x00\\x00\\x00\\x00\\x00\\x00\\x00\\x00\\x00\\x00\\x00\\x00\\x00\\x00\\x00\\x00\\x00\\x00\\x00\\x00\\x00\\x00\\x00\\x00\\x00\\x00\\x00\\x00\\x00\\x00\\x00\\x00\\x00\\x00\\x00\\x00\\x00\\x00\\x00\\x00\\x00\\x00\\x00\\x00\\x00\\x00\\x00\\x00\\x00\\x00\\x00\\x00\\x00\\x00\\x00\\x00\\x00\\x00\\x00\\x00\\x00\\x00\\x00\\x00\\x00\\x00\\x00\\x00\\x00\\x00\\x00\\x00\\x00\\x00\\x00\\x00\\x00\\x00\\x00\\x00\\x00\\x00\\x00\\x00\\x00\\x00\\x00\\x00\\x00\\x00\\x00\\x00\\x00\\x00\\x00\\x00\\x00\\x00\\x00\\x00\\x00\\x00\\x00\\x00\\x00\\x00\\x00\\x00\\x00\\x00\\x00\\x00\\x00\\x00\\x00\\x00\\x00\\x00\\x00\\x00\\x00\\x00\\x00\\x00\\x00\\x00\\x00\\x00\\x00\\x00\\x00\\x00\\x00\\x00\\x00\\x00\\x00\\x00\\x00\\x00\\x00\\x00\\x00\\x00\\x00\\x00\\x00\\x00\\x00\\x00\\x00\\x00\\x00\\x00\\x00\\x00\\x00\\x00\\x00\\x00\\x00\\x00\\x00\\x00\\x00\\x00\\x00\\x00\\x00\\x00\\x00\\x00\\x00\\x00\\x00\\x00\\x00\\x00\\x00\\x00\\x00\\x00\\x00\\x00\\x00\\x00\\x00\\x00\\x00\\x00\\x00\\x00\\x00\\x00\\x00\\x00\\x00\\x00\\x00\\x00\\x00\\x00\\x00\\x00\\x00\\x00\\x00\\x00\\x00\\x00\\x00\\x00\\x00\\x00\\x00\\x00\\x00\\x00\\x00\\x00\\x00\\x00\\x00\\x00\\x00\\x00\\x00\\x00\\x00\\x00\\x00\\x00\\x00\\x00\\x00\\x00\\x00\\x00\\x00\\x00\\x00\\x00\\x00\\x00\\x00\\x00\\x00\\x00\\x00\\x00\\x00\\x00\\x00\\x00\\x00\\x00\\x00\\x00\\x00\\x00\\x00\\x00\\x00\\x00\\x00\\x00\\x00\\x00\\x00\\x00\\x00\\x00\\x00\\x00\\x00\\x00\\x00\\x00\\x00\\x00\\x00\\x00\\x00\\x00\\x00\\x00\\x00\\x00\\x00\\x00\\x00\\x00\\x00\\x00\\x00\\x00\\x00\\x00\\x00\\x00\\x00\\x00\\x00\\x00\\x00\\x00\\x00\\x00\\x00\\x00\\x00\\x00\\x00\\x00\\x00\\x00\\x00\\x00\\x00\\x00\\x00\\x00\\x00\\x00\\x00\\x00\\x00\\x00\\x00\\x00\\x00\\x00\\x00\\x00\\x00\\x00\\x00\\x00\\x00\\x00\\x00\\x00\\x00\\x00\\x00\\x00\\x00\\x00\\x00\\x00\\x00\\x00\\x00\\x00\\x00\\x00\\x00\\x00\\x00\\x00\\x00\\x00\\x00\\x00\\x00\\x00\\x00\\x00\\x00\\x00\\x00\\x00\\x00\\x00\\x00\\x00\\x00\\x00\\x00\\x00\\x00\\x00\\x00\\x00\\x00\\x00\\x00\\x00\\x00\\x00\\x00\\x00\\x00\\x00\\x00\\x00\\x00\\x00\\x00\\x00\\x00\\x00\\x00\\x00\\x00\\x00\\x00\\x00\\x00\\x00\\x00\\x00\\x00\\x00\\x00\\x00\\x00\\x00\\x00\\x00\\x00\\x00\\x00\\x00\\x00\\x00\\x00\\x00\\x00\\x00\\x00\\x00\\x00\\x00\\x00\\x00\\x00\\x00\\x00\\x00\\x00\\x00\\x00\\x00\\x00\\x00\\x00\\x00\\x00\\x00\\x00\\x00\\x00\\x00\\x00\\x00\\x00\\x00\\x00\\x00\\x00\\x00\\x00\\x00\\x00\\x00\\x00\\x00\\x00\\x00\\x00\\x00\\x00\\x00\\x00\\x00\\x00\\x00\\x00\\x00\\x00\\x00\\x00\\x00\\x00\\x00\\x00\\x00\\x00\\x00\\x00\\x00\\x000\\x00\\x00\\xff\\xff\\xff\\xff\\xff\\xff\\xff\\xff\\x00\\x00\\x00\\x00\\x00\\x00\\x00\\x00\\x00\\x00\\x00\\x000\\t\\xa0\\xf1x\\x00\\x00\\x00\\x84\\xebi\\xf7\\x00 \\x90\\xf19\\xd7_\\xf7Y\\t@\\xf7\\xff\\xff\\xff\\xff\\x00\\x00\\x00\\x00\\x00\\x00\\x00\\x00\\x00\\x00\\x00\\x00\\x00\\x00\\x00\\x00\\x00\\xb0=\\xf3'\n",
            "\tMakerNote => 37500\n"
          ]
        }
      ],
      "source": [
        "# open the image\n",
        "image = Image.open(\"201901~1.JP8.jpg\")\n",
        "\n",
        "# extracting the exif metadata\n",
        "exifdata = image.getexif()\n",
        "\n",
        "# looping through all the tags present in exifdata\n",
        "for tagid in exifdata:\n",
        "\t\n",
        "\t# getting the tag name instead of tag id\n",
        "\ttagname = TAGS.get(tagid, tagid)\n",
        "\n",
        "\t# passing the tagid to get its respective value\n",
        "\tvalue = exifdata.get(tagid)\n",
        "\n",
        "\t# printing the final result\n",
        "\tprint(f\"{tagname:25}: {value}\")\n",
        "\t# if tagname == 'GPSInfo':\n",
        "\tprint(f'\\t{tagname} => {tagid}')\n"
      ]
    },
    {
      "cell_type": "code",
      "execution_count": null,
      "metadata": {
        "colab": {
          "base_uri": "https://localhost:8080/"
        },
        "id": "S-W9erz4TDul",
        "outputId": "86dbce8a-c582-4c15-deb5-2121435fd8b2"
      },
      "outputs": [
        {
          "data": {
            "text/plain": [
              "{1: 'N',\n",
              " 2: ((44, 1), (29, 1), (381710, 10000)),\n",
              " 3: 'E',\n",
              " 4: ((11, 1), (20, 1), (335709, 10000)),\n",
              " 5: (200, 100),\n",
              " 6: (189000, 1000),\n",
              " 7: ((12, 1), (19, 1), (20, 1)),\n",
              " 29: '2019:01:01'}"
            ]
          },
          "execution_count": 5,
          "metadata": {},
          "output_type": "execute_result"
        }
      ],
      "source": [
        "tag = 34853 # GPSInfo\n",
        "exifdata.get(tag)"
      ]
    },
    {
      "cell_type": "markdown",
      "metadata": {
        "id": "aHzfNraZWXJD"
      },
      "source": [
        "## Usando `exifread`:\n",
        "\n",
        "*3ª melhor opção até agora!*"
      ]
    },
    {
      "cell_type": "code",
      "execution_count": null,
      "metadata": {
        "id": "YqdI5hAQW1_l"
      },
      "outputs": [],
      "source": [
        "# Pré-requisito:\n",
        "!pip install exifread"
      ]
    },
    {
      "cell_type": "code",
      "execution_count": null,
      "metadata": {
        "id": "mJJK1aj1pSsD"
      },
      "outputs": [],
      "source": [
        "file_path = '20171207_112856.jpg'"
      ]
    },
    {
      "cell_type": "code",
      "execution_count": null,
      "metadata": {
        "id": "T7wX_ZNGWbEb"
      },
      "outputs": [],
      "source": [
        "# FUNÇÕES AUXILIARES PARA LEITURA DE COORDENADAS GEOGRÁFICAS EM \"EXIF\"\n",
        "\n",
        "# barrowed from \n",
        "# https://gist.github.com/snakeye/fdc372dbf11370fe29eb \n",
        "def _convert_to_degress(value):\n",
        "    \"\"\"\n",
        "    Helper function to convert the GPS coordinates stored in the EXIF to degress in float format\n",
        "    :param value:\n",
        "    :type value: exifread.utils.Ratio\n",
        "    :rtype: float\n",
        "    \"\"\"\n",
        "    d = float(value.values[0].num) / float(value.values[0].den)\n",
        "    m = float(value.values[1].num) / float(value.values[1].den)\n",
        "    s = float(value.values[2].num) / float(value.values[2].den)\n",
        "\n",
        "    return d + (m / 60.0) + (s / 3600.0)\n",
        "\n",
        "\n",
        "def getGPS(filepath):\n",
        "    '''\n",
        "    returns gps data if present other wise returns empty dictionary\n",
        "    '''\n",
        "    with open(filepath, 'rb') as f:\n",
        "        tags = ef.process_file(f)\n",
        "        latitude = tags.get('GPS GPSLatitude')\n",
        "        latitude_ref = tags.get('GPS GPSLatitudeRef')\n",
        "        longitude = tags.get('GPS GPSLongitude')\n",
        "        longitude_ref = tags.get('GPS GPSLongitudeRef')\n",
        "        if latitude:\n",
        "            lat_value = _convert_to_degress(latitude)\n",
        "            if latitude_ref.values != 'N':\n",
        "                lat_value = -lat_value\n",
        "        else:\n",
        "            return {}\n",
        "        if longitude:\n",
        "            lon_value = _convert_to_degress(longitude)\n",
        "            if longitude_ref.values != 'E':\n",
        "                lon_value = -lon_value\n",
        "        else:\n",
        "            return {}\n",
        "        return {'latitude': lat_value, 'longitude': lon_value}\n",
        "    return {}"
      ]
    },
    {
      "cell_type": "code",
      "execution_count": null,
      "metadata": {
        "colab": {
          "base_uri": "https://localhost:8080/"
        },
        "id": "_wUxz73-rVa0",
        "outputId": "ae6faf5e-6752-4866-8b46-3d1c32dc2e2a"
      },
      "outputs": [
        {
          "name": "stdout",
          "output_type": "stream",
          "text": [
            "Europa: -15.806131083333334,-47.88481569444444\n"
          ]
        }
      ],
      "source": [
        "# Usando a função getGPS:\n",
        "gps = getGPS(file_path)\n",
        "print(f\"Europa: {gps['latitude']},{gps['longitude']}\")"
      ]
    },
    {
      "cell_type": "code",
      "execution_count": null,
      "metadata": {
        "colab": {
          "base_uri": "https://localhost:8080/"
        },
        "id": "Y883xtfAlLpd",
        "outputId": "1302193b-7b50-4fef-b0f6-f8670c1cf996"
      },
      "outputs": [
        {
          "name": "stdout",
          "output_type": "stream",
          "text": [
            "dict_keys(['Image DateTime', 'GPS GPSDate', 'GPS GPSAltitudeRef', 'GPS GPSLongitudeRef', 'GPS GPSLongitude', 'GPS GPSLatitudeRef', 'GPS GPSTimeStamp', 'GPS GPSAltitude', 'GPS GPSLatitude', 'Image GPSInfo', 'Image Model', 'Image YCbCrPositioning', 'Image ResolutionUnit', 'Image YResolution', 'Image Orientation', 'Image ExifOffset', 'Image XResolution', 'Image Make', 'Thumbnail YResolution', 'Thumbnail Orientation', 'Thumbnail JPEGInterchangeFormatLength', 'Thumbnail JPEGInterchangeFormat', 'Thumbnail Compression', 'Thumbnail ResolutionUnit', 'Thumbnail XResolution', 'EXIF ColorSpace', 'EXIF DateTimeDigitized', 'EXIF FNumber', 'EXIF FocalLength', 'EXIF ApertureValue', 'EXIF ExposureMode', 'EXIF SubSecTimeDigitized', 'EXIF ExifImageLength', 'EXIF SceneCaptureType', 'EXIF SceneType', 'EXIF SubSecTimeOriginal', 'EXIF DigitalZoomRatio', 'EXIF ExposureProgram', 'EXIF WhiteBalance', 'EXIF ExifImageWidth', 'EXIF SubSecTime', 'EXIF ShutterSpeedValue', 'EXIF MeteringMode', 'EXIF DateTimeOriginal', 'EXIF UserComment', 'EXIF ComponentsConfiguration', 'EXIF Flash', 'EXIF ExifVersion', 'Interoperability InteroperabilityIndex', 'Interoperability InteroperabilityVersion', 'EXIF InteroperabilityOffset', 'EXIF ExposureBiasValue', 'EXIF BrightnessValue', 'EXIF ISOSpeedRatings', 'EXIF SensingMethod', 'EXIF FlashPixVersion', 'EXIF MakerNote', 'EXIF ExposureTime', 'JPEGThumbnail'])\n"
          ]
        }
      ],
      "source": [
        "with open(file_path, 'rb') as f:\n",
        "  tags = ef.process_file(f)\n",
        "\n",
        "# Lista de TAGs disponíveis no arquivo de exemplo:\n",
        "print(tags.keys())"
      ]
    },
    {
      "cell_type": "code",
      "execution_count": null,
      "metadata": {
        "id": "AOdDJDQQsTEs"
      },
      "outputs": [],
      "source": [
        "dir(gps)"
      ]
    },
    {
      "cell_type": "markdown",
      "metadata": {
        "id": "nMstWSe6sWTY"
      },
      "source": [
        "### Examinando local das imagens com `reverse_geocoder` e `pycountry`:\n",
        "\n",
        "[https://auth0.com/blog/read-edit-exif-metadata-in-photos-with-python/]"
      ]
    },
    {
      "cell_type": "code",
      "execution_count": null,
      "metadata": {
        "id": "HMZTjwfps5fv"
      },
      "outputs": [],
      "source": [
        "!pip install pycountry"
      ]
    },
    {
      "cell_type": "code",
      "execution_count": null,
      "metadata": {
        "id": "x-QTrPK4sscD"
      },
      "outputs": [],
      "source": [
        "!pip install reverse_geocoder"
      ]
    },
    {
      "cell_type": "code",
      "execution_count": null,
      "metadata": {
        "id": "QocRjIDCsprA"
      },
      "outputs": [],
      "source": [
        "import reverse_geocoder as rg\n",
        "import pycountry"
      ]
    },
    {
      "cell_type": "code",
      "execution_count": null,
      "metadata": {
        "colab": {
          "base_uri": "https://localhost:8080/"
        },
        "id": "GfSGrmE5srZq",
        "outputId": "e7e3db85-d517-4723-e2f3-a5a719ec9a4d"
      },
      "outputs": [
        {
          "name": "stdout",
          "output_type": "stream",
          "text": [
            "Location info - Image 201901~1.JP8.jpg\n",
            "-----------------------\n",
            "{'lat': '44.49381', 'lon': '11.33875', 'name': 'Bologna', 'admin1': 'Emilia-Romagna', 'admin2': 'Provincia di Bologna', 'cc': 'IT', 'country': Country(alpha_2='IT', alpha_3='ITA', flag='🇮🇹', name='Italy', numeric='380', official_name='Italian Republic')}\n",
            "{'lat': '44.49381', 'lon': '11.33875', 'name': 'Bologna', 'admin1': 'Emilia-Romagna', 'admin2': 'Provincia di Bologna', 'cc': 'IT', 'country': Country(alpha_2='IT', alpha_3='ITA', flag='🇮🇹', name='Italy', numeric='380', official_name='Italian Republic')}\n",
            "\n"
          ]
        }
      ],
      "source": [
        "print(f\"Location info - Image {file_path}\")\n",
        "print(\"-----------------------\")\n",
        "decimal_latitude = gps['latitude']\n",
        "decimal_longitude = gps['longitude']\n",
        "\n",
        "location_info = rg.search((decimal_latitude, decimal_longitude))[0]\n",
        "print(location_info)\n",
        "# location_info['country'] = pycountry.countries.get(alpha_2=location_info['cc'])\n",
        "# print(f\"\\n\\t{pycountry.countries.get(alpha_2=location_info['cc'])}\\n\")\n",
        "print(f\"{location_info}\\n\")"
      ]
    },
    {
      "cell_type": "code",
      "execution_count": null,
      "metadata": {
        "colab": {
          "base_uri": "https://localhost:8080/"
        },
        "id": "ArEDAC1mzI0C",
        "outputId": "d2059a71-6ec0-4b66-aecd-8637e2f3eade"
      },
      "outputs": [
        {
          "data": {
            "text/plain": [
              "Country(alpha_2='IT', alpha_3='ITA', flag='🇮🇹', name='Italy', numeric='380', official_name='Italian Republic')"
            ]
          },
          "execution_count": 36,
          "metadata": {},
          "output_type": "execute_result"
        }
      ],
      "source": [
        "location_info['country']"
      ]
    },
    {
      "cell_type": "code",
      "execution_count": null,
      "metadata": {
        "colab": {
          "base_uri": "https://localhost:8080/"
        },
        "id": "zByehZKnzW0K",
        "outputId": "f6e412ba-6076-4f09-d3c5-52abb67a7fd3"
      },
      "outputs": [
        {
          "data": {
            "text/plain": [
              "Country(alpha_2='IT', alpha_3='ITA', flag='🇮🇹', name='Italy', numeric='380', official_name='Italian Republic')"
            ]
          },
          "execution_count": 37,
          "metadata": {},
          "output_type": "execute_result"
        }
      ],
      "source": [
        "pycountry.countries.get(alpha_2=location_info['cc'])"
      ]
    },
    {
      "cell_type": "markdown",
      "metadata": {
        "id": "4Sf_ouqv27Qm"
      },
      "source": [
        "### Mostrando a foto no `Google Maps`:"
      ]
    },
    {
      "cell_type": "code",
      "execution_count": null,
      "metadata": {
        "id": "AfSn5tGc2-NQ"
      },
      "outputs": [],
      "source": [
        "import webbrowser"
      ]
    },
    {
      "cell_type": "code",
      "execution_count": null,
      "metadata": {
        "colab": {
          "base_uri": "https://localhost:8080/"
        },
        "id": "EIoX17FT2__c",
        "outputId": "82a1219b-c041-4cb8-e91b-5198073fa65f"
      },
      "outputs": [
        {
          "data": {
            "text/plain": [
              "False"
            ]
          },
          "execution_count": 39,
          "metadata": {},
          "output_type": "execute_result"
        }
      ],
      "source": [
        "url = f\"https://www.google.com/maps?q={decimal_latitude},{decimal_longitude}\"\n",
        "webbrowser.open_new_tab(url)"
      ]
    },
    {
      "cell_type": "markdown",
      "metadata": {
        "id": "E7eeeYSLWjgj"
      },
      "source": [
        "\n",
        "\n",
        "---\n",
        "\n",
        "\n",
        "## RASCUNHOS..."
      ]
    },
    {
      "cell_type": "markdown",
      "metadata": {
        "id": "uEDnzEzX7Gru"
      },
      "source": [
        "Utilizando a biblioteca `exif `:\n",
        "\n",
        "1. https://towardsdatascience.com/read-and-edit-image-metadata-with-python-f635398cd991\n",
        "\n",
        "1. https://github.com/kennethleungty/Image-Metadata-Exif/blob/main/Image_Metadata_Extraction_EXIF.ipynb\n",
        "\n",
        "1. https://exif.readthedocs.io/en/latest/api_reference.html"
      ]
    },
    {
      "cell_type": "code",
      "execution_count": null,
      "metadata": {
        "colab": {
          "base_uri": "https://localhost:8080/"
        },
        "id": "L9gHInNW7ard",
        "outputId": "f07dac06-cee2-4285-e36c-36ff139a35f5"
      },
      "outputs": [
        {
          "name": "stdout",
          "output_type": "stream",
          "text": [
            "Looking in indexes: https://pypi.org/simple, https://us-python.pkg.dev/colab-wheels/public/simple/\n",
            "Collecting exif\n",
            "  Downloading exif-1.4.2-py3-none-any.whl (30 kB)\n",
            "Collecting plum-py<2.0.0,>=0.5.0\n",
            "  Downloading plum_py-0.8.5-py3-none-any.whl (93 kB)\n",
            "\u001b[K     |████████████████████████████████| 93 kB 1.9 MB/s \n",
            "\u001b[?25hInstalling collected packages: plum-py, exif\n",
            "Successfully installed exif-1.4.2 plum-py-0.8.5\n"
          ]
        }
      ],
      "source": [
        "!pip install exif"
      ]
    },
    {
      "cell_type": "code",
      "execution_count": null,
      "metadata": {
        "colab": {
          "base_uri": "https://localhost:8080/"
        },
        "id": "RTXRg3c53Omf",
        "outputId": "23f4f438-d45f-4635-d18a-c58199b3cb13"
      },
      "outputs": [
        {
          "name": "stdout",
          "output_type": "stream",
          "text": [
            "True\n"
          ]
        }
      ],
      "source": [
        "from exif import Image\n",
        "\n",
        "# folder_path = 'sample_images'\n",
        "# img_filename = 'image_1.jpg'\n",
        "img_path = file_path\n",
        "\n",
        "with open(img_path, 'rb') as img_file:\n",
        "    img = Image(img_file)\n",
        "    \n",
        "print(img.has_exif)"
      ]
    },
    {
      "cell_type": "code",
      "execution_count": null,
      "metadata": {
        "id": "9EUkxyvT7uKI"
      },
      "outputs": [],
      "source": [
        "# List all EXIF tags contained in the image\n",
        "sorted(img.list_all()), sorted(img.get_all())"
      ]
    },
    {
      "cell_type": "code",
      "execution_count": null,
      "metadata": {
        "id": "JyQpl2M07uuJ"
      },
      "outputs": [],
      "source": [
        "dir(img)"
      ]
    },
    {
      "cell_type": "code",
      "execution_count": null,
      "metadata": {
        "colab": {
          "base_uri": "https://localhost:8080/"
        },
        "id": "8zr_8xNp8zxR",
        "outputId": "c510f065-1541-4bb3-93d1-54f06acad5cf"
      },
      "outputs": [
        {
          "data": {
            "text/plain": [
              "(0.003215434083601286,\n",
              " '2019:01:01 13:19:06',\n",
              " '2019:01:01 13:19:06',\n",
              " '2019:01:01 13:19:06')"
            ]
          },
          "execution_count": 71,
          "metadata": {},
          "output_type": "execute_result"
        }
      ],
      "source": [
        "img.exposure_time, img.datetime, img.datetime_digitized, img.datetime_original"
      ]
    },
    {
      "cell_type": "code",
      "execution_count": null,
      "metadata": {
        "colab": {
          "base_uri": "https://localhost:8080/"
        },
        "id": "lX-Pi0zF9Nc-",
        "outputId": "5ca3783b-0d0f-47d0-8948-a9ec74424c1f"
      },
      "outputs": [
        {
          "name": "stdout",
          "output_type": "stream",
          "text": [
            "189.0\n",
            "2.0\n",
            "2019:01:01\n",
            "(44.0, 29.0, 38.171)\n",
            "N\n",
            "(11.0, 20.0, 33.5709)\n",
            "E\n",
            "(12.0, 19.0, 20.0)\n"
          ]
        }
      ],
      "source": [
        "print(img.gps_altitude)\n",
        "print(img.gps_altitude_ref)\n",
        "print(img.gps_datestamp)\n",
        "print(img.gps_latitude)\n",
        "print(img.gps_latitude_ref)\n",
        "print(img.gps_longitude)\n",
        "print(img.gps_longitude_ref)\n",
        "print(img.gps_timestamp)"
      ]
    },
    {
      "cell_type": "code",
      "execution_count": null,
      "metadata": {
        "colab": {
          "base_uri": "https://localhost:8080/"
        },
        "id": "kqtP62EC9VJS",
        "outputId": "90f2abf2-c094-4497-c7f5-de316061328a"
      },
      "outputs": [
        {
          "name": "stdout",
          "output_type": "stream",
          "text": [
            "None\n"
          ]
        }
      ],
      "source": [
        "print(img.get('gps_speed')) # => GET() retorna None, caso não exista aquela chave"
      ]
    },
    {
      "cell_type": "markdown",
      "metadata": {
        "id": "_m6cy4eHDEv9"
      },
      "source": [
        "### Usando a biblioteca `GPSPhoto`:\n",
        "\n",
        "1. https://stackoverflow.com/questions/19804768/interpreting-gps-info-of-exif-data-from-photo-in-python\n",
        "\n",
        "*Melhor alternativa!*"
      ]
    },
    {
      "cell_type": "code",
      "execution_count": null,
      "metadata": {
        "id": "UYwKYn9wDXsK"
      },
      "outputs": [],
      "source": [
        "!pip install GPSPhoto\n",
        "!pip install piexif"
      ]
    },
    {
      "cell_type": "code",
      "execution_count": null,
      "metadata": {
        "colab": {
          "base_uri": "https://localhost:8080/"
        },
        "id": "z7VimMfX_afq",
        "outputId": "25d76791-bc54-4ab7-bd76-233dc47eabdd"
      },
      "outputs": [
        {
          "name": "stdout",
          "output_type": "stream",
          "text": [
            "-15.806131083333334 -47.88481569444444\n"
          ]
        }
      ],
      "source": [
        "from GPSPhoto import gpsphoto\n",
        "# Get the data from image file and return a dictionary\n",
        "data = gpsphoto.getGPSData(file_path)\n",
        "print(data['Latitude'], data['Longitude'])"
      ]
    },
    {
      "cell_type": "code",
      "execution_count": null,
      "metadata": {
        "colab": {
          "base_uri": "https://localhost:8080/"
        },
        "id": "azF4Ne9ZJODg",
        "outputId": "8433b58c-5014-43f5-85f4-df65b57cfdf6"
      },
      "outputs": [
        {
          "data": {
            "text/plain": [
              "{'Date': '12/07/2017',\n",
              " 'Longitude': -47.88481569444444,\n",
              " 'UTC-Time': '13:28:50',\n",
              " 'Altitude': 0,\n",
              " 'Latitude': -15.806131083333334}"
            ]
          },
          "execution_count": 23,
          "metadata": {},
          "output_type": "execute_result"
        }
      ],
      "source": [
        "data"
      ]
    },
    {
      "cell_type": "markdown",
      "metadata": {
        "id": "1c7hI3TPWUGK"
      },
      "source": [
        "\n",
        "\n",
        "---\n",
        "\n"
      ]
    },
    {
      "cell_type": "markdown",
      "metadata": {
        "id": "4VSFnA0gKtw0"
      },
      "source": [
        "# Trabalhando com Gráficos de Mapa Utilizando o `folium`:\n",
        "\n",
        "1. https://www.youtube.com/watch?v=EElW-W0GmrA&ab_channel=Stack"
      ]
    },
    {
      "cell_type": "code",
      "execution_count": null,
      "metadata": {
        "id": "ZQivYvGeK0r5"
      },
      "outputs": [],
      "source": [
        "!pip install folium"
      ]
    },
    {
      "cell_type": "code",
      "execution_count": null,
      "metadata": {
        "id": "eSwg8LBbK56H"
      },
      "outputs": [],
      "source": [
        "import folium"
      ]
    },
    {
      "cell_type": "code",
      "execution_count": null,
      "metadata": {
        "id": "F6Bmg6KiK_12"
      },
      "outputs": [],
      "source": [
        "mapa = folium.Map(location=[data['Latitude'], data['Longitude']])"
      ]
    },
    {
      "cell_type": "code",
      "execution_count": null,
      "metadata": {
        "colab": {
          "base_uri": "https://localhost:8080/",
          "height": 915
        },
        "id": "CNoE8sv1LQIn",
        "outputId": "0b379e29-2eff-4df5-c61b-19a8239fbdc7"
      },
      "outputs": [
        {
          "data": {
            "text/html": [
              "<div style=\"width:100%;\"><div style=\"position:relative;width:100%;height:0;padding-bottom:60%;\"><span style=\"color:#565656\">Make this Notebook Trusted to load map: File -> Trust Notebook</span><iframe srcdoc=\"&lt;!DOCTYPE html&gt;\n",
              "&lt;html&gt;\n",
              "&lt;head&gt;\n",
              "    \n",
              "    &lt;meta http-equiv=&quot;content-type&quot; content=&quot;text/html; charset=UTF-8&quot; /&gt;\n",
              "    \n",
              "        &lt;script&gt;\n",
              "            L_NO_TOUCH = false;\n",
              "            L_DISABLE_3D = false;\n",
              "        &lt;/script&gt;\n",
              "    \n",
              "    &lt;style&gt;html, body {width: 100%;height: 100%;margin: 0;padding: 0;}&lt;/style&gt;\n",
              "    &lt;style&gt;#map {position:absolute;top:0;bottom:0;right:0;left:0;}&lt;/style&gt;\n",
              "    &lt;script src=&quot;https://cdn.jsdelivr.net/npm/leaflet@1.6.0/dist/leaflet.js&quot;&gt;&lt;/script&gt;\n",
              "    &lt;script src=&quot;https://code.jquery.com/jquery-1.12.4.min.js&quot;&gt;&lt;/script&gt;\n",
              "    &lt;script src=&quot;https://maxcdn.bootstrapcdn.com/bootstrap/3.2.0/js/bootstrap.min.js&quot;&gt;&lt;/script&gt;\n",
              "    &lt;script src=&quot;https://cdnjs.cloudflare.com/ajax/libs/Leaflet.awesome-markers/2.0.2/leaflet.awesome-markers.js&quot;&gt;&lt;/script&gt;\n",
              "    &lt;link rel=&quot;stylesheet&quot; href=&quot;https://cdn.jsdelivr.net/npm/leaflet@1.6.0/dist/leaflet.css&quot;/&gt;\n",
              "    &lt;link rel=&quot;stylesheet&quot; href=&quot;https://maxcdn.bootstrapcdn.com/bootstrap/3.2.0/css/bootstrap.min.css&quot;/&gt;\n",
              "    &lt;link rel=&quot;stylesheet&quot; href=&quot;https://maxcdn.bootstrapcdn.com/bootstrap/3.2.0/css/bootstrap-theme.min.css&quot;/&gt;\n",
              "    &lt;link rel=&quot;stylesheet&quot; href=&quot;https://maxcdn.bootstrapcdn.com/font-awesome/4.6.3/css/font-awesome.min.css&quot;/&gt;\n",
              "    &lt;link rel=&quot;stylesheet&quot; href=&quot;https://cdnjs.cloudflare.com/ajax/libs/Leaflet.awesome-markers/2.0.2/leaflet.awesome-markers.css&quot;/&gt;\n",
              "    &lt;link rel=&quot;stylesheet&quot; href=&quot;https://cdn.jsdelivr.net/gh/python-visualization/folium/folium/templates/leaflet.awesome.rotate.min.css&quot;/&gt;\n",
              "    \n",
              "            &lt;meta name=&quot;viewport&quot; content=&quot;width=device-width,\n",
              "                initial-scale=1.0, maximum-scale=1.0, user-scalable=no&quot; /&gt;\n",
              "            &lt;style&gt;\n",
              "                #map_d3cdba99641b25e0f5944c70ddbf2f39 {\n",
              "                    position: relative;\n",
              "                    width: 100.0%;\n",
              "                    height: 100.0%;\n",
              "                    left: 0.0%;\n",
              "                    top: 0.0%;\n",
              "                }\n",
              "            &lt;/style&gt;\n",
              "        \n",
              "&lt;/head&gt;\n",
              "&lt;body&gt;\n",
              "    \n",
              "    \n",
              "            &lt;div class=&quot;folium-map&quot; id=&quot;map_d3cdba99641b25e0f5944c70ddbf2f39&quot; &gt;&lt;/div&gt;\n",
              "        \n",
              "&lt;/body&gt;\n",
              "&lt;script&gt;\n",
              "    \n",
              "    \n",
              "            var map_d3cdba99641b25e0f5944c70ddbf2f39 = L.map(\n",
              "                &quot;map_d3cdba99641b25e0f5944c70ddbf2f39&quot;,\n",
              "                {\n",
              "                    center: [-15.806131083333334, -47.88481569444444],\n",
              "                    crs: L.CRS.EPSG3857,\n",
              "                    zoom: 10,\n",
              "                    zoomControl: true,\n",
              "                    preferCanvas: false,\n",
              "                }\n",
              "            );\n",
              "\n",
              "            \n",
              "\n",
              "        \n",
              "    \n",
              "            var tile_layer_1a1ec0e148510e07f3b867e38ba800ba = L.tileLayer(\n",
              "                &quot;https://{s}.tile.openstreetmap.org/{z}/{x}/{y}.png&quot;,\n",
              "                {&quot;attribution&quot;: &quot;Data by \\u0026copy; \\u003ca href=\\&quot;http://openstreetmap.org\\&quot;\\u003eOpenStreetMap\\u003c/a\\u003e, under \\u003ca href=\\&quot;http://www.openstreetmap.org/copyright\\&quot;\\u003eODbL\\u003c/a\\u003e.&quot;, &quot;detectRetina&quot;: false, &quot;maxNativeZoom&quot;: 18, &quot;maxZoom&quot;: 18, &quot;minZoom&quot;: 0, &quot;noWrap&quot;: false, &quot;opacity&quot;: 1, &quot;subdomains&quot;: &quot;abc&quot;, &quot;tms&quot;: false}\n",
              "            ).addTo(map_d3cdba99641b25e0f5944c70ddbf2f39);\n",
              "        \n",
              "&lt;/script&gt;\n",
              "&lt;/html&gt;\" style=\"position:absolute;width:100%;height:100%;left:0;top:0;border:none !important;\" allowfullscreen webkitallowfullscreen mozallowfullscreen></iframe></div></div>"
            ],
            "text/plain": [
              "<folium.folium.Map at 0x7f614fe5eac0>"
            ]
          },
          "execution_count": 100,
          "metadata": {},
          "output_type": "execute_result"
        }
      ],
      "source": [
        "mapa"
      ]
    },
    {
      "cell_type": "markdown",
      "metadata": {
        "id": "oXG9ZuvGMKNG"
      },
      "source": [
        "### Especificando diversos estilos:\n",
        "\n",
        "Conjunto de `tiles` que podem ser usados:\n",
        "\n",
        "1. ”OpenStreetMap”\n",
        "1. ”Stamen Terrain”\n",
        "1. “Stamen Toner”\n",
        "1. “Stamen Watercolor”\n",
        "1. ”CartoDB positron”\n",
        "1. “CartoDB dark_matter”"
      ]
    },
    {
      "cell_type": "code",
      "execution_count": null,
      "metadata": {
        "colab": {
          "base_uri": "https://localhost:8080/",
          "height": 958
        },
        "id": "bQJnrFsoLSC2",
        "outputId": "8a97aa75-e5b4-40e8-e6ba-201603597b81"
      },
      "outputs": [
        {
          "data": {
            "text/html": [
              "<div style=\"width:100%;\"><div style=\"position:relative;width:100%;height:0;padding-bottom:60%;\"><span style=\"color:#565656\">Make this Notebook Trusted to load map: File -> Trust Notebook</span><iframe srcdoc=\"&lt;!DOCTYPE html&gt;\n",
              "&lt;html&gt;\n",
              "&lt;head&gt;\n",
              "    \n",
              "    &lt;meta http-equiv=&quot;content-type&quot; content=&quot;text/html; charset=UTF-8&quot; /&gt;\n",
              "    \n",
              "        &lt;script&gt;\n",
              "            L_NO_TOUCH = false;\n",
              "            L_DISABLE_3D = false;\n",
              "        &lt;/script&gt;\n",
              "    \n",
              "    &lt;style&gt;html, body {width: 100%;height: 100%;margin: 0;padding: 0;}&lt;/style&gt;\n",
              "    &lt;style&gt;#map {position:absolute;top:0;bottom:0;right:0;left:0;}&lt;/style&gt;\n",
              "    &lt;script src=&quot;https://cdn.jsdelivr.net/npm/leaflet@1.6.0/dist/leaflet.js&quot;&gt;&lt;/script&gt;\n",
              "    &lt;script src=&quot;https://code.jquery.com/jquery-1.12.4.min.js&quot;&gt;&lt;/script&gt;\n",
              "    &lt;script src=&quot;https://maxcdn.bootstrapcdn.com/bootstrap/3.2.0/js/bootstrap.min.js&quot;&gt;&lt;/script&gt;\n",
              "    &lt;script src=&quot;https://cdnjs.cloudflare.com/ajax/libs/Leaflet.awesome-markers/2.0.2/leaflet.awesome-markers.js&quot;&gt;&lt;/script&gt;\n",
              "    &lt;link rel=&quot;stylesheet&quot; href=&quot;https://cdn.jsdelivr.net/npm/leaflet@1.6.0/dist/leaflet.css&quot;/&gt;\n",
              "    &lt;link rel=&quot;stylesheet&quot; href=&quot;https://maxcdn.bootstrapcdn.com/bootstrap/3.2.0/css/bootstrap.min.css&quot;/&gt;\n",
              "    &lt;link rel=&quot;stylesheet&quot; href=&quot;https://maxcdn.bootstrapcdn.com/bootstrap/3.2.0/css/bootstrap-theme.min.css&quot;/&gt;\n",
              "    &lt;link rel=&quot;stylesheet&quot; href=&quot;https://maxcdn.bootstrapcdn.com/font-awesome/4.6.3/css/font-awesome.min.css&quot;/&gt;\n",
              "    &lt;link rel=&quot;stylesheet&quot; href=&quot;https://cdnjs.cloudflare.com/ajax/libs/Leaflet.awesome-markers/2.0.2/leaflet.awesome-markers.css&quot;/&gt;\n",
              "    &lt;link rel=&quot;stylesheet&quot; href=&quot;https://cdn.jsdelivr.net/gh/python-visualization/folium/folium/templates/leaflet.awesome.rotate.min.css&quot;/&gt;\n",
              "    \n",
              "            &lt;meta name=&quot;viewport&quot; content=&quot;width=device-width,\n",
              "                initial-scale=1.0, maximum-scale=1.0, user-scalable=no&quot; /&gt;\n",
              "            &lt;style&gt;\n",
              "                #map_36cadaa0c9510af1d5f73c1e9789c9bd {\n",
              "                    position: relative;\n",
              "                    width: 100.0%;\n",
              "                    height: 100.0%;\n",
              "                    left: 0.0%;\n",
              "                    top: 0.0%;\n",
              "                }\n",
              "            &lt;/style&gt;\n",
              "        \n",
              "&lt;/head&gt;\n",
              "&lt;body&gt;\n",
              "    \n",
              "    \n",
              "            &lt;div class=&quot;folium-map&quot; id=&quot;map_36cadaa0c9510af1d5f73c1e9789c9bd&quot; &gt;&lt;/div&gt;\n",
              "        \n",
              "&lt;/body&gt;\n",
              "&lt;script&gt;\n",
              "    \n",
              "    \n",
              "            var map_36cadaa0c9510af1d5f73c1e9789c9bd = L.map(\n",
              "                &quot;map_36cadaa0c9510af1d5f73c1e9789c9bd&quot;,\n",
              "                {\n",
              "                    center: [-19.0, -43.0],\n",
              "                    crs: L.CRS.EPSG3857,\n",
              "                    zoom: 10,\n",
              "                    zoomControl: true,\n",
              "                    preferCanvas: false,\n",
              "                }\n",
              "            );\n",
              "\n",
              "            \n",
              "\n",
              "        \n",
              "    \n",
              "            var tile_layer_304cec6b108175b340ac766e56febae9 = L.tileLayer(\n",
              "                &quot;https://stamen-tiles-{s}.a.ssl.fastly.net/toner/{z}/{x}/{y}.png&quot;,\n",
              "                {&quot;attribution&quot;: &quot;Map tiles by \\u003ca href=\\&quot;http://stamen.com\\&quot;\\u003eStamen Design\\u003c/a\\u003e, under \\u003ca href=\\&quot;http://creativecommons.org/licenses/by/3.0\\&quot;\\u003eCC BY 3.0\\u003c/a\\u003e. Data by \\u0026copy; \\u003ca href=\\&quot;http://openstreetmap.org\\&quot;\\u003eOpenStreetMap\\u003c/a\\u003e, under \\u003ca href=\\&quot;http://www.openstreetmap.org/copyright\\&quot;\\u003eODbL\\u003c/a\\u003e.&quot;, &quot;detectRetina&quot;: false, &quot;maxNativeZoom&quot;: 18, &quot;maxZoom&quot;: 18, &quot;minZoom&quot;: 0, &quot;noWrap&quot;: false, &quot;opacity&quot;: 1, &quot;subdomains&quot;: &quot;abc&quot;, &quot;tms&quot;: false}\n",
              "            ).addTo(map_36cadaa0c9510af1d5f73c1e9789c9bd);\n",
              "        \n",
              "&lt;/script&gt;\n",
              "&lt;/html&gt;\" style=\"position:absolute;width:100%;height:100%;left:0;top:0;border:none !important;\" allowfullscreen webkitallowfullscreen mozallowfullscreen></iframe></div></div>"
            ],
            "text/plain": [
              "<folium.folium.Map at 0x7f9d827ad160>"
            ]
          },
          "execution_count": 95,
          "metadata": {},
          "output_type": "execute_result"
        }
      ],
      "source": [
        "folium.Map(\n",
        "    location=[-19,-43],\n",
        "    tiles='Stamen Toner'\n",
        ")"
      ]
    },
    {
      "cell_type": "code",
      "execution_count": null,
      "metadata": {
        "colab": {
          "base_uri": "https://localhost:8080/",
          "height": 958
        },
        "id": "Z_BXkzyoMHHp",
        "outputId": "76d5f35f-f156-42d1-df54-0c4b44efdb7c"
      },
      "outputs": [
        {
          "data": {
            "text/html": [
              "<div style=\"width:100%;\"><div style=\"position:relative;width:100%;height:0;padding-bottom:60%;\"><span style=\"color:#565656\">Make this Notebook Trusted to load map: File -> Trust Notebook</span><iframe srcdoc=\"&lt;!DOCTYPE html&gt;\n",
              "&lt;html&gt;\n",
              "&lt;head&gt;\n",
              "    \n",
              "    &lt;meta http-equiv=&quot;content-type&quot; content=&quot;text/html; charset=UTF-8&quot; /&gt;\n",
              "    \n",
              "        &lt;script&gt;\n",
              "            L_NO_TOUCH = false;\n",
              "            L_DISABLE_3D = false;\n",
              "        &lt;/script&gt;\n",
              "    \n",
              "    &lt;style&gt;html, body {width: 100%;height: 100%;margin: 0;padding: 0;}&lt;/style&gt;\n",
              "    &lt;style&gt;#map {position:absolute;top:0;bottom:0;right:0;left:0;}&lt;/style&gt;\n",
              "    &lt;script src=&quot;https://cdn.jsdelivr.net/npm/leaflet@1.6.0/dist/leaflet.js&quot;&gt;&lt;/script&gt;\n",
              "    &lt;script src=&quot;https://code.jquery.com/jquery-1.12.4.min.js&quot;&gt;&lt;/script&gt;\n",
              "    &lt;script src=&quot;https://maxcdn.bootstrapcdn.com/bootstrap/3.2.0/js/bootstrap.min.js&quot;&gt;&lt;/script&gt;\n",
              "    &lt;script src=&quot;https://cdnjs.cloudflare.com/ajax/libs/Leaflet.awesome-markers/2.0.2/leaflet.awesome-markers.js&quot;&gt;&lt;/script&gt;\n",
              "    &lt;link rel=&quot;stylesheet&quot; href=&quot;https://cdn.jsdelivr.net/npm/leaflet@1.6.0/dist/leaflet.css&quot;/&gt;\n",
              "    &lt;link rel=&quot;stylesheet&quot; href=&quot;https://maxcdn.bootstrapcdn.com/bootstrap/3.2.0/css/bootstrap.min.css&quot;/&gt;\n",
              "    &lt;link rel=&quot;stylesheet&quot; href=&quot;https://maxcdn.bootstrapcdn.com/bootstrap/3.2.0/css/bootstrap-theme.min.css&quot;/&gt;\n",
              "    &lt;link rel=&quot;stylesheet&quot; href=&quot;https://maxcdn.bootstrapcdn.com/font-awesome/4.6.3/css/font-awesome.min.css&quot;/&gt;\n",
              "    &lt;link rel=&quot;stylesheet&quot; href=&quot;https://cdnjs.cloudflare.com/ajax/libs/Leaflet.awesome-markers/2.0.2/leaflet.awesome-markers.css&quot;/&gt;\n",
              "    &lt;link rel=&quot;stylesheet&quot; href=&quot;https://cdn.jsdelivr.net/gh/python-visualization/folium/folium/templates/leaflet.awesome.rotate.min.css&quot;/&gt;\n",
              "    \n",
              "            &lt;meta name=&quot;viewport&quot; content=&quot;width=device-width,\n",
              "                initial-scale=1.0, maximum-scale=1.0, user-scalable=no&quot; /&gt;\n",
              "            &lt;style&gt;\n",
              "                #map_b70514ad86b2caf556d87e9bd528634b {\n",
              "                    position: relative;\n",
              "                    width: 100.0%;\n",
              "                    height: 100.0%;\n",
              "                    left: 0.0%;\n",
              "                    top: 0.0%;\n",
              "                }\n",
              "            &lt;/style&gt;\n",
              "        \n",
              "&lt;/head&gt;\n",
              "&lt;body&gt;\n",
              "    \n",
              "    \n",
              "            &lt;div class=&quot;folium-map&quot; id=&quot;map_b70514ad86b2caf556d87e9bd528634b&quot; &gt;&lt;/div&gt;\n",
              "        \n",
              "&lt;/body&gt;\n",
              "&lt;script&gt;\n",
              "    \n",
              "    \n",
              "            var map_b70514ad86b2caf556d87e9bd528634b = L.map(\n",
              "                &quot;map_b70514ad86b2caf556d87e9bd528634b&quot;,\n",
              "                {\n",
              "                    center: [-19.0, -43.0],\n",
              "                    crs: L.CRS.EPSG3857,\n",
              "                    zoom: 10,\n",
              "                    zoomControl: true,\n",
              "                    preferCanvas: false,\n",
              "                }\n",
              "            );\n",
              "\n",
              "            \n",
              "\n",
              "        \n",
              "    \n",
              "            var tile_layer_8eb87f2e8c86744b81ec6e21566a7795 = L.tileLayer(\n",
              "                &quot;https://stamen-tiles-{s}.a.ssl.fastly.net/terrain/{z}/{x}/{y}.jpg&quot;,\n",
              "                {&quot;attribution&quot;: &quot;Map tiles by \\u003ca href=\\&quot;http://stamen.com\\&quot;\\u003eStamen Design\\u003c/a\\u003e, under \\u003ca href=\\&quot;http://creativecommons.org/licenses/by/3.0\\&quot;\\u003eCC BY 3.0\\u003c/a\\u003e. Data by \\u0026copy; \\u003ca href=\\&quot;http://openstreetmap.org\\&quot;\\u003eOpenStreetMap\\u003c/a\\u003e, under \\u003ca href=\\&quot;http://creativecommons.org/licenses/by-sa/3.0\\&quot;\\u003eCC BY SA\\u003c/a\\u003e.&quot;, &quot;detectRetina&quot;: false, &quot;maxNativeZoom&quot;: 18, &quot;maxZoom&quot;: 18, &quot;minZoom&quot;: 0, &quot;noWrap&quot;: false, &quot;opacity&quot;: 1, &quot;subdomains&quot;: &quot;abc&quot;, &quot;tms&quot;: false}\n",
              "            ).addTo(map_b70514ad86b2caf556d87e9bd528634b);\n",
              "        \n",
              "&lt;/script&gt;\n",
              "&lt;/html&gt;\" style=\"position:absolute;width:100%;height:100%;left:0;top:0;border:none !important;\" allowfullscreen webkitallowfullscreen mozallowfullscreen></iframe></div></div>"
            ],
            "text/plain": [
              "<folium.folium.Map at 0x7f9d827adfa0>"
            ]
          },
          "execution_count": 96,
          "metadata": {},
          "output_type": "execute_result"
        }
      ],
      "source": [
        "folium.Map(\n",
        "    location=[-19,-43],\n",
        "    tiles='Stamen Terrain'\n",
        ")"
      ]
    },
    {
      "cell_type": "code",
      "execution_count": null,
      "metadata": {
        "id": "aGbIM_1mNXRc"
      },
      "outputs": [],
      "source": [
        "mapa = folium.Map(\n",
        "    location=[-19.916667,-43.9333333],\n",
        "    tiles='Stamen Terrain',\n",
        "    zoom_start=14\n",
        ")"
      ]
    },
    {
      "cell_type": "markdown",
      "metadata": {
        "id": "k7vn0DhmNG2t"
      },
      "source": [
        "### Adicionando marcadores:"
      ]
    },
    {
      "cell_type": "code",
      "execution_count": null,
      "metadata": {
        "colab": {
          "base_uri": "https://localhost:8080/"
        },
        "id": "-z37hzxgNaq4",
        "outputId": "b546a865-5fb4-4722-a8d1-3e363289167e"
      },
      "outputs": [
        {
          "data": {
            "text/plain": [
              "<folium.map.Marker at 0x7f614fe4caf0>"
            ]
          },
          "execution_count": 138,
          "metadata": {},
          "output_type": "execute_result"
        }
      ],
      "source": [
        "folium.Marker(\n",
        "    [-19.9559872,-43.9151621],\n",
        "    popup='<i>Praça do Papa<\\i>',\n",
        "    tooltip='Clique aqui',\n",
        "    icon=folium.Icon(color='red')\n",
        ").add_to(mapa)"
      ]
    },
    {
      "cell_type": "markdown",
      "metadata": {
        "id": "TGhck59pXSLX"
      },
      "source": [
        "### Adicionando Círculos de determinado tamanho em metros"
      ]
    },
    {
      "cell_type": "code",
      "execution_count": null,
      "metadata": {
        "colab": {
          "base_uri": "https://localhost:8080/",
          "height": 915
        },
        "id": "dqF6X1QfN7Nm",
        "outputId": "f8e8d4c0-1aa8-466d-ea7b-00c8971bd82e"
      },
      "outputs": [
        {
          "data": {
            "text/html": [
              "<div style=\"width:100%;\"><div style=\"position:relative;width:100%;height:0;padding-bottom:60%;\"><span style=\"color:#565656\">Make this Notebook Trusted to load map: File -> Trust Notebook</span><iframe srcdoc=\"&lt;!DOCTYPE html&gt;\n",
              "&lt;html&gt;\n",
              "&lt;head&gt;\n",
              "    \n",
              "    &lt;meta http-equiv=&quot;content-type&quot; content=&quot;text/html; charset=UTF-8&quot; /&gt;\n",
              "    \n",
              "        &lt;script&gt;\n",
              "            L_NO_TOUCH = false;\n",
              "            L_DISABLE_3D = false;\n",
              "        &lt;/script&gt;\n",
              "    \n",
              "    &lt;style&gt;html, body {width: 100%;height: 100%;margin: 0;padding: 0;}&lt;/style&gt;\n",
              "    &lt;style&gt;#map {position:absolute;top:0;bottom:0;right:0;left:0;}&lt;/style&gt;\n",
              "    &lt;script src=&quot;https://cdn.jsdelivr.net/npm/leaflet@1.6.0/dist/leaflet.js&quot;&gt;&lt;/script&gt;\n",
              "    &lt;script src=&quot;https://code.jquery.com/jquery-1.12.4.min.js&quot;&gt;&lt;/script&gt;\n",
              "    &lt;script src=&quot;https://maxcdn.bootstrapcdn.com/bootstrap/3.2.0/js/bootstrap.min.js&quot;&gt;&lt;/script&gt;\n",
              "    &lt;script src=&quot;https://cdnjs.cloudflare.com/ajax/libs/Leaflet.awesome-markers/2.0.2/leaflet.awesome-markers.js&quot;&gt;&lt;/script&gt;\n",
              "    &lt;link rel=&quot;stylesheet&quot; href=&quot;https://cdn.jsdelivr.net/npm/leaflet@1.6.0/dist/leaflet.css&quot;/&gt;\n",
              "    &lt;link rel=&quot;stylesheet&quot; href=&quot;https://maxcdn.bootstrapcdn.com/bootstrap/3.2.0/css/bootstrap.min.css&quot;/&gt;\n",
              "    &lt;link rel=&quot;stylesheet&quot; href=&quot;https://maxcdn.bootstrapcdn.com/bootstrap/3.2.0/css/bootstrap-theme.min.css&quot;/&gt;\n",
              "    &lt;link rel=&quot;stylesheet&quot; href=&quot;https://maxcdn.bootstrapcdn.com/font-awesome/4.6.3/css/font-awesome.min.css&quot;/&gt;\n",
              "    &lt;link rel=&quot;stylesheet&quot; href=&quot;https://cdnjs.cloudflare.com/ajax/libs/Leaflet.awesome-markers/2.0.2/leaflet.awesome-markers.css&quot;/&gt;\n",
              "    &lt;link rel=&quot;stylesheet&quot; href=&quot;https://cdn.jsdelivr.net/gh/python-visualization/folium/folium/templates/leaflet.awesome.rotate.min.css&quot;/&gt;\n",
              "    \n",
              "            &lt;meta name=&quot;viewport&quot; content=&quot;width=device-width,\n",
              "                initial-scale=1.0, maximum-scale=1.0, user-scalable=no&quot; /&gt;\n",
              "            &lt;style&gt;\n",
              "                #map_d3cdba99641b25e0f5944c70ddbf2f39 {\n",
              "                    position: relative;\n",
              "                    width: 100.0%;\n",
              "                    height: 100.0%;\n",
              "                    left: 0.0%;\n",
              "                    top: 0.0%;\n",
              "                }\n",
              "            &lt;/style&gt;\n",
              "        \n",
              "&lt;/head&gt;\n",
              "&lt;body&gt;\n",
              "    \n",
              "    \n",
              "            &lt;div class=&quot;folium-map&quot; id=&quot;map_d3cdba99641b25e0f5944c70ddbf2f39&quot; &gt;&lt;/div&gt;\n",
              "        \n",
              "&lt;/body&gt;\n",
              "&lt;script&gt;\n",
              "    \n",
              "    \n",
              "            var map_d3cdba99641b25e0f5944c70ddbf2f39 = L.map(\n",
              "                &quot;map_d3cdba99641b25e0f5944c70ddbf2f39&quot;,\n",
              "                {\n",
              "                    center: [-15.806131083333334, -47.88481569444444],\n",
              "                    crs: L.CRS.EPSG3857,\n",
              "                    zoom: 10,\n",
              "                    zoomControl: true,\n",
              "                    preferCanvas: false,\n",
              "                }\n",
              "            );\n",
              "\n",
              "            \n",
              "\n",
              "        \n",
              "    \n",
              "            var tile_layer_1a1ec0e148510e07f3b867e38ba800ba = L.tileLayer(\n",
              "                &quot;https://{s}.tile.openstreetmap.org/{z}/{x}/{y}.png&quot;,\n",
              "                {&quot;attribution&quot;: &quot;Data by \\u0026copy; \\u003ca href=\\&quot;http://openstreetmap.org\\&quot;\\u003eOpenStreetMap\\u003c/a\\u003e, under \\u003ca href=\\&quot;http://www.openstreetmap.org/copyright\\&quot;\\u003eODbL\\u003c/a\\u003e.&quot;, &quot;detectRetina&quot;: false, &quot;maxNativeZoom&quot;: 18, &quot;maxZoom&quot;: 18, &quot;minZoom&quot;: 0, &quot;noWrap&quot;: false, &quot;opacity&quot;: 1, &quot;subdomains&quot;: &quot;abc&quot;, &quot;tms&quot;: false}\n",
              "            ).addTo(map_d3cdba99641b25e0f5944c70ddbf2f39);\n",
              "        \n",
              "    \n",
              "            var marker_3778b46191f2467ea14492dfc8e17168 = L.marker(\n",
              "                [-19.9559872, -43.9151621],\n",
              "                {}\n",
              "            ).addTo(map_d3cdba99641b25e0f5944c70ddbf2f39);\n",
              "        \n",
              "    \n",
              "            var icon_2750f2bc0254cd8073cd205a1670ee78 = L.AwesomeMarkers.icon(\n",
              "                {&quot;extraClasses&quot;: &quot;fa-rotate-0&quot;, &quot;icon&quot;: &quot;info-sign&quot;, &quot;iconColor&quot;: &quot;white&quot;, &quot;markerColor&quot;: &quot;red&quot;, &quot;prefix&quot;: &quot;glyphicon&quot;}\n",
              "            );\n",
              "            marker_3778b46191f2467ea14492dfc8e17168.setIcon(icon_2750f2bc0254cd8073cd205a1670ee78);\n",
              "        \n",
              "    \n",
              "        var popup_7ee1eb4a3c564fedc1fe721bbc1a2c61 = L.popup({&quot;maxWidth&quot;: &quot;100%&quot;});\n",
              "\n",
              "        \n",
              "            var html_33a5a0f5d8f2c46ffdf31584be43bce9 = $(`&lt;div id=&quot;html_33a5a0f5d8f2c46ffdf31584be43bce9&quot; style=&quot;width: 100.0%; height: 100.0%;&quot;&gt;&lt;i&gt;Praça do Papa&lt;\\i&gt;&lt;/div&gt;`)[0];\n",
              "            popup_7ee1eb4a3c564fedc1fe721bbc1a2c61.setContent(html_33a5a0f5d8f2c46ffdf31584be43bce9);\n",
              "        \n",
              "\n",
              "        marker_3778b46191f2467ea14492dfc8e17168.bindPopup(popup_7ee1eb4a3c564fedc1fe721bbc1a2c61)\n",
              "        ;\n",
              "\n",
              "        \n",
              "    \n",
              "    \n",
              "            marker_3778b46191f2467ea14492dfc8e17168.bindTooltip(\n",
              "                `&lt;div&gt;\n",
              "                     Clique aqui\n",
              "                 &lt;/div&gt;`,\n",
              "                {&quot;sticky&quot;: true}\n",
              "            );\n",
              "        \n",
              "    \n",
              "            var circle_marker_a4670f16bdd9a6a91d1cfae3f5e00bbe = L.circleMarker(\n",
              "                [-19.9559872, -43.9151621],\n",
              "                {&quot;bubblingMouseEvents&quot;: true, &quot;color&quot;: &quot;#3186cc&quot;, &quot;dashArray&quot;: null, &quot;dashOffset&quot;: null, &quot;fill&quot;: true, &quot;fillColor&quot;: &quot;#3186cc&quot;, &quot;fillOpacity&quot;: 0.2, &quot;fillRule&quot;: &quot;evenodd&quot;, &quot;lineCap&quot;: &quot;round&quot;, &quot;lineJoin&quot;: &quot;round&quot;, &quot;opacity&quot;: 1.0, &quot;radius&quot;: 50, &quot;stroke&quot;: true, &quot;weight&quot;: 3}\n",
              "            ).addTo(map_d3cdba99641b25e0f5944c70ddbf2f39);\n",
              "        \n",
              "&lt;/script&gt;\n",
              "&lt;/html&gt;\" style=\"position:absolute;width:100%;height:100%;left:0;top:0;border:none !important;\" allowfullscreen webkitallowfullscreen mozallowfullscreen></iframe></div></div>"
            ],
            "text/plain": [
              "<folium.folium.Map at 0x7f614fe5eac0>"
            ]
          },
          "execution_count": 103,
          "metadata": {},
          "output_type": "execute_result"
        }
      ],
      "source": [
        "folium.CircleMarker(\n",
        "    [-19.9559872,-43.9151621],\n",
        "    radius=50,\n",
        "    color='#3186cc',\n",
        "    fill=True,\n",
        "    fill_color='#3186cc'\n",
        ").add_to(mapa)\n",
        "mapa"
      ]
    },
    {
      "cell_type": "markdown",
      "metadata": {
        "id": "1fe7slIDZOWT"
      },
      "source": [
        "### Rascunho:"
      ]
    },
    {
      "cell_type": "code",
      "execution_count": null,
      "metadata": {
        "id": "O3hWbffwZSK0"
      },
      "outputs": [],
      "source": [
        "with open('Baobás de Brasília.kml') as f:\n",
        "  kml = f.read()"
      ]
    },
    {
      "cell_type": "code",
      "execution_count": null,
      "metadata": {
        "colab": {
          "base_uri": "https://localhost:8080/",
          "height": 915
        },
        "id": "H8PrFnq1Zwwe",
        "outputId": "86171f35-0485-4aec-8b7f-c09a6615a3f9"
      },
      "outputs": [
        {
          "data": {
            "text/html": [
              "<div style=\"width:100%;\"><div style=\"position:relative;width:100%;height:0;padding-bottom:60%;\"><span style=\"color:#565656\">Make this Notebook Trusted to load map: File -> Trust Notebook</span><iframe srcdoc=\"&lt;!DOCTYPE html&gt;\n",
              "&lt;html&gt;\n",
              "&lt;head&gt;\n",
              "    \n",
              "    &lt;meta http-equiv=&quot;content-type&quot; content=&quot;text/html; charset=UTF-8&quot; /&gt;\n",
              "    \n",
              "        &lt;script&gt;\n",
              "            L_NO_TOUCH = false;\n",
              "            L_DISABLE_3D = false;\n",
              "        &lt;/script&gt;\n",
              "    \n",
              "    &lt;style&gt;html, body {width: 100%;height: 100%;margin: 0;padding: 0;}&lt;/style&gt;\n",
              "    &lt;style&gt;#map {position:absolute;top:0;bottom:0;right:0;left:0;}&lt;/style&gt;\n",
              "    &lt;script src=&quot;https://cdn.jsdelivr.net/npm/leaflet@1.6.0/dist/leaflet.js&quot;&gt;&lt;/script&gt;\n",
              "    &lt;script src=&quot;https://code.jquery.com/jquery-1.12.4.min.js&quot;&gt;&lt;/script&gt;\n",
              "    &lt;script src=&quot;https://maxcdn.bootstrapcdn.com/bootstrap/3.2.0/js/bootstrap.min.js&quot;&gt;&lt;/script&gt;\n",
              "    &lt;script src=&quot;https://cdnjs.cloudflare.com/ajax/libs/Leaflet.awesome-markers/2.0.2/leaflet.awesome-markers.js&quot;&gt;&lt;/script&gt;\n",
              "    &lt;link rel=&quot;stylesheet&quot; href=&quot;https://cdn.jsdelivr.net/npm/leaflet@1.6.0/dist/leaflet.css&quot;/&gt;\n",
              "    &lt;link rel=&quot;stylesheet&quot; href=&quot;https://maxcdn.bootstrapcdn.com/bootstrap/3.2.0/css/bootstrap.min.css&quot;/&gt;\n",
              "    &lt;link rel=&quot;stylesheet&quot; href=&quot;https://maxcdn.bootstrapcdn.com/bootstrap/3.2.0/css/bootstrap-theme.min.css&quot;/&gt;\n",
              "    &lt;link rel=&quot;stylesheet&quot; href=&quot;https://maxcdn.bootstrapcdn.com/font-awesome/4.6.3/css/font-awesome.min.css&quot;/&gt;\n",
              "    &lt;link rel=&quot;stylesheet&quot; href=&quot;https://cdnjs.cloudflare.com/ajax/libs/Leaflet.awesome-markers/2.0.2/leaflet.awesome-markers.css&quot;/&gt;\n",
              "    &lt;link rel=&quot;stylesheet&quot; href=&quot;https://cdn.jsdelivr.net/gh/python-visualization/folium/folium/templates/leaflet.awesome.rotate.min.css&quot;/&gt;\n",
              "    \n",
              "            &lt;meta name=&quot;viewport&quot; content=&quot;width=device-width,\n",
              "                initial-scale=1.0, maximum-scale=1.0, user-scalable=no&quot; /&gt;\n",
              "            &lt;style&gt;\n",
              "                #map_df7712c10904e4c63e394db23bbc580e {\n",
              "                    position: relative;\n",
              "                    width: 100.0%;\n",
              "                    height: 100.0%;\n",
              "                    left: 0.0%;\n",
              "                    top: 0.0%;\n",
              "                }\n",
              "            &lt;/style&gt;\n",
              "        \n",
              "&lt;/head&gt;\n",
              "&lt;body&gt;\n",
              "    \n",
              "    \n",
              "            &lt;div class=&quot;folium-map&quot; id=&quot;map_df7712c10904e4c63e394db23bbc580e&quot; &gt;&lt;/div&gt;\n",
              "        \n",
              "&lt;/body&gt;\n",
              "&lt;script&gt;\n",
              "    \n",
              "    \n",
              "            var map_df7712c10904e4c63e394db23bbc580e = L.map(\n",
              "                &quot;map_df7712c10904e4c63e394db23bbc580e&quot;,\n",
              "                {\n",
              "                    center: [45.5236, -122.675],\n",
              "                    crs: L.CRS.EPSG3857,\n",
              "                    zoom: 13,\n",
              "                    zoomControl: true,\n",
              "                    preferCanvas: false,\n",
              "                }\n",
              "            );\n",
              "\n",
              "            \n",
              "\n",
              "        \n",
              "    \n",
              "            var tile_layer_9ae43b318d17a8c649dbe46702c96dc7 = L.tileLayer(\n",
              "                &quot;https://stamen-tiles-{s}.a.ssl.fastly.net/toner/{z}/{x}/{y}.png&quot;,\n",
              "                {&quot;attribution&quot;: &quot;Map tiles by \\u003ca href=\\&quot;http://stamen.com\\&quot;\\u003eStamen Design\\u003c/a\\u003e, under \\u003ca href=\\&quot;http://creativecommons.org/licenses/by/3.0\\&quot;\\u003eCC BY 3.0\\u003c/a\\u003e. Data by \\u0026copy; \\u003ca href=\\&quot;http://openstreetmap.org\\&quot;\\u003eOpenStreetMap\\u003c/a\\u003e, under \\u003ca href=\\&quot;http://www.openstreetmap.org/copyright\\&quot;\\u003eODbL\\u003c/a\\u003e.&quot;, &quot;detectRetina&quot;: false, &quot;maxNativeZoom&quot;: 18, &quot;maxZoom&quot;: 18, &quot;minZoom&quot;: 0, &quot;noWrap&quot;: false, &quot;opacity&quot;: 1, &quot;subdomains&quot;: &quot;abc&quot;, &quot;tms&quot;: false}\n",
              "            ).addTo(map_df7712c10904e4c63e394db23bbc580e);\n",
              "        \n",
              "    \n",
              "            var circle_f51082b50c78377de463f43e40a9e642 = L.circle(\n",
              "                [45.5244, -122.6699],\n",
              "                {&quot;bubblingMouseEvents&quot;: true, &quot;color&quot;: &quot;crimson&quot;, &quot;dashArray&quot;: null, &quot;dashOffset&quot;: null, &quot;fill&quot;: false, &quot;fillColor&quot;: &quot;crimson&quot;, &quot;fillOpacity&quot;: 0.2, &quot;fillRule&quot;: &quot;evenodd&quot;, &quot;lineCap&quot;: &quot;round&quot;, &quot;lineJoin&quot;: &quot;round&quot;, &quot;opacity&quot;: 1.0, &quot;radius&quot;: 100, &quot;stroke&quot;: true, &quot;weight&quot;: 3}\n",
              "            ).addTo(map_df7712c10904e4c63e394db23bbc580e);\n",
              "        \n",
              "    \n",
              "        var popup_4b6a851028bfd226d88c3e6482ba9405 = L.popup({&quot;maxWidth&quot;: &quot;100%&quot;});\n",
              "\n",
              "        \n",
              "            var html_ed4cf09712c84e8adf8cd389569f0c2d = $(`&lt;div id=&quot;html_ed4cf09712c84e8adf8cd389569f0c2d&quot; style=&quot;width: 100.0%; height: 100.0%;&quot;&gt;&lt;img src=&#x27;https://www.homehost.com.br/blog/wp-content/uploads/2022/10/Como-Ativar-e-Configurar-o-filtro-de-Spam-usando-o-cPanel..jpg&#x27; title=&#x27;The Waterfront&#x27;&gt;&lt;/div&gt;`)[0];\n",
              "            popup_4b6a851028bfd226d88c3e6482ba9405.setContent(html_ed4cf09712c84e8adf8cd389569f0c2d);\n",
              "        \n",
              "\n",
              "        circle_f51082b50c78377de463f43e40a9e642.bindPopup(popup_4b6a851028bfd226d88c3e6482ba9405)\n",
              "        ;\n",
              "\n",
              "        \n",
              "    \n",
              "    \n",
              "            var circle_marker_7f54c73a12eb9c414c4c00c70d3b81d8 = L.circleMarker(\n",
              "                [45.5215, -122.6261],\n",
              "                {&quot;bubblingMouseEvents&quot;: true, &quot;color&quot;: &quot;#3186cc&quot;, &quot;dashArray&quot;: null, &quot;dashOffset&quot;: null, &quot;fill&quot;: true, &quot;fillColor&quot;: &quot;#3186cc&quot;, &quot;fillOpacity&quot;: 0.2, &quot;fillRule&quot;: &quot;evenodd&quot;, &quot;lineCap&quot;: &quot;round&quot;, &quot;lineJoin&quot;: &quot;round&quot;, &quot;opacity&quot;: 1.0, &quot;radius&quot;: 50, &quot;stroke&quot;: true, &quot;weight&quot;: 3}\n",
              "            ).addTo(map_df7712c10904e4c63e394db23bbc580e);\n",
              "        \n",
              "    \n",
              "        var popup_4a1b5d41ae5cf839cff6da4bc16d88ce = L.popup({&quot;maxWidth&quot;: &quot;100%&quot;});\n",
              "\n",
              "        \n",
              "            var html_ceceec9444947c6319a67e294bd7ffcf = $(`&lt;div id=&quot;html_ceceec9444947c6319a67e294bd7ffcf&quot; style=&quot;width: 100.0%; height: 100.0%;&quot;&gt;&lt;img src=&quot;/content/com.jpg&quot; title=&quot;Logo da HomeHost&quot;&gt;&lt;/div&gt;`)[0];\n",
              "            popup_4a1b5d41ae5cf839cff6da4bc16d88ce.setContent(html_ceceec9444947c6319a67e294bd7ffcf);\n",
              "        \n",
              "\n",
              "        circle_marker_7f54c73a12eb9c414c4c00c70d3b81d8.bindPopup(popup_4a1b5d41ae5cf839cff6da4bc16d88ce)\n",
              "        ;\n",
              "\n",
              "        \n",
              "    \n",
              "&lt;/script&gt;\n",
              "&lt;/html&gt;\" style=\"position:absolute;width:100%;height:100%;left:0;top:0;border:none !important;\" allowfullscreen webkitallowfullscreen mozallowfullscreen></iframe></div></div>"
            ],
            "text/plain": [
              "<folium.folium.Map at 0x7f614df83580>"
            ]
          },
          "execution_count": 150,
          "metadata": {},
          "output_type": "execute_result"
        }
      ],
      "source": [
        "m = folium.Map(location=[45.5236, -122.6750], tiles=\"Stamen Toner\", zoom_start=13)\n",
        "\n",
        "folium.Circle(\n",
        "    radius=100,\n",
        "    location=[45.5244, -122.6699],\n",
        "    popup=\"<img src='https://www.homehost.com.br/blog/wp-content/uploads/2022/10/Como-Ativar-e-Configurar-o-filtro-de-Spam-usando-o-cPanel..jpg' title='The Waterfront'>\",\n",
        "    color=\"crimson\",\n",
        "    fill=False,\n",
        ").add_to(m)\n",
        "\n",
        "folium.CircleMarker(\n",
        "    location=[45.5215, -122.6261],\n",
        "    radius=50,\n",
        "    popup='<img src=\"/content/com.jpg\" title=\"Logo da HomeHost\">',  #\"Laurelhurst Park\",\n",
        "    color=\"#3186cc\",\n",
        "    fill=True,\n",
        "    fill_color=\"#3186cc\",\n",
        ").add_to(m)\n",
        "\n",
        "\n",
        "m"
      ]
    },
    {
      "cell_type": "markdown",
      "metadata": {
        "id": "xFsUuQiSgUfJ"
      },
      "source": [
        "### Criando pontos com o clique do mouse"
      ]
    },
    {
      "cell_type": "code",
      "execution_count": null,
      "metadata": {
        "colab": {
          "base_uri": "https://localhost:8080/",
          "height": 915
        },
        "id": "kos9tvxagO4o",
        "outputId": "8dfda6bd-06e8-493a-d915-da71da0168af"
      },
      "outputs": [
        {
          "data": {
            "text/html": [
              "<div style=\"width:100%;\"><div style=\"position:relative;width:100%;height:0;padding-bottom:60%;\"><span style=\"color:#565656\">Make this Notebook Trusted to load map: File -> Trust Notebook</span><iframe srcdoc=\"&lt;!DOCTYPE html&gt;\n",
              "&lt;html&gt;\n",
              "&lt;head&gt;\n",
              "    \n",
              "    &lt;meta http-equiv=&quot;content-type&quot; content=&quot;text/html; charset=UTF-8&quot; /&gt;\n",
              "    \n",
              "        &lt;script&gt;\n",
              "            L_NO_TOUCH = false;\n",
              "            L_DISABLE_3D = false;\n",
              "        &lt;/script&gt;\n",
              "    \n",
              "    &lt;style&gt;html, body {width: 100%;height: 100%;margin: 0;padding: 0;}&lt;/style&gt;\n",
              "    &lt;style&gt;#map {position:absolute;top:0;bottom:0;right:0;left:0;}&lt;/style&gt;\n",
              "    &lt;script src=&quot;https://cdn.jsdelivr.net/npm/leaflet@1.6.0/dist/leaflet.js&quot;&gt;&lt;/script&gt;\n",
              "    &lt;script src=&quot;https://code.jquery.com/jquery-1.12.4.min.js&quot;&gt;&lt;/script&gt;\n",
              "    &lt;script src=&quot;https://maxcdn.bootstrapcdn.com/bootstrap/3.2.0/js/bootstrap.min.js&quot;&gt;&lt;/script&gt;\n",
              "    &lt;script src=&quot;https://cdnjs.cloudflare.com/ajax/libs/Leaflet.awesome-markers/2.0.2/leaflet.awesome-markers.js&quot;&gt;&lt;/script&gt;\n",
              "    &lt;link rel=&quot;stylesheet&quot; href=&quot;https://cdn.jsdelivr.net/npm/leaflet@1.6.0/dist/leaflet.css&quot;/&gt;\n",
              "    &lt;link rel=&quot;stylesheet&quot; href=&quot;https://maxcdn.bootstrapcdn.com/bootstrap/3.2.0/css/bootstrap.min.css&quot;/&gt;\n",
              "    &lt;link rel=&quot;stylesheet&quot; href=&quot;https://maxcdn.bootstrapcdn.com/bootstrap/3.2.0/css/bootstrap-theme.min.css&quot;/&gt;\n",
              "    &lt;link rel=&quot;stylesheet&quot; href=&quot;https://maxcdn.bootstrapcdn.com/font-awesome/4.6.3/css/font-awesome.min.css&quot;/&gt;\n",
              "    &lt;link rel=&quot;stylesheet&quot; href=&quot;https://cdnjs.cloudflare.com/ajax/libs/Leaflet.awesome-markers/2.0.2/leaflet.awesome-markers.css&quot;/&gt;\n",
              "    &lt;link rel=&quot;stylesheet&quot; href=&quot;https://cdn.jsdelivr.net/gh/python-visualization/folium/folium/templates/leaflet.awesome.rotate.min.css&quot;/&gt;\n",
              "    \n",
              "            &lt;meta name=&quot;viewport&quot; content=&quot;width=device-width,\n",
              "                initial-scale=1.0, maximum-scale=1.0, user-scalable=no&quot; /&gt;\n",
              "            &lt;style&gt;\n",
              "                #map_b143dcfb82b8a94be629f6e1b0663d59 {\n",
              "                    position: relative;\n",
              "                    width: 100.0%;\n",
              "                    height: 100.0%;\n",
              "                    left: 0.0%;\n",
              "                    top: 0.0%;\n",
              "                }\n",
              "            &lt;/style&gt;\n",
              "        \n",
              "&lt;/head&gt;\n",
              "&lt;body&gt;\n",
              "    \n",
              "    \n",
              "            &lt;div class=&quot;folium-map&quot; id=&quot;map_b143dcfb82b8a94be629f6e1b0663d59&quot; &gt;&lt;/div&gt;\n",
              "        \n",
              "&lt;/body&gt;\n",
              "&lt;script&gt;\n",
              "    \n",
              "    \n",
              "            var map_b143dcfb82b8a94be629f6e1b0663d59 = L.map(\n",
              "                &quot;map_b143dcfb82b8a94be629f6e1b0663d59&quot;,\n",
              "                {\n",
              "                    center: [46.8527, -121.7649],\n",
              "                    crs: L.CRS.EPSG3857,\n",
              "                    zoom: 13,\n",
              "                    zoomControl: true,\n",
              "                    preferCanvas: false,\n",
              "                }\n",
              "            );\n",
              "\n",
              "            \n",
              "\n",
              "        \n",
              "    \n",
              "            var tile_layer_642c9765a5fdd0d9406f6ad9da719cab = L.tileLayer(\n",
              "                &quot;https://stamen-tiles-{s}.a.ssl.fastly.net/terrain/{z}/{x}/{y}.jpg&quot;,\n",
              "                {&quot;attribution&quot;: &quot;Map tiles by \\u003ca href=\\&quot;http://stamen.com\\&quot;\\u003eStamen Design\\u003c/a\\u003e, under \\u003ca href=\\&quot;http://creativecommons.org/licenses/by/3.0\\&quot;\\u003eCC BY 3.0\\u003c/a\\u003e. Data by \\u0026copy; \\u003ca href=\\&quot;http://openstreetmap.org\\&quot;\\u003eOpenStreetMap\\u003c/a\\u003e, under \\u003ca href=\\&quot;http://creativecommons.org/licenses/by-sa/3.0\\&quot;\\u003eCC BY SA\\u003c/a\\u003e.&quot;, &quot;detectRetina&quot;: false, &quot;maxNativeZoom&quot;: 18, &quot;maxZoom&quot;: 18, &quot;minZoom&quot;: 0, &quot;noWrap&quot;: false, &quot;opacity&quot;: 1, &quot;subdomains&quot;: &quot;abc&quot;, &quot;tms&quot;: false}\n",
              "            ).addTo(map_b143dcfb82b8a94be629f6e1b0663d59);\n",
              "        \n",
              "    \n",
              "            var marker_562dd7b07da6e3043bd01201cb96e3ba = L.marker(\n",
              "                [46.8354, -121.7325],\n",
              "                {}\n",
              "            ).addTo(map_b143dcfb82b8a94be629f6e1b0663d59);\n",
              "        \n",
              "    \n",
              "        var popup_f45e45b13f9ff915a0dd60949d06388a = L.popup({&quot;maxWidth&quot;: &quot;100%&quot;});\n",
              "\n",
              "        \n",
              "            var html_8ac669f67193cc0d2bd3a4aa281944df = $(`&lt;div id=&quot;html_8ac669f67193cc0d2bd3a4aa281944df&quot; style=&quot;width: 100.0%; height: 100.0%;&quot;&gt;Camp Muir&lt;/div&gt;`)[0];\n",
              "            popup_f45e45b13f9ff915a0dd60949d06388a.setContent(html_8ac669f67193cc0d2bd3a4aa281944df);\n",
              "        \n",
              "\n",
              "        marker_562dd7b07da6e3043bd01201cb96e3ba.bindPopup(popup_f45e45b13f9ff915a0dd60949d06388a)\n",
              "        ;\n",
              "\n",
              "        \n",
              "    \n",
              "    \n",
              "                function newMarker(e){\n",
              "                    var new_mark = L.marker().setLatLng(e.latlng).addTo(map_b143dcfb82b8a94be629f6e1b0663d59);\n",
              "                    new_mark.dragging.enable();\n",
              "                    new_mark.on(&#x27;dblclick&#x27;, function(e){ map_b143dcfb82b8a94be629f6e1b0663d59.removeLayer(e.target)})\n",
              "                    var lat = e.latlng.lat.toFixed(4),\n",
              "                       lng = e.latlng.lng.toFixed(4);\n",
              "                    new_mark.bindPopup(&quot;Waypoint&quot;);\n",
              "                    };\n",
              "                map_b143dcfb82b8a94be629f6e1b0663d59.on(&#x27;click&#x27;, newMarker);\n",
              "            \n",
              "&lt;/script&gt;\n",
              "&lt;/html&gt;\" style=\"position:absolute;width:100%;height:100%;left:0;top:0;border:none !important;\" allowfullscreen webkitallowfullscreen mozallowfullscreen></iframe></div></div>"
            ],
            "text/plain": [
              "<folium.folium.Map at 0x7f614fcfa190>"
            ]
          },
          "execution_count": 139,
          "metadata": {},
          "output_type": "execute_result"
        }
      ],
      "source": [
        "m = folium.Map(location=[46.8527, -121.7649], tiles=\"Stamen Terrain\", zoom_start=13)\n",
        "\n",
        "folium.Marker([46.8354, -121.7325], popup=\"Camp Muir\").add_to(m)\n",
        "\n",
        "m.add_child(folium.ClickForMarker(popup=\"Waypoint\"))\n",
        "\n",
        "\n",
        "m"
      ]
    },
    {
      "cell_type": "code",
      "execution_count": null,
      "metadata": {
        "id": "v8dNlw_Xgge6"
      },
      "outputs": [],
      "source": [
        "import json\n",
        "\n",
        "import requests\n",
        "\n",
        "url = (\n",
        "    \"https://raw.githubusercontent.com/python-visualization/folium/master/examples/data\"\n",
        ")\n",
        "vis1 = json.loads(requests.get(f\"{url}/vis1.json\").text)\n",
        "vis2 = json.loads(requests.get(f\"{url}/vis2.json\").text)\n",
        "vis3 = json.loads(requests.get(f\"{url}/vis3.json\").text)"
      ]
    },
    {
      "cell_type": "code",
      "execution_count": null,
      "metadata": {
        "colab": {
          "base_uri": "https://localhost:8080/",
          "height": 915
        },
        "id": "dByx34ROgiZ5",
        "outputId": "28667839-68c5-4513-9a0e-bcf5e0cfd7aa"
      },
      "outputs": [
        {
          "data": {
            "text/html": [
              "<div style=\"width:100%;\"><div style=\"position:relative;width:100%;height:0;padding-bottom:60%;\"><span style=\"color:#565656\">Make this Notebook Trusted to load map: File -> Trust Notebook</span><iframe srcdoc=\"&lt;!DOCTYPE html&gt;\n",
              "&lt;html&gt;\n",
              "&lt;head&gt;\n",
              "    \n",
              "    &lt;meta http-equiv=&quot;content-type&quot; content=&quot;text/html; charset=UTF-8&quot; /&gt;\n",
              "    \n",
              "        &lt;script&gt;\n",
              "            L_NO_TOUCH = false;\n",
              "            L_DISABLE_3D = false;\n",
              "        &lt;/script&gt;\n",
              "    \n",
              "    &lt;style&gt;html, body {width: 100%;height: 100%;margin: 0;padding: 0;}&lt;/style&gt;\n",
              "    &lt;style&gt;#map {position:absolute;top:0;bottom:0;right:0;left:0;}&lt;/style&gt;\n",
              "    &lt;script src=&quot;https://cdn.jsdelivr.net/npm/leaflet@1.6.0/dist/leaflet.js&quot;&gt;&lt;/script&gt;\n",
              "    &lt;script src=&quot;https://code.jquery.com/jquery-2.1.0.min.js&quot;&gt;&lt;/script&gt;\n",
              "    &lt;script src=&quot;https://maxcdn.bootstrapcdn.com/bootstrap/3.2.0/js/bootstrap.min.js&quot;&gt;&lt;/script&gt;\n",
              "    &lt;script src=&quot;https://cdnjs.cloudflare.com/ajax/libs/Leaflet.awesome-markers/2.0.2/leaflet.awesome-markers.js&quot;&gt;&lt;/script&gt;\n",
              "    &lt;link rel=&quot;stylesheet&quot; href=&quot;https://cdn.jsdelivr.net/npm/leaflet@1.6.0/dist/leaflet.css&quot;/&gt;\n",
              "    &lt;link rel=&quot;stylesheet&quot; href=&quot;https://maxcdn.bootstrapcdn.com/bootstrap/3.2.0/css/bootstrap.min.css&quot;/&gt;\n",
              "    &lt;link rel=&quot;stylesheet&quot; href=&quot;https://maxcdn.bootstrapcdn.com/bootstrap/3.2.0/css/bootstrap-theme.min.css&quot;/&gt;\n",
              "    &lt;link rel=&quot;stylesheet&quot; href=&quot;https://maxcdn.bootstrapcdn.com/font-awesome/4.6.3/css/font-awesome.min.css&quot;/&gt;\n",
              "    &lt;link rel=&quot;stylesheet&quot; href=&quot;https://cdnjs.cloudflare.com/ajax/libs/Leaflet.awesome-markers/2.0.2/leaflet.awesome-markers.css&quot;/&gt;\n",
              "    &lt;link rel=&quot;stylesheet&quot; href=&quot;https://cdn.jsdelivr.net/gh/python-visualization/folium/folium/templates/leaflet.awesome.rotate.min.css&quot;/&gt;\n",
              "    \n",
              "            &lt;meta name=&quot;viewport&quot; content=&quot;width=device-width,\n",
              "                initial-scale=1.0, maximum-scale=1.0, user-scalable=no&quot; /&gt;\n",
              "            &lt;style&gt;\n",
              "                #map_0673749362b7ec44e97f483ea748bd32 {\n",
              "                    position: relative;\n",
              "                    width: 100.0%;\n",
              "                    height: 100.0%;\n",
              "                    left: 0.0%;\n",
              "                    top: 0.0%;\n",
              "                }\n",
              "            &lt;/style&gt;\n",
              "        \n",
              "    &lt;script src=&quot;https://cdnjs.cloudflare.com/ajax/libs/d3/3.5.5/d3.min.js&quot;&gt;&lt;/script&gt;\n",
              "    &lt;script src=&quot;https://cdnjs.cloudflare.com/ajax/libs/vega/1.4.3/vega.min.js&quot;&gt;&lt;/script&gt;\n",
              "    \n",
              "            &lt;style&gt; #vega_5cac1960115a18addc51fc25d8395c84 {\n",
              "                position : relative;\n",
              "                width : 450.0px;\n",
              "                height: 250.0px;\n",
              "                left: 0.0%;\n",
              "                top: 0.0%;\n",
              "            &lt;/style&gt;\n",
              "            \n",
              "    \n",
              "            &lt;style&gt; #vega_da275ddea256a4f49bdf16c13b30bdcd {\n",
              "                position : relative;\n",
              "                width : 450.0px;\n",
              "                height: 250.0px;\n",
              "                left: 0.0%;\n",
              "                top: 0.0%;\n",
              "            &lt;/style&gt;\n",
              "            \n",
              "    \n",
              "            &lt;style&gt; #vega_9349e6d99c8529330fbddd4a2f4c6c9f {\n",
              "                position : relative;\n",
              "                width : 450.0px;\n",
              "                height: 250.0px;\n",
              "                left: 0.0%;\n",
              "                top: 0.0%;\n",
              "            &lt;/style&gt;\n",
              "            \n",
              "&lt;/head&gt;\n",
              "&lt;body&gt;\n",
              "    \n",
              "    \n",
              "            &lt;div class=&quot;folium-map&quot; id=&quot;map_0673749362b7ec44e97f483ea748bd32&quot; &gt;&lt;/div&gt;\n",
              "        \n",
              "&lt;/body&gt;\n",
              "&lt;script&gt;\n",
              "    \n",
              "    \n",
              "            var map_0673749362b7ec44e97f483ea748bd32 = L.map(\n",
              "                &quot;map_0673749362b7ec44e97f483ea748bd32&quot;,\n",
              "                {\n",
              "                    center: [46.3014, -123.739],\n",
              "                    crs: L.CRS.EPSG3857,\n",
              "                    zoom: 7,\n",
              "                    zoomControl: true,\n",
              "                    preferCanvas: false,\n",
              "                }\n",
              "            );\n",
              "\n",
              "            \n",
              "\n",
              "        \n",
              "    \n",
              "            var tile_layer_7abd41332baf0777aa193d172f02e369 = L.tileLayer(\n",
              "                &quot;https://stamen-tiles-{s}.a.ssl.fastly.net/terrain/{z}/{x}/{y}.jpg&quot;,\n",
              "                {&quot;attribution&quot;: &quot;Map tiles by \\u003ca href=\\&quot;http://stamen.com\\&quot;\\u003eStamen Design\\u003c/a\\u003e, under \\u003ca href=\\&quot;http://creativecommons.org/licenses/by/3.0\\&quot;\\u003eCC BY 3.0\\u003c/a\\u003e. Data by \\u0026copy; \\u003ca href=\\&quot;http://openstreetmap.org\\&quot;\\u003eOpenStreetMap\\u003c/a\\u003e, under \\u003ca href=\\&quot;http://creativecommons.org/licenses/by-sa/3.0\\&quot;\\u003eCC BY SA\\u003c/a\\u003e.&quot;, &quot;detectRetina&quot;: false, &quot;maxNativeZoom&quot;: 18, &quot;maxZoom&quot;: 18, &quot;minZoom&quot;: 0, &quot;noWrap&quot;: false, &quot;opacity&quot;: 1, &quot;subdomains&quot;: &quot;abc&quot;, &quot;tms&quot;: false}\n",
              "            ).addTo(map_0673749362b7ec44e97f483ea748bd32);\n",
              "        \n",
              "    \n",
              "            var marker_7a3973dd6b26bcb59df5a6446eb13465 = L.marker(\n",
              "                [47.3489, -124.708],\n",
              "                {}\n",
              "            ).addTo(map_0673749362b7ec44e97f483ea748bd32);\n",
              "        \n",
              "    function vega_parse(spec, div) {\n",
              "            vg.parse.spec(spec, function(chart) { chart({el:div}).update(); });}\n",
              "    \n",
              "        var popup_e9321437a7536576262770f4caa39e6d = L.popup({&quot;maxWidth&quot;: 450});\n",
              "\n",
              "        \n",
              "            var vega_5cac1960115a18addc51fc25d8395c84 = $(`             &lt;div id=&quot;vega_5cac1960115a18addc51fc25d8395c84&quot;&gt;&lt;/div&gt;             `)[0];\n",
              "            popup_e9321437a7536576262770f4caa39e6d.setContent(vega_5cac1960115a18addc51fc25d8395c84);\n",
              "        \n",
              "\n",
              "        marker_7a3973dd6b26bcb59df5a6446eb13465.bindPopup(popup_e9321437a7536576262770f4caa39e6d)\n",
              "        ;\n",
              "\n",
              "        \n",
              "            \n",
              "            vega_parse({&quot;axes&quot;: [{&quot;scale&quot;: &quot;x&quot;, &quot;title&quot;: &quot;Time&quot;, &quot;type&quot;: &quot;x&quot;}, {&quot;scale&quot;: &quot;y&quot;, &quot;title&quot;: &quot;Dominant Wave Period (s)&quot;, &quot;type&quot;: &quot;y&quot;}], &quot;data&quot;: [{&quot;name&quot;: &quot;table&quot;, &quot;values&quot;: [{&quot;col&quot;: &quot;dominant_wave_period (s)&quot;, &quot;idx&quot;: 1366257000000, &quot;val&quot;: 8.0}, {&quot;col&quot;: &quot;dominant_wave_period (s)&quot;, &quot;idx&quot;: 1366260600000, &quot;val&quot;: 6.0}, {&quot;col&quot;: &quot;dominant_wave_period (s)&quot;, &quot;idx&quot;: 1366264200000, &quot;val&quot;: 7.0}, {&quot;col&quot;: &quot;dominant_wave_period (s)&quot;, &quot;idx&quot;: 1366267800000, &quot;val&quot;: 6.0}, {&quot;col&quot;: &quot;dominant_wave_period (s)&quot;, &quot;idx&quot;: 1366271400000, &quot;val&quot;: 8.0}, {&quot;col&quot;: &quot;dominant_wave_period (s)&quot;, &quot;idx&quot;: 1366275000000, &quot;val&quot;: 6.0}, {&quot;col&quot;: &quot;dominant_wave_period (s)&quot;, &quot;idx&quot;: 1366278600000, &quot;val&quot;: 6.0}, {&quot;col&quot;: &quot;dominant_wave_period (s)&quot;, &quot;idx&quot;: 1366282200000, &quot;val&quot;: 6.0}, {&quot;col&quot;: &quot;dominant_wave_period (s)&quot;, &quot;idx&quot;: 1366285800000, &quot;val&quot;: 8.0}, {&quot;col&quot;: &quot;dominant_wave_period (s)&quot;, &quot;idx&quot;: 1366289400000, &quot;val&quot;: 7.0}, {&quot;col&quot;: &quot;dominant_wave_period (s)&quot;, &quot;idx&quot;: 1366293000000, &quot;val&quot;: 7.0}, {&quot;col&quot;: &quot;dominant_wave_period (s)&quot;, &quot;idx&quot;: 1366300200000, &quot;val&quot;: 10.0}, {&quot;col&quot;: &quot;dominant_wave_period (s)&quot;, &quot;idx&quot;: 1366303800000, &quot;val&quot;: 10.0}, {&quot;col&quot;: &quot;dominant_wave_period (s)&quot;, &quot;idx&quot;: 1366307400000, &quot;val&quot;: 10.0}, {&quot;col&quot;: &quot;dominant_wave_period (s)&quot;, &quot;idx&quot;: 1366311000000, &quot;val&quot;: 9.0}, {&quot;col&quot;: &quot;dominant_wave_period (s)&quot;, &quot;idx&quot;: 1366314600000, &quot;val&quot;: 8.0}, {&quot;col&quot;: &quot;dominant_wave_period (s)&quot;, &quot;idx&quot;: 1366318200000, &quot;val&quot;: 8.0}, {&quot;col&quot;: &quot;dominant_wave_period (s)&quot;, &quot;idx&quot;: 1366321800000, &quot;val&quot;: 8.0}, {&quot;col&quot;: &quot;dominant_wave_period (s)&quot;, &quot;idx&quot;: 1366325400000, &quot;val&quot;: 8.0}, {&quot;col&quot;: &quot;dominant_wave_period (s)&quot;, &quot;idx&quot;: 1366329000000, &quot;val&quot;: 8.0}, {&quot;col&quot;: &quot;dominant_wave_period (s)&quot;, &quot;idx&quot;: 1366332600000, &quot;val&quot;: 9.0}, {&quot;col&quot;: &quot;dominant_wave_period (s)&quot;, &quot;idx&quot;: 1366336200000, &quot;val&quot;: 9.0}, {&quot;col&quot;: &quot;dominant_wave_period (s)&quot;, &quot;idx&quot;: 1366339800000, &quot;val&quot;: 8.0}, {&quot;col&quot;: &quot;dominant_wave_period (s)&quot;, &quot;idx&quot;: 1366343400000, &quot;val&quot;: 8.0}, {&quot;col&quot;: &quot;dominant_wave_period (s)&quot;, &quot;idx&quot;: 1366347000000, &quot;val&quot;: 8.0}, {&quot;col&quot;: &quot;dominant_wave_period (s)&quot;, &quot;idx&quot;: 1366350600000, &quot;val&quot;: 7.0}, {&quot;col&quot;: &quot;dominant_wave_period (s)&quot;, &quot;idx&quot;: 1366354200000, &quot;val&quot;: 8.0}, {&quot;col&quot;: &quot;dominant_wave_period (s)&quot;, &quot;idx&quot;: 1366357800000, &quot;val&quot;: 7.0}, {&quot;col&quot;: &quot;dominant_wave_period (s)&quot;, &quot;idx&quot;: 1366361400000, &quot;val&quot;: 8.0}, {&quot;col&quot;: &quot;dominant_wave_period (s)&quot;, &quot;idx&quot;: 1366365000000, &quot;val&quot;: 8.0}, {&quot;col&quot;: &quot;dominant_wave_period (s)&quot;, &quot;idx&quot;: 1366368600000, &quot;val&quot;: 8.0}, {&quot;col&quot;: &quot;dominant_wave_period (s)&quot;, &quot;idx&quot;: 1366372200000, &quot;val&quot;: 7.0}, {&quot;col&quot;: &quot;dominant_wave_period (s)&quot;, &quot;idx&quot;: 1366375800000, &quot;val&quot;: 8.0}, {&quot;col&quot;: &quot;dominant_wave_period (s)&quot;, &quot;idx&quot;: 1366379400000, &quot;val&quot;: 8.0}, {&quot;col&quot;: &quot;dominant_wave_period (s)&quot;, &quot;idx&quot;: 1366383000000, &quot;val&quot;: 8.0}, {&quot;col&quot;: &quot;dominant_wave_period (s)&quot;, &quot;idx&quot;: 1366386600000, &quot;val&quot;: 7.0}, {&quot;col&quot;: &quot;dominant_wave_period (s)&quot;, &quot;idx&quot;: 1366390200000, &quot;val&quot;: 7.0}, {&quot;col&quot;: &quot;dominant_wave_period (s)&quot;, &quot;idx&quot;: 1366393800000, &quot;val&quot;: 8.0}, {&quot;col&quot;: &quot;dominant_wave_period (s)&quot;, &quot;idx&quot;: 1366397400000, &quot;val&quot;: 8.0}, {&quot;col&quot;: &quot;dominant_wave_period (s)&quot;, &quot;idx&quot;: 1366401000000, &quot;val&quot;: 8.0}, {&quot;col&quot;: &quot;dominant_wave_period (s)&quot;, &quot;idx&quot;: 1366404600000, &quot;val&quot;: 8.0}, {&quot;col&quot;: &quot;dominant_wave_period (s)&quot;, &quot;idx&quot;: 1366408200000, &quot;val&quot;: 8.0}, {&quot;col&quot;: &quot;dominant_wave_period (s)&quot;, &quot;idx&quot;: 1366411800000, &quot;val&quot;: 8.0}, {&quot;col&quot;: &quot;dominant_wave_period (s)&quot;, &quot;idx&quot;: 1366415400000, &quot;val&quot;: 8.0}, {&quot;col&quot;: &quot;dominant_wave_period (s)&quot;, &quot;idx&quot;: 1366419000000, &quot;val&quot;: 8.0}, {&quot;col&quot;: &quot;dominant_wave_period (s)&quot;, &quot;idx&quot;: 1366422600000, &quot;val&quot;: 8.0}, {&quot;col&quot;: &quot;dominant_wave_period (s)&quot;, &quot;idx&quot;: 1366426200000, &quot;val&quot;: 7.0}, {&quot;col&quot;: &quot;dominant_wave_period (s)&quot;, &quot;idx&quot;: 1366429800000, &quot;val&quot;: 8.0}, {&quot;col&quot;: &quot;dominant_wave_period (s)&quot;, &quot;idx&quot;: 1366433400000, &quot;val&quot;: 7.0}, {&quot;col&quot;: &quot;dominant_wave_period (s)&quot;, &quot;idx&quot;: 1366437000000, &quot;val&quot;: 8.0}, {&quot;col&quot;: &quot;dominant_wave_period (s)&quot;, &quot;idx&quot;: 1366440600000, &quot;val&quot;: 8.0}, {&quot;col&quot;: &quot;dominant_wave_period (s)&quot;, &quot;idx&quot;: 1366444200000, &quot;val&quot;: 7.0}, {&quot;col&quot;: &quot;dominant_wave_period (s)&quot;, &quot;idx&quot;: 1366447800000, &quot;val&quot;: 8.0}, {&quot;col&quot;: &quot;dominant_wave_period (s)&quot;, &quot;idx&quot;: 1366451400000, &quot;val&quot;: 8.0}, {&quot;col&quot;: &quot;dominant_wave_period (s)&quot;, &quot;idx&quot;: 1366455000000, &quot;val&quot;: 8.0}, {&quot;col&quot;: &quot;dominant_wave_period (s)&quot;, &quot;idx&quot;: 1366458600000, &quot;val&quot;: 8.0}, {&quot;col&quot;: &quot;dominant_wave_period (s)&quot;, &quot;idx&quot;: 1366462200000, &quot;val&quot;: 8.0}, {&quot;col&quot;: &quot;dominant_wave_period (s)&quot;, &quot;idx&quot;: 1366465800000, &quot;val&quot;: 8.0}, {&quot;col&quot;: &quot;dominant_wave_period (s)&quot;, &quot;idx&quot;: 1366469400000, &quot;val&quot;: 8.0}, {&quot;col&quot;: &quot;dominant_wave_period (s)&quot;, &quot;idx&quot;: 1366473000000, &quot;val&quot;: 8.0}, {&quot;col&quot;: &quot;dominant_wave_period (s)&quot;, &quot;idx&quot;: 1366476600000, &quot;val&quot;: 8.0}, {&quot;col&quot;: &quot;dominant_wave_period (s)&quot;, &quot;idx&quot;: 1366480200000, &quot;val&quot;: 8.0}, {&quot;col&quot;: &quot;dominant_wave_period (s)&quot;, &quot;idx&quot;: 1366483800000, &quot;val&quot;: 8.0}, {&quot;col&quot;: &quot;dominant_wave_period (s)&quot;, &quot;idx&quot;: 1366487400000, &quot;val&quot;: 8.0}, {&quot;col&quot;: &quot;dominant_wave_period (s)&quot;, &quot;idx&quot;: 1366491000000, &quot;val&quot;: 8.0}, {&quot;col&quot;: &quot;dominant_wave_period (s)&quot;, &quot;idx&quot;: 1366494600000, &quot;val&quot;: 8.0}, {&quot;col&quot;: &quot;dominant_wave_period (s)&quot;, &quot;idx&quot;: 1366498200000, &quot;val&quot;: 8.0}, {&quot;col&quot;: &quot;dominant_wave_period (s)&quot;, &quot;idx&quot;: 1366501800000, &quot;val&quot;: 8.0}, {&quot;col&quot;: &quot;dominant_wave_period (s)&quot;, &quot;idx&quot;: 1366505400000, &quot;val&quot;: 8.0}, {&quot;col&quot;: &quot;dominant_wave_period (s)&quot;, &quot;idx&quot;: 1366509000000, &quot;val&quot;: 8.0}, {&quot;col&quot;: &quot;dominant_wave_period (s)&quot;, &quot;idx&quot;: 1366512600000, &quot;val&quot;: 8.0}, {&quot;col&quot;: &quot;dominant_wave_period (s)&quot;, &quot;idx&quot;: 1366516200000, &quot;val&quot;: 8.0}, {&quot;col&quot;: &quot;dominant_wave_period (s)&quot;, &quot;idx&quot;: 1366519800000, &quot;val&quot;: 8.0}, {&quot;col&quot;: &quot;dominant_wave_period (s)&quot;, &quot;idx&quot;: 1366523400000, &quot;val&quot;: 8.0}, {&quot;col&quot;: &quot;dominant_wave_period (s)&quot;, &quot;idx&quot;: 1366527000000, &quot;val&quot;: 7.0}, {&quot;col&quot;: &quot;dominant_wave_period (s)&quot;, &quot;idx&quot;: 1366530600000, &quot;val&quot;: 7.0}, {&quot;col&quot;: &quot;dominant_wave_period (s)&quot;, &quot;idx&quot;: 1366534200000, &quot;val&quot;: 11.0}, {&quot;col&quot;: &quot;dominant_wave_period (s)&quot;, &quot;idx&quot;: 1366537800000, &quot;val&quot;: 8.0}, {&quot;col&quot;: &quot;dominant_wave_period (s)&quot;, &quot;idx&quot;: 1366541400000, &quot;val&quot;: 7.0}, {&quot;col&quot;: &quot;dominant_wave_period (s)&quot;, &quot;idx&quot;: 1366545000000, &quot;val&quot;: 7.0}, {&quot;col&quot;: &quot;dominant_wave_period (s)&quot;, &quot;idx&quot;: 1366548600000, &quot;val&quot;: 7.0}, {&quot;col&quot;: &quot;dominant_wave_period (s)&quot;, &quot;idx&quot;: 1366552200000, &quot;val&quot;: 7.0}, {&quot;col&quot;: &quot;dominant_wave_period (s)&quot;, &quot;idx&quot;: 1366559400000, &quot;val&quot;: 8.0}, {&quot;col&quot;: &quot;dominant_wave_period (s)&quot;, &quot;idx&quot;: 1366563000000, &quot;val&quot;: 8.0}, {&quot;col&quot;: &quot;dominant_wave_period (s)&quot;, &quot;idx&quot;: 1366566600000, &quot;val&quot;: 7.0}, {&quot;col&quot;: &quot;dominant_wave_period (s)&quot;, &quot;idx&quot;: 1366570200000, &quot;val&quot;: 11.0}, {&quot;col&quot;: &quot;dominant_wave_period (s)&quot;, &quot;idx&quot;: 1366573800000, &quot;val&quot;: 8.0}, {&quot;col&quot;: &quot;dominant_wave_period (s)&quot;, &quot;idx&quot;: 1366577400000, &quot;val&quot;: 8.0}, {&quot;col&quot;: &quot;dominant_wave_period (s)&quot;, &quot;idx&quot;: 1366581000000, &quot;val&quot;: 7.0}, {&quot;col&quot;: &quot;dominant_wave_period (s)&quot;, &quot;idx&quot;: 1366584600000, &quot;val&quot;: 8.0}, {&quot;col&quot;: &quot;dominant_wave_period (s)&quot;, &quot;idx&quot;: 1366588200000, &quot;val&quot;: 11.0}, {&quot;col&quot;: &quot;dominant_wave_period (s)&quot;, &quot;idx&quot;: 1366591800000, &quot;val&quot;: 11.0}, {&quot;col&quot;: &quot;dominant_wave_period (s)&quot;, &quot;idx&quot;: 1366595400000, &quot;val&quot;: 7.0}, {&quot;col&quot;: &quot;dominant_wave_period (s)&quot;, &quot;idx&quot;: 1366599000000, &quot;val&quot;: 7.0}, {&quot;col&quot;: &quot;dominant_wave_period (s)&quot;, &quot;idx&quot;: 1366602600000, &quot;val&quot;: 7.0}, {&quot;col&quot;: &quot;dominant_wave_period (s)&quot;, &quot;idx&quot;: 1366606200000, &quot;val&quot;: 7.0}, {&quot;col&quot;: &quot;dominant_wave_period (s)&quot;, &quot;idx&quot;: 1366609800000, &quot;val&quot;: 7.0}, {&quot;col&quot;: &quot;dominant_wave_period (s)&quot;, &quot;idx&quot;: 1366613400000, &quot;val&quot;: 5.0}, {&quot;col&quot;: &quot;dominant_wave_period (s)&quot;, &quot;idx&quot;: 1366617000000, &quot;val&quot;: 7.0}, {&quot;col&quot;: &quot;dominant_wave_period (s)&quot;, &quot;idx&quot;: 1366620600000, &quot;val&quot;: 7.0}, {&quot;col&quot;: &quot;dominant_wave_period (s)&quot;, &quot;idx&quot;: 1366624200000, &quot;val&quot;: 7.0}, {&quot;col&quot;: &quot;dominant_wave_period (s)&quot;, &quot;idx&quot;: 1366627800000, &quot;val&quot;: 7.0}, {&quot;col&quot;: &quot;dominant_wave_period (s)&quot;, &quot;idx&quot;: 1366631400000, &quot;val&quot;: 11.0}, {&quot;col&quot;: &quot;dominant_wave_period (s)&quot;, &quot;idx&quot;: 1366635000000, &quot;val&quot;: 11.0}, {&quot;col&quot;: &quot;dominant_wave_period (s)&quot;, &quot;idx&quot;: 1366638600000, &quot;val&quot;: 11.0}, {&quot;col&quot;: &quot;dominant_wave_period (s)&quot;, &quot;idx&quot;: 1366642200000, &quot;val&quot;: 11.0}, {&quot;col&quot;: &quot;dominant_wave_period (s)&quot;, &quot;idx&quot;: 1366645800000, &quot;val&quot;: 7.0}, {&quot;col&quot;: &quot;dominant_wave_period (s)&quot;, &quot;idx&quot;: 1366649400000, &quot;val&quot;: 6.0}, {&quot;col&quot;: &quot;dominant_wave_period (s)&quot;, &quot;idx&quot;: 1366653000000, &quot;val&quot;: 7.0}, {&quot;col&quot;: &quot;dominant_wave_period (s)&quot;, &quot;idx&quot;: 1366656600000, &quot;val&quot;: 6.0}, {&quot;col&quot;: &quot;dominant_wave_period (s)&quot;, &quot;idx&quot;: 1366660200000, &quot;val&quot;: 7.0}, {&quot;col&quot;: &quot;dominant_wave_period (s)&quot;, &quot;idx&quot;: 1366663800000, &quot;val&quot;: 10.0}, {&quot;col&quot;: &quot;dominant_wave_period (s)&quot;, &quot;idx&quot;: 1366667400000, &quot;val&quot;: 6.0}, {&quot;col&quot;: &quot;dominant_wave_period (s)&quot;, &quot;idx&quot;: 1366671000000, &quot;val&quot;: 6.0}, {&quot;col&quot;: &quot;dominant_wave_period (s)&quot;, &quot;idx&quot;: 1366674600000, &quot;val&quot;: 7.0}, {&quot;col&quot;: &quot;dominant_wave_period (s)&quot;, &quot;idx&quot;: 1366678200000, &quot;val&quot;: 10.0}, {&quot;col&quot;: &quot;dominant_wave_period (s)&quot;, &quot;idx&quot;: 1366681800000, &quot;val&quot;: 7.0}, {&quot;col&quot;: &quot;dominant_wave_period (s)&quot;, &quot;idx&quot;: 1366685400000, &quot;val&quot;: 6.0}, {&quot;col&quot;: &quot;dominant_wave_period (s)&quot;, &quot;idx&quot;: 1366689000000, &quot;val&quot;: 6.0}, {&quot;col&quot;: &quot;dominant_wave_period (s)&quot;, &quot;idx&quot;: 1366692600000, &quot;val&quot;: 7.0}, {&quot;col&quot;: &quot;dominant_wave_period (s)&quot;, &quot;idx&quot;: 1366696200000, &quot;val&quot;: 9.0}, {&quot;col&quot;: &quot;dominant_wave_period (s)&quot;, &quot;idx&quot;: 1366699800000, &quot;val&quot;: 4.0}, {&quot;col&quot;: &quot;dominant_wave_period (s)&quot;, &quot;idx&quot;: 1366703400000, &quot;val&quot;: 4.0}, {&quot;col&quot;: &quot;dominant_wave_period (s)&quot;, &quot;idx&quot;: 1366707000000, &quot;val&quot;: 4.0}, {&quot;col&quot;: &quot;dominant_wave_period (s)&quot;, &quot;idx&quot;: 1366710600000, &quot;val&quot;: 9.0}, {&quot;col&quot;: &quot;dominant_wave_period (s)&quot;, &quot;idx&quot;: 1366714200000, &quot;val&quot;: 4.0}, {&quot;col&quot;: &quot;dominant_wave_period (s)&quot;, &quot;idx&quot;: 1366717800000, &quot;val&quot;: 9.0}, {&quot;col&quot;: &quot;dominant_wave_period (s)&quot;, &quot;idx&quot;: 1366721400000, &quot;val&quot;: 8.0}, {&quot;col&quot;: &quot;dominant_wave_period (s)&quot;, &quot;idx&quot;: 1366725000000, &quot;val&quot;: 9.0}, {&quot;col&quot;: &quot;dominant_wave_period (s)&quot;, &quot;idx&quot;: 1366728600000, &quot;val&quot;: 8.0}, {&quot;col&quot;: &quot;dominant_wave_period (s)&quot;, &quot;idx&quot;: 1366732200000, &quot;val&quot;: 8.0}, {&quot;col&quot;: &quot;dominant_wave_period (s)&quot;, &quot;idx&quot;: 1366735800000, &quot;val&quot;: 8.0}, {&quot;col&quot;: &quot;dominant_wave_period (s)&quot;, &quot;idx&quot;: 1366739400000, &quot;val&quot;: 8.0}, {&quot;col&quot;: &quot;dominant_wave_period (s)&quot;, &quot;idx&quot;: 1366743000000, &quot;val&quot;: 9.0}, {&quot;col&quot;: &quot;dominant_wave_period (s)&quot;, &quot;idx&quot;: 1366746600000, &quot;val&quot;: 13.0}, {&quot;col&quot;: &quot;dominant_wave_period (s)&quot;, &quot;idx&quot;: 1366750200000, &quot;val&quot;: 12.0}, {&quot;col&quot;: &quot;dominant_wave_period (s)&quot;, &quot;idx&quot;: 1366753800000, &quot;val&quot;: 8.0}, {&quot;col&quot;: &quot;dominant_wave_period (s)&quot;, &quot;idx&quot;: 1366757400000, &quot;val&quot;: 11.0}, {&quot;col&quot;: &quot;dominant_wave_period (s)&quot;, &quot;idx&quot;: 1366761000000, &quot;val&quot;: 11.0}, {&quot;col&quot;: &quot;dominant_wave_period (s)&quot;, &quot;idx&quot;: 1366764600000, &quot;val&quot;: 11.0}, {&quot;col&quot;: &quot;dominant_wave_period (s)&quot;, &quot;idx&quot;: 1366768200000, &quot;val&quot;: 11.0}, {&quot;col&quot;: &quot;dominant_wave_period (s)&quot;, &quot;idx&quot;: 1366771800000, &quot;val&quot;: 11.0}, {&quot;col&quot;: &quot;dominant_wave_period (s)&quot;, &quot;idx&quot;: 1366775400000, &quot;val&quot;: 8.0}, {&quot;col&quot;: &quot;dominant_wave_period (s)&quot;, &quot;idx&quot;: 1366779000000, &quot;val&quot;: 8.0}, {&quot;col&quot;: &quot;dominant_wave_period (s)&quot;, &quot;idx&quot;: 1366782600000, &quot;val&quot;: 8.0}, {&quot;col&quot;: &quot;dominant_wave_period (s)&quot;, &quot;idx&quot;: 1366786200000, &quot;val&quot;: 8.0}, {&quot;col&quot;: &quot;dominant_wave_period (s)&quot;, &quot;idx&quot;: 1366789800000, &quot;val&quot;: 8.0}, {&quot;col&quot;: &quot;dominant_wave_period (s)&quot;, &quot;idx&quot;: 1366793400000, &quot;val&quot;: 8.0}, {&quot;col&quot;: &quot;dominant_wave_period (s)&quot;, &quot;idx&quot;: 1366797000000, &quot;val&quot;: 8.0}, {&quot;col&quot;: &quot;dominant_wave_period (s)&quot;, &quot;idx&quot;: 1366800600000, &quot;val&quot;: 8.0}, {&quot;col&quot;: &quot;dominant_wave_period (s)&quot;, &quot;idx&quot;: 1366804200000, &quot;val&quot;: 8.0}, {&quot;col&quot;: &quot;dominant_wave_period (s)&quot;, &quot;idx&quot;: 1366807800000, &quot;val&quot;: 8.0}, {&quot;col&quot;: &quot;dominant_wave_period (s)&quot;, &quot;idx&quot;: 1366811400000, &quot;val&quot;: 8.0}, {&quot;col&quot;: &quot;dominant_wave_period (s)&quot;, &quot;idx&quot;: 1366818600000, &quot;val&quot;: 7.0}, {&quot;col&quot;: &quot;dominant_wave_period (s)&quot;, &quot;idx&quot;: 1366822200000, &quot;val&quot;: 8.0}, {&quot;col&quot;: &quot;dominant_wave_period (s)&quot;, &quot;idx&quot;: 1366829400000, &quot;val&quot;: 7.0}, {&quot;col&quot;: &quot;dominant_wave_period (s)&quot;, &quot;idx&quot;: 1366833000000, &quot;val&quot;: 7.0}, {&quot;col&quot;: &quot;dominant_wave_period (s)&quot;, &quot;idx&quot;: 1366836600000, &quot;val&quot;: 8.0}, {&quot;col&quot;: &quot;dominant_wave_period (s)&quot;, &quot;idx&quot;: 1366840200000, &quot;val&quot;: 8.0}, {&quot;col&quot;: &quot;dominant_wave_period (s)&quot;, &quot;idx&quot;: 1366843800000, &quot;val&quot;: 8.0}, {&quot;col&quot;: &quot;dominant_wave_period (s)&quot;, &quot;idx&quot;: 1366847400000, &quot;val&quot;: 7.0}, {&quot;col&quot;: &quot;dominant_wave_period (s)&quot;, &quot;idx&quot;: 1366851000000, &quot;val&quot;: 8.0}, {&quot;col&quot;: &quot;dominant_wave_period (s)&quot;, &quot;idx&quot;: 1366854600000, &quot;val&quot;: 7.0}, {&quot;col&quot;: &quot;dominant_wave_period (s)&quot;, &quot;idx&quot;: 1366858200000, &quot;val&quot;: 7.0}, {&quot;col&quot;: &quot;dominant_wave_period (s)&quot;, &quot;idx&quot;: 1366861800000, &quot;val&quot;: 10.0}, {&quot;col&quot;: &quot;dominant_wave_period (s)&quot;, &quot;idx&quot;: 1366865400000, &quot;val&quot;: 11.0}, {&quot;col&quot;: &quot;dominant_wave_period (s)&quot;, &quot;idx&quot;: 1366869000000, &quot;val&quot;: 11.0}, {&quot;col&quot;: &quot;dominant_wave_period (s)&quot;, &quot;idx&quot;: 1366872600000, &quot;val&quot;: 10.0}, {&quot;col&quot;: &quot;dominant_wave_period (s)&quot;, &quot;idx&quot;: 1366876200000, &quot;val&quot;: 11.0}, {&quot;col&quot;: &quot;dominant_wave_period (s)&quot;, &quot;idx&quot;: 1366879800000, &quot;val&quot;: 6.0}, {&quot;col&quot;: &quot;dominant_wave_period (s)&quot;, &quot;idx&quot;: 1366883400000, &quot;val&quot;: 6.0}, {&quot;col&quot;: &quot;dominant_wave_period (s)&quot;, &quot;idx&quot;: 1366887000000, &quot;val&quot;: 4.0}, {&quot;col&quot;: &quot;dominant_wave_period (s)&quot;, &quot;idx&quot;: 1366890600000, &quot;val&quot;: 10.0}, {&quot;col&quot;: &quot;dominant_wave_period (s)&quot;, &quot;idx&quot;: 1366894200000, &quot;val&quot;: 6.0}, {&quot;col&quot;: &quot;dominant_wave_period (s)&quot;, &quot;idx&quot;: 1366897800000, &quot;val&quot;: 6.0}, {&quot;col&quot;: &quot;dominant_wave_period (s)&quot;, &quot;idx&quot;: 1366901400000, &quot;val&quot;: 6.0}, {&quot;col&quot;: &quot;dominant_wave_period (s)&quot;, &quot;idx&quot;: 1366905000000, &quot;val&quot;: 6.0}, {&quot;col&quot;: &quot;dominant_wave_period (s)&quot;, &quot;idx&quot;: 1366908600000, &quot;val&quot;: 7.0}, {&quot;col&quot;: &quot;dominant_wave_period (s)&quot;, &quot;idx&quot;: 1366912200000, &quot;val&quot;: 7.0}, {&quot;col&quot;: &quot;dominant_wave_period (s)&quot;, &quot;idx&quot;: 1366915800000, &quot;val&quot;: 8.0}, {&quot;col&quot;: &quot;dominant_wave_period (s)&quot;, &quot;idx&quot;: 1366919400000, &quot;val&quot;: 8.0}, {&quot;col&quot;: &quot;dominant_wave_period (s)&quot;, &quot;idx&quot;: 1366923000000, &quot;val&quot;: 7.0}, {&quot;col&quot;: &quot;dominant_wave_period (s)&quot;, &quot;idx&quot;: 1366926600000, &quot;val&quot;: 8.0}, {&quot;col&quot;: &quot;dominant_wave_period (s)&quot;, &quot;idx&quot;: 1366930200000, &quot;val&quot;: 7.0}, {&quot;col&quot;: &quot;dominant_wave_period (s)&quot;, &quot;idx&quot;: 1366933800000, &quot;val&quot;: 8.0}, {&quot;col&quot;: &quot;dominant_wave_period (s)&quot;, &quot;idx&quot;: 1366937400000, &quot;val&quot;: 7.0}, {&quot;col&quot;: &quot;dominant_wave_period (s)&quot;, &quot;idx&quot;: 1366941000000, &quot;val&quot;: 7.0}, {&quot;col&quot;: &quot;dominant_wave_period (s)&quot;, &quot;idx&quot;: 1366944600000, &quot;val&quot;: 7.0}, {&quot;col&quot;: &quot;dominant_wave_period (s)&quot;, &quot;idx&quot;: 1366948200000, &quot;val&quot;: 7.0}, {&quot;col&quot;: &quot;dominant_wave_period (s)&quot;, &quot;idx&quot;: 1366951800000, &quot;val&quot;: 7.0}, {&quot;col&quot;: &quot;dominant_wave_period (s)&quot;, &quot;idx&quot;: 1366955400000, &quot;val&quot;: 7.0}, {&quot;col&quot;: &quot;dominant_wave_period (s)&quot;, &quot;idx&quot;: 1366959000000, &quot;val&quot;: 7.0}, {&quot;col&quot;: &quot;dominant_wave_period (s)&quot;, &quot;idx&quot;: 1366962600000, &quot;val&quot;: 6.0}, {&quot;col&quot;: &quot;dominant_wave_period (s)&quot;, &quot;idx&quot;: 1366966200000, &quot;val&quot;: 7.0}, {&quot;col&quot;: &quot;dominant_wave_period (s)&quot;, &quot;idx&quot;: 1366969800000, &quot;val&quot;: 6.0}, {&quot;col&quot;: &quot;dominant_wave_period (s)&quot;, &quot;idx&quot;: 1366973400000, &quot;val&quot;: 7.0}, {&quot;col&quot;: &quot;dominant_wave_period (s)&quot;, &quot;idx&quot;: 1366977000000, &quot;val&quot;: 7.0}, {&quot;col&quot;: &quot;dominant_wave_period (s)&quot;, &quot;idx&quot;: 1366980600000, &quot;val&quot;: 6.0}, {&quot;col&quot;: &quot;dominant_wave_period (s)&quot;, &quot;idx&quot;: 1366984200000, &quot;val&quot;: 6.0}, {&quot;col&quot;: &quot;dominant_wave_period (s)&quot;, &quot;idx&quot;: 1366987800000, &quot;val&quot;: 6.0}, {&quot;col&quot;: &quot;dominant_wave_period (s)&quot;, &quot;idx&quot;: 1366991400000, &quot;val&quot;: 14.0}, {&quot;col&quot;: &quot;dominant_wave_period (s)&quot;, &quot;idx&quot;: 1366995000000, &quot;val&quot;: 6.0}, {&quot;col&quot;: &quot;dominant_wave_period (s)&quot;, &quot;idx&quot;: 1366998600000, &quot;val&quot;: 6.0}, {&quot;col&quot;: &quot;dominant_wave_period (s)&quot;, &quot;idx&quot;: 1367002200000, &quot;val&quot;: 14.0}, {&quot;col&quot;: &quot;dominant_wave_period (s)&quot;, &quot;idx&quot;: 1367005800000, &quot;val&quot;: 6.0}, {&quot;col&quot;: &quot;dominant_wave_period (s)&quot;, &quot;idx&quot;: 1367009400000, &quot;val&quot;: 14.0}, {&quot;col&quot;: &quot;dominant_wave_period (s)&quot;, &quot;idx&quot;: 1367013000000, &quot;val&quot;: 14.0}, {&quot;col&quot;: &quot;dominant_wave_period (s)&quot;, &quot;idx&quot;: 1367016600000, &quot;val&quot;: 15.0}, {&quot;col&quot;: &quot;dominant_wave_period (s)&quot;, &quot;idx&quot;: 1367020200000, &quot;val&quot;: 14.0}, {&quot;col&quot;: &quot;dominant_wave_period (s)&quot;, &quot;idx&quot;: 1367023800000, &quot;val&quot;: 14.0}, {&quot;col&quot;: &quot;dominant_wave_period (s)&quot;, &quot;idx&quot;: 1367027400000, &quot;val&quot;: 15.0}, {&quot;col&quot;: &quot;dominant_wave_period (s)&quot;, &quot;idx&quot;: 1367031000000, &quot;val&quot;: 14.0}, {&quot;col&quot;: &quot;dominant_wave_period (s)&quot;, &quot;idx&quot;: 1367034600000, &quot;val&quot;: 14.0}, {&quot;col&quot;: &quot;dominant_wave_period (s)&quot;, &quot;idx&quot;: 1367038200000, &quot;val&quot;: 15.0}, {&quot;col&quot;: &quot;dominant_wave_period (s)&quot;, &quot;idx&quot;: 1367041800000, &quot;val&quot;: 14.0}, {&quot;col&quot;: &quot;dominant_wave_period (s)&quot;, &quot;idx&quot;: 1367045400000, &quot;val&quot;: 14.0}, {&quot;col&quot;: &quot;dominant_wave_period (s)&quot;, &quot;idx&quot;: 1367049000000, &quot;val&quot;: 16.0}, {&quot;col&quot;: &quot;dominant_wave_period (s)&quot;, &quot;idx&quot;: 1367052600000, &quot;val&quot;: 13.0}, {&quot;col&quot;: &quot;dominant_wave_period (s)&quot;, &quot;idx&quot;: 1367056200000, &quot;val&quot;: 13.0}, {&quot;col&quot;: &quot;dominant_wave_period (s)&quot;, &quot;idx&quot;: 1367059800000, &quot;val&quot;: 14.0}, {&quot;col&quot;: &quot;dominant_wave_period (s)&quot;, &quot;idx&quot;: 1367063400000, &quot;val&quot;: 13.0}, {&quot;col&quot;: &quot;dominant_wave_period (s)&quot;, &quot;idx&quot;: 1367067000000, &quot;val&quot;: 15.0}, {&quot;col&quot;: &quot;dominant_wave_period (s)&quot;, &quot;idx&quot;: 1367070600000, &quot;val&quot;: 14.0}, {&quot;col&quot;: &quot;dominant_wave_period (s)&quot;, &quot;idx&quot;: 1367077800000, &quot;val&quot;: 14.0}, {&quot;col&quot;: &quot;dominant_wave_period (s)&quot;, &quot;idx&quot;: 1367081400000, &quot;val&quot;: 7.0}, {&quot;col&quot;: &quot;dominant_wave_period (s)&quot;, &quot;idx&quot;: 1367085000000, &quot;val&quot;: 8.0}, {&quot;col&quot;: &quot;dominant_wave_period (s)&quot;, &quot;idx&quot;: 1367088600000, &quot;val&quot;: 8.0}, {&quot;col&quot;: &quot;dominant_wave_period (s)&quot;, &quot;idx&quot;: 1367092200000, &quot;val&quot;: 8.0}, {&quot;col&quot;: &quot;dominant_wave_period (s)&quot;, &quot;idx&quot;: 1367095800000, &quot;val&quot;: 8.0}, {&quot;col&quot;: &quot;dominant_wave_period (s)&quot;, &quot;idx&quot;: 1367099400000, &quot;val&quot;: 8.0}, {&quot;col&quot;: &quot;dominant_wave_period (s)&quot;, &quot;idx&quot;: 1367103000000, &quot;val&quot;: 8.0}, {&quot;col&quot;: &quot;dominant_wave_period (s)&quot;, &quot;idx&quot;: 1367106600000, &quot;val&quot;: 6.0}, {&quot;col&quot;: &quot;dominant_wave_period (s)&quot;, &quot;idx&quot;: 1367110200000, &quot;val&quot;: 7.0}, {&quot;col&quot;: &quot;dominant_wave_period (s)&quot;, &quot;idx&quot;: 1367113800000, &quot;val&quot;: 6.0}, {&quot;col&quot;: &quot;dominant_wave_period (s)&quot;, &quot;idx&quot;: 1367117400000, &quot;val&quot;: 7.0}, {&quot;col&quot;: &quot;dominant_wave_period (s)&quot;, &quot;idx&quot;: 1367121000000, &quot;val&quot;: 7.0}, {&quot;col&quot;: &quot;dominant_wave_period (s)&quot;, &quot;idx&quot;: 1367124600000, &quot;val&quot;: 7.0}, {&quot;col&quot;: &quot;dominant_wave_period (s)&quot;, &quot;idx&quot;: 1367128200000, &quot;val&quot;: 7.0}, {&quot;col&quot;: &quot;dominant_wave_period (s)&quot;, &quot;idx&quot;: 1367131800000, &quot;val&quot;: 8.0}, {&quot;col&quot;: &quot;dominant_wave_period (s)&quot;, &quot;idx&quot;: 1367135400000, &quot;val&quot;: 9.0}, {&quot;col&quot;: &quot;dominant_wave_period (s)&quot;, &quot;idx&quot;: 1367139000000, &quot;val&quot;: 8.0}, {&quot;col&quot;: &quot;dominant_wave_period (s)&quot;, &quot;idx&quot;: 1367142600000, &quot;val&quot;: 10.0}, {&quot;col&quot;: &quot;dominant_wave_period (s)&quot;, &quot;idx&quot;: 1367146200000, &quot;val&quot;: 10.0}, {&quot;col&quot;: &quot;dominant_wave_period (s)&quot;, &quot;idx&quot;: 1367149800000, &quot;val&quot;: 10.0}, {&quot;col&quot;: &quot;dominant_wave_period (s)&quot;, &quot;idx&quot;: 1367153400000, &quot;val&quot;: 10.0}, {&quot;col&quot;: &quot;dominant_wave_period (s)&quot;, &quot;idx&quot;: 1367157000000, &quot;val&quot;: 10.0}, {&quot;col&quot;: &quot;dominant_wave_period (s)&quot;, &quot;idx&quot;: 1367160600000, &quot;val&quot;: 10.0}, {&quot;col&quot;: &quot;dominant_wave_period (s)&quot;, &quot;idx&quot;: 1367164200000, &quot;val&quot;: 9.0}, {&quot;col&quot;: &quot;dominant_wave_period (s)&quot;, &quot;idx&quot;: 1367167800000, &quot;val&quot;: 10.0}, {&quot;col&quot;: &quot;dominant_wave_period (s)&quot;, &quot;idx&quot;: 1367171400000, &quot;val&quot;: 9.0}, {&quot;col&quot;: &quot;dominant_wave_period (s)&quot;, &quot;idx&quot;: 1367175000000, &quot;val&quot;: 9.0}, {&quot;col&quot;: &quot;dominant_wave_period (s)&quot;, &quot;idx&quot;: 1367178600000, &quot;val&quot;: 9.0}, {&quot;col&quot;: &quot;dominant_wave_period (s)&quot;, &quot;idx&quot;: 1367182200000, &quot;val&quot;: 10.0}, {&quot;col&quot;: &quot;dominant_wave_period (s)&quot;, &quot;idx&quot;: 1367185800000, &quot;val&quot;: 10.0}, {&quot;col&quot;: &quot;dominant_wave_period (s)&quot;, &quot;idx&quot;: 1367189400000, &quot;val&quot;: 9.0}, {&quot;col&quot;: &quot;dominant_wave_period (s)&quot;, &quot;idx&quot;: 1367193000000, &quot;val&quot;: 9.0}, {&quot;col&quot;: &quot;dominant_wave_period (s)&quot;, &quot;idx&quot;: 1367196600000, &quot;val&quot;: 9.0}, {&quot;col&quot;: &quot;dominant_wave_period (s)&quot;, &quot;idx&quot;: 1367200200000, &quot;val&quot;: 9.0}, {&quot;col&quot;: &quot;dominant_wave_period (s)&quot;, &quot;idx&quot;: 1367203800000, &quot;val&quot;: 9.0}, {&quot;col&quot;: &quot;dominant_wave_period (s)&quot;, &quot;idx&quot;: 1367207400000, &quot;val&quot;: 9.0}, {&quot;col&quot;: &quot;dominant_wave_period (s)&quot;, &quot;idx&quot;: 1367211000000, &quot;val&quot;: 8.0}, {&quot;col&quot;: &quot;dominant_wave_period (s)&quot;, &quot;idx&quot;: 1367214600000, &quot;val&quot;: 8.0}, {&quot;col&quot;: &quot;dominant_wave_period (s)&quot;, &quot;idx&quot;: 1367218200000, &quot;val&quot;: 8.0}, {&quot;col&quot;: &quot;dominant_wave_period (s)&quot;, &quot;idx&quot;: 1367221800000, &quot;val&quot;: 8.0}, {&quot;col&quot;: &quot;dominant_wave_period (s)&quot;, &quot;idx&quot;: 1367225400000, &quot;val&quot;: 8.0}, {&quot;col&quot;: &quot;dominant_wave_period (s)&quot;, &quot;idx&quot;: 1367229000000, &quot;val&quot;: 9.0}, {&quot;col&quot;: &quot;dominant_wave_period (s)&quot;, &quot;idx&quot;: 1367232600000, &quot;val&quot;: 6.0}, {&quot;col&quot;: &quot;dominant_wave_period (s)&quot;, &quot;idx&quot;: 1367236200000, &quot;val&quot;: 9.0}, {&quot;col&quot;: &quot;dominant_wave_period (s)&quot;, &quot;idx&quot;: 1367239800000, &quot;val&quot;: 6.0}, {&quot;col&quot;: &quot;dominant_wave_period (s)&quot;, &quot;idx&quot;: 1367243400000, &quot;val&quot;: 7.0}, {&quot;col&quot;: &quot;dominant_wave_period (s)&quot;, &quot;idx&quot;: 1367247000000, &quot;val&quot;: 8.0}, {&quot;col&quot;: &quot;dominant_wave_period (s)&quot;, &quot;idx&quot;: 1367250600000, &quot;val&quot;: 7.0}, {&quot;col&quot;: &quot;dominant_wave_period (s)&quot;, &quot;idx&quot;: 1367254200000, &quot;val&quot;: 7.0}, {&quot;col&quot;: &quot;dominant_wave_period (s)&quot;, &quot;idx&quot;: 1367257800000, &quot;val&quot;: 9.0}, {&quot;col&quot;: &quot;dominant_wave_period (s)&quot;, &quot;idx&quot;: 1367261400000, &quot;val&quot;: 8.0}, {&quot;col&quot;: &quot;dominant_wave_period (s)&quot;, &quot;idx&quot;: 1367265000000, &quot;val&quot;: 9.0}, {&quot;col&quot;: &quot;dominant_wave_period (s)&quot;, &quot;idx&quot;: 1367268600000, &quot;val&quot;: 8.0}, {&quot;col&quot;: &quot;dominant_wave_period (s)&quot;, &quot;idx&quot;: 1367272200000, &quot;val&quot;: 8.0}, {&quot;col&quot;: &quot;dominant_wave_period (s)&quot;, &quot;idx&quot;: 1367275800000, &quot;val&quot;: 8.0}, {&quot;col&quot;: &quot;dominant_wave_period (s)&quot;, &quot;idx&quot;: 1367279400000, &quot;val&quot;: 10.0}, {&quot;col&quot;: &quot;dominant_wave_period (s)&quot;, &quot;idx&quot;: 1367283000000, &quot;val&quot;: 10.0}, {&quot;col&quot;: &quot;dominant_wave_period (s)&quot;, &quot;idx&quot;: 1367286600000, &quot;val&quot;: 9.0}, {&quot;col&quot;: &quot;dominant_wave_period (s)&quot;, &quot;idx&quot;: 1367290200000, &quot;val&quot;: 8.0}, {&quot;col&quot;: &quot;dominant_wave_period (s)&quot;, &quot;idx&quot;: 1367293800000, &quot;val&quot;: 10.0}, {&quot;col&quot;: &quot;dominant_wave_period (s)&quot;, &quot;idx&quot;: 1367297400000, &quot;val&quot;: 10.0}, {&quot;col&quot;: &quot;dominant_wave_period (s)&quot;, &quot;idx&quot;: 1367301000000, &quot;val&quot;: 10.0}, {&quot;col&quot;: &quot;dominant_wave_period (s)&quot;, &quot;idx&quot;: 1367304600000, &quot;val&quot;: 9.0}, {&quot;col&quot;: &quot;dominant_wave_period (s)&quot;, &quot;idx&quot;: 1367308200000, &quot;val&quot;: 11.0}, {&quot;col&quot;: &quot;dominant_wave_period (s)&quot;, &quot;idx&quot;: 1367311800000, &quot;val&quot;: 11.0}, {&quot;col&quot;: &quot;dominant_wave_period (s)&quot;, &quot;idx&quot;: 1367315400000, &quot;val&quot;: 8.0}, {&quot;col&quot;: &quot;dominant_wave_period (s)&quot;, &quot;idx&quot;: 1367319000000, &quot;val&quot;: 11.0}, {&quot;col&quot;: &quot;dominant_wave_period (s)&quot;, &quot;idx&quot;: 1367322600000, &quot;val&quot;: 11.0}, {&quot;col&quot;: &quot;dominant_wave_period (s)&quot;, &quot;idx&quot;: 1367326200000, &quot;val&quot;: 11.0}, {&quot;col&quot;: &quot;dominant_wave_period (s)&quot;, &quot;idx&quot;: 1367329800000, &quot;val&quot;: 8.0}, {&quot;col&quot;: &quot;dominant_wave_period (s)&quot;, &quot;idx&quot;: 1367337000000, &quot;val&quot;: 8.0}, {&quot;col&quot;: &quot;dominant_wave_period (s)&quot;, &quot;idx&quot;: 1367340600000, &quot;val&quot;: 10.0}, {&quot;col&quot;: &quot;dominant_wave_period (s)&quot;, &quot;idx&quot;: 1367344200000, &quot;val&quot;: 9.0}, {&quot;col&quot;: &quot;dominant_wave_period (s)&quot;, &quot;idx&quot;: 1367347800000, &quot;val&quot;: 11.0}, {&quot;col&quot;: &quot;dominant_wave_period (s)&quot;, &quot;idx&quot;: 1367351400000, &quot;val&quot;: 10.0}, {&quot;col&quot;: &quot;dominant_wave_period (s)&quot;, &quot;idx&quot;: 1367355000000, &quot;val&quot;: 10.0}, {&quot;col&quot;: &quot;dominant_wave_period (s)&quot;, &quot;idx&quot;: 1367358600000, &quot;val&quot;: 9.0}, {&quot;col&quot;: &quot;dominant_wave_period (s)&quot;, &quot;idx&quot;: 1367362200000, &quot;val&quot;: 11.0}, {&quot;col&quot;: &quot;dominant_wave_period (s)&quot;, &quot;idx&quot;: 1367365800000, &quot;val&quot;: 11.0}, {&quot;col&quot;: &quot;dominant_wave_period (s)&quot;, &quot;idx&quot;: 1367369400000, &quot;val&quot;: 8.0}, {&quot;col&quot;: &quot;dominant_wave_period (s)&quot;, &quot;idx&quot;: 1367373000000, &quot;val&quot;: 10.0}, {&quot;col&quot;: &quot;dominant_wave_period (s)&quot;, &quot;idx&quot;: 1367376600000, &quot;val&quot;: 10.0}, {&quot;col&quot;: &quot;dominant_wave_period (s)&quot;, &quot;idx&quot;: 1367380200000, &quot;val&quot;: 11.0}, {&quot;col&quot;: &quot;dominant_wave_period (s)&quot;, &quot;idx&quot;: 1367383800000, &quot;val&quot;: 10.0}, {&quot;col&quot;: &quot;dominant_wave_period (s)&quot;, &quot;idx&quot;: 1367387400000, &quot;val&quot;: 10.0}, {&quot;col&quot;: &quot;dominant_wave_period (s)&quot;, &quot;idx&quot;: 1367391000000, &quot;val&quot;: 9.0}, {&quot;col&quot;: &quot;dominant_wave_period (s)&quot;, &quot;idx&quot;: 1367394600000, &quot;val&quot;: 10.0}, {&quot;col&quot;: &quot;dominant_wave_period (s)&quot;, &quot;idx&quot;: 1367398200000, &quot;val&quot;: 10.0}, {&quot;col&quot;: &quot;dominant_wave_period (s)&quot;, &quot;idx&quot;: 1367401800000, &quot;val&quot;: 9.0}, {&quot;col&quot;: &quot;dominant_wave_period (s)&quot;, &quot;idx&quot;: 1367405400000, &quot;val&quot;: 9.0}, {&quot;col&quot;: &quot;dominant_wave_period (s)&quot;, &quot;idx&quot;: 1367409000000, &quot;val&quot;: 9.0}, {&quot;col&quot;: &quot;dominant_wave_period (s)&quot;, &quot;idx&quot;: 1367412600000, &quot;val&quot;: 9.0}, {&quot;col&quot;: &quot;dominant_wave_period (s)&quot;, &quot;idx&quot;: 1367416200000, &quot;val&quot;: 9.0}, {&quot;col&quot;: &quot;dominant_wave_period (s)&quot;, &quot;idx&quot;: 1367419800000, &quot;val&quot;: 9.0}, {&quot;col&quot;: &quot;dominant_wave_period (s)&quot;, &quot;idx&quot;: 1367423400000, &quot;val&quot;: 9.0}, {&quot;col&quot;: &quot;dominant_wave_period (s)&quot;, &quot;idx&quot;: 1367427000000, &quot;val&quot;: 9.0}, {&quot;col&quot;: &quot;dominant_wave_period (s)&quot;, &quot;idx&quot;: 1367430600000, &quot;val&quot;: 9.0}, {&quot;col&quot;: &quot;dominant_wave_period (s)&quot;, &quot;idx&quot;: 1367434200000, &quot;val&quot;: 9.0}, {&quot;col&quot;: &quot;dominant_wave_period (s)&quot;, &quot;idx&quot;: 1367437800000, &quot;val&quot;: 8.0}, {&quot;col&quot;: &quot;dominant_wave_period (s)&quot;, &quot;idx&quot;: 1367441400000, &quot;val&quot;: 9.0}, {&quot;col&quot;: &quot;dominant_wave_period (s)&quot;, &quot;idx&quot;: 1367445000000, &quot;val&quot;: 10.0}, {&quot;col&quot;: &quot;dominant_wave_period (s)&quot;, &quot;idx&quot;: 1367448600000, &quot;val&quot;: 10.0}, {&quot;col&quot;: &quot;dominant_wave_period (s)&quot;, &quot;idx&quot;: 1367452200000, &quot;val&quot;: 7.0}, {&quot;col&quot;: &quot;dominant_wave_period (s)&quot;, &quot;idx&quot;: 1367455800000, &quot;val&quot;: 8.0}, {&quot;col&quot;: &quot;dominant_wave_period (s)&quot;, &quot;idx&quot;: 1367459400000, &quot;val&quot;: 9.0}, {&quot;col&quot;: &quot;dominant_wave_period (s)&quot;, &quot;idx&quot;: 1367463000000, &quot;val&quot;: 9.0}, {&quot;col&quot;: &quot;dominant_wave_period (s)&quot;, &quot;idx&quot;: 1367466600000, &quot;val&quot;: 9.0}, {&quot;col&quot;: &quot;dominant_wave_period (s)&quot;, &quot;idx&quot;: 1367470200000, &quot;val&quot;: 8.0}, {&quot;col&quot;: &quot;dominant_wave_period (s)&quot;, &quot;idx&quot;: 1367473800000, &quot;val&quot;: 8.0}, {&quot;col&quot;: &quot;dominant_wave_period (s)&quot;, &quot;idx&quot;: 1367477400000, &quot;val&quot;: 8.0}, {&quot;col&quot;: &quot;dominant_wave_period (s)&quot;, &quot;idx&quot;: 1367481000000, &quot;val&quot;: 9.0}, {&quot;col&quot;: &quot;dominant_wave_period (s)&quot;, &quot;idx&quot;: 1367484600000, &quot;val&quot;: 8.0}, {&quot;col&quot;: &quot;dominant_wave_period (s)&quot;, &quot;idx&quot;: 1367488200000, &quot;val&quot;: 9.0}, {&quot;col&quot;: &quot;dominant_wave_period (s)&quot;, &quot;idx&quot;: 1367491800000, &quot;val&quot;: 9.0}, {&quot;col&quot;: &quot;dominant_wave_period (s)&quot;, &quot;idx&quot;: 1367495400000, &quot;val&quot;: 8.0}, {&quot;col&quot;: &quot;dominant_wave_period (s)&quot;, &quot;idx&quot;: 1367499000000, &quot;val&quot;: 8.0}, {&quot;col&quot;: &quot;dominant_wave_period (s)&quot;, &quot;idx&quot;: 1367502600000, &quot;val&quot;: 8.0}, {&quot;col&quot;: &quot;dominant_wave_period (s)&quot;, &quot;idx&quot;: 1367506200000, &quot;val&quot;: 15.0}, {&quot;col&quot;: &quot;dominant_wave_period (s)&quot;, &quot;idx&quot;: 1367509800000, &quot;val&quot;: 16.0}, {&quot;col&quot;: &quot;dominant_wave_period (s)&quot;, &quot;idx&quot;: 1367513400000, &quot;val&quot;: 8.0}, {&quot;col&quot;: &quot;dominant_wave_period (s)&quot;, &quot;idx&quot;: 1367517000000, &quot;val&quot;: 17.0}, {&quot;col&quot;: &quot;dominant_wave_period (s)&quot;, &quot;idx&quot;: 1367520600000, &quot;val&quot;: 16.0}, {&quot;col&quot;: &quot;dominant_wave_period (s)&quot;, &quot;idx&quot;: 1367524200000, &quot;val&quot;: 8.0}, {&quot;col&quot;: &quot;dominant_wave_period (s)&quot;, &quot;idx&quot;: 1367527800000, &quot;val&quot;: 11.0}, {&quot;col&quot;: &quot;dominant_wave_period (s)&quot;, &quot;idx&quot;: 1367531400000, &quot;val&quot;: 14.0}, {&quot;col&quot;: &quot;dominant_wave_period (s)&quot;, &quot;idx&quot;: 1367535000000, &quot;val&quot;: 11.0}, {&quot;col&quot;: &quot;dominant_wave_period (s)&quot;, &quot;idx&quot;: 1367538600000, &quot;val&quot;: 11.0}, {&quot;col&quot;: &quot;dominant_wave_period (s)&quot;, &quot;idx&quot;: 1367542200000, &quot;val&quot;: 14.0}, {&quot;col&quot;: &quot;dominant_wave_period (s)&quot;, &quot;idx&quot;: 1367545800000, &quot;val&quot;: 4.0}, {&quot;col&quot;: &quot;dominant_wave_period (s)&quot;, &quot;idx&quot;: 1367549400000, &quot;val&quot;: 4.0}, {&quot;col&quot;: &quot;dominant_wave_period (s)&quot;, &quot;idx&quot;: 1367553000000, &quot;val&quot;: 5.0}, {&quot;col&quot;: &quot;dominant_wave_period (s)&quot;, &quot;idx&quot;: 1367556600000, &quot;val&quot;: 4.0}, {&quot;col&quot;: &quot;dominant_wave_period (s)&quot;, &quot;idx&quot;: 1367560200000, &quot;val&quot;: 5.0}, {&quot;col&quot;: &quot;dominant_wave_period (s)&quot;, &quot;idx&quot;: 1367563800000, &quot;val&quot;: 11.0}, {&quot;col&quot;: &quot;dominant_wave_period (s)&quot;, &quot;idx&quot;: 1367571000000, &quot;val&quot;: 6.0}, {&quot;col&quot;: &quot;dominant_wave_period (s)&quot;, &quot;idx&quot;: 1367574600000, &quot;val&quot;: 5.0}, {&quot;col&quot;: &quot;dominant_wave_period (s)&quot;, &quot;idx&quot;: 1367578200000, &quot;val&quot;: 5.0}, {&quot;col&quot;: &quot;dominant_wave_period (s)&quot;, &quot;idx&quot;: 1367581800000, &quot;val&quot;: 6.0}, {&quot;col&quot;: &quot;dominant_wave_period (s)&quot;, &quot;idx&quot;: 1367585400000, &quot;val&quot;: 10.0}, {&quot;col&quot;: &quot;dominant_wave_period (s)&quot;, &quot;idx&quot;: 1367589000000, &quot;val&quot;: 6.0}, {&quot;col&quot;: &quot;dominant_wave_period (s)&quot;, &quot;idx&quot;: 1367592600000, &quot;val&quot;: 11.0}, {&quot;col&quot;: &quot;dominant_wave_period (s)&quot;, &quot;idx&quot;: 1367596200000, &quot;val&quot;: 9.0}, {&quot;col&quot;: &quot;dominant_wave_period (s)&quot;, &quot;idx&quot;: 1367599800000, &quot;val&quot;: 11.0}, {&quot;col&quot;: &quot;dominant_wave_period (s)&quot;, &quot;idx&quot;: 1367603400000, &quot;val&quot;: 10.0}, {&quot;col&quot;: &quot;dominant_wave_period (s)&quot;, &quot;idx&quot;: 1367607000000, &quot;val&quot;: 10.0}, {&quot;col&quot;: &quot;dominant_wave_period (s)&quot;, &quot;idx&quot;: 1367610600000, &quot;val&quot;: 11.0}, {&quot;col&quot;: &quot;dominant_wave_period (s)&quot;, &quot;idx&quot;: 1367614200000, &quot;val&quot;: 10.0}, {&quot;col&quot;: &quot;dominant_wave_period (s)&quot;, &quot;idx&quot;: 1367617800000, &quot;val&quot;: 10.0}, {&quot;col&quot;: &quot;dominant_wave_period (s)&quot;, &quot;idx&quot;: 1367621400000, &quot;val&quot;: 9.0}, {&quot;col&quot;: &quot;dominant_wave_period (s)&quot;, &quot;idx&quot;: 1367625000000, &quot;val&quot;: 9.0}, {&quot;col&quot;: &quot;dominant_wave_period (s)&quot;, &quot;idx&quot;: 1367628600000, &quot;val&quot;: 9.0}, {&quot;col&quot;: &quot;dominant_wave_period (s)&quot;, &quot;idx&quot;: 1367632200000, &quot;val&quot;: 7.0}, {&quot;col&quot;: &quot;dominant_wave_period (s)&quot;, &quot;idx&quot;: 1367635800000, &quot;val&quot;: 9.0}, {&quot;col&quot;: &quot;dominant_wave_period (s)&quot;, &quot;idx&quot;: 1367639400000, &quot;val&quot;: 8.0}, {&quot;col&quot;: &quot;dominant_wave_period (s)&quot;, &quot;idx&quot;: 1367643000000, &quot;val&quot;: 7.0}, {&quot;col&quot;: &quot;dominant_wave_period (s)&quot;, &quot;idx&quot;: 1367646600000, &quot;val&quot;: 9.0}, {&quot;col&quot;: &quot;dominant_wave_period (s)&quot;, &quot;idx&quot;: 1367650200000, &quot;val&quot;: 7.0}, {&quot;col&quot;: &quot;dominant_wave_period (s)&quot;, &quot;idx&quot;: 1367653800000, &quot;val&quot;: 8.0}, {&quot;col&quot;: &quot;dominant_wave_period (s)&quot;, &quot;idx&quot;: 1367657400000, &quot;val&quot;: 7.0}, {&quot;col&quot;: &quot;dominant_wave_period (s)&quot;, &quot;idx&quot;: 1367661000000, &quot;val&quot;: 7.0}, {&quot;col&quot;: &quot;dominant_wave_period (s)&quot;, &quot;idx&quot;: 1367664600000, &quot;val&quot;: 7.0}, {&quot;col&quot;: &quot;dominant_wave_period (s)&quot;, &quot;idx&quot;: 1367668200000, &quot;val&quot;: 8.0}, {&quot;col&quot;: &quot;dominant_wave_period (s)&quot;, &quot;idx&quot;: 1367671800000, &quot;val&quot;: 8.0}, {&quot;col&quot;: &quot;dominant_wave_period (s)&quot;, &quot;idx&quot;: 1367675400000, &quot;val&quot;: 7.0}, {&quot;col&quot;: &quot;dominant_wave_period (s)&quot;, &quot;idx&quot;: 1367679000000, &quot;val&quot;: 7.0}, {&quot;col&quot;: &quot;dominant_wave_period (s)&quot;, &quot;idx&quot;: 1367682600000, &quot;val&quot;: 7.0}, {&quot;col&quot;: &quot;dominant_wave_period (s)&quot;, &quot;idx&quot;: 1367686200000, &quot;val&quot;: 8.0}, {&quot;col&quot;: &quot;dominant_wave_period (s)&quot;, &quot;idx&quot;: 1367689800000, &quot;val&quot;: 8.0}, {&quot;col&quot;: &quot;dominant_wave_period (s)&quot;, &quot;idx&quot;: 1367693400000, &quot;val&quot;: 7.0}, {&quot;col&quot;: &quot;dominant_wave_period (s)&quot;, &quot;idx&quot;: 1367697000000, &quot;val&quot;: 8.0}, {&quot;col&quot;: &quot;dominant_wave_period (s)&quot;, &quot;idx&quot;: 1367700600000, &quot;val&quot;: 8.0}, {&quot;col&quot;: &quot;dominant_wave_period (s)&quot;, &quot;idx&quot;: 1367704200000, &quot;val&quot;: 8.0}, {&quot;col&quot;: &quot;dominant_wave_period (s)&quot;, &quot;idx&quot;: 1367707800000, &quot;val&quot;: 8.0}, {&quot;col&quot;: &quot;dominant_wave_period (s)&quot;, &quot;idx&quot;: 1367711400000, &quot;val&quot;: 8.0}, {&quot;col&quot;: &quot;dominant_wave_period (s)&quot;, &quot;idx&quot;: 1367715000000, &quot;val&quot;: 8.0}, {&quot;col&quot;: &quot;dominant_wave_period (s)&quot;, &quot;idx&quot;: 1367718600000, &quot;val&quot;: 8.0}, {&quot;col&quot;: &quot;dominant_wave_period (s)&quot;, &quot;idx&quot;: 1367722200000, &quot;val&quot;: 8.0}, {&quot;col&quot;: &quot;dominant_wave_period (s)&quot;, &quot;idx&quot;: 1367725800000, &quot;val&quot;: 8.0}, {&quot;col&quot;: &quot;dominant_wave_period (s)&quot;, &quot;idx&quot;: 1367729400000, &quot;val&quot;: 8.0}, {&quot;col&quot;: &quot;dominant_wave_period (s)&quot;, &quot;idx&quot;: 1367733000000, &quot;val&quot;: 8.0}, {&quot;col&quot;: &quot;dominant_wave_period (s)&quot;, &quot;idx&quot;: 1367736600000, &quot;val&quot;: 8.0}, {&quot;col&quot;: &quot;dominant_wave_period (s)&quot;, &quot;idx&quot;: 1367740200000, &quot;val&quot;: 7.0}, {&quot;col&quot;: &quot;dominant_wave_period (s)&quot;, &quot;idx&quot;: 1367743800000, &quot;val&quot;: 8.0}, {&quot;col&quot;: &quot;dominant_wave_period (s)&quot;, &quot;idx&quot;: 1367747400000, &quot;val&quot;: 8.0}, {&quot;col&quot;: &quot;dominant_wave_period (s)&quot;, &quot;idx&quot;: 1367751000000, &quot;val&quot;: 8.0}, {&quot;col&quot;: &quot;dominant_wave_period (s)&quot;, &quot;idx&quot;: 1367754600000, &quot;val&quot;: 8.0}, {&quot;col&quot;: &quot;dominant_wave_period (s)&quot;, &quot;idx&quot;: 1367758200000, &quot;val&quot;: 7.0}, {&quot;col&quot;: &quot;dominant_wave_period (s)&quot;, &quot;idx&quot;: 1367761800000, &quot;val&quot;: 7.0}, {&quot;col&quot;: &quot;dominant_wave_period (s)&quot;, &quot;idx&quot;: 1367765400000, &quot;val&quot;: 7.0}, {&quot;col&quot;: &quot;dominant_wave_period (s)&quot;, &quot;idx&quot;: 1367769000000, &quot;val&quot;: 6.0}, {&quot;col&quot;: &quot;dominant_wave_period (s)&quot;, &quot;idx&quot;: 1367772600000, &quot;val&quot;: 8.0}, {&quot;col&quot;: &quot;dominant_wave_period (s)&quot;, &quot;idx&quot;: 1367776200000, &quot;val&quot;: 14.0}, {&quot;col&quot;: &quot;dominant_wave_period (s)&quot;, &quot;idx&quot;: 1367779800000, &quot;val&quot;: 13.0}, {&quot;col&quot;: &quot;dominant_wave_period (s)&quot;, &quot;idx&quot;: 1367783400000, &quot;val&quot;: 14.0}, {&quot;col&quot;: &quot;dominant_wave_period (s)&quot;, &quot;idx&quot;: 1367787000000, &quot;val&quot;: 13.0}, {&quot;col&quot;: &quot;dominant_wave_period (s)&quot;, &quot;idx&quot;: 1367790600000, &quot;val&quot;: 8.0}, {&quot;col&quot;: &quot;dominant_wave_period (s)&quot;, &quot;idx&quot;: 1367794200000, &quot;val&quot;: 14.0}, {&quot;col&quot;: &quot;dominant_wave_period (s)&quot;, &quot;idx&quot;: 1367797800000, &quot;val&quot;: 7.0}, {&quot;col&quot;: &quot;dominant_wave_period (s)&quot;, &quot;idx&quot;: 1367801400000, &quot;val&quot;: 7.0}, {&quot;col&quot;: &quot;dominant_wave_period (s)&quot;, &quot;idx&quot;: 1367805000000, &quot;val&quot;: 13.0}, {&quot;col&quot;: &quot;dominant_wave_period (s)&quot;, &quot;idx&quot;: 1367808600000, &quot;val&quot;: 7.0}, {&quot;col&quot;: &quot;dominant_wave_period (s)&quot;, &quot;idx&quot;: 1367812200000, &quot;val&quot;: 7.0}, {&quot;col&quot;: &quot;dominant_wave_period (s)&quot;, &quot;idx&quot;: 1367815800000, &quot;val&quot;: 13.0}, {&quot;col&quot;: &quot;dominant_wave_period (s)&quot;, &quot;idx&quot;: 1367819400000, &quot;val&quot;: 7.0}, {&quot;col&quot;: &quot;dominant_wave_period (s)&quot;, &quot;idx&quot;: 1367823000000, &quot;val&quot;: 13.0}, {&quot;col&quot;: &quot;dominant_wave_period (s)&quot;, &quot;idx&quot;: 1367826600000, &quot;val&quot;: 13.0}, {&quot;col&quot;: &quot;dominant_wave_period (s)&quot;, &quot;idx&quot;: 1367830200000, &quot;val&quot;: 6.0}, {&quot;col&quot;: &quot;dominant_wave_period (s)&quot;, &quot;idx&quot;: 1367833800000, &quot;val&quot;: 6.0}, {&quot;col&quot;: &quot;dominant_wave_period (s)&quot;, &quot;idx&quot;: 1367837400000, &quot;val&quot;: 6.0}, {&quot;col&quot;: &quot;dominant_wave_period (s)&quot;, &quot;idx&quot;: 1367841000000, &quot;val&quot;: 12.0}, {&quot;col&quot;: &quot;dominant_wave_period (s)&quot;, &quot;idx&quot;: 1367844600000, &quot;val&quot;: 7.0}, {&quot;col&quot;: &quot;dominant_wave_period (s)&quot;, &quot;idx&quot;: 1367848200000, &quot;val&quot;: 7.0}, {&quot;col&quot;: &quot;dominant_wave_period (s)&quot;, &quot;idx&quot;: 1367851800000, &quot;val&quot;: 7.0}, {&quot;col&quot;: &quot;dominant_wave_period (s)&quot;, &quot;idx&quot;: 1367855400000, &quot;val&quot;: 7.0}, {&quot;col&quot;: &quot;dominant_wave_period (s)&quot;, &quot;idx&quot;: 1367859000000, &quot;val&quot;: 12.0}, {&quot;col&quot;: &quot;dominant_wave_period (s)&quot;, &quot;idx&quot;: 1367862600000, &quot;val&quot;: 11.0}, {&quot;col&quot;: &quot;dominant_wave_period (s)&quot;, &quot;idx&quot;: 1367866200000, &quot;val&quot;: 11.0}, {&quot;col&quot;: &quot;dominant_wave_period (s)&quot;, &quot;idx&quot;: 1367869800000, &quot;val&quot;: 10.0}, {&quot;col&quot;: &quot;dominant_wave_period (s)&quot;, &quot;idx&quot;: 1367873400000, &quot;val&quot;: 10.0}, {&quot;col&quot;: &quot;dominant_wave_period (s)&quot;, &quot;idx&quot;: 1367877000000, &quot;val&quot;: 6.0}, {&quot;col&quot;: &quot;dominant_wave_period (s)&quot;, &quot;idx&quot;: 1367880600000, &quot;val&quot;: 7.0}, {&quot;col&quot;: &quot;dominant_wave_period (s)&quot;, &quot;idx&quot;: 1367884200000, &quot;val&quot;: 10.0}, {&quot;col&quot;: &quot;dominant_wave_period (s)&quot;, &quot;idx&quot;: 1367887800000, &quot;val&quot;: 10.0}, {&quot;col&quot;: &quot;dominant_wave_period (s)&quot;, &quot;idx&quot;: 1367891400000, &quot;val&quot;: 7.0}, {&quot;col&quot;: &quot;dominant_wave_period (s)&quot;, &quot;idx&quot;: 1367895000000, &quot;val&quot;: 8.0}, {&quot;col&quot;: &quot;dominant_wave_period (s)&quot;, &quot;idx&quot;: 1367898600000, &quot;val&quot;: 7.0}, {&quot;col&quot;: &quot;dominant_wave_period (s)&quot;, &quot;idx&quot;: 1367902200000, &quot;val&quot;: 10.0}, {&quot;col&quot;: &quot;dominant_wave_period (s)&quot;, &quot;idx&quot;: 1367905800000, &quot;val&quot;: 6.0}, {&quot;col&quot;: &quot;dominant_wave_period (s)&quot;, &quot;idx&quot;: 1367909400000, &quot;val&quot;: 6.0}, {&quot;col&quot;: &quot;dominant_wave_period (s)&quot;, &quot;idx&quot;: 1367913000000, &quot;val&quot;: 6.0}, {&quot;col&quot;: &quot;dominant_wave_period (s)&quot;, &quot;idx&quot;: 1367916600000, &quot;val&quot;: 6.0}, {&quot;col&quot;: &quot;dominant_wave_period (s)&quot;, &quot;idx&quot;: 1367920200000, &quot;val&quot;: 9.0}, {&quot;col&quot;: &quot;dominant_wave_period (s)&quot;, &quot;idx&quot;: 1367923800000, &quot;val&quot;: 8.0}, {&quot;col&quot;: &quot;dominant_wave_period (s)&quot;, &quot;idx&quot;: 1367927400000, &quot;val&quot;: 10.0}, {&quot;col&quot;: &quot;dominant_wave_period (s)&quot;, &quot;idx&quot;: 1367931000000, &quot;val&quot;: 7.0}, {&quot;col&quot;: &quot;dominant_wave_period (s)&quot;, &quot;idx&quot;: 1367934600000, &quot;val&quot;: 8.0}, {&quot;col&quot;: &quot;dominant_wave_period (s)&quot;, &quot;idx&quot;: 1367938200000, &quot;val&quot;: 8.0}, {&quot;col&quot;: &quot;dominant_wave_period (s)&quot;, &quot;idx&quot;: 1367941800000, &quot;val&quot;: 8.0}, {&quot;col&quot;: &quot;dominant_wave_period (s)&quot;, &quot;idx&quot;: 1367945400000, &quot;val&quot;: 9.0}, {&quot;col&quot;: &quot;dominant_wave_period (s)&quot;, &quot;idx&quot;: 1367949000000, &quot;val&quot;: 8.0}, {&quot;col&quot;: &quot;dominant_wave_period (s)&quot;, &quot;idx&quot;: 1367952600000, &quot;val&quot;: 9.0}, {&quot;col&quot;: &quot;dominant_wave_period (s)&quot;, &quot;idx&quot;: 1367956200000, &quot;val&quot;: 8.0}, {&quot;col&quot;: &quot;dominant_wave_period (s)&quot;, &quot;idx&quot;: 1367959800000, &quot;val&quot;: 8.0}, {&quot;col&quot;: &quot;dominant_wave_period (s)&quot;, &quot;idx&quot;: 1367963400000, &quot;val&quot;: 9.0}, {&quot;col&quot;: &quot;dominant_wave_period (s)&quot;, &quot;idx&quot;: 1367967000000, &quot;val&quot;: 9.0}, {&quot;col&quot;: &quot;dominant_wave_period (s)&quot;, &quot;idx&quot;: 1367970600000, &quot;val&quot;: 9.0}, {&quot;col&quot;: &quot;dominant_wave_period (s)&quot;, &quot;idx&quot;: 1367974200000, &quot;val&quot;: 9.0}, {&quot;col&quot;: &quot;dominant_wave_period (s)&quot;, &quot;idx&quot;: 1367977800000, &quot;val&quot;: 8.0}, {&quot;col&quot;: &quot;dominant_wave_period (s)&quot;, &quot;idx&quot;: 1367981400000, &quot;val&quot;: 9.0}, {&quot;col&quot;: &quot;dominant_wave_period (s)&quot;, &quot;idx&quot;: 1367985000000, &quot;val&quot;: 9.0}, {&quot;col&quot;: &quot;dominant_wave_period (s)&quot;, &quot;idx&quot;: 1367988600000, &quot;val&quot;: 8.0}, {&quot;col&quot;: &quot;dominant_wave_period (s)&quot;, &quot;idx&quot;: 1367992200000, &quot;val&quot;: 8.0}, {&quot;col&quot;: &quot;dominant_wave_period (s)&quot;, &quot;idx&quot;: 1367995800000, &quot;val&quot;: 9.0}, {&quot;col&quot;: &quot;dominant_wave_period (s)&quot;, &quot;idx&quot;: 1367999400000, &quot;val&quot;: 8.0}, {&quot;col&quot;: &quot;dominant_wave_period (s)&quot;, &quot;idx&quot;: 1368003000000, &quot;val&quot;: 8.0}, {&quot;col&quot;: &quot;dominant_wave_period (s)&quot;, &quot;idx&quot;: 1368006600000, &quot;val&quot;: 8.0}, {&quot;col&quot;: &quot;dominant_wave_period (s)&quot;, &quot;idx&quot;: 1368010200000, &quot;val&quot;: 8.0}, {&quot;col&quot;: &quot;dominant_wave_period (s)&quot;, &quot;idx&quot;: 1368013800000, &quot;val&quot;: 9.0}, {&quot;col&quot;: &quot;dominant_wave_period (s)&quot;, &quot;idx&quot;: 1368017400000, &quot;val&quot;: 8.0}, {&quot;col&quot;: &quot;dominant_wave_period (s)&quot;, &quot;idx&quot;: 1368021000000, &quot;val&quot;: 10.0}, {&quot;col&quot;: &quot;dominant_wave_period (s)&quot;, &quot;idx&quot;: 1368024600000, &quot;val&quot;: 8.0}, {&quot;col&quot;: &quot;dominant_wave_period (s)&quot;, &quot;idx&quot;: 1368028200000, &quot;val&quot;: 8.0}, {&quot;col&quot;: &quot;dominant_wave_period (s)&quot;, &quot;idx&quot;: 1368031800000, &quot;val&quot;: 9.0}, {&quot;col&quot;: &quot;dominant_wave_period (s)&quot;, &quot;idx&quot;: 1368035400000, &quot;val&quot;: 9.0}, {&quot;col&quot;: &quot;dominant_wave_period (s)&quot;, &quot;idx&quot;: 1368039000000, &quot;val&quot;: 9.0}, {&quot;col&quot;: &quot;dominant_wave_period (s)&quot;, &quot;idx&quot;: 1368042600000, &quot;val&quot;: 9.0}, {&quot;col&quot;: &quot;dominant_wave_period (s)&quot;, &quot;idx&quot;: 1368046200000, &quot;val&quot;: 9.0}, {&quot;col&quot;: &quot;dominant_wave_period (s)&quot;, &quot;idx&quot;: 1368049800000, &quot;val&quot;: 9.0}, {&quot;col&quot;: &quot;dominant_wave_period (s)&quot;, &quot;idx&quot;: 1368053400000, &quot;val&quot;: 8.0}, {&quot;col&quot;: &quot;dominant_wave_period (s)&quot;, &quot;idx&quot;: 1368057000000, &quot;val&quot;: 8.0}, {&quot;col&quot;: &quot;dominant_wave_period (s)&quot;, &quot;idx&quot;: 1368060600000, &quot;val&quot;: 9.0}, {&quot;col&quot;: &quot;dominant_wave_period (s)&quot;, &quot;idx&quot;: 1368064200000, &quot;val&quot;: 8.0}, {&quot;col&quot;: &quot;dominant_wave_period (s)&quot;, &quot;idx&quot;: 1368067800000, &quot;val&quot;: 8.0}, {&quot;col&quot;: &quot;dominant_wave_period (s)&quot;, &quot;idx&quot;: 1368071400000, &quot;val&quot;: 8.0}, {&quot;col&quot;: &quot;dominant_wave_period (s)&quot;, &quot;idx&quot;: 1368075000000, &quot;val&quot;: 8.0}, {&quot;col&quot;: &quot;dominant_wave_period (s)&quot;, &quot;idx&quot;: 1368078600000, &quot;val&quot;: 8.0}, {&quot;col&quot;: &quot;dominant_wave_period (s)&quot;, &quot;idx&quot;: 1368082200000, &quot;val&quot;: 8.0}, {&quot;col&quot;: &quot;dominant_wave_period (s)&quot;, &quot;idx&quot;: 1368085800000, &quot;val&quot;: 8.0}, {&quot;col&quot;: &quot;dominant_wave_period (s)&quot;, &quot;idx&quot;: 1368089400000, &quot;val&quot;: 8.0}, {&quot;col&quot;: &quot;dominant_wave_period (s)&quot;, &quot;idx&quot;: 1368093000000, &quot;val&quot;: 8.0}, {&quot;col&quot;: &quot;dominant_wave_period (s)&quot;, &quot;idx&quot;: 1368096600000, &quot;val&quot;: 8.0}, {&quot;col&quot;: &quot;dominant_wave_period (s)&quot;, &quot;idx&quot;: 1368100200000, &quot;val&quot;: 8.0}, {&quot;col&quot;: &quot;dominant_wave_period (s)&quot;, &quot;idx&quot;: 1368103800000, &quot;val&quot;: 8.0}, {&quot;col&quot;: &quot;dominant_wave_period (s)&quot;, &quot;idx&quot;: 1368107400000, &quot;val&quot;: 8.0}, {&quot;col&quot;: &quot;dominant_wave_period (s)&quot;, &quot;idx&quot;: 1368111000000, &quot;val&quot;: 8.0}, {&quot;col&quot;: &quot;dominant_wave_period (s)&quot;, &quot;idx&quot;: 1368114600000, &quot;val&quot;: 8.0}, {&quot;col&quot;: &quot;dominant_wave_period (s)&quot;, &quot;idx&quot;: 1368118200000, &quot;val&quot;: 8.0}, {&quot;col&quot;: &quot;dominant_wave_period (s)&quot;, &quot;idx&quot;: 1368121800000, &quot;val&quot;: 8.0}, {&quot;col&quot;: &quot;dominant_wave_period (s)&quot;, &quot;idx&quot;: 1368125400000, &quot;val&quot;: 8.0}, {&quot;col&quot;: &quot;dominant_wave_period (s)&quot;, &quot;idx&quot;: 1368129000000, &quot;val&quot;: 8.0}, {&quot;col&quot;: &quot;dominant_wave_period (s)&quot;, &quot;idx&quot;: 1368132600000, &quot;val&quot;: 8.0}, {&quot;col&quot;: &quot;dominant_wave_period (s)&quot;, &quot;idx&quot;: 1368136200000, &quot;val&quot;: 8.0}, {&quot;col&quot;: &quot;dominant_wave_period (s)&quot;, &quot;idx&quot;: 1368139800000, &quot;val&quot;: 8.0}, {&quot;col&quot;: &quot;dominant_wave_period (s)&quot;, &quot;idx&quot;: 1368143400000, &quot;val&quot;: 8.0}, {&quot;col&quot;: &quot;dominant_wave_period (s)&quot;, &quot;idx&quot;: 1368147000000, &quot;val&quot;: 7.0}, {&quot;col&quot;: &quot;dominant_wave_period (s)&quot;, &quot;idx&quot;: 1368150600000, &quot;val&quot;: 8.0}, {&quot;col&quot;: &quot;dominant_wave_period (s)&quot;, &quot;idx&quot;: 1368154200000, &quot;val&quot;: 11.0}, {&quot;col&quot;: &quot;dominant_wave_period (s)&quot;, &quot;idx&quot;: 1368157800000, &quot;val&quot;: 7.0}, {&quot;col&quot;: &quot;dominant_wave_period (s)&quot;, &quot;idx&quot;: 1368161400000, &quot;val&quot;: 16.0}, {&quot;col&quot;: &quot;dominant_wave_period (s)&quot;, &quot;idx&quot;: 1368165000000, &quot;val&quot;: 3.0}, {&quot;col&quot;: &quot;dominant_wave_period (s)&quot;, &quot;idx&quot;: 1368168600000, &quot;val&quot;: 4.0}, {&quot;col&quot;: &quot;dominant_wave_period (s)&quot;, &quot;idx&quot;: 1368172200000, &quot;val&quot;: 4.0}, {&quot;col&quot;: &quot;dominant_wave_period (s)&quot;, &quot;idx&quot;: 1368175800000, &quot;val&quot;: 4.0}, {&quot;col&quot;: &quot;dominant_wave_period (s)&quot;, &quot;idx&quot;: 1368179400000, &quot;val&quot;: 4.0}, {&quot;col&quot;: &quot;dominant_wave_period (s)&quot;, &quot;idx&quot;: 1368183000000, &quot;val&quot;: 3.0}, {&quot;col&quot;: &quot;dominant_wave_period (s)&quot;, &quot;idx&quot;: 1368186600000, &quot;val&quot;: 3.0}, {&quot;col&quot;: &quot;dominant_wave_period (s)&quot;, &quot;idx&quot;: 1368190200000, &quot;val&quot;: 16.0}, {&quot;col&quot;: &quot;dominant_wave_period (s)&quot;, &quot;idx&quot;: 1368193800000, &quot;val&quot;: 4.0}, {&quot;col&quot;: &quot;dominant_wave_period (s)&quot;, &quot;idx&quot;: 1368197400000, &quot;val&quot;: 13.0}, {&quot;col&quot;: &quot;dominant_wave_period (s)&quot;, &quot;idx&quot;: 1368201000000, &quot;val&quot;: 16.0}, {&quot;col&quot;: &quot;dominant_wave_period (s)&quot;, &quot;idx&quot;: 1368204600000, &quot;val&quot;: 16.0}, {&quot;col&quot;: &quot;dominant_wave_period (s)&quot;, &quot;idx&quot;: 1368208200000, &quot;val&quot;: 5.0}, {&quot;col&quot;: &quot;dominant_wave_period (s)&quot;, &quot;idx&quot;: 1368211800000, &quot;val&quot;: 16.0}, {&quot;col&quot;: &quot;dominant_wave_period (s)&quot;, &quot;idx&quot;: 1368215400000, &quot;val&quot;: 16.0}, {&quot;col&quot;: &quot;dominant_wave_period (s)&quot;, &quot;idx&quot;: 1368219000000, &quot;val&quot;: 16.0}, {&quot;col&quot;: &quot;dominant_wave_period (s)&quot;, &quot;idx&quot;: 1368222600000, &quot;val&quot;: 16.0}, {&quot;col&quot;: &quot;dominant_wave_period (s)&quot;, &quot;idx&quot;: 1368226200000, &quot;val&quot;: 16.0}, {&quot;col&quot;: &quot;dominant_wave_period (s)&quot;, &quot;idx&quot;: 1368229800000, &quot;val&quot;: 14.0}, {&quot;col&quot;: &quot;dominant_wave_period (s)&quot;, &quot;idx&quot;: 1368233400000, &quot;val&quot;: 16.0}, {&quot;col&quot;: &quot;dominant_wave_period (s)&quot;, &quot;idx&quot;: 1368237000000, &quot;val&quot;: 16.0}, {&quot;col&quot;: &quot;dominant_wave_period (s)&quot;, &quot;idx&quot;: 1368240600000, &quot;val&quot;: 16.0}, {&quot;col&quot;: &quot;dominant_wave_period (s)&quot;, &quot;idx&quot;: 1368244200000, &quot;val&quot;: 14.0}, {&quot;col&quot;: &quot;dominant_wave_period (s)&quot;, &quot;idx&quot;: 1368247800000, &quot;val&quot;: 15.0}, {&quot;col&quot;: &quot;dominant_wave_period (s)&quot;, &quot;idx&quot;: 1368251400000, &quot;val&quot;: 16.0}, {&quot;col&quot;: &quot;dominant_wave_period (s)&quot;, &quot;idx&quot;: 1368255000000, &quot;val&quot;: 16.0}, {&quot;col&quot;: &quot;dominant_wave_period (s)&quot;, &quot;idx&quot;: 1368258600000, &quot;val&quot;: 15.0}, {&quot;col&quot;: &quot;dominant_wave_period (s)&quot;, &quot;idx&quot;: 1368262200000, &quot;val&quot;: 16.0}, {&quot;col&quot;: &quot;dominant_wave_period (s)&quot;, &quot;idx&quot;: 1368265800000, &quot;val&quot;: 14.0}, {&quot;col&quot;: &quot;dominant_wave_period (s)&quot;, &quot;idx&quot;: 1368269400000, &quot;val&quot;: 13.0}, {&quot;col&quot;: &quot;dominant_wave_period (s)&quot;, &quot;idx&quot;: 1368273000000, &quot;val&quot;: 15.0}, {&quot;col&quot;: &quot;dominant_wave_period (s)&quot;, &quot;idx&quot;: 1368276600000, &quot;val&quot;: 16.0}, {&quot;col&quot;: &quot;dominant_wave_period (s)&quot;, &quot;idx&quot;: 1368280200000, &quot;val&quot;: 12.0}, {&quot;col&quot;: &quot;dominant_wave_period (s)&quot;, &quot;idx&quot;: 1368283800000, &quot;val&quot;: 15.0}, {&quot;col&quot;: &quot;dominant_wave_period (s)&quot;, &quot;idx&quot;: 1368287400000, &quot;val&quot;: 11.0}, {&quot;col&quot;: &quot;dominant_wave_period (s)&quot;, &quot;idx&quot;: 1368291000000, &quot;val&quot;: 11.0}, {&quot;col&quot;: &quot;dominant_wave_period (s)&quot;, &quot;idx&quot;: 1368294600000, &quot;val&quot;: 11.0}, {&quot;col&quot;: &quot;dominant_wave_period (s)&quot;, &quot;idx&quot;: 1368298200000, &quot;val&quot;: 15.0}, {&quot;col&quot;: &quot;dominant_wave_period (s)&quot;, &quot;idx&quot;: 1368301800000, &quot;val&quot;: 10.0}, {&quot;col&quot;: &quot;dominant_wave_period (s)&quot;, &quot;idx&quot;: 1368305400000, &quot;val&quot;: 10.0}, {&quot;col&quot;: &quot;dominant_wave_period (s)&quot;, &quot;idx&quot;: 1368309000000, &quot;val&quot;: 10.0}, {&quot;col&quot;: &quot;dominant_wave_period (s)&quot;, &quot;idx&quot;: 1368312600000, &quot;val&quot;: 10.0}, {&quot;col&quot;: &quot;dominant_wave_period (s)&quot;, &quot;idx&quot;: 1368316200000, &quot;val&quot;: 10.0}, {&quot;col&quot;: &quot;dominant_wave_period (s)&quot;, &quot;idx&quot;: 1368319800000, &quot;val&quot;: 9.0}, {&quot;col&quot;: &quot;dominant_wave_period (s)&quot;, &quot;idx&quot;: 1368323400000, &quot;val&quot;: 9.0}, {&quot;col&quot;: &quot;dominant_wave_period (s)&quot;, &quot;idx&quot;: 1368327000000, &quot;val&quot;: 8.0}, {&quot;col&quot;: &quot;dominant_wave_period (s)&quot;, &quot;idx&quot;: 1368330600000, &quot;val&quot;: 8.0}, {&quot;col&quot;: &quot;dominant_wave_period (s)&quot;, &quot;idx&quot;: 1368334200000, &quot;val&quot;: 9.0}, {&quot;col&quot;: &quot;dominant_wave_period (s)&quot;, &quot;idx&quot;: 1368337800000, &quot;val&quot;: 8.0}, {&quot;col&quot;: &quot;dominant_wave_period (s)&quot;, &quot;idx&quot;: 1368341400000, &quot;val&quot;: 8.0}, {&quot;col&quot;: &quot;dominant_wave_period (s)&quot;, &quot;idx&quot;: 1368345000000, &quot;val&quot;: 7.0}, {&quot;col&quot;: &quot;dominant_wave_period (s)&quot;, &quot;idx&quot;: 1368348600000, &quot;val&quot;: 8.0}, {&quot;col&quot;: &quot;dominant_wave_period (s)&quot;, &quot;idx&quot;: 1368352200000, &quot;val&quot;: 9.0}, {&quot;col&quot;: &quot;dominant_wave_period (s)&quot;, &quot;idx&quot;: 1368355800000, &quot;val&quot;: 7.0}, {&quot;col&quot;: &quot;dominant_wave_period (s)&quot;, &quot;idx&quot;: 1368359400000, &quot;val&quot;: 7.0}, {&quot;col&quot;: &quot;dominant_wave_period (s)&quot;, &quot;idx&quot;: 1368363000000, &quot;val&quot;: 9.0}, {&quot;col&quot;: &quot;dominant_wave_period (s)&quot;, &quot;idx&quot;: 1368366600000, &quot;val&quot;: 8.0}, {&quot;col&quot;: &quot;dominant_wave_period (s)&quot;, &quot;idx&quot;: 1368370200000, &quot;val&quot;: 8.0}, {&quot;col&quot;: &quot;dominant_wave_period (s)&quot;, &quot;idx&quot;: 1368373800000, &quot;val&quot;: 7.0}, {&quot;col&quot;: &quot;dominant_wave_period (s)&quot;, &quot;idx&quot;: 1368377400000, &quot;val&quot;: 8.0}, {&quot;col&quot;: &quot;dominant_wave_period (s)&quot;, &quot;idx&quot;: 1368381000000, &quot;val&quot;: 9.0}, {&quot;col&quot;: &quot;dominant_wave_period (s)&quot;, &quot;idx&quot;: 1368384600000, &quot;val&quot;: 8.0}, {&quot;col&quot;: &quot;dominant_wave_period (s)&quot;, &quot;idx&quot;: 1368388200000, &quot;val&quot;: 8.0}, {&quot;col&quot;: &quot;dominant_wave_period (s)&quot;, &quot;idx&quot;: 1368391800000, &quot;val&quot;: 9.0}, {&quot;col&quot;: &quot;dominant_wave_period (s)&quot;, &quot;idx&quot;: 1368395400000, &quot;val&quot;: 9.0}, {&quot;col&quot;: &quot;dominant_wave_period (s)&quot;, &quot;idx&quot;: 1368399000000, &quot;val&quot;: 9.0}, {&quot;col&quot;: &quot;dominant_wave_period (s)&quot;, &quot;idx&quot;: 1368402600000, &quot;val&quot;: 8.0}, {&quot;col&quot;: &quot;dominant_wave_period (s)&quot;, &quot;idx&quot;: 1368406200000, &quot;val&quot;: 9.0}, {&quot;col&quot;: &quot;dominant_wave_period (s)&quot;, &quot;idx&quot;: 1368409800000, &quot;val&quot;: 9.0}, {&quot;col&quot;: &quot;dominant_wave_period (s)&quot;, &quot;idx&quot;: 1368413400000, &quot;val&quot;: 8.0}, {&quot;col&quot;: &quot;dominant_wave_period (s)&quot;, &quot;idx&quot;: 1368417000000, &quot;val&quot;: 8.0}, {&quot;col&quot;: &quot;dominant_wave_period (s)&quot;, &quot;idx&quot;: 1368420600000, &quot;val&quot;: 9.0}, {&quot;col&quot;: &quot;dominant_wave_period (s)&quot;, &quot;idx&quot;: 1368424200000, &quot;val&quot;: 7.0}, {&quot;col&quot;: &quot;dominant_wave_period (s)&quot;, &quot;idx&quot;: 1368427800000, &quot;val&quot;: 9.0}, {&quot;col&quot;: &quot;dominant_wave_period (s)&quot;, &quot;idx&quot;: 1368431400000, &quot;val&quot;: 9.0}, {&quot;col&quot;: &quot;dominant_wave_period (s)&quot;, &quot;idx&quot;: 1368435000000, &quot;val&quot;: 8.0}, {&quot;col&quot;: &quot;dominant_wave_period (s)&quot;, &quot;idx&quot;: 1368438600000, &quot;val&quot;: 9.0}, {&quot;col&quot;: &quot;dominant_wave_period (s)&quot;, &quot;idx&quot;: 1368442200000, &quot;val&quot;: 9.0}, {&quot;col&quot;: &quot;dominant_wave_period (s)&quot;, &quot;idx&quot;: 1368445800000, &quot;val&quot;: 8.0}, {&quot;col&quot;: &quot;dominant_wave_period (s)&quot;, &quot;idx&quot;: 1368449400000, &quot;val&quot;: 8.0}, {&quot;col&quot;: &quot;dominant_wave_period (s)&quot;, &quot;idx&quot;: 1368453000000, &quot;val&quot;: 9.0}, {&quot;col&quot;: &quot;dominant_wave_period (s)&quot;, &quot;idx&quot;: 1368456600000, &quot;val&quot;: 8.0}, {&quot;col&quot;: &quot;dominant_wave_period (s)&quot;, &quot;idx&quot;: 1368460200000, &quot;val&quot;: 8.0}, {&quot;col&quot;: &quot;dominant_wave_period (s)&quot;, &quot;idx&quot;: 1368463800000, &quot;val&quot;: 8.0}, {&quot;col&quot;: &quot;dominant_wave_period (s)&quot;, &quot;idx&quot;: 1368467400000, &quot;val&quot;: 9.0}, {&quot;col&quot;: &quot;dominant_wave_period (s)&quot;, &quot;idx&quot;: 1368471000000, &quot;val&quot;: 9.0}, {&quot;col&quot;: &quot;dominant_wave_period (s)&quot;, &quot;idx&quot;: 1368474600000, &quot;val&quot;: 11.0}, {&quot;col&quot;: &quot;dominant_wave_period (s)&quot;, &quot;idx&quot;: 1368478200000, &quot;val&quot;: 8.0}, {&quot;col&quot;: &quot;dominant_wave_period (s)&quot;, &quot;idx&quot;: 1368481800000, &quot;val&quot;: 11.0}, {&quot;col&quot;: &quot;dominant_wave_period (s)&quot;, &quot;idx&quot;: 1368485400000, &quot;val&quot;: 11.0}, {&quot;col&quot;: &quot;dominant_wave_period (s)&quot;, &quot;idx&quot;: 1368489000000, &quot;val&quot;: 10.0}, {&quot;col&quot;: &quot;dominant_wave_period (s)&quot;, &quot;idx&quot;: 1368492600000, &quot;val&quot;: 6.0}, {&quot;col&quot;: &quot;dominant_wave_period (s)&quot;, &quot;idx&quot;: 1368496200000, &quot;val&quot;: 6.0}, {&quot;col&quot;: &quot;dominant_wave_period (s)&quot;, &quot;idx&quot;: 1368499800000, &quot;val&quot;: 10.0}, {&quot;col&quot;: &quot;dominant_wave_period (s)&quot;, &quot;idx&quot;: 1368503400000, &quot;val&quot;: 7.0}, {&quot;col&quot;: &quot;dominant_wave_period (s)&quot;, &quot;idx&quot;: 1368507000000, &quot;val&quot;: 10.0}, {&quot;col&quot;: &quot;dominant_wave_period (s)&quot;, &quot;idx&quot;: 1368510600000, &quot;val&quot;: 9.0}, {&quot;col&quot;: &quot;dominant_wave_period (s)&quot;, &quot;idx&quot;: 1368514200000, &quot;val&quot;: 8.0}, {&quot;col&quot;: &quot;dominant_wave_period (s)&quot;, &quot;idx&quot;: 1368517800000, &quot;val&quot;: 7.0}, {&quot;col&quot;: &quot;dominant_wave_period (s)&quot;, &quot;idx&quot;: 1368521400000, &quot;val&quot;: 9.0}, {&quot;col&quot;: &quot;dominant_wave_period (s)&quot;, &quot;idx&quot;: 1368525000000, &quot;val&quot;: 8.0}, {&quot;col&quot;: &quot;dominant_wave_period (s)&quot;, &quot;idx&quot;: 1368528600000, &quot;val&quot;: 7.0}, {&quot;col&quot;: &quot;dominant_wave_period (s)&quot;, &quot;idx&quot;: 1368532200000, &quot;val&quot;: 8.0}, {&quot;col&quot;: &quot;dominant_wave_period (s)&quot;, &quot;idx&quot;: 1368535800000, &quot;val&quot;: 9.0}, {&quot;col&quot;: &quot;dominant_wave_period (s)&quot;, &quot;idx&quot;: 1368539400000, &quot;val&quot;: 7.0}, {&quot;col&quot;: &quot;dominant_wave_period (s)&quot;, &quot;idx&quot;: 1368543000000, &quot;val&quot;: 10.0}, {&quot;col&quot;: &quot;dominant_wave_period (s)&quot;, &quot;idx&quot;: 1368546600000, &quot;val&quot;: 8.0}, {&quot;col&quot;: &quot;dominant_wave_period (s)&quot;, &quot;idx&quot;: 1368550200000, &quot;val&quot;: 8.0}, {&quot;col&quot;: &quot;dominant_wave_period (s)&quot;, &quot;idx&quot;: 1368553800000, &quot;val&quot;: 8.0}, {&quot;col&quot;: &quot;dominant_wave_period (s)&quot;, &quot;idx&quot;: 1368557400000, &quot;val&quot;: 9.0}, {&quot;col&quot;: &quot;dominant_wave_period (s)&quot;, &quot;idx&quot;: 1368561000000, &quot;val&quot;: 9.0}, {&quot;col&quot;: &quot;dominant_wave_period (s)&quot;, &quot;idx&quot;: 1368564600000, &quot;val&quot;: 9.0}, {&quot;col&quot;: &quot;dominant_wave_period (s)&quot;, &quot;idx&quot;: 1368568200000, &quot;val&quot;: 9.0}, {&quot;col&quot;: &quot;dominant_wave_period (s)&quot;, &quot;idx&quot;: 1368571800000, &quot;val&quot;: 11.0}, {&quot;col&quot;: &quot;dominant_wave_period (s)&quot;, &quot;idx&quot;: 1368575400000, &quot;val&quot;: 10.0}, {&quot;col&quot;: &quot;dominant_wave_period (s)&quot;, &quot;idx&quot;: 1368579000000, &quot;val&quot;: 10.0}, {&quot;col&quot;: &quot;dominant_wave_period (s)&quot;, &quot;idx&quot;: 1368582600000, &quot;val&quot;: 9.0}, {&quot;col&quot;: &quot;dominant_wave_period (s)&quot;, &quot;idx&quot;: 1368586200000, &quot;val&quot;: 10.0}, {&quot;col&quot;: &quot;dominant_wave_period (s)&quot;, &quot;idx&quot;: 1368589800000, &quot;val&quot;: 10.0}, {&quot;col&quot;: &quot;dominant_wave_period (s)&quot;, &quot;idx&quot;: 1368593400000, &quot;val&quot;: 10.0}, {&quot;col&quot;: &quot;dominant_wave_period (s)&quot;, &quot;idx&quot;: 1368597000000, &quot;val&quot;: 10.0}, {&quot;col&quot;: &quot;dominant_wave_period (s)&quot;, &quot;idx&quot;: 1368600600000, &quot;val&quot;: 10.0}, {&quot;col&quot;: &quot;dominant_wave_period (s)&quot;, &quot;idx&quot;: 1368604200000, &quot;val&quot;: 10.0}, {&quot;col&quot;: &quot;dominant_wave_period (s)&quot;, &quot;idx&quot;: 1368607800000, &quot;val&quot;: 10.0}, {&quot;col&quot;: &quot;dominant_wave_period (s)&quot;, &quot;idx&quot;: 1368611400000, &quot;val&quot;: 10.0}, {&quot;col&quot;: &quot;dominant_wave_period (s)&quot;, &quot;idx&quot;: 1368615000000, &quot;val&quot;: 9.0}, {&quot;col&quot;: &quot;dominant_wave_period (s)&quot;, &quot;idx&quot;: 1368618600000, &quot;val&quot;: 10.0}, {&quot;col&quot;: &quot;dominant_wave_period (s)&quot;, &quot;idx&quot;: 1368622200000, &quot;val&quot;: 8.0}, {&quot;col&quot;: &quot;dominant_wave_period (s)&quot;, &quot;idx&quot;: 1368625800000, &quot;val&quot;: 10.0}, {&quot;col&quot;: &quot;dominant_wave_period (s)&quot;, &quot;idx&quot;: 1368629400000, &quot;val&quot;: 9.0}, {&quot;col&quot;: &quot;dominant_wave_period (s)&quot;, &quot;idx&quot;: 1368633000000, &quot;val&quot;: 10.0}, {&quot;col&quot;: &quot;dominant_wave_period (s)&quot;, &quot;idx&quot;: 1368636600000, &quot;val&quot;: 10.0}, {&quot;col&quot;: &quot;dominant_wave_period (s)&quot;, &quot;idx&quot;: 1368640200000, &quot;val&quot;: 10.0}, {&quot;col&quot;: &quot;dominant_wave_period (s)&quot;, &quot;idx&quot;: 1368643800000, &quot;val&quot;: 10.0}, {&quot;col&quot;: &quot;dominant_wave_period (s)&quot;, &quot;idx&quot;: 1368647400000, &quot;val&quot;: 9.0}, {&quot;col&quot;: &quot;dominant_wave_period (s)&quot;, &quot;idx&quot;: 1368651000000, &quot;val&quot;: 10.0}, {&quot;col&quot;: &quot;dominant_wave_period (s)&quot;, &quot;idx&quot;: 1368654600000, &quot;val&quot;: 9.0}, {&quot;col&quot;: &quot;dominant_wave_period (s)&quot;, &quot;idx&quot;: 1368658200000, &quot;val&quot;: 9.0}, {&quot;col&quot;: &quot;dominant_wave_period (s)&quot;, &quot;idx&quot;: 1368665400000, &quot;val&quot;: 8.0}, {&quot;col&quot;: &quot;dominant_wave_period (s)&quot;, &quot;idx&quot;: 1368669000000, &quot;val&quot;: 10.0}, {&quot;col&quot;: &quot;dominant_wave_period (s)&quot;, &quot;idx&quot;: 1368672600000, &quot;val&quot;: 9.0}, {&quot;col&quot;: &quot;dominant_wave_period (s)&quot;, &quot;idx&quot;: 1368676200000, &quot;val&quot;: 8.0}, {&quot;col&quot;: &quot;dominant_wave_period (s)&quot;, &quot;idx&quot;: 1368679800000, &quot;val&quot;: 9.0}, {&quot;col&quot;: &quot;dominant_wave_period (s)&quot;, &quot;idx&quot;: 1368683400000, &quot;val&quot;: 9.0}, {&quot;col&quot;: &quot;dominant_wave_period (s)&quot;, &quot;idx&quot;: 1368687000000, &quot;val&quot;: 8.0}, {&quot;col&quot;: &quot;dominant_wave_period (s)&quot;, &quot;idx&quot;: 1368690600000, &quot;val&quot;: 7.0}, {&quot;col&quot;: &quot;dominant_wave_period (s)&quot;, &quot;idx&quot;: 1368694200000, &quot;val&quot;: 6.0}, {&quot;col&quot;: &quot;dominant_wave_period (s)&quot;, &quot;idx&quot;: 1368697800000, &quot;val&quot;: 7.0}, {&quot;col&quot;: &quot;dominant_wave_period (s)&quot;, &quot;idx&quot;: 1368701400000, &quot;val&quot;: 9.0}, {&quot;col&quot;: &quot;dominant_wave_period (s)&quot;, &quot;idx&quot;: 1368705000000, &quot;val&quot;: 9.0}, {&quot;col&quot;: &quot;dominant_wave_period (s)&quot;, &quot;idx&quot;: 1368708600000, &quot;val&quot;: 8.0}, {&quot;col&quot;: &quot;dominant_wave_period (s)&quot;, &quot;idx&quot;: 1368712200000, &quot;val&quot;: 6.0}, {&quot;col&quot;: &quot;dominant_wave_period (s)&quot;, &quot;idx&quot;: 1368715800000, &quot;val&quot;: 9.0}, {&quot;col&quot;: &quot;dominant_wave_period (s)&quot;, &quot;idx&quot;: 1368719400000, &quot;val&quot;: 9.0}, {&quot;col&quot;: &quot;dominant_wave_period (s)&quot;, &quot;idx&quot;: 1368723000000, &quot;val&quot;: 9.0}, {&quot;col&quot;: &quot;dominant_wave_period (s)&quot;, &quot;idx&quot;: 1368726600000, &quot;val&quot;: 9.0}, {&quot;col&quot;: &quot;dominant_wave_period (s)&quot;, &quot;idx&quot;: 1368730200000, &quot;val&quot;: 8.0}, {&quot;col&quot;: &quot;dominant_wave_period (s)&quot;, &quot;idx&quot;: 1368733800000, &quot;val&quot;: 8.0}, {&quot;col&quot;: &quot;dominant_wave_period (s)&quot;, &quot;idx&quot;: 1368737400000, &quot;val&quot;: 8.0}, {&quot;col&quot;: &quot;dominant_wave_period (s)&quot;, &quot;idx&quot;: 1368741000000, &quot;val&quot;: 8.0}, {&quot;col&quot;: &quot;dominant_wave_period (s)&quot;, &quot;idx&quot;: 1368744600000, &quot;val&quot;: 10.0}, {&quot;col&quot;: &quot;dominant_wave_period (s)&quot;, &quot;idx&quot;: 1368748200000, &quot;val&quot;: 9.0}, {&quot;col&quot;: &quot;dominant_wave_period (s)&quot;, &quot;idx&quot;: 1368751800000, &quot;val&quot;: 9.0}, {&quot;col&quot;: &quot;dominant_wave_period (s)&quot;, &quot;idx&quot;: 1368755400000, &quot;val&quot;: 11.0}, {&quot;col&quot;: &quot;dominant_wave_period (s)&quot;, &quot;idx&quot;: 1368759000000, &quot;val&quot;: 11.0}, {&quot;col&quot;: &quot;dominant_wave_period (s)&quot;, &quot;idx&quot;: 1368762600000, &quot;val&quot;: 11.0}, {&quot;col&quot;: &quot;dominant_wave_period (s)&quot;, &quot;idx&quot;: 1368766200000, &quot;val&quot;: 11.0}, {&quot;col&quot;: &quot;dominant_wave_period (s)&quot;, &quot;idx&quot;: 1368769800000, &quot;val&quot;: 11.0}, {&quot;col&quot;: &quot;dominant_wave_period (s)&quot;, &quot;idx&quot;: 1368773400000, &quot;val&quot;: 11.0}, {&quot;col&quot;: &quot;dominant_wave_period (s)&quot;, &quot;idx&quot;: 1368777000000, &quot;val&quot;: 11.0}, {&quot;col&quot;: &quot;dominant_wave_period (s)&quot;, &quot;idx&quot;: 1368780600000, &quot;val&quot;: 11.0}, {&quot;col&quot;: &quot;dominant_wave_period (s)&quot;, &quot;idx&quot;: 1368784200000, &quot;val&quot;: 11.0}, {&quot;col&quot;: &quot;dominant_wave_period (s)&quot;, &quot;idx&quot;: 1368787800000, &quot;val&quot;: 11.0}, {&quot;col&quot;: &quot;dominant_wave_period (s)&quot;, &quot;idx&quot;: 1368791400000, &quot;val&quot;: 10.0}, {&quot;col&quot;: &quot;dominant_wave_period (s)&quot;, &quot;idx&quot;: 1368795000000, &quot;val&quot;: 10.0}, {&quot;col&quot;: &quot;dominant_wave_period (s)&quot;, &quot;idx&quot;: 1368798600000, &quot;val&quot;: 10.0}, {&quot;col&quot;: &quot;dominant_wave_period (s)&quot;, &quot;idx&quot;: 1368802200000, &quot;val&quot;: 10.0}, {&quot;col&quot;: &quot;dominant_wave_period (s)&quot;, &quot;idx&quot;: 1368805800000, &quot;val&quot;: 10.0}, {&quot;col&quot;: &quot;dominant_wave_period (s)&quot;, &quot;idx&quot;: 1368809400000, &quot;val&quot;: 10.0}, {&quot;col&quot;: &quot;dominant_wave_period (s)&quot;, &quot;idx&quot;: 1368813000000, &quot;val&quot;: 10.0}, {&quot;col&quot;: &quot;dominant_wave_period (s)&quot;, &quot;idx&quot;: 1368816600000, &quot;val&quot;: 9.0}, {&quot;col&quot;: &quot;dominant_wave_period (s)&quot;, &quot;idx&quot;: 1368820200000, &quot;val&quot;: 10.0}, {&quot;col&quot;: &quot;dominant_wave_period (s)&quot;, &quot;idx&quot;: 1368823800000, &quot;val&quot;: 11.0}, {&quot;col&quot;: &quot;dominant_wave_period (s)&quot;, &quot;idx&quot;: 1368827400000, &quot;val&quot;: 11.0}, {&quot;col&quot;: &quot;dominant_wave_period (s)&quot;, &quot;idx&quot;: 1368831000000, &quot;val&quot;: 9.0}, {&quot;col&quot;: &quot;dominant_wave_period (s)&quot;, &quot;idx&quot;: 1368834600000, &quot;val&quot;: 10.0}, {&quot;col&quot;: &quot;dominant_wave_period (s)&quot;, &quot;idx&quot;: 1368838200000, &quot;val&quot;: 11.0}, {&quot;col&quot;: &quot;dominant_wave_period (s)&quot;, &quot;idx&quot;: 1368841800000, &quot;val&quot;: 10.0}, {&quot;col&quot;: &quot;dominant_wave_period (s)&quot;, &quot;idx&quot;: 1368845400000, &quot;val&quot;: 10.0}, {&quot;col&quot;: &quot;dominant_wave_period (s)&quot;, &quot;idx&quot;: 1368849000000, &quot;val&quot;: 9.0}, {&quot;col&quot;: &quot;dominant_wave_period (s)&quot;, &quot;idx&quot;: 1368852600000, &quot;val&quot;: 9.0}, {&quot;col&quot;: &quot;dominant_wave_period (s)&quot;, &quot;idx&quot;: 1368856200000, &quot;val&quot;: 9.0}, {&quot;col&quot;: &quot;dominant_wave_period (s)&quot;, &quot;idx&quot;: 1368859800000, &quot;val&quot;: 9.0}, {&quot;col&quot;: &quot;dominant_wave_period (s)&quot;, &quot;idx&quot;: 1368863400000, &quot;val&quot;: 9.0}, {&quot;col&quot;: &quot;dominant_wave_period (s)&quot;, &quot;idx&quot;: 1368867000000, &quot;val&quot;: 9.0}, {&quot;col&quot;: &quot;dominant_wave_period (s)&quot;, &quot;idx&quot;: 1368870600000, &quot;val&quot;: 9.0}, {&quot;col&quot;: &quot;dominant_wave_period (s)&quot;, &quot;idx&quot;: 1368874200000, &quot;val&quot;: 9.0}, {&quot;col&quot;: &quot;dominant_wave_period (s)&quot;, &quot;idx&quot;: 1368877800000, &quot;val&quot;: 8.0}, {&quot;col&quot;: &quot;dominant_wave_period (s)&quot;, &quot;idx&quot;: 1368881400000, &quot;val&quot;: 9.0}]}], &quot;height&quot;: 200, &quot;legends&quot;: [], &quot;marks&quot;: [{&quot;from&quot;: {&quot;data&quot;: &quot;table&quot;, &quot;transform&quot;: [{&quot;keys&quot;: [&quot;data.col&quot;], &quot;type&quot;: &quot;facet&quot;}]}, &quot;marks&quot;: [{&quot;properties&quot;: {&quot;enter&quot;: {&quot;stroke&quot;: {&quot;field&quot;: &quot;data.col&quot;, &quot;scale&quot;: &quot;color&quot;}, &quot;strokeWidth&quot;: {&quot;value&quot;: 2}, &quot;x&quot;: {&quot;field&quot;: &quot;data.idx&quot;, &quot;scale&quot;: &quot;x&quot;}, &quot;y&quot;: {&quot;field&quot;: &quot;data.val&quot;, &quot;scale&quot;: &quot;y&quot;}}}, &quot;type&quot;: &quot;line&quot;}], &quot;type&quot;: &quot;group&quot;}], &quot;padding&quot;: &quot;auto&quot;, &quot;scales&quot;: [{&quot;domain&quot;: {&quot;data&quot;: &quot;table&quot;, &quot;field&quot;: &quot;data.idx&quot;}, &quot;name&quot;: &quot;x&quot;, &quot;range&quot;: &quot;width&quot;, &quot;type&quot;: &quot;time&quot;}, {&quot;domain&quot;: {&quot;data&quot;: &quot;table&quot;, &quot;field&quot;: &quot;data.val&quot;}, &quot;name&quot;: &quot;y&quot;, &quot;nice&quot;: true, &quot;range&quot;: &quot;height&quot;}, {&quot;domain&quot;: {&quot;data&quot;: &quot;table&quot;, &quot;field&quot;: &quot;data.col&quot;}, &quot;name&quot;: &quot;color&quot;, &quot;range&quot;: &quot;category20&quot;, &quot;type&quot;: &quot;ordinal&quot;}], &quot;width&quot;: 400},vega_5cac1960115a18addc51fc25d8395c84);\n",
              "            \n",
              "        \n",
              "    \n",
              "    \n",
              "            var marker_1c69bd86167b8c42dd49805b38c600b8 = L.marker(\n",
              "                [44.639, -124.5339],\n",
              "                {}\n",
              "            ).addTo(map_0673749362b7ec44e97f483ea748bd32);\n",
              "        \n",
              "    \n",
              "        var popup_4c196eb8284be1e2cc7d61a3a3e56eff = L.popup({&quot;maxWidth&quot;: 450});\n",
              "\n",
              "        \n",
              "            var vega_da275ddea256a4f49bdf16c13b30bdcd = $(`             &lt;div id=&quot;vega_da275ddea256a4f49bdf16c13b30bdcd&quot;&gt;&lt;/div&gt;             `)[0];\n",
              "            popup_4c196eb8284be1e2cc7d61a3a3e56eff.setContent(vega_da275ddea256a4f49bdf16c13b30bdcd);\n",
              "        \n",
              "\n",
              "        marker_1c69bd86167b8c42dd49805b38c600b8.bindPopup(popup_4c196eb8284be1e2cc7d61a3a3e56eff)\n",
              "        ;\n",
              "\n",
              "        \n",
              "            \n",
              "            vega_parse({&quot;axes&quot;: [{&quot;scale&quot;: &quot;x&quot;, &quot;title&quot;: &quot;Wind Speed (m/s)&quot;, &quot;type&quot;: &quot;x&quot;}, {&quot;scale&quot;: &quot;y&quot;, &quot;title&quot;: &quot;# of Obs&quot;, &quot;type&quot;: &quot;y&quot;}], &quot;data&quot;: [{&quot;name&quot;: &quot;table&quot;, &quot;values&quot;: [{&quot;col&quot;: &quot;data&quot;, &quot;idx&quot;: 0, &quot;val&quot;: 85}, {&quot;col&quot;: &quot;data&quot;, &quot;idx&quot;: 1, &quot;val&quot;: 251}, {&quot;col&quot;: &quot;data&quot;, &quot;idx&quot;: 2, &quot;val&quot;: 389}, {&quot;col&quot;: &quot;data&quot;, &quot;idx&quot;: 3, &quot;val&quot;: 455}, {&quot;col&quot;: &quot;data&quot;, &quot;idx&quot;: 4, &quot;val&quot;: 569}, {&quot;col&quot;: &quot;data&quot;, &quot;idx&quot;: 5, &quot;val&quot;: 473}, {&quot;col&quot;: &quot;data&quot;, &quot;idx&quot;: 6, &quot;val&quot;: 434}, {&quot;col&quot;: &quot;data&quot;, &quot;idx&quot;: 7, &quot;val&quot;: 503}, {&quot;col&quot;: &quot;data&quot;, &quot;idx&quot;: 8, &quot;val&quot;: 500}, {&quot;col&quot;: &quot;data&quot;, &quot;idx&quot;: 9, &quot;val&quot;: 344}, {&quot;col&quot;: &quot;data&quot;, &quot;idx&quot;: 10, &quot;val&quot;: 233}, {&quot;col&quot;: &quot;data&quot;, &quot;idx&quot;: 11, &quot;val&quot;: 83}]}, {&quot;name&quot;: &quot;stats&quot;, &quot;source&quot;: &quot;table&quot;, &quot;transform&quot;: [{&quot;keys&quot;: [&quot;data.idx&quot;], &quot;type&quot;: &quot;facet&quot;}, {&quot;type&quot;: &quot;stats&quot;, &quot;value&quot;: &quot;data.val&quot;}]}], &quot;height&quot;: 200, &quot;legends&quot;: [], &quot;marks&quot;: [{&quot;from&quot;: {&quot;data&quot;: &quot;table&quot;, &quot;transform&quot;: [{&quot;keys&quot;: [&quot;data.col&quot;], &quot;type&quot;: &quot;facet&quot;}, {&quot;height&quot;: &quot;data.val&quot;, &quot;point&quot;: &quot;data.idx&quot;, &quot;type&quot;: &quot;stack&quot;}]}, &quot;marks&quot;: [{&quot;properties&quot;: {&quot;enter&quot;: {&quot;fill&quot;: {&quot;field&quot;: &quot;data.col&quot;, &quot;scale&quot;: &quot;color&quot;}, &quot;width&quot;: {&quot;band&quot;: true, &quot;offset&quot;: -1, &quot;scale&quot;: &quot;x&quot;}, &quot;x&quot;: {&quot;field&quot;: &quot;data.idx&quot;, &quot;scale&quot;: &quot;x&quot;}, &quot;y&quot;: {&quot;field&quot;: &quot;y&quot;, &quot;scale&quot;: &quot;y&quot;}, &quot;y2&quot;: {&quot;field&quot;: &quot;y2&quot;, &quot;scale&quot;: &quot;y&quot;}}}, &quot;type&quot;: &quot;rect&quot;}], &quot;type&quot;: &quot;group&quot;}], &quot;padding&quot;: &quot;auto&quot;, &quot;scales&quot;: [{&quot;domain&quot;: {&quot;data&quot;: &quot;table&quot;, &quot;field&quot;: &quot;data.idx&quot;}, &quot;name&quot;: &quot;x&quot;, &quot;range&quot;: &quot;width&quot;, &quot;type&quot;: &quot;ordinal&quot;, &quot;zero&quot;: false}, {&quot;domain&quot;: {&quot;data&quot;: &quot;stats&quot;, &quot;field&quot;: &quot;sum&quot;}, &quot;name&quot;: &quot;y&quot;, &quot;nice&quot;: true, &quot;range&quot;: &quot;height&quot;}, {&quot;domain&quot;: {&quot;data&quot;: &quot;table&quot;, &quot;field&quot;: &quot;data.col&quot;}, &quot;name&quot;: &quot;color&quot;, &quot;range&quot;: &quot;category20&quot;, &quot;type&quot;: &quot;ordinal&quot;}], &quot;width&quot;: 400},vega_da275ddea256a4f49bdf16c13b30bdcd);\n",
              "            \n",
              "        \n",
              "    \n",
              "    \n",
              "            var marker_6ff40a14a080e8199bab50d28ac651c5 = L.marker(\n",
              "                [46.216, -124.128],\n",
              "                {}\n",
              "            ).addTo(map_0673749362b7ec44e97f483ea748bd32);\n",
              "        \n",
              "    \n",
              "        var popup_d47eae5ab4843364c5b64bda7e944087 = L.popup({&quot;maxWidth&quot;: 450});\n",
              "\n",
              "        \n",
              "            var vega_9349e6d99c8529330fbddd4a2f4c6c9f = $(`             &lt;div id=&quot;vega_9349e6d99c8529330fbddd4a2f4c6c9f&quot;&gt;&lt;/div&gt;             `)[0];\n",
              "            popup_d47eae5ab4843364c5b64bda7e944087.setContent(vega_9349e6d99c8529330fbddd4a2f4c6c9f);\n",
              "        \n",
              "\n",
              "        marker_6ff40a14a080e8199bab50d28ac651c5.bindPopup(popup_d47eae5ab4843364c5b64bda7e944087)\n",
              "        ;\n",
              "\n",
              "        \n",
              "            \n",
              "            vega_parse({&quot;axes&quot;: [{&quot;scale&quot;: &quot;x&quot;, &quot;title&quot;: &quot;Time&quot;, &quot;type&quot;: &quot;x&quot;}, {&quot;scale&quot;: &quot;y&quot;, &quot;title&quot;: &quot;Significant Wave Height (m)&quot;, &quot;type&quot;: &quot;y&quot;}], &quot;data&quot;: [{&quot;name&quot;: &quot;table&quot;, &quot;values&quot;: [{&quot;col&quot;: &quot;significant_wave_height (m)&quot;, &quot;idx&quot;: 1366254600000, &quot;val&quot;: 1.299999952}, {&quot;col&quot;: &quot;significant_wave_height (m)&quot;, &quot;idx&quot;: 1366256400000, &quot;val&quot;: 1.100000024}, {&quot;col&quot;: &quot;significant_wave_height (m)&quot;, &quot;idx&quot;: 1366258200000, &quot;val&quot;: 1.299999952}, {&quot;col&quot;: &quot;significant_wave_height (m)&quot;, &quot;idx&quot;: 1366260000000, &quot;val&quot;: 1.200000048}, {&quot;col&quot;: &quot;significant_wave_height (m)&quot;, &quot;idx&quot;: 1366261800000, &quot;val&quot;: 1.0}, {&quot;col&quot;: &quot;significant_wave_height (m)&quot;, &quot;idx&quot;: 1366263600000, &quot;val&quot;: 1.0}, {&quot;col&quot;: &quot;significant_wave_height (m)&quot;, &quot;idx&quot;: 1366265400000, &quot;val&quot;: 1.100000024}, {&quot;col&quot;: &quot;significant_wave_height (m)&quot;, &quot;idx&quot;: 1366267200000, &quot;val&quot;: 1.100000024}, {&quot;col&quot;: &quot;significant_wave_height (m)&quot;, &quot;idx&quot;: 1366269000000, &quot;val&quot;: 1.0}, {&quot;col&quot;: &quot;significant_wave_height (m)&quot;, &quot;idx&quot;: 1366270800000, &quot;val&quot;: 1.0}, {&quot;col&quot;: &quot;significant_wave_height (m)&quot;, &quot;idx&quot;: 1366272600000, &quot;val&quot;: 1.0}, {&quot;col&quot;: &quot;significant_wave_height (m)&quot;, &quot;idx&quot;: 1366274400000, &quot;val&quot;: 1.0}, {&quot;col&quot;: &quot;significant_wave_height (m)&quot;, &quot;idx&quot;: 1366276200000, &quot;val&quot;: 0.8999999759999999}, {&quot;col&quot;: &quot;significant_wave_height (m)&quot;, &quot;idx&quot;: 1366278000000, &quot;val&quot;: 0.8999999759999999}, {&quot;col&quot;: &quot;significant_wave_height (m)&quot;, &quot;idx&quot;: 1366279800000, &quot;val&quot;: 0.8999999759999999}, {&quot;col&quot;: &quot;significant_wave_height (m)&quot;, &quot;idx&quot;: 1366281600000, &quot;val&quot;: 0.8999999759999999}, {&quot;col&quot;: &quot;significant_wave_height (m)&quot;, &quot;idx&quot;: 1366283400000, &quot;val&quot;: 0.8999999759999999}, {&quot;col&quot;: &quot;significant_wave_height (m)&quot;, &quot;idx&quot;: 1366285200000, &quot;val&quot;: 0.800000012}, {&quot;col&quot;: &quot;significant_wave_height (m)&quot;, &quot;idx&quot;: 1366287000000, &quot;val&quot;: 0.8999999759999999}, {&quot;col&quot;: &quot;significant_wave_height (m)&quot;, &quot;idx&quot;: 1366288800000, &quot;val&quot;: 0.8999999759999999}, {&quot;col&quot;: &quot;significant_wave_height (m)&quot;, &quot;idx&quot;: 1366290600000, &quot;val&quot;: 0.800000012}, {&quot;col&quot;: &quot;significant_wave_height (m)&quot;, &quot;idx&quot;: 1366292400000, &quot;val&quot;: 0.800000012}, {&quot;col&quot;: &quot;significant_wave_height (m)&quot;, &quot;idx&quot;: 1366294200000, &quot;val&quot;: 0.800000012}, {&quot;col&quot;: &quot;significant_wave_height (m)&quot;, &quot;idx&quot;: 1366296000000, &quot;val&quot;: 0.800000012}, {&quot;col&quot;: &quot;significant_wave_height (m)&quot;, &quot;idx&quot;: 1366297800000, &quot;val&quot;: 0.800000012}, {&quot;col&quot;: &quot;significant_wave_height (m)&quot;, &quot;idx&quot;: 1366299600000, &quot;val&quot;: 0.800000012}, {&quot;col&quot;: &quot;significant_wave_height (m)&quot;, &quot;idx&quot;: 1366301400000, &quot;val&quot;: 0.699999988}, {&quot;col&quot;: &quot;significant_wave_height (m)&quot;, &quot;idx&quot;: 1366303200000, &quot;val&quot;: 0.699999988}, {&quot;col&quot;: &quot;significant_wave_height (m)&quot;, &quot;idx&quot;: 1366305000000, &quot;val&quot;: 0.699999988}, {&quot;col&quot;: &quot;significant_wave_height (m)&quot;, &quot;idx&quot;: 1366306800000, &quot;val&quot;: 0.699999988}, {&quot;col&quot;: &quot;significant_wave_height (m)&quot;, &quot;idx&quot;: 1366308600000, &quot;val&quot;: 0.600000024}, {&quot;col&quot;: &quot;significant_wave_height (m)&quot;, &quot;idx&quot;: 1366310400000, &quot;val&quot;: 0.699999988}, {&quot;col&quot;: &quot;significant_wave_height (m)&quot;, &quot;idx&quot;: 1366312200000, &quot;val&quot;: 0.699999988}, {&quot;col&quot;: &quot;significant_wave_height (m)&quot;, &quot;idx&quot;: 1366314000000, &quot;val&quot;: 0.699999988}, {&quot;col&quot;: &quot;significant_wave_height (m)&quot;, &quot;idx&quot;: 1366317600000, &quot;val&quot;: 0.800000012}, {&quot;col&quot;: &quot;significant_wave_height (m)&quot;, &quot;idx&quot;: 1366319400000, &quot;val&quot;: 0.800000012}, {&quot;col&quot;: &quot;significant_wave_height (m)&quot;, &quot;idx&quot;: 1366321200000, &quot;val&quot;: 0.8999999759999999}, {&quot;col&quot;: &quot;significant_wave_height (m)&quot;, &quot;idx&quot;: 1366323000000, &quot;val&quot;: 0.8999999759999999}, {&quot;col&quot;: &quot;significant_wave_height (m)&quot;, &quot;idx&quot;: 1366324800000, &quot;val&quot;: 1.100000024}, {&quot;col&quot;: &quot;significant_wave_height (m)&quot;, &quot;idx&quot;: 1366326600000, &quot;val&quot;: 1.200000048}, {&quot;col&quot;: &quot;significant_wave_height (m)&quot;, &quot;idx&quot;: 1366328400000, &quot;val&quot;: 1.299999952}, {&quot;col&quot;: &quot;significant_wave_height (m)&quot;, &quot;idx&quot;: 1366330200000, &quot;val&quot;: 1.399999976}, {&quot;col&quot;: &quot;significant_wave_height (m)&quot;, &quot;idx&quot;: 1366332000000, &quot;val&quot;: 1.5}, {&quot;col&quot;: &quot;significant_wave_height (m)&quot;, &quot;idx&quot;: 1366333800000, &quot;val&quot;: 1.7999999519999998}, {&quot;col&quot;: &quot;significant_wave_height (m)&quot;, &quot;idx&quot;: 1366335600000, &quot;val&quot;: 1.7999999519999998}, {&quot;col&quot;: &quot;significant_wave_height (m)&quot;, &quot;idx&quot;: 1366337400000, &quot;val&quot;: 1.7000000480000002}, {&quot;col&quot;: &quot;significant_wave_height (m)&quot;, &quot;idx&quot;: 1366339200000, &quot;val&quot;: 1.7000000480000002}, {&quot;col&quot;: &quot;significant_wave_height (m)&quot;, &quot;idx&quot;: 1366341000000, &quot;val&quot;: 1.7999999519999998}, {&quot;col&quot;: &quot;significant_wave_height (m)&quot;, &quot;idx&quot;: 1366342800000, &quot;val&quot;: 1.600000024}, {&quot;col&quot;: &quot;significant_wave_height (m)&quot;, &quot;idx&quot;: 1366344600000, &quot;val&quot;: 1.5}, {&quot;col&quot;: &quot;significant_wave_height (m)&quot;, &quot;idx&quot;: 1366346400000, &quot;val&quot;: 1.7000000480000002}, {&quot;col&quot;: &quot;significant_wave_height (m)&quot;, &quot;idx&quot;: 1366348200000, &quot;val&quot;: 1.600000024}, {&quot;col&quot;: &quot;significant_wave_height (m)&quot;, &quot;idx&quot;: 1366350000000, &quot;val&quot;: 1.5}, {&quot;col&quot;: &quot;significant_wave_height (m)&quot;, &quot;idx&quot;: 1366351800000, &quot;val&quot;: 1.5}, {&quot;col&quot;: &quot;significant_wave_height (m)&quot;, &quot;idx&quot;: 1366353600000, &quot;val&quot;: 1.600000024}, {&quot;col&quot;: &quot;significant_wave_height (m)&quot;, &quot;idx&quot;: 1366355400000, &quot;val&quot;: 1.5}, {&quot;col&quot;: &quot;significant_wave_height (m)&quot;, &quot;idx&quot;: 1366357200000, &quot;val&quot;: 1.600000024}, {&quot;col&quot;: &quot;significant_wave_height (m)&quot;, &quot;idx&quot;: 1366359000000, &quot;val&quot;: 1.600000024}, {&quot;col&quot;: &quot;significant_wave_height (m)&quot;, &quot;idx&quot;: 1366360800000, &quot;val&quot;: 1.299999952}, {&quot;col&quot;: &quot;significant_wave_height (m)&quot;, &quot;idx&quot;: 1366362600000, &quot;val&quot;: 1.5}, {&quot;col&quot;: &quot;significant_wave_height (m)&quot;, &quot;idx&quot;: 1366364400000, &quot;val&quot;: 1.5}, {&quot;col&quot;: &quot;significant_wave_height (m)&quot;, &quot;idx&quot;: 1366366200000, &quot;val&quot;: 1.5}, {&quot;col&quot;: &quot;significant_wave_height (m)&quot;, &quot;idx&quot;: 1366368000000, &quot;val&quot;: 1.5}, {&quot;col&quot;: &quot;significant_wave_height (m)&quot;, &quot;idx&quot;: 1366369800000, &quot;val&quot;: 1.5}, {&quot;col&quot;: &quot;significant_wave_height (m)&quot;, &quot;idx&quot;: 1366371600000, &quot;val&quot;: 1.399999976}, {&quot;col&quot;: &quot;significant_wave_height (m)&quot;, &quot;idx&quot;: 1366373400000, &quot;val&quot;: 1.5}, {&quot;col&quot;: &quot;significant_wave_height (m)&quot;, &quot;idx&quot;: 1366375200000, &quot;val&quot;: 1.5}, {&quot;col&quot;: &quot;significant_wave_height (m)&quot;, &quot;idx&quot;: 1366377000000, &quot;val&quot;: 1.7000000480000002}, {&quot;col&quot;: &quot;significant_wave_height (m)&quot;, &quot;idx&quot;: 1366378800000, &quot;val&quot;: 1.7000000480000002}, {&quot;col&quot;: &quot;significant_wave_height (m)&quot;, &quot;idx&quot;: 1366380600000, &quot;val&quot;: 1.7999999519999998}, {&quot;col&quot;: &quot;significant_wave_height (m)&quot;, &quot;idx&quot;: 1366382400000, &quot;val&quot;: 1.7000000480000002}, {&quot;col&quot;: &quot;significant_wave_height (m)&quot;, &quot;idx&quot;: 1366384200000, &quot;val&quot;: 1.7999999519999998}, {&quot;col&quot;: &quot;significant_wave_height (m)&quot;, &quot;idx&quot;: 1366386000000, &quot;val&quot;: 1.899999976}, {&quot;col&quot;: &quot;significant_wave_height (m)&quot;, &quot;idx&quot;: 1366387800000, &quot;val&quot;: 2.0}, {&quot;col&quot;: &quot;significant_wave_height (m)&quot;, &quot;idx&quot;: 1366389600000, &quot;val&quot;: 1.899999976}, {&quot;col&quot;: &quot;significant_wave_height (m)&quot;, &quot;idx&quot;: 1366391400000, &quot;val&quot;: 1.899999976}, {&quot;col&quot;: &quot;significant_wave_height (m)&quot;, &quot;idx&quot;: 1366393200000, &quot;val&quot;: 2.0}, {&quot;col&quot;: &quot;significant_wave_height (m)&quot;, &quot;idx&quot;: 1366395000000, &quot;val&quot;: 1.7000000480000002}, {&quot;col&quot;: &quot;significant_wave_height (m)&quot;, &quot;idx&quot;: 1366398600000, &quot;val&quot;: 1.7999999519999998}, {&quot;col&quot;: &quot;significant_wave_height (m)&quot;, &quot;idx&quot;: 1366400400000, &quot;val&quot;: 1.7000000480000002}, {&quot;col&quot;: &quot;significant_wave_height (m)&quot;, &quot;idx&quot;: 1366402200000, &quot;val&quot;: 1.899999976}, {&quot;col&quot;: &quot;significant_wave_height (m)&quot;, &quot;idx&quot;: 1366404000000, &quot;val&quot;: 1.7999999519999998}, {&quot;col&quot;: &quot;significant_wave_height (m)&quot;, &quot;idx&quot;: 1366405800000, &quot;val&quot;: 1.7000000480000002}, {&quot;col&quot;: &quot;significant_wave_height (m)&quot;, &quot;idx&quot;: 1366407600000, &quot;val&quot;: 1.7999999519999998}, {&quot;col&quot;: &quot;significant_wave_height (m)&quot;, &quot;idx&quot;: 1366409400000, &quot;val&quot;: 1.600000024}, {&quot;col&quot;: &quot;significant_wave_height (m)&quot;, &quot;idx&quot;: 1366411200000, &quot;val&quot;: 1.7000000480000002}, {&quot;col&quot;: &quot;significant_wave_height (m)&quot;, &quot;idx&quot;: 1366413000000, &quot;val&quot;: 1.5}, {&quot;col&quot;: &quot;significant_wave_height (m)&quot;, &quot;idx&quot;: 1366414800000, &quot;val&quot;: 1.600000024}, {&quot;col&quot;: &quot;significant_wave_height (m)&quot;, &quot;idx&quot;: 1366416600000, &quot;val&quot;: 1.7000000480000002}, {&quot;col&quot;: &quot;significant_wave_height (m)&quot;, &quot;idx&quot;: 1366418400000, &quot;val&quot;: 1.7000000480000002}, {&quot;col&quot;: &quot;significant_wave_height (m)&quot;, &quot;idx&quot;: 1366420200000, &quot;val&quot;: 1.7000000480000002}, {&quot;col&quot;: &quot;significant_wave_height (m)&quot;, &quot;idx&quot;: 1366422000000, &quot;val&quot;: 2.0}, {&quot;col&quot;: &quot;significant_wave_height (m)&quot;, &quot;idx&quot;: 1366423800000, &quot;val&quot;: 1.7999999519999998}, {&quot;col&quot;: &quot;significant_wave_height (m)&quot;, &quot;idx&quot;: 1366425600000, &quot;val&quot;: 2.099999905}, {&quot;col&quot;: &quot;significant_wave_height (m)&quot;, &quot;idx&quot;: 1366427400000, &quot;val&quot;: 1.899999976}, {&quot;col&quot;: &quot;significant_wave_height (m)&quot;, &quot;idx&quot;: 1366429200000, &quot;val&quot;: 1.7999999519999998}, {&quot;col&quot;: &quot;significant_wave_height (m)&quot;, &quot;idx&quot;: 1366431000000, &quot;val&quot;: 1.899999976}, {&quot;col&quot;: &quot;significant_wave_height (m)&quot;, &quot;idx&quot;: 1366432800000, &quot;val&quot;: 1.899999976}, {&quot;col&quot;: &quot;significant_wave_height (m)&quot;, &quot;idx&quot;: 1366434600000, &quot;val&quot;: 1.899999976}, {&quot;col&quot;: &quot;significant_wave_height (m)&quot;, &quot;idx&quot;: 1366436400000, &quot;val&quot;: 1.7000000480000002}, {&quot;col&quot;: &quot;significant_wave_height (m)&quot;, &quot;idx&quot;: 1366438200000, &quot;val&quot;: 1.899999976}, {&quot;col&quot;: &quot;significant_wave_height (m)&quot;, &quot;idx&quot;: 1366440000000, &quot;val&quot;: 1.899999976}, {&quot;col&quot;: &quot;significant_wave_height (m)&quot;, &quot;idx&quot;: 1366441800000, &quot;val&quot;: 1.899999976}, {&quot;col&quot;: &quot;significant_wave_height (m)&quot;, &quot;idx&quot;: 1366443600000, &quot;val&quot;: 1.7999999519999998}, {&quot;col&quot;: &quot;significant_wave_height (m)&quot;, &quot;idx&quot;: 1366445400000, &quot;val&quot;: 1.7999999519999998}, {&quot;col&quot;: &quot;significant_wave_height (m)&quot;, &quot;idx&quot;: 1366447200000, &quot;val&quot;: 1.7999999519999998}, {&quot;col&quot;: &quot;significant_wave_height (m)&quot;, &quot;idx&quot;: 1366449000000, &quot;val&quot;: 1.899999976}, {&quot;col&quot;: &quot;significant_wave_height (m)&quot;, &quot;idx&quot;: 1366450800000, &quot;val&quot;: 2.099999905}, {&quot;col&quot;: &quot;significant_wave_height (m)&quot;, &quot;idx&quot;: 1366452600000, &quot;val&quot;: 1.899999976}, {&quot;col&quot;: &quot;significant_wave_height (m)&quot;, &quot;idx&quot;: 1366454400000, &quot;val&quot;: 1.899999976}, {&quot;col&quot;: &quot;significant_wave_height (m)&quot;, &quot;idx&quot;: 1366456200000, &quot;val&quot;: 2.0}, {&quot;col&quot;: &quot;significant_wave_height (m)&quot;, &quot;idx&quot;: 1366458000000, &quot;val&quot;: 1.899999976}, {&quot;col&quot;: &quot;significant_wave_height (m)&quot;, &quot;idx&quot;: 1366459800000, &quot;val&quot;: 1.7999999519999998}, {&quot;col&quot;: &quot;significant_wave_height (m)&quot;, &quot;idx&quot;: 1366461600000, &quot;val&quot;: 1.7999999519999998}, {&quot;col&quot;: &quot;significant_wave_height (m)&quot;, &quot;idx&quot;: 1366463400000, &quot;val&quot;: 1.7000000480000002}, {&quot;col&quot;: &quot;significant_wave_height (m)&quot;, &quot;idx&quot;: 1366465200000, &quot;val&quot;: 1.7000000480000002}, {&quot;col&quot;: &quot;significant_wave_height (m)&quot;, &quot;idx&quot;: 1366467000000, &quot;val&quot;: 1.899999976}, {&quot;col&quot;: &quot;significant_wave_height (m)&quot;, &quot;idx&quot;: 1366468800000, &quot;val&quot;: 1.899999976}, {&quot;col&quot;: &quot;significant_wave_height (m)&quot;, &quot;idx&quot;: 1366470600000, &quot;val&quot;: 1.899999976}, {&quot;col&quot;: &quot;significant_wave_height (m)&quot;, &quot;idx&quot;: 1366472400000, &quot;val&quot;: 2.099999905}, {&quot;col&quot;: &quot;significant_wave_height (m)&quot;, &quot;idx&quot;: 1366474200000, &quot;val&quot;: 2.0}, {&quot;col&quot;: &quot;significant_wave_height (m)&quot;, &quot;idx&quot;: 1366476000000, &quot;val&quot;: 1.7999999519999998}, {&quot;col&quot;: &quot;significant_wave_height (m)&quot;, &quot;idx&quot;: 1366477800000, &quot;val&quot;: 2.0}, {&quot;col&quot;: &quot;significant_wave_height (m)&quot;, &quot;idx&quot;: 1366479600000, &quot;val&quot;: 1.899999976}, {&quot;col&quot;: &quot;significant_wave_height (m)&quot;, &quot;idx&quot;: 1366481400000, &quot;val&quot;: 1.899999976}, {&quot;col&quot;: &quot;significant_wave_height (m)&quot;, &quot;idx&quot;: 1366483200000, &quot;val&quot;: 1.7999999519999998}, {&quot;col&quot;: &quot;significant_wave_height (m)&quot;, &quot;idx&quot;: 1366485000000, &quot;val&quot;: 1.7000000480000002}, {&quot;col&quot;: &quot;significant_wave_height (m)&quot;, &quot;idx&quot;: 1366486800000, &quot;val&quot;: 1.7000000480000002}, {&quot;col&quot;: &quot;significant_wave_height (m)&quot;, &quot;idx&quot;: 1366488600000, &quot;val&quot;: 1.600000024}, {&quot;col&quot;: &quot;significant_wave_height (m)&quot;, &quot;idx&quot;: 1366490400000, &quot;val&quot;: 1.600000024}, {&quot;col&quot;: &quot;significant_wave_height (m)&quot;, &quot;idx&quot;: 1366492200000, &quot;val&quot;: 1.600000024}, {&quot;col&quot;: &quot;significant_wave_height (m)&quot;, &quot;idx&quot;: 1366494000000, &quot;val&quot;: 1.600000024}, {&quot;col&quot;: &quot;significant_wave_height (m)&quot;, &quot;idx&quot;: 1366495800000, &quot;val&quot;: 1.5}, {&quot;col&quot;: &quot;significant_wave_height (m)&quot;, &quot;idx&quot;: 1366497600000, &quot;val&quot;: 1.600000024}, {&quot;col&quot;: &quot;significant_wave_height (m)&quot;, &quot;idx&quot;: 1366499400000, &quot;val&quot;: 1.5}, {&quot;col&quot;: &quot;significant_wave_height (m)&quot;, &quot;idx&quot;: 1366501200000, &quot;val&quot;: 1.5}, {&quot;col&quot;: &quot;significant_wave_height (m)&quot;, &quot;idx&quot;: 1366503000000, &quot;val&quot;: 1.399999976}, {&quot;col&quot;: &quot;significant_wave_height (m)&quot;, &quot;idx&quot;: 1366504800000, &quot;val&quot;: 1.399999976}, {&quot;col&quot;: &quot;significant_wave_height (m)&quot;, &quot;idx&quot;: 1366506600000, &quot;val&quot;: 1.299999952}, {&quot;col&quot;: &quot;significant_wave_height (m)&quot;, &quot;idx&quot;: 1366508400000, &quot;val&quot;: 1.399999976}, {&quot;col&quot;: &quot;significant_wave_height (m)&quot;, &quot;idx&quot;: 1366510200000, &quot;val&quot;: 1.5}, {&quot;col&quot;: &quot;significant_wave_height (m)&quot;, &quot;idx&quot;: 1366512000000, &quot;val&quot;: 1.399999976}, {&quot;col&quot;: &quot;significant_wave_height (m)&quot;, &quot;idx&quot;: 1366513800000, &quot;val&quot;: 1.5}, {&quot;col&quot;: &quot;significant_wave_height (m)&quot;, &quot;idx&quot;: 1366515600000, &quot;val&quot;: 1.600000024}, {&quot;col&quot;: &quot;significant_wave_height (m)&quot;, &quot;idx&quot;: 1366517400000, &quot;val&quot;: 1.5}, {&quot;col&quot;: &quot;significant_wave_height (m)&quot;, &quot;idx&quot;: 1366519200000, &quot;val&quot;: 1.600000024}, {&quot;col&quot;: &quot;significant_wave_height (m)&quot;, &quot;idx&quot;: 1366521000000, &quot;val&quot;: 1.600000024}, {&quot;col&quot;: &quot;significant_wave_height (m)&quot;, &quot;idx&quot;: 1366522800000, &quot;val&quot;: 1.5}, {&quot;col&quot;: &quot;significant_wave_height (m)&quot;, &quot;idx&quot;: 1366524600000, &quot;val&quot;: 1.399999976}, {&quot;col&quot;: &quot;significant_wave_height (m)&quot;, &quot;idx&quot;: 1366526400000, &quot;val&quot;: 1.399999976}, {&quot;col&quot;: &quot;significant_wave_height (m)&quot;, &quot;idx&quot;: 1366528200000, &quot;val&quot;: 1.399999976}, {&quot;col&quot;: &quot;significant_wave_height (m)&quot;, &quot;idx&quot;: 1366530000000, &quot;val&quot;: 1.299999952}, {&quot;col&quot;: &quot;significant_wave_height (m)&quot;, &quot;idx&quot;: 1366531800000, &quot;val&quot;: 1.299999952}, {&quot;col&quot;: &quot;significant_wave_height (m)&quot;, &quot;idx&quot;: 1366533600000, &quot;val&quot;: 1.299999952}, {&quot;col&quot;: &quot;significant_wave_height (m)&quot;, &quot;idx&quot;: 1366535400000, &quot;val&quot;: 1.299999952}, {&quot;col&quot;: &quot;significant_wave_height (m)&quot;, &quot;idx&quot;: 1366537200000, &quot;val&quot;: 1.399999976}, {&quot;col&quot;: &quot;significant_wave_height (m)&quot;, &quot;idx&quot;: 1366539000000, &quot;val&quot;: 1.299999952}, {&quot;col&quot;: &quot;significant_wave_height (m)&quot;, &quot;idx&quot;: 1366540800000, &quot;val&quot;: 1.200000048}, {&quot;col&quot;: &quot;significant_wave_height (m)&quot;, &quot;idx&quot;: 1366542600000, &quot;val&quot;: 1.200000048}, {&quot;col&quot;: &quot;significant_wave_height (m)&quot;, &quot;idx&quot;: 1366544400000, &quot;val&quot;: 1.200000048}, {&quot;col&quot;: &quot;significant_wave_height (m)&quot;, &quot;idx&quot;: 1366546200000, &quot;val&quot;: 1.299999952}, {&quot;col&quot;: &quot;significant_wave_height (m)&quot;, &quot;idx&quot;: 1366548000000, &quot;val&quot;: 1.200000048}, {&quot;col&quot;: &quot;significant_wave_height (m)&quot;, &quot;idx&quot;: 1366549800000, &quot;val&quot;: 1.200000048}, {&quot;col&quot;: &quot;significant_wave_height (m)&quot;, &quot;idx&quot;: 1366551600000, &quot;val&quot;: 1.200000048}, {&quot;col&quot;: &quot;significant_wave_height (m)&quot;, &quot;idx&quot;: 1366553400000, &quot;val&quot;: 1.100000024}, {&quot;col&quot;: &quot;significant_wave_height (m)&quot;, &quot;idx&quot;: 1366555200000, &quot;val&quot;: 1.100000024}, {&quot;col&quot;: &quot;significant_wave_height (m)&quot;, &quot;idx&quot;: 1366557000000, &quot;val&quot;: 1.299999952}, {&quot;col&quot;: &quot;significant_wave_height (m)&quot;, &quot;idx&quot;: 1366558800000, &quot;val&quot;: 1.100000024}, {&quot;col&quot;: &quot;significant_wave_height (m)&quot;, &quot;idx&quot;: 1366560600000, &quot;val&quot;: 1.200000048}, {&quot;col&quot;: &quot;significant_wave_height (m)&quot;, &quot;idx&quot;: 1366562400000, &quot;val&quot;: 1.200000048}, {&quot;col&quot;: &quot;significant_wave_height (m)&quot;, &quot;idx&quot;: 1366564200000, &quot;val&quot;: 1.200000048}, {&quot;col&quot;: &quot;significant_wave_height (m)&quot;, &quot;idx&quot;: 1366566000000, &quot;val&quot;: 1.200000048}, {&quot;col&quot;: &quot;significant_wave_height (m)&quot;, &quot;idx&quot;: 1366567800000, &quot;val&quot;: 1.100000024}, {&quot;col&quot;: &quot;significant_wave_height (m)&quot;, &quot;idx&quot;: 1366569600000, &quot;val&quot;: 1.200000048}, {&quot;col&quot;: &quot;significant_wave_height (m)&quot;, &quot;idx&quot;: 1366571400000, &quot;val&quot;: 1.100000024}, {&quot;col&quot;: &quot;significant_wave_height (m)&quot;, &quot;idx&quot;: 1366573200000, &quot;val&quot;: 1.200000048}, {&quot;col&quot;: &quot;significant_wave_height (m)&quot;, &quot;idx&quot;: 1366575000000, &quot;val&quot;: 1.100000024}, {&quot;col&quot;: &quot;significant_wave_height (m)&quot;, &quot;idx&quot;: 1366576800000, &quot;val&quot;: 1.200000048}, {&quot;col&quot;: &quot;significant_wave_height (m)&quot;, &quot;idx&quot;: 1366578600000, &quot;val&quot;: 1.200000048}, {&quot;col&quot;: &quot;significant_wave_height (m)&quot;, &quot;idx&quot;: 1366580400000, &quot;val&quot;: 1.100000024}, {&quot;col&quot;: &quot;significant_wave_height (m)&quot;, &quot;idx&quot;: 1366582200000, &quot;val&quot;: 1.100000024}, {&quot;col&quot;: &quot;significant_wave_height (m)&quot;, &quot;idx&quot;: 1366584000000, &quot;val&quot;: 0.8999999759999999}, {&quot;col&quot;: &quot;significant_wave_height (m)&quot;, &quot;idx&quot;: 1366585800000, &quot;val&quot;: 1.0}, {&quot;col&quot;: &quot;significant_wave_height (m)&quot;, &quot;idx&quot;: 1366587600000, &quot;val&quot;: 1.0}, {&quot;col&quot;: &quot;significant_wave_height (m)&quot;, &quot;idx&quot;: 1366589400000, &quot;val&quot;: 1.0}, {&quot;col&quot;: &quot;significant_wave_height (m)&quot;, &quot;idx&quot;: 1366591200000, &quot;val&quot;: 1.0}, {&quot;col&quot;: &quot;significant_wave_height (m)&quot;, &quot;idx&quot;: 1366593000000, &quot;val&quot;: 0.8999999759999999}, {&quot;col&quot;: &quot;significant_wave_height (m)&quot;, &quot;idx&quot;: 1366594800000, &quot;val&quot;: 1.0}, {&quot;col&quot;: &quot;significant_wave_height (m)&quot;, &quot;idx&quot;: 1366596600000, &quot;val&quot;: 1.0}, {&quot;col&quot;: &quot;significant_wave_height (m)&quot;, &quot;idx&quot;: 1366598400000, &quot;val&quot;: 1.0}, {&quot;col&quot;: &quot;significant_wave_height (m)&quot;, &quot;idx&quot;: 1366600200000, &quot;val&quot;: 1.0}, {&quot;col&quot;: &quot;significant_wave_height (m)&quot;, &quot;idx&quot;: 1366602000000, &quot;val&quot;: 1.0}, {&quot;col&quot;: &quot;significant_wave_height (m)&quot;, &quot;idx&quot;: 1366603800000, &quot;val&quot;: 0.8999999759999999}, {&quot;col&quot;: &quot;significant_wave_height (m)&quot;, &quot;idx&quot;: 1366605600000, &quot;val&quot;: 1.0}, {&quot;col&quot;: &quot;significant_wave_height (m)&quot;, &quot;idx&quot;: 1366607400000, &quot;val&quot;: 1.0}, {&quot;col&quot;: &quot;significant_wave_height (m)&quot;, &quot;idx&quot;: 1366609200000, &quot;val&quot;: 0.8999999759999999}, {&quot;col&quot;: &quot;significant_wave_height (m)&quot;, &quot;idx&quot;: 1366611000000, &quot;val&quot;: 1.0}, {&quot;col&quot;: &quot;significant_wave_height (m)&quot;, &quot;idx&quot;: 1366612800000, &quot;val&quot;: 1.0}, {&quot;col&quot;: &quot;significant_wave_height (m)&quot;, &quot;idx&quot;: 1366614600000, &quot;val&quot;: 1.0}, {&quot;col&quot;: &quot;significant_wave_height (m)&quot;, &quot;idx&quot;: 1366616400000, &quot;val&quot;: 1.0}, {&quot;col&quot;: &quot;significant_wave_height (m)&quot;, &quot;idx&quot;: 1366618200000, &quot;val&quot;: 0.8999999759999999}, {&quot;col&quot;: &quot;significant_wave_height (m)&quot;, &quot;idx&quot;: 1366620000000, &quot;val&quot;: 0.8999999759999999}, {&quot;col&quot;: &quot;significant_wave_height (m)&quot;, &quot;idx&quot;: 1366621800000, &quot;val&quot;: 0.8999999759999999}, {&quot;col&quot;: &quot;significant_wave_height (m)&quot;, &quot;idx&quot;: 1366623600000, &quot;val&quot;: 0.800000012}, {&quot;col&quot;: &quot;significant_wave_height (m)&quot;, &quot;idx&quot;: 1366625400000, &quot;val&quot;: 0.800000012}, {&quot;col&quot;: &quot;significant_wave_height (m)&quot;, &quot;idx&quot;: 1366627200000, &quot;val&quot;: 0.8999999759999999}, {&quot;col&quot;: &quot;significant_wave_height (m)&quot;, &quot;idx&quot;: 1366629000000, &quot;val&quot;: 0.8999999759999999}, {&quot;col&quot;: &quot;significant_wave_height (m)&quot;, &quot;idx&quot;: 1366630800000, &quot;val&quot;: 0.800000012}, {&quot;col&quot;: &quot;significant_wave_height (m)&quot;, &quot;idx&quot;: 1366632600000, &quot;val&quot;: 0.8999999759999999}, {&quot;col&quot;: &quot;significant_wave_height (m)&quot;, &quot;idx&quot;: 1366634400000, &quot;val&quot;: 0.8999999759999999}, {&quot;col&quot;: &quot;significant_wave_height (m)&quot;, &quot;idx&quot;: 1366636200000, &quot;val&quot;: 0.8999999759999999}, {&quot;col&quot;: &quot;significant_wave_height (m)&quot;, &quot;idx&quot;: 1366638000000, &quot;val&quot;: 0.8999999759999999}, {&quot;col&quot;: &quot;significant_wave_height (m)&quot;, &quot;idx&quot;: 1366639800000, &quot;val&quot;: 0.8999999759999999}, {&quot;col&quot;: &quot;significant_wave_height (m)&quot;, &quot;idx&quot;: 1366641600000, &quot;val&quot;: 0.800000012}, {&quot;col&quot;: &quot;significant_wave_height (m)&quot;, &quot;idx&quot;: 1366643400000, &quot;val&quot;: 0.800000012}, {&quot;col&quot;: &quot;significant_wave_height (m)&quot;, &quot;idx&quot;: 1366645200000, &quot;val&quot;: 0.8999999759999999}, {&quot;col&quot;: &quot;significant_wave_height (m)&quot;, &quot;idx&quot;: 1366647000000, &quot;val&quot;: 0.800000012}, {&quot;col&quot;: &quot;significant_wave_height (m)&quot;, &quot;idx&quot;: 1366648800000, &quot;val&quot;: 0.8999999759999999}, {&quot;col&quot;: &quot;significant_wave_height (m)&quot;, &quot;idx&quot;: 1366650600000, &quot;val&quot;: 0.800000012}, {&quot;col&quot;: &quot;significant_wave_height (m)&quot;, &quot;idx&quot;: 1366652400000, &quot;val&quot;: 0.8999999759999999}, {&quot;col&quot;: &quot;significant_wave_height (m)&quot;, &quot;idx&quot;: 1366654200000, &quot;val&quot;: 0.800000012}, {&quot;col&quot;: &quot;significant_wave_height (m)&quot;, &quot;idx&quot;: 1366656000000, &quot;val&quot;: 0.800000012}, {&quot;col&quot;: &quot;significant_wave_height (m)&quot;, &quot;idx&quot;: 1366661400000, &quot;val&quot;: 0.800000012}, {&quot;col&quot;: &quot;significant_wave_height (m)&quot;, &quot;idx&quot;: 1366663200000, &quot;val&quot;: 0.699999988}, {&quot;col&quot;: &quot;significant_wave_height (m)&quot;, &quot;idx&quot;: 1366665000000, &quot;val&quot;: 0.699999988}, {&quot;col&quot;: &quot;significant_wave_height (m)&quot;, &quot;idx&quot;: 1366666800000, &quot;val&quot;: 0.699999988}, {&quot;col&quot;: &quot;significant_wave_height (m)&quot;, &quot;idx&quot;: 1366668600000, &quot;val&quot;: 0.699999988}, {&quot;col&quot;: &quot;significant_wave_height (m)&quot;, &quot;idx&quot;: 1366670400000, &quot;val&quot;: 0.699999988}, {&quot;col&quot;: &quot;significant_wave_height (m)&quot;, &quot;idx&quot;: 1366672200000, &quot;val&quot;: 0.699999988}, {&quot;col&quot;: &quot;significant_wave_height (m)&quot;, &quot;idx&quot;: 1366674000000, &quot;val&quot;: 0.699999988}, {&quot;col&quot;: &quot;significant_wave_height (m)&quot;, &quot;idx&quot;: 1366675800000, &quot;val&quot;: 0.600000024}, {&quot;col&quot;: &quot;significant_wave_height (m)&quot;, &quot;idx&quot;: 1366677600000, &quot;val&quot;: 0.699999988}, {&quot;col&quot;: &quot;significant_wave_height (m)&quot;, &quot;idx&quot;: 1366679400000, &quot;val&quot;: 0.800000012}, {&quot;col&quot;: &quot;significant_wave_height (m)&quot;, &quot;idx&quot;: 1366681200000, &quot;val&quot;: 0.8999999759999999}, {&quot;col&quot;: &quot;significant_wave_height (m)&quot;, &quot;idx&quot;: 1366683000000, &quot;val&quot;: 0.8999999759999999}, {&quot;col&quot;: &quot;significant_wave_height (m)&quot;, &quot;idx&quot;: 1366684800000, &quot;val&quot;: 0.8999999759999999}, {&quot;col&quot;: &quot;significant_wave_height (m)&quot;, &quot;idx&quot;: 1366686600000, &quot;val&quot;: 1.100000024}, {&quot;col&quot;: &quot;significant_wave_height (m)&quot;, &quot;idx&quot;: 1366688400000, &quot;val&quot;: 1.100000024}, {&quot;col&quot;: &quot;significant_wave_height (m)&quot;, &quot;idx&quot;: 1366690200000, &quot;val&quot;: 1.200000048}, {&quot;col&quot;: &quot;significant_wave_height (m)&quot;, &quot;idx&quot;: 1366692000000, &quot;val&quot;: 1.200000048}, {&quot;col&quot;: &quot;significant_wave_height (m)&quot;, &quot;idx&quot;: 1366693800000, &quot;val&quot;: 1.200000048}, {&quot;col&quot;: &quot;significant_wave_height (m)&quot;, &quot;idx&quot;: 1366695600000, &quot;val&quot;: 1.100000024}, {&quot;col&quot;: &quot;significant_wave_height (m)&quot;, &quot;idx&quot;: 1366697400000, &quot;val&quot;: 1.100000024}, {&quot;col&quot;: &quot;significant_wave_height (m)&quot;, &quot;idx&quot;: 1366699200000, &quot;val&quot;: 1.100000024}, {&quot;col&quot;: &quot;significant_wave_height (m)&quot;, &quot;idx&quot;: 1366701000000, &quot;val&quot;: 1.100000024}, {&quot;col&quot;: &quot;significant_wave_height (m)&quot;, &quot;idx&quot;: 1366702800000, &quot;val&quot;: 1.100000024}, {&quot;col&quot;: &quot;significant_wave_height (m)&quot;, &quot;idx&quot;: 1366704600000, &quot;val&quot;: 1.100000024}, {&quot;col&quot;: &quot;significant_wave_height (m)&quot;, &quot;idx&quot;: 1366706400000, &quot;val&quot;: 1.0}, {&quot;col&quot;: &quot;significant_wave_height (m)&quot;, &quot;idx&quot;: 1366708200000, &quot;val&quot;: 1.0}, {&quot;col&quot;: &quot;significant_wave_height (m)&quot;, &quot;idx&quot;: 1366710000000, &quot;val&quot;: 1.0}, {&quot;col&quot;: &quot;significant_wave_height (m)&quot;, &quot;idx&quot;: 1366711800000, &quot;val&quot;: 1.0}, {&quot;col&quot;: &quot;significant_wave_height (m)&quot;, &quot;idx&quot;: 1366713600000, &quot;val&quot;: 1.0}, {&quot;col&quot;: &quot;significant_wave_height (m)&quot;, &quot;idx&quot;: 1366715400000, &quot;val&quot;: 1.0}, {&quot;col&quot;: &quot;significant_wave_height (m)&quot;, &quot;idx&quot;: 1366717200000, &quot;val&quot;: 0.8999999759999999}, {&quot;col&quot;: &quot;significant_wave_height (m)&quot;, &quot;idx&quot;: 1366719000000, &quot;val&quot;: 0.8999999759999999}, {&quot;col&quot;: &quot;significant_wave_height (m)&quot;, &quot;idx&quot;: 1366720800000, &quot;val&quot;: 1.0}, {&quot;col&quot;: &quot;significant_wave_height (m)&quot;, &quot;idx&quot;: 1366722600000, &quot;val&quot;: 1.100000024}, {&quot;col&quot;: &quot;significant_wave_height (m)&quot;, &quot;idx&quot;: 1366724400000, &quot;val&quot;: 1.100000024}, {&quot;col&quot;: &quot;significant_wave_height (m)&quot;, &quot;idx&quot;: 1366726200000, &quot;val&quot;: 1.0}, {&quot;col&quot;: &quot;significant_wave_height (m)&quot;, &quot;idx&quot;: 1366728000000, &quot;val&quot;: 1.0}, {&quot;col&quot;: &quot;significant_wave_height (m)&quot;, &quot;idx&quot;: 1366729800000, &quot;val&quot;: 0.8999999759999999}, {&quot;col&quot;: &quot;significant_wave_height (m)&quot;, &quot;idx&quot;: 1366731600000, &quot;val&quot;: 0.8999999759999999}, {&quot;col&quot;: &quot;significant_wave_height (m)&quot;, &quot;idx&quot;: 1366733400000, &quot;val&quot;: 1.0}, {&quot;col&quot;: &quot;significant_wave_height (m)&quot;, &quot;idx&quot;: 1366735200000, &quot;val&quot;: 1.0}, {&quot;col&quot;: &quot;significant_wave_height (m)&quot;, &quot;idx&quot;: 1366737000000, &quot;val&quot;: 0.8999999759999999}, {&quot;col&quot;: &quot;significant_wave_height (m)&quot;, &quot;idx&quot;: 1366738800000, &quot;val&quot;: 1.0}, {&quot;col&quot;: &quot;significant_wave_height (m)&quot;, &quot;idx&quot;: 1366740600000, &quot;val&quot;: 1.0}, {&quot;col&quot;: &quot;significant_wave_height (m)&quot;, &quot;idx&quot;: 1366742400000, &quot;val&quot;: 0.8999999759999999}, {&quot;col&quot;: &quot;significant_wave_height (m)&quot;, &quot;idx&quot;: 1366744200000, &quot;val&quot;: 0.8999999759999999}, {&quot;col&quot;: &quot;significant_wave_height (m)&quot;, &quot;idx&quot;: 1366746000000, &quot;val&quot;: 0.8999999759999999}, {&quot;col&quot;: &quot;significant_wave_height (m)&quot;, &quot;idx&quot;: 1366747800000, &quot;val&quot;: 0.8999999759999999}, {&quot;col&quot;: &quot;significant_wave_height (m)&quot;, &quot;idx&quot;: 1366749600000, &quot;val&quot;: 0.800000012}, {&quot;col&quot;: &quot;significant_wave_height (m)&quot;, &quot;idx&quot;: 1366751400000, &quot;val&quot;: 0.800000012}, {&quot;col&quot;: &quot;significant_wave_height (m)&quot;, &quot;idx&quot;: 1366753200000, &quot;val&quot;: 0.800000012}, {&quot;col&quot;: &quot;significant_wave_height (m)&quot;, &quot;idx&quot;: 1366755000000, &quot;val&quot;: 0.800000012}, {&quot;col&quot;: &quot;significant_wave_height (m)&quot;, &quot;idx&quot;: 1366756800000, &quot;val&quot;: 0.800000012}, {&quot;col&quot;: &quot;significant_wave_height (m)&quot;, &quot;idx&quot;: 1366758600000, &quot;val&quot;: 0.800000012}, {&quot;col&quot;: &quot;significant_wave_height (m)&quot;, &quot;idx&quot;: 1366760400000, &quot;val&quot;: 0.800000012}, {&quot;col&quot;: &quot;significant_wave_height (m)&quot;, &quot;idx&quot;: 1366762200000, &quot;val&quot;: 0.800000012}, {&quot;col&quot;: &quot;significant_wave_height (m)&quot;, &quot;idx&quot;: 1366764000000, &quot;val&quot;: 0.800000012}, {&quot;col&quot;: &quot;significant_wave_height (m)&quot;, &quot;idx&quot;: 1366765800000, &quot;val&quot;: 0.800000012}, {&quot;col&quot;: &quot;significant_wave_height (m)&quot;, &quot;idx&quot;: 1366767600000, &quot;val&quot;: 0.800000012}, {&quot;col&quot;: &quot;significant_wave_height (m)&quot;, &quot;idx&quot;: 1366769400000, &quot;val&quot;: 0.800000012}, {&quot;col&quot;: &quot;significant_wave_height (m)&quot;, &quot;idx&quot;: 1366771200000, &quot;val&quot;: 0.8999999759999999}, {&quot;col&quot;: &quot;significant_wave_height (m)&quot;, &quot;idx&quot;: 1366773000000, &quot;val&quot;: 0.8999999759999999}, {&quot;col&quot;: &quot;significant_wave_height (m)&quot;, &quot;idx&quot;: 1366774800000, &quot;val&quot;: 0.8999999759999999}, {&quot;col&quot;: &quot;significant_wave_height (m)&quot;, &quot;idx&quot;: 1366776600000, &quot;val&quot;: 1.0}, {&quot;col&quot;: &quot;significant_wave_height (m)&quot;, &quot;idx&quot;: 1366778400000, &quot;val&quot;: 1.100000024}, {&quot;col&quot;: &quot;significant_wave_height (m)&quot;, &quot;idx&quot;: 1366780200000, &quot;val&quot;: 1.100000024}, {&quot;col&quot;: &quot;significant_wave_height (m)&quot;, &quot;idx&quot;: 1366782000000, &quot;val&quot;: 1.100000024}, {&quot;col&quot;: &quot;significant_wave_height (m)&quot;, &quot;idx&quot;: 1366783800000, &quot;val&quot;: 1.0}, {&quot;col&quot;: &quot;significant_wave_height (m)&quot;, &quot;idx&quot;: 1366785600000, &quot;val&quot;: 1.100000024}, {&quot;col&quot;: &quot;significant_wave_height (m)&quot;, &quot;idx&quot;: 1366787400000, &quot;val&quot;: 1.100000024}, {&quot;col&quot;: &quot;significant_wave_height (m)&quot;, &quot;idx&quot;: 1366789200000, &quot;val&quot;: 1.100000024}, {&quot;col&quot;: &quot;significant_wave_height (m)&quot;, &quot;idx&quot;: 1366791000000, &quot;val&quot;: 1.100000024}, {&quot;col&quot;: &quot;significant_wave_height (m)&quot;, &quot;idx&quot;: 1366792800000, &quot;val&quot;: 1.100000024}, {&quot;col&quot;: &quot;significant_wave_height (m)&quot;, &quot;idx&quot;: 1366794600000, &quot;val&quot;: 1.100000024}, {&quot;col&quot;: &quot;significant_wave_height (m)&quot;, &quot;idx&quot;: 1366796400000, &quot;val&quot;: 1.200000048}, {&quot;col&quot;: &quot;significant_wave_height (m)&quot;, &quot;idx&quot;: 1366798200000, &quot;val&quot;: 1.200000048}, {&quot;col&quot;: &quot;significant_wave_height (m)&quot;, &quot;idx&quot;: 1366800000000, &quot;val&quot;: 1.299999952}, {&quot;col&quot;: &quot;significant_wave_height (m)&quot;, &quot;idx&quot;: 1366801800000, &quot;val&quot;: 1.100000024}, {&quot;col&quot;: &quot;significant_wave_height (m)&quot;, &quot;idx&quot;: 1366803600000, &quot;val&quot;: 1.100000024}, {&quot;col&quot;: &quot;significant_wave_height (m)&quot;, &quot;idx&quot;: 1366805400000, &quot;val&quot;: 1.100000024}, {&quot;col&quot;: &quot;significant_wave_height (m)&quot;, &quot;idx&quot;: 1366807200000, &quot;val&quot;: 1.100000024}, {&quot;col&quot;: &quot;significant_wave_height (m)&quot;, &quot;idx&quot;: 1366809000000, &quot;val&quot;: 1.100000024}, {&quot;col&quot;: &quot;significant_wave_height (m)&quot;, &quot;idx&quot;: 1366810800000, &quot;val&quot;: 1.200000048}, {&quot;col&quot;: &quot;significant_wave_height (m)&quot;, &quot;idx&quot;: 1366812600000, &quot;val&quot;: 1.299999952}, {&quot;col&quot;: &quot;significant_wave_height (m)&quot;, &quot;idx&quot;: 1366814400000, &quot;val&quot;: 1.299999952}, {&quot;col&quot;: &quot;significant_wave_height (m)&quot;, &quot;idx&quot;: 1366816200000, &quot;val&quot;: 1.299999952}, {&quot;col&quot;: &quot;significant_wave_height (m)&quot;, &quot;idx&quot;: 1366818000000, &quot;val&quot;: 1.299999952}, {&quot;col&quot;: &quot;significant_wave_height (m)&quot;, &quot;idx&quot;: 1366819800000, &quot;val&quot;: 1.200000048}, {&quot;col&quot;: &quot;significant_wave_height (m)&quot;, &quot;idx&quot;: 1366821600000, &quot;val&quot;: 1.299999952}, {&quot;col&quot;: &quot;significant_wave_height (m)&quot;, &quot;idx&quot;: 1366823400000, &quot;val&quot;: 1.200000048}, {&quot;col&quot;: &quot;significant_wave_height (m)&quot;, &quot;idx&quot;: 1366825200000, &quot;val&quot;: 1.200000048}, {&quot;col&quot;: &quot;significant_wave_height (m)&quot;, &quot;idx&quot;: 1366827000000, &quot;val&quot;: 1.200000048}, {&quot;col&quot;: &quot;significant_wave_height (m)&quot;, &quot;idx&quot;: 1366828800000, &quot;val&quot;: 1.299999952}, {&quot;col&quot;: &quot;significant_wave_height (m)&quot;, &quot;idx&quot;: 1366830600000, &quot;val&quot;: 1.299999952}, {&quot;col&quot;: &quot;significant_wave_height (m)&quot;, &quot;idx&quot;: 1366832400000, &quot;val&quot;: 1.299999952}, {&quot;col&quot;: &quot;significant_wave_height (m)&quot;, &quot;idx&quot;: 1366834200000, &quot;val&quot;: 1.200000048}, {&quot;col&quot;: &quot;significant_wave_height (m)&quot;, &quot;idx&quot;: 1366836000000, &quot;val&quot;: 1.200000048}, {&quot;col&quot;: &quot;significant_wave_height (m)&quot;, &quot;idx&quot;: 1366837800000, &quot;val&quot;: 1.200000048}, {&quot;col&quot;: &quot;significant_wave_height (m)&quot;, &quot;idx&quot;: 1366839600000, &quot;val&quot;: 1.200000048}, {&quot;col&quot;: &quot;significant_wave_height (m)&quot;, &quot;idx&quot;: 1366841400000, &quot;val&quot;: 1.200000048}, {&quot;col&quot;: &quot;significant_wave_height (m)&quot;, &quot;idx&quot;: 1366843200000, &quot;val&quot;: 1.100000024}, {&quot;col&quot;: &quot;significant_wave_height (m)&quot;, &quot;idx&quot;: 1366845000000, &quot;val&quot;: 1.100000024}, {&quot;col&quot;: &quot;significant_wave_height (m)&quot;, &quot;idx&quot;: 1366846800000, &quot;val&quot;: 1.100000024}, {&quot;col&quot;: &quot;significant_wave_height (m)&quot;, &quot;idx&quot;: 1366848600000, &quot;val&quot;: 1.100000024}, {&quot;col&quot;: &quot;significant_wave_height (m)&quot;, &quot;idx&quot;: 1366850400000, &quot;val&quot;: 1.0}, {&quot;col&quot;: &quot;significant_wave_height (m)&quot;, &quot;idx&quot;: 1366852200000, &quot;val&quot;: 1.0}, {&quot;col&quot;: &quot;significant_wave_height (m)&quot;, &quot;idx&quot;: 1366854000000, &quot;val&quot;: 1.0}, {&quot;col&quot;: &quot;significant_wave_height (m)&quot;, &quot;idx&quot;: 1366855800000, &quot;val&quot;: 1.0}, {&quot;col&quot;: &quot;significant_wave_height (m)&quot;, &quot;idx&quot;: 1366857600000, &quot;val&quot;: 1.100000024}, {&quot;col&quot;: &quot;significant_wave_height (m)&quot;, &quot;idx&quot;: 1366859400000, &quot;val&quot;: 1.200000048}, {&quot;col&quot;: &quot;significant_wave_height (m)&quot;, &quot;idx&quot;: 1366861200000, &quot;val&quot;: 1.299999952}, {&quot;col&quot;: &quot;significant_wave_height (m)&quot;, &quot;idx&quot;: 1366863000000, &quot;val&quot;: 1.100000024}, {&quot;col&quot;: &quot;significant_wave_height (m)&quot;, &quot;idx&quot;: 1366864800000, &quot;val&quot;: 1.100000024}, {&quot;col&quot;: &quot;significant_wave_height (m)&quot;, &quot;idx&quot;: 1366866600000, &quot;val&quot;: 1.100000024}, {&quot;col&quot;: &quot;significant_wave_height (m)&quot;, &quot;idx&quot;: 1366868400000, &quot;val&quot;: 1.100000024}, {&quot;col&quot;: &quot;significant_wave_height (m)&quot;, &quot;idx&quot;: 1366870200000, &quot;val&quot;: 1.100000024}, {&quot;col&quot;: &quot;significant_wave_height (m)&quot;, &quot;idx&quot;: 1366872000000, &quot;val&quot;: 1.100000024}, {&quot;col&quot;: &quot;significant_wave_height (m)&quot;, &quot;idx&quot;: 1366873800000, &quot;val&quot;: 1.100000024}, {&quot;col&quot;: &quot;significant_wave_height (m)&quot;, &quot;idx&quot;: 1366875600000, &quot;val&quot;: 1.100000024}, {&quot;col&quot;: &quot;significant_wave_height (m)&quot;, &quot;idx&quot;: 1366877400000, &quot;val&quot;: 1.100000024}, {&quot;col&quot;: &quot;significant_wave_height (m)&quot;, &quot;idx&quot;: 1366879200000, &quot;val&quot;: 1.0}, {&quot;col&quot;: &quot;significant_wave_height (m)&quot;, &quot;idx&quot;: 1366881000000, &quot;val&quot;: 1.0}, {&quot;col&quot;: &quot;significant_wave_height (m)&quot;, &quot;idx&quot;: 1366882800000, &quot;val&quot;: 0.8999999759999999}, {&quot;col&quot;: &quot;significant_wave_height (m)&quot;, &quot;idx&quot;: 1366884600000, &quot;val&quot;: 1.0}, {&quot;col&quot;: &quot;significant_wave_height (m)&quot;, &quot;idx&quot;: 1366886400000, &quot;val&quot;: 1.0}, {&quot;col&quot;: &quot;significant_wave_height (m)&quot;, &quot;idx&quot;: 1366888200000, &quot;val&quot;: 0.8999999759999999}, {&quot;col&quot;: &quot;significant_wave_height (m)&quot;, &quot;idx&quot;: 1366890000000, &quot;val&quot;: 0.8999999759999999}, {&quot;col&quot;: &quot;significant_wave_height (m)&quot;, &quot;idx&quot;: 1366891800000, &quot;val&quot;: 0.8999999759999999}, {&quot;col&quot;: &quot;significant_wave_height (m)&quot;, &quot;idx&quot;: 1366893600000, &quot;val&quot;: 0.8999999759999999}, {&quot;col&quot;: &quot;significant_wave_height (m)&quot;, &quot;idx&quot;: 1366895400000, &quot;val&quot;: 0.8999999759999999}, {&quot;col&quot;: &quot;significant_wave_height (m)&quot;, &quot;idx&quot;: 1366897200000, &quot;val&quot;: 0.8999999759999999}, {&quot;col&quot;: &quot;significant_wave_height (m)&quot;, &quot;idx&quot;: 1366899000000, &quot;val&quot;: 1.0}, {&quot;col&quot;: &quot;significant_wave_height (m)&quot;, &quot;idx&quot;: 1366900800000, &quot;val&quot;: 1.200000048}, {&quot;col&quot;: &quot;significant_wave_height (m)&quot;, &quot;idx&quot;: 1366902600000, &quot;val&quot;: 1.299999952}, {&quot;col&quot;: &quot;significant_wave_height (m)&quot;, &quot;idx&quot;: 1366904400000, &quot;val&quot;: 1.0}, {&quot;col&quot;: &quot;significant_wave_height (m)&quot;, &quot;idx&quot;: 1366906200000, &quot;val&quot;: 0.8999999759999999}, {&quot;col&quot;: &quot;significant_wave_height (m)&quot;, &quot;idx&quot;: 1366908000000, &quot;val&quot;: 1.0}, {&quot;col&quot;: &quot;significant_wave_height (m)&quot;, &quot;idx&quot;: 1366909800000, &quot;val&quot;: 0.8999999759999999}, {&quot;col&quot;: &quot;significant_wave_height (m)&quot;, &quot;idx&quot;: 1366911600000, &quot;val&quot;: 1.0}, {&quot;col&quot;: &quot;significant_wave_height (m)&quot;, &quot;idx&quot;: 1366913400000, &quot;val&quot;: 1.100000024}, {&quot;col&quot;: &quot;significant_wave_height (m)&quot;, &quot;idx&quot;: 1366915200000, &quot;val&quot;: 1.100000024}, {&quot;col&quot;: &quot;significant_wave_height (m)&quot;, &quot;idx&quot;: 1366917000000, &quot;val&quot;: 1.100000024}, {&quot;col&quot;: &quot;significant_wave_height (m)&quot;, &quot;idx&quot;: 1366918800000, &quot;val&quot;: 1.0}, {&quot;col&quot;: &quot;significant_wave_height (m)&quot;, &quot;idx&quot;: 1366920600000, &quot;val&quot;: 1.0}, {&quot;col&quot;: &quot;significant_wave_height (m)&quot;, &quot;idx&quot;: 1366922400000, &quot;val&quot;: 1.0}, {&quot;col&quot;: &quot;significant_wave_height (m)&quot;, &quot;idx&quot;: 1366924200000, &quot;val&quot;: 1.0}, {&quot;col&quot;: &quot;significant_wave_height (m)&quot;, &quot;idx&quot;: 1366926000000, &quot;val&quot;: 1.0}, {&quot;col&quot;: &quot;significant_wave_height (m)&quot;, &quot;idx&quot;: 1366927800000, &quot;val&quot;: 1.0}, {&quot;col&quot;: &quot;significant_wave_height (m)&quot;, &quot;idx&quot;: 1366929600000, &quot;val&quot;: 1.100000024}, {&quot;col&quot;: &quot;significant_wave_height (m)&quot;, &quot;idx&quot;: 1366931400000, &quot;val&quot;: 1.100000024}, {&quot;col&quot;: &quot;significant_wave_height (m)&quot;, &quot;idx&quot;: 1366933200000, &quot;val&quot;: 1.100000024}, {&quot;col&quot;: &quot;significant_wave_height (m)&quot;, &quot;idx&quot;: 1366935000000, &quot;val&quot;: 1.200000048}, {&quot;col&quot;: &quot;significant_wave_height (m)&quot;, &quot;idx&quot;: 1366936800000, &quot;val&quot;: 1.100000024}, {&quot;col&quot;: &quot;significant_wave_height (m)&quot;, &quot;idx&quot;: 1366938600000, &quot;val&quot;: 1.100000024}, {&quot;col&quot;: &quot;significant_wave_height (m)&quot;, &quot;idx&quot;: 1366940400000, &quot;val&quot;: 1.0}, {&quot;col&quot;: &quot;significant_wave_height (m)&quot;, &quot;idx&quot;: 1366942200000, &quot;val&quot;: 1.100000024}, {&quot;col&quot;: &quot;significant_wave_height (m)&quot;, &quot;idx&quot;: 1366944000000, &quot;val&quot;: 1.0}, {&quot;col&quot;: &quot;significant_wave_height (m)&quot;, &quot;idx&quot;: 1366945800000, &quot;val&quot;: 1.0}, {&quot;col&quot;: &quot;significant_wave_height (m)&quot;, &quot;idx&quot;: 1366947600000, &quot;val&quot;: 1.200000048}, {&quot;col&quot;: &quot;significant_wave_height (m)&quot;, &quot;idx&quot;: 1366949400000, &quot;val&quot;: 1.299999952}, {&quot;col&quot;: &quot;significant_wave_height (m)&quot;, &quot;idx&quot;: 1366951200000, &quot;val&quot;: 1.399999976}, {&quot;col&quot;: &quot;significant_wave_height (m)&quot;, &quot;idx&quot;: 1366953000000, &quot;val&quot;: 1.200000048}, {&quot;col&quot;: &quot;significant_wave_height (m)&quot;, &quot;idx&quot;: 1366954800000, &quot;val&quot;: 1.299999952}, {&quot;col&quot;: &quot;significant_wave_height (m)&quot;, &quot;idx&quot;: 1366956600000, &quot;val&quot;: 1.200000048}, {&quot;col&quot;: &quot;significant_wave_height (m)&quot;, &quot;idx&quot;: 1366958400000, &quot;val&quot;: 1.299999952}, {&quot;col&quot;: &quot;significant_wave_height (m)&quot;, &quot;idx&quot;: 1366960200000, &quot;val&quot;: 1.299999952}, {&quot;col&quot;: &quot;significant_wave_height (m)&quot;, &quot;idx&quot;: 1366962000000, &quot;val&quot;: 1.299999952}, {&quot;col&quot;: &quot;significant_wave_height (m)&quot;, &quot;idx&quot;: 1366963800000, &quot;val&quot;: 1.299999952}, {&quot;col&quot;: &quot;significant_wave_height (m)&quot;, &quot;idx&quot;: 1366965600000, &quot;val&quot;: 1.200000048}, {&quot;col&quot;: &quot;significant_wave_height (m)&quot;, &quot;idx&quot;: 1366967400000, &quot;val&quot;: 1.200000048}, {&quot;col&quot;: &quot;significant_wave_height (m)&quot;, &quot;idx&quot;: 1366969200000, &quot;val&quot;: 1.100000024}, {&quot;col&quot;: &quot;significant_wave_height (m)&quot;, &quot;idx&quot;: 1366971000000, &quot;val&quot;: 1.100000024}, {&quot;col&quot;: &quot;significant_wave_height (m)&quot;, &quot;idx&quot;: 1366972800000, &quot;val&quot;: 1.0}, {&quot;col&quot;: &quot;significant_wave_height (m)&quot;, &quot;idx&quot;: 1366974600000, &quot;val&quot;: 1.0}, {&quot;col&quot;: &quot;significant_wave_height (m)&quot;, &quot;idx&quot;: 1366976400000, &quot;val&quot;: 1.0}, {&quot;col&quot;: &quot;significant_wave_height (m)&quot;, &quot;idx&quot;: 1366978200000, &quot;val&quot;: 1.0}, {&quot;col&quot;: &quot;significant_wave_height (m)&quot;, &quot;idx&quot;: 1366980000000, &quot;val&quot;: 1.0}, {&quot;col&quot;: &quot;significant_wave_height (m)&quot;, &quot;idx&quot;: 1366981800000, &quot;val&quot;: 0.8999999759999999}, {&quot;col&quot;: &quot;significant_wave_height (m)&quot;, &quot;idx&quot;: 1366983600000, &quot;val&quot;: 0.8999999759999999}, {&quot;col&quot;: &quot;significant_wave_height (m)&quot;, &quot;idx&quot;: 1366985400000, &quot;val&quot;: 0.8999999759999999}, {&quot;col&quot;: &quot;significant_wave_height (m)&quot;, &quot;idx&quot;: 1366987200000, &quot;val&quot;: 0.8999999759999999}, {&quot;col&quot;: &quot;significant_wave_height (m)&quot;, &quot;idx&quot;: 1366989000000, &quot;val&quot;: 1.0}, {&quot;col&quot;: &quot;significant_wave_height (m)&quot;, &quot;idx&quot;: 1366990800000, &quot;val&quot;: 0.8999999759999999}, {&quot;col&quot;: &quot;significant_wave_height (m)&quot;, &quot;idx&quot;: 1366992600000, &quot;val&quot;: 0.8999999759999999}, {&quot;col&quot;: &quot;significant_wave_height (m)&quot;, &quot;idx&quot;: 1366994400000, &quot;val&quot;: 0.8999999759999999}, {&quot;col&quot;: &quot;significant_wave_height (m)&quot;, &quot;idx&quot;: 1366996200000, &quot;val&quot;: 0.800000012}, {&quot;col&quot;: &quot;significant_wave_height (m)&quot;, &quot;idx&quot;: 1366998000000, &quot;val&quot;: 0.699999988}, {&quot;col&quot;: &quot;significant_wave_height (m)&quot;, &quot;idx&quot;: 1366999800000, &quot;val&quot;: 0.800000012}, {&quot;col&quot;: &quot;significant_wave_height (m)&quot;, &quot;idx&quot;: 1367001600000, &quot;val&quot;: 0.8999999759999999}, {&quot;col&quot;: &quot;significant_wave_height (m)&quot;, &quot;idx&quot;: 1367003400000, &quot;val&quot;: 0.800000012}, {&quot;col&quot;: &quot;significant_wave_height (m)&quot;, &quot;idx&quot;: 1367005200000, &quot;val&quot;: 0.800000012}, {&quot;col&quot;: &quot;significant_wave_height (m)&quot;, &quot;idx&quot;: 1367007000000, &quot;val&quot;: 0.800000012}, {&quot;col&quot;: &quot;significant_wave_height (m)&quot;, &quot;idx&quot;: 1367008800000, &quot;val&quot;: 0.800000012}, {&quot;col&quot;: &quot;significant_wave_height (m)&quot;, &quot;idx&quot;: 1367010600000, &quot;val&quot;: 0.800000012}, {&quot;col&quot;: &quot;significant_wave_height (m)&quot;, &quot;idx&quot;: 1367012400000, &quot;val&quot;: 0.699999988}, {&quot;col&quot;: &quot;significant_wave_height (m)&quot;, &quot;idx&quot;: 1367014200000, &quot;val&quot;: 0.699999988}, {&quot;col&quot;: &quot;significant_wave_height (m)&quot;, &quot;idx&quot;: 1367016000000, &quot;val&quot;: 0.699999988}, {&quot;col&quot;: &quot;significant_wave_height (m)&quot;, &quot;idx&quot;: 1367017800000, &quot;val&quot;: 0.699999988}, {&quot;col&quot;: &quot;significant_wave_height (m)&quot;, &quot;idx&quot;: 1367019600000, &quot;val&quot;: 0.699999988}, {&quot;col&quot;: &quot;significant_wave_height (m)&quot;, &quot;idx&quot;: 1367021400000, &quot;val&quot;: 0.699999988}, {&quot;col&quot;: &quot;significant_wave_height (m)&quot;, &quot;idx&quot;: 1367023200000, &quot;val&quot;: 0.699999988}, {&quot;col&quot;: &quot;significant_wave_height (m)&quot;, &quot;idx&quot;: 1367025000000, &quot;val&quot;: 0.699999988}, {&quot;col&quot;: &quot;significant_wave_height (m)&quot;, &quot;idx&quot;: 1367026800000, &quot;val&quot;: 0.600000024}, {&quot;col&quot;: &quot;significant_wave_height (m)&quot;, &quot;idx&quot;: 1367028600000, &quot;val&quot;: 0.600000024}, {&quot;col&quot;: &quot;significant_wave_height (m)&quot;, &quot;idx&quot;: 1367030400000, &quot;val&quot;: 0.600000024}, {&quot;col&quot;: &quot;significant_wave_height (m)&quot;, &quot;idx&quot;: 1367032200000, &quot;val&quot;: 0.600000024}, {&quot;col&quot;: &quot;significant_wave_height (m)&quot;, &quot;idx&quot;: 1367034000000, &quot;val&quot;: 0.600000024}, {&quot;col&quot;: &quot;significant_wave_height (m)&quot;, &quot;idx&quot;: 1367035800000, &quot;val&quot;: 0.600000024}, {&quot;col&quot;: &quot;significant_wave_height (m)&quot;, &quot;idx&quot;: 1367037600000, &quot;val&quot;: 0.699999988}, {&quot;col&quot;: &quot;significant_wave_height (m)&quot;, &quot;idx&quot;: 1367039400000, &quot;val&quot;: 0.699999988}, {&quot;col&quot;: &quot;significant_wave_height (m)&quot;, &quot;idx&quot;: 1367041200000, &quot;val&quot;: 0.699999988}, {&quot;col&quot;: &quot;significant_wave_height (m)&quot;, &quot;idx&quot;: 1367043000000, &quot;val&quot;: 0.699999988}, {&quot;col&quot;: &quot;significant_wave_height (m)&quot;, &quot;idx&quot;: 1367044800000, &quot;val&quot;: 0.600000024}, {&quot;col&quot;: &quot;significant_wave_height (m)&quot;, &quot;idx&quot;: 1367046600000, &quot;val&quot;: 0.699999988}, {&quot;col&quot;: &quot;significant_wave_height (m)&quot;, &quot;idx&quot;: 1367048400000, &quot;val&quot;: 0.600000024}, {&quot;col&quot;: &quot;significant_wave_height (m)&quot;, &quot;idx&quot;: 1367050200000, &quot;val&quot;: 0.699999988}, {&quot;col&quot;: &quot;significant_wave_height (m)&quot;, &quot;idx&quot;: 1367052000000, &quot;val&quot;: 0.600000024}, {&quot;col&quot;: &quot;significant_wave_height (m)&quot;, &quot;idx&quot;: 1367053800000, &quot;val&quot;: 0.600000024}, {&quot;col&quot;: &quot;significant_wave_height (m)&quot;, &quot;idx&quot;: 1367055600000, &quot;val&quot;: 0.699999988}, {&quot;col&quot;: &quot;significant_wave_height (m)&quot;, &quot;idx&quot;: 1367057400000, &quot;val&quot;: 0.699999988}, {&quot;col&quot;: &quot;significant_wave_height (m)&quot;, &quot;idx&quot;: 1367059200000, &quot;val&quot;: 0.600000024}, {&quot;col&quot;: &quot;significant_wave_height (m)&quot;, &quot;idx&quot;: 1367061000000, &quot;val&quot;: 0.600000024}, {&quot;col&quot;: &quot;significant_wave_height (m)&quot;, &quot;idx&quot;: 1367062800000, &quot;val&quot;: 0.600000024}, {&quot;col&quot;: &quot;significant_wave_height (m)&quot;, &quot;idx&quot;: 1367064600000, &quot;val&quot;: 0.600000024}, {&quot;col&quot;: &quot;significant_wave_height (m)&quot;, &quot;idx&quot;: 1367066400000, &quot;val&quot;: 0.600000024}, {&quot;col&quot;: &quot;significant_wave_height (m)&quot;, &quot;idx&quot;: 1367068200000, &quot;val&quot;: 0.600000024}, {&quot;col&quot;: &quot;significant_wave_height (m)&quot;, &quot;idx&quot;: 1367070000000, &quot;val&quot;: 0.5}, {&quot;col&quot;: &quot;significant_wave_height (m)&quot;, &quot;idx&quot;: 1367071800000, &quot;val&quot;: 0.5}, {&quot;col&quot;: &quot;significant_wave_height (m)&quot;, &quot;idx&quot;: 1367073600000, &quot;val&quot;: 0.5}, {&quot;col&quot;: &quot;significant_wave_height (m)&quot;, &quot;idx&quot;: 1367075400000, &quot;val&quot;: 0.600000024}, {&quot;col&quot;: &quot;significant_wave_height (m)&quot;, &quot;idx&quot;: 1367077200000, &quot;val&quot;: 0.600000024}, {&quot;col&quot;: &quot;significant_wave_height (m)&quot;, &quot;idx&quot;: 1367079000000, &quot;val&quot;: 0.600000024}, {&quot;col&quot;: &quot;significant_wave_height (m)&quot;, &quot;idx&quot;: 1367080800000, &quot;val&quot;: 0.600000024}, {&quot;col&quot;: &quot;significant_wave_height (m)&quot;, &quot;idx&quot;: 1367082600000, &quot;val&quot;: 0.600000024}, {&quot;col&quot;: &quot;significant_wave_height (m)&quot;, &quot;idx&quot;: 1367084400000, &quot;val&quot;: 0.600000024}, {&quot;col&quot;: &quot;significant_wave_height (m)&quot;, &quot;idx&quot;: 1367086200000, &quot;val&quot;: 0.600000024}, {&quot;col&quot;: &quot;significant_wave_height (m)&quot;, &quot;idx&quot;: 1367088000000, &quot;val&quot;: 0.600000024}, {&quot;col&quot;: &quot;significant_wave_height (m)&quot;, &quot;idx&quot;: 1367089800000, &quot;val&quot;: 0.699999988}, {&quot;col&quot;: &quot;significant_wave_height (m)&quot;, &quot;idx&quot;: 1367091600000, &quot;val&quot;: 0.800000012}, {&quot;col&quot;: &quot;significant_wave_height (m)&quot;, &quot;idx&quot;: 1367093400000, &quot;val&quot;: 0.8999999759999999}, {&quot;col&quot;: &quot;significant_wave_height (m)&quot;, &quot;idx&quot;: 1367095200000, &quot;val&quot;: 0.8999999759999999}, {&quot;col&quot;: &quot;significant_wave_height (m)&quot;, &quot;idx&quot;: 1367097000000, &quot;val&quot;: 0.8999999759999999}, {&quot;col&quot;: &quot;significant_wave_height (m)&quot;, &quot;idx&quot;: 1367098800000, &quot;val&quot;: 1.0}, {&quot;col&quot;: &quot;significant_wave_height (m)&quot;, &quot;idx&quot;: 1367100600000, &quot;val&quot;: 0.8999999759999999}, {&quot;col&quot;: &quot;significant_wave_height (m)&quot;, &quot;idx&quot;: 1367102400000, &quot;val&quot;: 1.0}, {&quot;col&quot;: &quot;significant_wave_height (m)&quot;, &quot;idx&quot;: 1367104200000, &quot;val&quot;: 1.100000024}, {&quot;col&quot;: &quot;significant_wave_height (m)&quot;, &quot;idx&quot;: 1367106000000, &quot;val&quot;: 1.100000024}, {&quot;col&quot;: &quot;significant_wave_height (m)&quot;, &quot;idx&quot;: 1367107800000, &quot;val&quot;: 1.0}, {&quot;col&quot;: &quot;significant_wave_height (m)&quot;, &quot;idx&quot;: 1367109600000, &quot;val&quot;: 1.0}, {&quot;col&quot;: &quot;significant_wave_height (m)&quot;, &quot;idx&quot;: 1367111400000, &quot;val&quot;: 1.100000024}, {&quot;col&quot;: &quot;significant_wave_height (m)&quot;, &quot;idx&quot;: 1367113200000, &quot;val&quot;: 1.100000024}, {&quot;col&quot;: &quot;significant_wave_height (m)&quot;, &quot;idx&quot;: 1367115000000, &quot;val&quot;: 1.100000024}, {&quot;col&quot;: &quot;significant_wave_height (m)&quot;, &quot;idx&quot;: 1367116800000, &quot;val&quot;: 1.100000024}, {&quot;col&quot;: &quot;significant_wave_height (m)&quot;, &quot;idx&quot;: 1367118600000, &quot;val&quot;: 1.100000024}, {&quot;col&quot;: &quot;significant_wave_height (m)&quot;, &quot;idx&quot;: 1367120400000, &quot;val&quot;: 1.100000024}, {&quot;col&quot;: &quot;significant_wave_height (m)&quot;, &quot;idx&quot;: 1367122200000, &quot;val&quot;: 1.100000024}, {&quot;col&quot;: &quot;significant_wave_height (m)&quot;, &quot;idx&quot;: 1367124000000, &quot;val&quot;: 1.100000024}, {&quot;col&quot;: &quot;significant_wave_height (m)&quot;, &quot;idx&quot;: 1367125800000, &quot;val&quot;: 1.200000048}, {&quot;col&quot;: &quot;significant_wave_height (m)&quot;, &quot;idx&quot;: 1367127600000, &quot;val&quot;: 1.100000024}, {&quot;col&quot;: &quot;significant_wave_height (m)&quot;, &quot;idx&quot;: 1367129400000, &quot;val&quot;: 1.200000048}, {&quot;col&quot;: &quot;significant_wave_height (m)&quot;, &quot;idx&quot;: 1367131200000, &quot;val&quot;: 1.299999952}, {&quot;col&quot;: &quot;significant_wave_height (m)&quot;, &quot;idx&quot;: 1367133000000, &quot;val&quot;: 1.299999952}, {&quot;col&quot;: &quot;significant_wave_height (m)&quot;, &quot;idx&quot;: 1367134800000, &quot;val&quot;: 1.200000048}, {&quot;col&quot;: &quot;significant_wave_height (m)&quot;, &quot;idx&quot;: 1367136600000, &quot;val&quot;: 1.200000048}, {&quot;col&quot;: &quot;significant_wave_height (m)&quot;, &quot;idx&quot;: 1367138400000, &quot;val&quot;: 1.299999952}, {&quot;col&quot;: &quot;significant_wave_height (m)&quot;, &quot;idx&quot;: 1367140200000, &quot;val&quot;: 1.200000048}, {&quot;col&quot;: &quot;significant_wave_height (m)&quot;, &quot;idx&quot;: 1367142000000, &quot;val&quot;: 1.200000048}, {&quot;col&quot;: &quot;significant_wave_height (m)&quot;, &quot;idx&quot;: 1367143800000, &quot;val&quot;: 1.200000048}, {&quot;col&quot;: &quot;significant_wave_height (m)&quot;, &quot;idx&quot;: 1367145600000, &quot;val&quot;: 1.399999976}, {&quot;col&quot;: &quot;significant_wave_height (m)&quot;, &quot;idx&quot;: 1367147400000, &quot;val&quot;: 1.299999952}, {&quot;col&quot;: &quot;significant_wave_height (m)&quot;, &quot;idx&quot;: 1367149200000, &quot;val&quot;: 1.399999976}, {&quot;col&quot;: &quot;significant_wave_height (m)&quot;, &quot;idx&quot;: 1367151000000, &quot;val&quot;: 1.299999952}, {&quot;col&quot;: &quot;significant_wave_height (m)&quot;, &quot;idx&quot;: 1367152800000, &quot;val&quot;: 1.399999976}, {&quot;col&quot;: &quot;significant_wave_height (m)&quot;, &quot;idx&quot;: 1367154600000, &quot;val&quot;: 1.399999976}, {&quot;col&quot;: &quot;significant_wave_height (m)&quot;, &quot;idx&quot;: 1367156400000, &quot;val&quot;: 1.5}, {&quot;col&quot;: &quot;significant_wave_height (m)&quot;, &quot;idx&quot;: 1367158200000, &quot;val&quot;: 1.399999976}, {&quot;col&quot;: &quot;significant_wave_height (m)&quot;, &quot;idx&quot;: 1367160000000, &quot;val&quot;: 1.399999976}, {&quot;col&quot;: &quot;significant_wave_height (m)&quot;, &quot;idx&quot;: 1367161800000, &quot;val&quot;: 1.5}, {&quot;col&quot;: &quot;significant_wave_height (m)&quot;, &quot;idx&quot;: 1367163600000, &quot;val&quot;: 1.5}, {&quot;col&quot;: &quot;significant_wave_height (m)&quot;, &quot;idx&quot;: 1367165400000, &quot;val&quot;: 1.399999976}, {&quot;col&quot;: &quot;significant_wave_height (m)&quot;, &quot;idx&quot;: 1367167200000, &quot;val&quot;: 1.5}, {&quot;col&quot;: &quot;significant_wave_height (m)&quot;, &quot;idx&quot;: 1367169000000, &quot;val&quot;: 1.5}, {&quot;col&quot;: &quot;significant_wave_height (m)&quot;, &quot;idx&quot;: 1367170800000, &quot;val&quot;: 1.7000000480000002}, {&quot;col&quot;: &quot;significant_wave_height (m)&quot;, &quot;idx&quot;: 1367172600000, &quot;val&quot;: 1.7000000480000002}, {&quot;col&quot;: &quot;significant_wave_height (m)&quot;, &quot;idx&quot;: 1367174400000, &quot;val&quot;: 1.5}, {&quot;col&quot;: &quot;significant_wave_height (m)&quot;, &quot;idx&quot;: 1367176200000, &quot;val&quot;: 1.399999976}, {&quot;col&quot;: &quot;significant_wave_height (m)&quot;, &quot;idx&quot;: 1367178000000, &quot;val&quot;: 1.5}, {&quot;col&quot;: &quot;significant_wave_height (m)&quot;, &quot;idx&quot;: 1367179800000, &quot;val&quot;: 1.600000024}, {&quot;col&quot;: &quot;significant_wave_height (m)&quot;, &quot;idx&quot;: 1367181600000, &quot;val&quot;: 1.7000000480000002}, {&quot;col&quot;: &quot;significant_wave_height (m)&quot;, &quot;idx&quot;: 1367183400000, &quot;val&quot;: 1.600000024}, {&quot;col&quot;: &quot;significant_wave_height (m)&quot;, &quot;idx&quot;: 1367185200000, &quot;val&quot;: 1.5}, {&quot;col&quot;: &quot;significant_wave_height (m)&quot;, &quot;idx&quot;: 1367187000000, &quot;val&quot;: 1.600000024}, {&quot;col&quot;: &quot;significant_wave_height (m)&quot;, &quot;idx&quot;: 1367188800000, &quot;val&quot;: 1.5}, {&quot;col&quot;: &quot;significant_wave_height (m)&quot;, &quot;idx&quot;: 1367190600000, &quot;val&quot;: 1.600000024}, {&quot;col&quot;: &quot;significant_wave_height (m)&quot;, &quot;idx&quot;: 1367192400000, &quot;val&quot;: 1.5}, {&quot;col&quot;: &quot;significant_wave_height (m)&quot;, &quot;idx&quot;: 1367194200000, &quot;val&quot;: 1.5}, {&quot;col&quot;: &quot;significant_wave_height (m)&quot;, &quot;idx&quot;: 1367196000000, &quot;val&quot;: 1.399999976}, {&quot;col&quot;: &quot;significant_wave_height (m)&quot;, &quot;idx&quot;: 1367197800000, &quot;val&quot;: 1.399999976}, {&quot;col&quot;: &quot;significant_wave_height (m)&quot;, &quot;idx&quot;: 1367199600000, &quot;val&quot;: 1.399999976}, {&quot;col&quot;: &quot;significant_wave_height (m)&quot;, &quot;idx&quot;: 1367201400000, &quot;val&quot;: 1.299999952}, {&quot;col&quot;: &quot;significant_wave_height (m)&quot;, &quot;idx&quot;: 1367203200000, &quot;val&quot;: 1.399999976}, {&quot;col&quot;: &quot;significant_wave_height (m)&quot;, &quot;idx&quot;: 1367205000000, &quot;val&quot;: 1.299999952}, {&quot;col&quot;: &quot;significant_wave_height (m)&quot;, &quot;idx&quot;: 1367206800000, &quot;val&quot;: 1.299999952}, {&quot;col&quot;: &quot;significant_wave_height (m)&quot;, &quot;idx&quot;: 1367208600000, &quot;val&quot;: 1.299999952}, {&quot;col&quot;: &quot;significant_wave_height (m)&quot;, &quot;idx&quot;: 1367210400000, &quot;val&quot;: 1.299999952}, {&quot;col&quot;: &quot;significant_wave_height (m)&quot;, &quot;idx&quot;: 1367212200000, &quot;val&quot;: 1.299999952}, {&quot;col&quot;: &quot;significant_wave_height (m)&quot;, &quot;idx&quot;: 1367214000000, &quot;val&quot;: 1.399999976}, {&quot;col&quot;: &quot;significant_wave_height (m)&quot;, &quot;idx&quot;: 1367215800000, &quot;val&quot;: 1.299999952}, {&quot;col&quot;: &quot;significant_wave_height (m)&quot;, &quot;idx&quot;: 1367217600000, &quot;val&quot;: 1.200000048}, {&quot;col&quot;: &quot;significant_wave_height (m)&quot;, &quot;idx&quot;: 1367219400000, &quot;val&quot;: 1.299999952}, {&quot;col&quot;: &quot;significant_wave_height (m)&quot;, &quot;idx&quot;: 1367221200000, &quot;val&quot;: 1.299999952}, {&quot;col&quot;: &quot;significant_wave_height (m)&quot;, &quot;idx&quot;: 1367223000000, &quot;val&quot;: 1.399999976}, {&quot;col&quot;: &quot;significant_wave_height (m)&quot;, &quot;idx&quot;: 1367224800000, &quot;val&quot;: 1.600000024}, {&quot;col&quot;: &quot;significant_wave_height (m)&quot;, &quot;idx&quot;: 1367226600000, &quot;val&quot;: 1.7000000480000002}, {&quot;col&quot;: &quot;significant_wave_height (m)&quot;, &quot;idx&quot;: 1367228400000, &quot;val&quot;: 1.899999976}, {&quot;col&quot;: &quot;significant_wave_height (m)&quot;, &quot;idx&quot;: 1367230200000, &quot;val&quot;: 1.899999976}, {&quot;col&quot;: &quot;significant_wave_height (m)&quot;, &quot;idx&quot;: 1367232000000, &quot;val&quot;: 1.899999976}, {&quot;col&quot;: &quot;significant_wave_height (m)&quot;, &quot;idx&quot;: 1367233800000, &quot;val&quot;: 2.099999905}, {&quot;col&quot;: &quot;significant_wave_height (m)&quot;, &quot;idx&quot;: 1367235600000, &quot;val&quot;: 2.0}, {&quot;col&quot;: &quot;significant_wave_height (m)&quot;, &quot;idx&quot;: 1367237400000, &quot;val&quot;: 2.299999952}, {&quot;col&quot;: &quot;significant_wave_height (m)&quot;, &quot;idx&quot;: 1367239200000, &quot;val&quot;: 2.200000048}, {&quot;col&quot;: &quot;significant_wave_height (m)&quot;, &quot;idx&quot;: 1367241000000, &quot;val&quot;: 2.099999905}, {&quot;col&quot;: &quot;significant_wave_height (m)&quot;, &quot;idx&quot;: 1367242800000, &quot;val&quot;: 2.200000048}, {&quot;col&quot;: &quot;significant_wave_height (m)&quot;, &quot;idx&quot;: 1367244600000, &quot;val&quot;: 2.200000048}, {&quot;col&quot;: &quot;significant_wave_height (m)&quot;, &quot;idx&quot;: 1367246400000, &quot;val&quot;: 2.0}, {&quot;col&quot;: &quot;significant_wave_height (m)&quot;, &quot;idx&quot;: 1367248200000, &quot;val&quot;: 1.899999976}, {&quot;col&quot;: &quot;significant_wave_height (m)&quot;, &quot;idx&quot;: 1367250000000, &quot;val&quot;: 2.099999905}, {&quot;col&quot;: &quot;significant_wave_height (m)&quot;, &quot;idx&quot;: 1367251800000, &quot;val&quot;: 1.899999976}, {&quot;col&quot;: &quot;significant_wave_height (m)&quot;, &quot;idx&quot;: 1367253600000, &quot;val&quot;: 1.7000000480000002}, {&quot;col&quot;: &quot;significant_wave_height (m)&quot;, &quot;idx&quot;: 1367255400000, &quot;val&quot;: 1.899999976}, {&quot;col&quot;: &quot;significant_wave_height (m)&quot;, &quot;idx&quot;: 1367257200000, &quot;val&quot;: 2.099999905}, {&quot;col&quot;: &quot;significant_wave_height (m)&quot;, &quot;idx&quot;: 1367259000000, &quot;val&quot;: 2.099999905}, {&quot;col&quot;: &quot;significant_wave_height (m)&quot;, &quot;idx&quot;: 1367260800000, &quot;val&quot;: 1.899999976}, {&quot;col&quot;: &quot;significant_wave_height (m)&quot;, &quot;idx&quot;: 1367262600000, &quot;val&quot;: 2.099999905}, {&quot;col&quot;: &quot;significant_wave_height (m)&quot;, &quot;idx&quot;: 1367264400000, &quot;val&quot;: 1.7000000480000002}, {&quot;col&quot;: &quot;significant_wave_height (m)&quot;, &quot;idx&quot;: 1367266200000, &quot;val&quot;: 1.899999976}, {&quot;col&quot;: &quot;significant_wave_height (m)&quot;, &quot;idx&quot;: 1367268000000, &quot;val&quot;: 2.099999905}, {&quot;col&quot;: &quot;significant_wave_height (m)&quot;, &quot;idx&quot;: 1367269800000, &quot;val&quot;: 2.299999952}, {&quot;col&quot;: &quot;significant_wave_height (m)&quot;, &quot;idx&quot;: 1367271600000, &quot;val&quot;: 2.099999905}, {&quot;col&quot;: &quot;significant_wave_height (m)&quot;, &quot;idx&quot;: 1367273400000, &quot;val&quot;: 2.099999905}, {&quot;col&quot;: &quot;significant_wave_height (m)&quot;, &quot;idx&quot;: 1367275200000, &quot;val&quot;: 2.200000048}, {&quot;col&quot;: &quot;significant_wave_height (m)&quot;, &quot;idx&quot;: 1367277000000, &quot;val&quot;: 2.299999952}, {&quot;col&quot;: &quot;significant_wave_height (m)&quot;, &quot;idx&quot;: 1367278800000, &quot;val&quot;: 2.0}, {&quot;col&quot;: &quot;significant_wave_height (m)&quot;, &quot;idx&quot;: 1367280600000, &quot;val&quot;: 2.099999905}, {&quot;col&quot;: &quot;significant_wave_height (m)&quot;, &quot;idx&quot;: 1367282400000, &quot;val&quot;: 2.400000095}, {&quot;col&quot;: &quot;significant_wave_height (m)&quot;, &quot;idx&quot;: 1367284200000, &quot;val&quot;: 2.5}, {&quot;col&quot;: &quot;significant_wave_height (m)&quot;, &quot;idx&quot;: 1367286000000, &quot;val&quot;: 2.299999952}, {&quot;col&quot;: &quot;significant_wave_height (m)&quot;, &quot;idx&quot;: 1367287800000, &quot;val&quot;: 2.5}, {&quot;col&quot;: &quot;significant_wave_height (m)&quot;, &quot;idx&quot;: 1367289600000, &quot;val&quot;: 2.400000095}, {&quot;col&quot;: &quot;significant_wave_height (m)&quot;, &quot;idx&quot;: 1367291400000, &quot;val&quot;: 2.400000095}, {&quot;col&quot;: &quot;significant_wave_height (m)&quot;, &quot;idx&quot;: 1367293200000, &quot;val&quot;: 2.400000095}, {&quot;col&quot;: &quot;significant_wave_height (m)&quot;, &quot;idx&quot;: 1367295000000, &quot;val&quot;: 2.5}, {&quot;col&quot;: &quot;significant_wave_height (m)&quot;, &quot;idx&quot;: 1367296800000, &quot;val&quot;: 2.200000048}, {&quot;col&quot;: &quot;significant_wave_height (m)&quot;, &quot;idx&quot;: 1367298600000, &quot;val&quot;: 2.200000048}, {&quot;col&quot;: &quot;significant_wave_height (m)&quot;, &quot;idx&quot;: 1367300400000, &quot;val&quot;: 2.099999905}, {&quot;col&quot;: &quot;significant_wave_height (m)&quot;, &quot;idx&quot;: 1367302200000, &quot;val&quot;: 2.299999952}, {&quot;col&quot;: &quot;significant_wave_height (m)&quot;, &quot;idx&quot;: 1367304000000, &quot;val&quot;: 2.400000095}, {&quot;col&quot;: &quot;significant_wave_height (m)&quot;, &quot;idx&quot;: 1367305800000, &quot;val&quot;: 2.299999952}, {&quot;col&quot;: &quot;significant_wave_height (m)&quot;, &quot;idx&quot;: 1367307600000, &quot;val&quot;: 2.299999952}, {&quot;col&quot;: &quot;significant_wave_height (m)&quot;, &quot;idx&quot;: 1367309400000, &quot;val&quot;: 2.5}, {&quot;col&quot;: &quot;significant_wave_height (m)&quot;, &quot;idx&quot;: 1367311200000, &quot;val&quot;: 2.599999905}, {&quot;col&quot;: &quot;significant_wave_height (m)&quot;, &quot;idx&quot;: 1367313000000, &quot;val&quot;: 2.400000095}, {&quot;col&quot;: &quot;significant_wave_height (m)&quot;, &quot;idx&quot;: 1367314800000, &quot;val&quot;: 2.299999952}, {&quot;col&quot;: &quot;significant_wave_height (m)&quot;, &quot;idx&quot;: 1367316600000, &quot;val&quot;: 2.200000048}, {&quot;col&quot;: &quot;significant_wave_height (m)&quot;, &quot;idx&quot;: 1367318400000, &quot;val&quot;: 2.200000048}, {&quot;col&quot;: &quot;significant_wave_height (m)&quot;, &quot;idx&quot;: 1367320200000, &quot;val&quot;: 2.200000048}, {&quot;col&quot;: &quot;significant_wave_height (m)&quot;, &quot;idx&quot;: 1367322000000, &quot;val&quot;: 2.200000048}, {&quot;col&quot;: &quot;significant_wave_height (m)&quot;, &quot;idx&quot;: 1367323800000, &quot;val&quot;: 2.200000048}, {&quot;col&quot;: &quot;significant_wave_height (m)&quot;, &quot;idx&quot;: 1367325600000, &quot;val&quot;: 2.200000048}, {&quot;col&quot;: &quot;significant_wave_height (m)&quot;, &quot;idx&quot;: 1367327400000, &quot;val&quot;: 2.200000048}, {&quot;col&quot;: &quot;significant_wave_height (m)&quot;, &quot;idx&quot;: 1367329200000, &quot;val&quot;: 2.200000048}, {&quot;col&quot;: &quot;significant_wave_height (m)&quot;, &quot;idx&quot;: 1367331000000, &quot;val&quot;: 2.200000048}, {&quot;col&quot;: &quot;significant_wave_height (m)&quot;, &quot;idx&quot;: 1367332800000, &quot;val&quot;: 2.200000048}, {&quot;col&quot;: &quot;significant_wave_height (m)&quot;, &quot;idx&quot;: 1367334600000, &quot;val&quot;: 2.299999952}, {&quot;col&quot;: &quot;significant_wave_height (m)&quot;, &quot;idx&quot;: 1367336400000, &quot;val&quot;: 2.299999952}, {&quot;col&quot;: &quot;significant_wave_height (m)&quot;, &quot;idx&quot;: 1367338200000, &quot;val&quot;: 2.099999905}, {&quot;col&quot;: &quot;significant_wave_height (m)&quot;, &quot;idx&quot;: 1367340000000, &quot;val&quot;: 2.099999905}, {&quot;col&quot;: &quot;significant_wave_height (m)&quot;, &quot;idx&quot;: 1367341800000, &quot;val&quot;: 2.200000048}, {&quot;col&quot;: &quot;significant_wave_height (m)&quot;, &quot;idx&quot;: 1367343600000, &quot;val&quot;: 2.299999952}, {&quot;col&quot;: &quot;significant_wave_height (m)&quot;, &quot;idx&quot;: 1367345400000, &quot;val&quot;: 2.5}, {&quot;col&quot;: &quot;significant_wave_height (m)&quot;, &quot;idx&quot;: 1367347200000, &quot;val&quot;: 2.700000048}, {&quot;col&quot;: &quot;significant_wave_height (m)&quot;, &quot;idx&quot;: 1367349000000, &quot;val&quot;: 2.700000048}, {&quot;col&quot;: &quot;significant_wave_height (m)&quot;, &quot;idx&quot;: 1367350800000, &quot;val&quot;: 2.5}, {&quot;col&quot;: &quot;significant_wave_height (m)&quot;, &quot;idx&quot;: 1367352600000, &quot;val&quot;: 2.5}, {&quot;col&quot;: &quot;significant_wave_height (m)&quot;, &quot;idx&quot;: 1367354400000, &quot;val&quot;: 2.400000095}, {&quot;col&quot;: &quot;significant_wave_height (m)&quot;, &quot;idx&quot;: 1367356200000, &quot;val&quot;: 2.599999905}, {&quot;col&quot;: &quot;significant_wave_height (m)&quot;, &quot;idx&quot;: 1367358000000, &quot;val&quot;: 2.599999905}, {&quot;col&quot;: &quot;significant_wave_height (m)&quot;, &quot;idx&quot;: 1367359800000, &quot;val&quot;: 2.400000095}, {&quot;col&quot;: &quot;significant_wave_height (m)&quot;, &quot;idx&quot;: 1367361600000, &quot;val&quot;: 2.400000095}, {&quot;col&quot;: &quot;significant_wave_height (m)&quot;, &quot;idx&quot;: 1367363400000, &quot;val&quot;: 2.5}, {&quot;col&quot;: &quot;significant_wave_height (m)&quot;, &quot;idx&quot;: 1367365200000, &quot;val&quot;: 2.400000095}, {&quot;col&quot;: &quot;significant_wave_height (m)&quot;, &quot;idx&quot;: 1367367000000, &quot;val&quot;: 2.299999952}, {&quot;col&quot;: &quot;significant_wave_height (m)&quot;, &quot;idx&quot;: 1367368800000, &quot;val&quot;: 2.299999952}, {&quot;col&quot;: &quot;significant_wave_height (m)&quot;, &quot;idx&quot;: 1367370600000, &quot;val&quot;: 2.299999952}, {&quot;col&quot;: &quot;significant_wave_height (m)&quot;, &quot;idx&quot;: 1367372400000, &quot;val&quot;: 2.099999905}, {&quot;col&quot;: &quot;significant_wave_height (m)&quot;, &quot;idx&quot;: 1367374200000, &quot;val&quot;: 2.099999905}, {&quot;col&quot;: &quot;significant_wave_height (m)&quot;, &quot;idx&quot;: 1367377800000, &quot;val&quot;: 2.200000048}, {&quot;col&quot;: &quot;significant_wave_height (m)&quot;, &quot;idx&quot;: 1367379600000, &quot;val&quot;: 2.0}, {&quot;col&quot;: &quot;significant_wave_height (m)&quot;, &quot;idx&quot;: 1367381400000, &quot;val&quot;: 2.099999905}, {&quot;col&quot;: &quot;significant_wave_height (m)&quot;, &quot;idx&quot;: 1367383200000, &quot;val&quot;: 2.0}, {&quot;col&quot;: &quot;significant_wave_height (m)&quot;, &quot;idx&quot;: 1367385000000, &quot;val&quot;: 1.7999999519999998}, {&quot;col&quot;: &quot;significant_wave_height (m)&quot;, &quot;idx&quot;: 1367386800000, &quot;val&quot;: 1.7999999519999998}, {&quot;col&quot;: &quot;significant_wave_height (m)&quot;, &quot;idx&quot;: 1367388600000, &quot;val&quot;: 1.7000000480000002}, {&quot;col&quot;: &quot;significant_wave_height (m)&quot;, &quot;idx&quot;: 1367390400000, &quot;val&quot;: 1.7999999519999998}, {&quot;col&quot;: &quot;significant_wave_height (m)&quot;, &quot;idx&quot;: 1367392200000, &quot;val&quot;: 1.7000000480000002}, {&quot;col&quot;: &quot;significant_wave_height (m)&quot;, &quot;idx&quot;: 1367394000000, &quot;val&quot;: 1.899999976}, {&quot;col&quot;: &quot;significant_wave_height (m)&quot;, &quot;idx&quot;: 1367395800000, &quot;val&quot;: 1.7000000480000002}, {&quot;col&quot;: &quot;significant_wave_height (m)&quot;, &quot;idx&quot;: 1367397600000, &quot;val&quot;: 1.5}, {&quot;col&quot;: &quot;significant_wave_height (m)&quot;, &quot;idx&quot;: 1367399400000, &quot;val&quot;: 1.899999976}, {&quot;col&quot;: &quot;significant_wave_height (m)&quot;, &quot;idx&quot;: 1367401200000, &quot;val&quot;: 2.0}, {&quot;col&quot;: &quot;significant_wave_height (m)&quot;, &quot;idx&quot;: 1367403000000, &quot;val&quot;: 1.899999976}, {&quot;col&quot;: &quot;significant_wave_height (m)&quot;, &quot;idx&quot;: 1367404800000, &quot;val&quot;: 1.7999999519999998}, {&quot;col&quot;: &quot;significant_wave_height (m)&quot;, &quot;idx&quot;: 1367406600000, &quot;val&quot;: 1.899999976}, {&quot;col&quot;: &quot;significant_wave_height (m)&quot;, &quot;idx&quot;: 1367408400000, &quot;val&quot;: 1.899999976}, {&quot;col&quot;: &quot;significant_wave_height (m)&quot;, &quot;idx&quot;: 1367410200000, &quot;val&quot;: 1.7999999519999998}, {&quot;col&quot;: &quot;significant_wave_height (m)&quot;, &quot;idx&quot;: 1367412000000, &quot;val&quot;: 1.7999999519999998}, {&quot;col&quot;: &quot;significant_wave_height (m)&quot;, &quot;idx&quot;: 1367413800000, &quot;val&quot;: 1.7999999519999998}, {&quot;col&quot;: &quot;significant_wave_height (m)&quot;, &quot;idx&quot;: 1367415600000, &quot;val&quot;: 1.7000000480000002}, {&quot;col&quot;: &quot;significant_wave_height (m)&quot;, &quot;idx&quot;: 1367417400000, &quot;val&quot;: 1.7000000480000002}, {&quot;col&quot;: &quot;significant_wave_height (m)&quot;, &quot;idx&quot;: 1367419200000, &quot;val&quot;: 1.7000000480000002}, {&quot;col&quot;: &quot;significant_wave_height (m)&quot;, &quot;idx&quot;: 1367421000000, &quot;val&quot;: 1.600000024}, {&quot;col&quot;: &quot;significant_wave_height (m)&quot;, &quot;idx&quot;: 1367422800000, &quot;val&quot;: 1.7000000480000002}, {&quot;col&quot;: &quot;significant_wave_height (m)&quot;, &quot;idx&quot;: 1367424600000, &quot;val&quot;: 1.600000024}, {&quot;col&quot;: &quot;significant_wave_height (m)&quot;, &quot;idx&quot;: 1367426400000, &quot;val&quot;: 1.5}, {&quot;col&quot;: &quot;significant_wave_height (m)&quot;, &quot;idx&quot;: 1367428200000, &quot;val&quot;: 1.399999976}, {&quot;col&quot;: &quot;significant_wave_height (m)&quot;, &quot;idx&quot;: 1367430000000, &quot;val&quot;: 1.399999976}, {&quot;col&quot;: &quot;significant_wave_height (m)&quot;, &quot;idx&quot;: 1367431800000, &quot;val&quot;: 1.399999976}, {&quot;col&quot;: &quot;significant_wave_height (m)&quot;, &quot;idx&quot;: 1367433600000, &quot;val&quot;: 1.399999976}, {&quot;col&quot;: &quot;significant_wave_height (m)&quot;, &quot;idx&quot;: 1367435400000, &quot;val&quot;: 1.399999976}, {&quot;col&quot;: &quot;significant_wave_height (m)&quot;, &quot;idx&quot;: 1367437200000, &quot;val&quot;: 1.299999952}, {&quot;col&quot;: &quot;significant_wave_height (m)&quot;, &quot;idx&quot;: 1367439000000, &quot;val&quot;: 1.399999976}, {&quot;col&quot;: &quot;significant_wave_height (m)&quot;, &quot;idx&quot;: 1367440800000, &quot;val&quot;: 1.399999976}, {&quot;col&quot;: &quot;significant_wave_height (m)&quot;, &quot;idx&quot;: 1367442600000, &quot;val&quot;: 1.399999976}, {&quot;col&quot;: &quot;significant_wave_height (m)&quot;, &quot;idx&quot;: 1367444400000, &quot;val&quot;: 1.299999952}, {&quot;col&quot;: &quot;significant_wave_height (m)&quot;, &quot;idx&quot;: 1367446200000, &quot;val&quot;: 1.299999952}, {&quot;col&quot;: &quot;significant_wave_height (m)&quot;, &quot;idx&quot;: 1367448000000, &quot;val&quot;: 1.299999952}, {&quot;col&quot;: &quot;significant_wave_height (m)&quot;, &quot;idx&quot;: 1367449800000, &quot;val&quot;: 1.299999952}, {&quot;col&quot;: &quot;significant_wave_height (m)&quot;, &quot;idx&quot;: 1367451600000, &quot;val&quot;: 1.200000048}, {&quot;col&quot;: &quot;significant_wave_height (m)&quot;, &quot;idx&quot;: 1367453400000, &quot;val&quot;: 1.299999952}, {&quot;col&quot;: &quot;significant_wave_height (m)&quot;, &quot;idx&quot;: 1367455200000, &quot;val&quot;: 1.399999976}, {&quot;col&quot;: &quot;significant_wave_height (m)&quot;, &quot;idx&quot;: 1367457000000, &quot;val&quot;: 1.399999976}, {&quot;col&quot;: &quot;significant_wave_height (m)&quot;, &quot;idx&quot;: 1367458800000, &quot;val&quot;: 1.399999976}, {&quot;col&quot;: &quot;significant_wave_height (m)&quot;, &quot;idx&quot;: 1367460600000, &quot;val&quot;: 1.5}, {&quot;col&quot;: &quot;significant_wave_height (m)&quot;, &quot;idx&quot;: 1367462400000, &quot;val&quot;: 1.399999976}, {&quot;col&quot;: &quot;significant_wave_height (m)&quot;, &quot;idx&quot;: 1367464200000, &quot;val&quot;: 1.399999976}, {&quot;col&quot;: &quot;significant_wave_height (m)&quot;, &quot;idx&quot;: 1367466000000, &quot;val&quot;: 1.399999976}, {&quot;col&quot;: &quot;significant_wave_height (m)&quot;, &quot;idx&quot;: 1367467800000, &quot;val&quot;: 1.399999976}, {&quot;col&quot;: &quot;significant_wave_height (m)&quot;, &quot;idx&quot;: 1367469600000, &quot;val&quot;: 1.299999952}, {&quot;col&quot;: &quot;significant_wave_height (m)&quot;, &quot;idx&quot;: 1367471400000, &quot;val&quot;: 1.200000048}, {&quot;col&quot;: &quot;significant_wave_height (m)&quot;, &quot;idx&quot;: 1367473200000, &quot;val&quot;: 1.200000048}, {&quot;col&quot;: &quot;significant_wave_height (m)&quot;, &quot;idx&quot;: 1367475000000, &quot;val&quot;: 1.200000048}, {&quot;col&quot;: &quot;significant_wave_height (m)&quot;, &quot;idx&quot;: 1367476800000, &quot;val&quot;: 1.200000048}, {&quot;col&quot;: &quot;significant_wave_height (m)&quot;, &quot;idx&quot;: 1367478600000, &quot;val&quot;: 1.299999952}, {&quot;col&quot;: &quot;significant_wave_height (m)&quot;, &quot;idx&quot;: 1367480400000, &quot;val&quot;: 1.200000048}, {&quot;col&quot;: &quot;significant_wave_height (m)&quot;, &quot;idx&quot;: 1367482200000, &quot;val&quot;: 1.299999952}, {&quot;col&quot;: &quot;significant_wave_height (m)&quot;, &quot;idx&quot;: 1367484000000, &quot;val&quot;: 1.299999952}, {&quot;col&quot;: &quot;significant_wave_height (m)&quot;, &quot;idx&quot;: 1367485800000, &quot;val&quot;: 1.299999952}, {&quot;col&quot;: &quot;significant_wave_height (m)&quot;, &quot;idx&quot;: 1367487600000, &quot;val&quot;: 1.299999952}, {&quot;col&quot;: &quot;significant_wave_height (m)&quot;, &quot;idx&quot;: 1367489400000, &quot;val&quot;: 1.200000048}, {&quot;col&quot;: &quot;significant_wave_height (m)&quot;, &quot;idx&quot;: 1367491200000, &quot;val&quot;: 1.200000048}, {&quot;col&quot;: &quot;significant_wave_height (m)&quot;, &quot;idx&quot;: 1367493000000, &quot;val&quot;: 1.100000024}, {&quot;col&quot;: &quot;significant_wave_height (m)&quot;, &quot;idx&quot;: 1367494800000, &quot;val&quot;: 1.100000024}, {&quot;col&quot;: &quot;significant_wave_height (m)&quot;, &quot;idx&quot;: 1367496600000, &quot;val&quot;: 1.200000048}, {&quot;col&quot;: &quot;significant_wave_height (m)&quot;, &quot;idx&quot;: 1367498400000, &quot;val&quot;: 1.100000024}, {&quot;col&quot;: &quot;significant_wave_height (m)&quot;, &quot;idx&quot;: 1367500200000, &quot;val&quot;: 1.100000024}, {&quot;col&quot;: &quot;significant_wave_height (m)&quot;, &quot;idx&quot;: 1367502000000, &quot;val&quot;: 1.0}, {&quot;col&quot;: &quot;significant_wave_height (m)&quot;, &quot;idx&quot;: 1367503800000, &quot;val&quot;: 1.0}, {&quot;col&quot;: &quot;significant_wave_height (m)&quot;, &quot;idx&quot;: 1367505600000, &quot;val&quot;: 1.0}, {&quot;col&quot;: &quot;significant_wave_height (m)&quot;, &quot;idx&quot;: 1367507400000, &quot;val&quot;: 1.0}, {&quot;col&quot;: &quot;significant_wave_height (m)&quot;, &quot;idx&quot;: 1367509200000, &quot;val&quot;: 1.0}, {&quot;col&quot;: &quot;significant_wave_height (m)&quot;, &quot;idx&quot;: 1367511000000, &quot;val&quot;: 1.0}, {&quot;col&quot;: &quot;significant_wave_height (m)&quot;, &quot;idx&quot;: 1367512800000, &quot;val&quot;: 1.0}, {&quot;col&quot;: &quot;significant_wave_height (m)&quot;, &quot;idx&quot;: 1367514600000, &quot;val&quot;: 0.8999999759999999}, {&quot;col&quot;: &quot;significant_wave_height (m)&quot;, &quot;idx&quot;: 1367516400000, &quot;val&quot;: 0.8999999759999999}, {&quot;col&quot;: &quot;significant_wave_height (m)&quot;, &quot;idx&quot;: 1367518200000, &quot;val&quot;: 0.8999999759999999}, {&quot;col&quot;: &quot;significant_wave_height (m)&quot;, &quot;idx&quot;: 1367520000000, &quot;val&quot;: 0.8999999759999999}, {&quot;col&quot;: &quot;significant_wave_height (m)&quot;, &quot;idx&quot;: 1367521800000, &quot;val&quot;: 1.0}, {&quot;col&quot;: &quot;significant_wave_height (m)&quot;, &quot;idx&quot;: 1367523600000, &quot;val&quot;: 1.0}, {&quot;col&quot;: &quot;significant_wave_height (m)&quot;, &quot;idx&quot;: 1367525400000, &quot;val&quot;: 0.8999999759999999}, {&quot;col&quot;: &quot;significant_wave_height (m)&quot;, &quot;idx&quot;: 1367527200000, &quot;val&quot;: 0.8999999759999999}, {&quot;col&quot;: &quot;significant_wave_height (m)&quot;, &quot;idx&quot;: 1367529000000, &quot;val&quot;: 0.8999999759999999}, {&quot;col&quot;: &quot;significant_wave_height (m)&quot;, &quot;idx&quot;: 1367530800000, &quot;val&quot;: 1.0}, {&quot;col&quot;: &quot;significant_wave_height (m)&quot;, &quot;idx&quot;: 1367532600000, &quot;val&quot;: 0.8999999759999999}, {&quot;col&quot;: &quot;significant_wave_height (m)&quot;, &quot;idx&quot;: 1367534400000, &quot;val&quot;: 1.0}, {&quot;col&quot;: &quot;significant_wave_height (m)&quot;, &quot;idx&quot;: 1367536200000, &quot;val&quot;: 1.0}, {&quot;col&quot;: &quot;significant_wave_height (m)&quot;, &quot;idx&quot;: 1367538000000, &quot;val&quot;: 1.0}, {&quot;col&quot;: &quot;significant_wave_height (m)&quot;, &quot;idx&quot;: 1367539800000, &quot;val&quot;: 1.100000024}, {&quot;col&quot;: &quot;significant_wave_height (m)&quot;, &quot;idx&quot;: 1367541600000, &quot;val&quot;: 1.200000048}, {&quot;col&quot;: &quot;significant_wave_height (m)&quot;, &quot;idx&quot;: 1367543400000, &quot;val&quot;: 1.299999952}, {&quot;col&quot;: &quot;significant_wave_height (m)&quot;, &quot;idx&quot;: 1367547000000, &quot;val&quot;: 1.299999952}, {&quot;col&quot;: &quot;significant_wave_height (m)&quot;, &quot;idx&quot;: 1367548800000, &quot;val&quot;: 1.399999976}, {&quot;col&quot;: &quot;significant_wave_height (m)&quot;, &quot;idx&quot;: 1367550600000, &quot;val&quot;: 1.399999976}, {&quot;col&quot;: &quot;significant_wave_height (m)&quot;, &quot;idx&quot;: 1367552400000, &quot;val&quot;: 1.299999952}, {&quot;col&quot;: &quot;significant_wave_height (m)&quot;, &quot;idx&quot;: 1367554200000, &quot;val&quot;: 1.299999952}, {&quot;col&quot;: &quot;significant_wave_height (m)&quot;, &quot;idx&quot;: 1367556000000, &quot;val&quot;: 1.299999952}, {&quot;col&quot;: &quot;significant_wave_height (m)&quot;, &quot;idx&quot;: 1367557800000, &quot;val&quot;: 1.200000048}, {&quot;col&quot;: &quot;significant_wave_height (m)&quot;, &quot;idx&quot;: 1367559600000, &quot;val&quot;: 1.200000048}, {&quot;col&quot;: &quot;significant_wave_height (m)&quot;, &quot;idx&quot;: 1367561400000, &quot;val&quot;: 1.200000048}, {&quot;col&quot;: &quot;significant_wave_height (m)&quot;, &quot;idx&quot;: 1367563200000, &quot;val&quot;: 1.200000048}, {&quot;col&quot;: &quot;significant_wave_height (m)&quot;, &quot;idx&quot;: 1367565000000, &quot;val&quot;: 1.200000048}, {&quot;col&quot;: &quot;significant_wave_height (m)&quot;, &quot;idx&quot;: 1367566800000, &quot;val&quot;: 1.299999952}, {&quot;col&quot;: &quot;significant_wave_height (m)&quot;, &quot;idx&quot;: 1367568600000, &quot;val&quot;: 1.299999952}, {&quot;col&quot;: &quot;significant_wave_height (m)&quot;, &quot;idx&quot;: 1367570400000, &quot;val&quot;: 1.299999952}, {&quot;col&quot;: &quot;significant_wave_height (m)&quot;, &quot;idx&quot;: 1367572200000, &quot;val&quot;: 1.399999976}, {&quot;col&quot;: &quot;significant_wave_height (m)&quot;, &quot;idx&quot;: 1367574000000, &quot;val&quot;: 1.5}, {&quot;col&quot;: &quot;significant_wave_height (m)&quot;, &quot;idx&quot;: 1367575800000, &quot;val&quot;: 1.600000024}, {&quot;col&quot;: &quot;significant_wave_height (m)&quot;, &quot;idx&quot;: 1367577600000, &quot;val&quot;: 1.5}, {&quot;col&quot;: &quot;significant_wave_height (m)&quot;, &quot;idx&quot;: 1367579400000, &quot;val&quot;: 1.600000024}, {&quot;col&quot;: &quot;significant_wave_height (m)&quot;, &quot;idx&quot;: 1367581200000, &quot;val&quot;: 1.5}, {&quot;col&quot;: &quot;significant_wave_height (m)&quot;, &quot;idx&quot;: 1367583000000, &quot;val&quot;: 1.5}, {&quot;col&quot;: &quot;significant_wave_height (m)&quot;, &quot;idx&quot;: 1367584800000, &quot;val&quot;: 1.5}, {&quot;col&quot;: &quot;significant_wave_height (m)&quot;, &quot;idx&quot;: 1367586600000, &quot;val&quot;: 1.5}, {&quot;col&quot;: &quot;significant_wave_height (m)&quot;, &quot;idx&quot;: 1367588400000, &quot;val&quot;: 1.399999976}, {&quot;col&quot;: &quot;significant_wave_height (m)&quot;, &quot;idx&quot;: 1367590200000, &quot;val&quot;: 1.299999952}, {&quot;col&quot;: &quot;significant_wave_height (m)&quot;, &quot;idx&quot;: 1367592000000, &quot;val&quot;: 1.299999952}, {&quot;col&quot;: &quot;significant_wave_height (m)&quot;, &quot;idx&quot;: 1367595600000, &quot;val&quot;: 1.299999952}, {&quot;col&quot;: &quot;significant_wave_height (m)&quot;, &quot;idx&quot;: 1367597400000, &quot;val&quot;: 1.299999952}, {&quot;col&quot;: &quot;significant_wave_height (m)&quot;, &quot;idx&quot;: 1367599200000, &quot;val&quot;: 1.299999952}, {&quot;col&quot;: &quot;significant_wave_height (m)&quot;, &quot;idx&quot;: 1367601000000, &quot;val&quot;: 1.200000048}, {&quot;col&quot;: &quot;significant_wave_height (m)&quot;, &quot;idx&quot;: 1367602800000, &quot;val&quot;: 1.200000048}, {&quot;col&quot;: &quot;significant_wave_height (m)&quot;, &quot;idx&quot;: 1367604600000, &quot;val&quot;: 1.200000048}, {&quot;col&quot;: &quot;significant_wave_height (m)&quot;, &quot;idx&quot;: 1367606400000, &quot;val&quot;: 1.200000048}, {&quot;col&quot;: &quot;significant_wave_height (m)&quot;, &quot;idx&quot;: 1367608200000, &quot;val&quot;: 1.100000024}, {&quot;col&quot;: &quot;significant_wave_height (m)&quot;, &quot;idx&quot;: 1367610000000, &quot;val&quot;: 1.200000048}, {&quot;col&quot;: &quot;significant_wave_height (m)&quot;, &quot;idx&quot;: 1367613600000, &quot;val&quot;: 1.200000048}, {&quot;col&quot;: &quot;significant_wave_height (m)&quot;, &quot;idx&quot;: 1367615400000, &quot;val&quot;: 1.299999952}, {&quot;col&quot;: &quot;significant_wave_height (m)&quot;, &quot;idx&quot;: 1367619000000, &quot;val&quot;: 1.299999952}, {&quot;col&quot;: &quot;significant_wave_height (m)&quot;, &quot;idx&quot;: 1367620800000, &quot;val&quot;: 1.299999952}, {&quot;col&quot;: &quot;significant_wave_height (m)&quot;, &quot;idx&quot;: 1367622600000, &quot;val&quot;: 1.600000024}, {&quot;col&quot;: &quot;significant_wave_height (m)&quot;, &quot;idx&quot;: 1367624400000, &quot;val&quot;: 1.5}, {&quot;col&quot;: &quot;significant_wave_height (m)&quot;, &quot;idx&quot;: 1367626200000, &quot;val&quot;: 1.5}, {&quot;col&quot;: &quot;significant_wave_height (m)&quot;, &quot;idx&quot;: 1367628000000, &quot;val&quot;: 1.399999976}, {&quot;col&quot;: &quot;significant_wave_height (m)&quot;, &quot;idx&quot;: 1367629800000, &quot;val&quot;: 1.399999976}, {&quot;col&quot;: &quot;significant_wave_height (m)&quot;, &quot;idx&quot;: 1367631600000, &quot;val&quot;: 1.399999976}, {&quot;col&quot;: &quot;significant_wave_height (m)&quot;, &quot;idx&quot;: 1367633400000, &quot;val&quot;: 1.399999976}, {&quot;col&quot;: &quot;significant_wave_height (m)&quot;, &quot;idx&quot;: 1367635200000, &quot;val&quot;: 1.5}, {&quot;col&quot;: &quot;significant_wave_height (m)&quot;, &quot;idx&quot;: 1367637000000, &quot;val&quot;: 1.5}, {&quot;col&quot;: &quot;significant_wave_height (m)&quot;, &quot;idx&quot;: 1367638800000, &quot;val&quot;: 1.5}, {&quot;col&quot;: &quot;significant_wave_height (m)&quot;, &quot;idx&quot;: 1367640600000, &quot;val&quot;: 1.299999952}, {&quot;col&quot;: &quot;significant_wave_height (m)&quot;, &quot;idx&quot;: 1367642400000, &quot;val&quot;: 1.5}, {&quot;col&quot;: &quot;significant_wave_height (m)&quot;, &quot;idx&quot;: 1367646000000, &quot;val&quot;: 1.399999976}, {&quot;col&quot;: &quot;significant_wave_height (m)&quot;, &quot;idx&quot;: 1367647800000, &quot;val&quot;: 1.299999952}, {&quot;col&quot;: &quot;significant_wave_height (m)&quot;, &quot;idx&quot;: 1367649600000, &quot;val&quot;: 1.299999952}, {&quot;col&quot;: &quot;significant_wave_height (m)&quot;, &quot;idx&quot;: 1367651400000, &quot;val&quot;: 1.299999952}, {&quot;col&quot;: &quot;significant_wave_height (m)&quot;, &quot;idx&quot;: 1367653200000, &quot;val&quot;: 1.200000048}, {&quot;col&quot;: &quot;significant_wave_height (m)&quot;, &quot;idx&quot;: 1367655000000, &quot;val&quot;: 1.100000024}, {&quot;col&quot;: &quot;significant_wave_height (m)&quot;, &quot;idx&quot;: 1367656800000, &quot;val&quot;: 1.100000024}, {&quot;col&quot;: &quot;significant_wave_height (m)&quot;, &quot;idx&quot;: 1367658600000, &quot;val&quot;: 1.100000024}, {&quot;col&quot;: &quot;significant_wave_height (m)&quot;, &quot;idx&quot;: 1367660400000, &quot;val&quot;: 1.200000048}, {&quot;col&quot;: &quot;significant_wave_height (m)&quot;, &quot;idx&quot;: 1367662200000, &quot;val&quot;: 1.100000024}, {&quot;col&quot;: &quot;significant_wave_height (m)&quot;, &quot;idx&quot;: 1367664000000, &quot;val&quot;: 1.200000048}, {&quot;col&quot;: &quot;significant_wave_height (m)&quot;, &quot;idx&quot;: 1367665800000, &quot;val&quot;: 1.200000048}, {&quot;col&quot;: &quot;significant_wave_height (m)&quot;, &quot;idx&quot;: 1367667600000, &quot;val&quot;: 1.299999952}, {&quot;col&quot;: &quot;significant_wave_height (m)&quot;, &quot;idx&quot;: 1367669400000, &quot;val&quot;: 1.299999952}, {&quot;col&quot;: &quot;significant_wave_height (m)&quot;, &quot;idx&quot;: 1367671200000, &quot;val&quot;: 1.299999952}, {&quot;col&quot;: &quot;significant_wave_height (m)&quot;, &quot;idx&quot;: 1367673000000, &quot;val&quot;: 1.399999976}, {&quot;col&quot;: &quot;significant_wave_height (m)&quot;, &quot;idx&quot;: 1367674800000, &quot;val&quot;: 1.5}, {&quot;col&quot;: &quot;significant_wave_height (m)&quot;, &quot;idx&quot;: 1367676600000, &quot;val&quot;: 1.399999976}, {&quot;col&quot;: &quot;significant_wave_height (m)&quot;, &quot;idx&quot;: 1367678400000, &quot;val&quot;: 1.399999976}, {&quot;col&quot;: &quot;significant_wave_height (m)&quot;, &quot;idx&quot;: 1367680200000, &quot;val&quot;: 1.399999976}, {&quot;col&quot;: &quot;significant_wave_height (m)&quot;, &quot;idx&quot;: 1367682000000, &quot;val&quot;: 1.399999976}, {&quot;col&quot;: &quot;significant_wave_height (m)&quot;, &quot;idx&quot;: 1367683800000, &quot;val&quot;: 1.299999952}, {&quot;col&quot;: &quot;significant_wave_height (m)&quot;, &quot;idx&quot;: 1367685600000, &quot;val&quot;: 1.299999952}, {&quot;col&quot;: &quot;significant_wave_height (m)&quot;, &quot;idx&quot;: 1367687400000, &quot;val&quot;: 1.399999976}, {&quot;col&quot;: &quot;significant_wave_height (m)&quot;, &quot;idx&quot;: 1367689200000, &quot;val&quot;: 1.299999952}, {&quot;col&quot;: &quot;significant_wave_height (m)&quot;, &quot;idx&quot;: 1367691000000, &quot;val&quot;: 1.200000048}, {&quot;col&quot;: &quot;significant_wave_height (m)&quot;, &quot;idx&quot;: 1367692800000, &quot;val&quot;: 1.299999952}, {&quot;col&quot;: &quot;significant_wave_height (m)&quot;, &quot;idx&quot;: 1367694600000, &quot;val&quot;: 1.299999952}, {&quot;col&quot;: &quot;significant_wave_height (m)&quot;, &quot;idx&quot;: 1367696400000, &quot;val&quot;: 1.200000048}, {&quot;col&quot;: &quot;significant_wave_height (m)&quot;, &quot;idx&quot;: 1367698200000, &quot;val&quot;: 1.200000048}, {&quot;col&quot;: &quot;significant_wave_height (m)&quot;, &quot;idx&quot;: 1367700000000, &quot;val&quot;: 1.200000048}, {&quot;col&quot;: &quot;significant_wave_height (m)&quot;, &quot;idx&quot;: 1367701800000, &quot;val&quot;: 1.100000024}, {&quot;col&quot;: &quot;significant_wave_height (m)&quot;, &quot;idx&quot;: 1367703600000, &quot;val&quot;: 1.0}, {&quot;col&quot;: &quot;significant_wave_height (m)&quot;, &quot;idx&quot;: 1367705400000, &quot;val&quot;: 1.100000024}, {&quot;col&quot;: &quot;significant_wave_height (m)&quot;, &quot;idx&quot;: 1367707200000, &quot;val&quot;: 1.100000024}, {&quot;col&quot;: &quot;significant_wave_height (m)&quot;, &quot;idx&quot;: 1367709000000, &quot;val&quot;: 1.100000024}, {&quot;col&quot;: &quot;significant_wave_height (m)&quot;, &quot;idx&quot;: 1367710800000, &quot;val&quot;: 1.100000024}, {&quot;col&quot;: &quot;significant_wave_height (m)&quot;, &quot;idx&quot;: 1367712600000, &quot;val&quot;: 1.200000048}, {&quot;col&quot;: &quot;significant_wave_height (m)&quot;, &quot;idx&quot;: 1367714400000, &quot;val&quot;: 1.299999952}, {&quot;col&quot;: &quot;significant_wave_height (m)&quot;, &quot;idx&quot;: 1367716200000, &quot;val&quot;: 1.299999952}, {&quot;col&quot;: &quot;significant_wave_height (m)&quot;, &quot;idx&quot;: 1367718000000, &quot;val&quot;: 1.299999952}, {&quot;col&quot;: &quot;significant_wave_height (m)&quot;, &quot;idx&quot;: 1367719800000, &quot;val&quot;: 1.299999952}, {&quot;col&quot;: &quot;significant_wave_height (m)&quot;, &quot;idx&quot;: 1367721600000, &quot;val&quot;: 1.399999976}, {&quot;col&quot;: &quot;significant_wave_height (m)&quot;, &quot;idx&quot;: 1367723400000, &quot;val&quot;: 1.399999976}, {&quot;col&quot;: &quot;significant_wave_height (m)&quot;, &quot;idx&quot;: 1367725200000, &quot;val&quot;: 1.5}, {&quot;col&quot;: &quot;significant_wave_height (m)&quot;, &quot;idx&quot;: 1367727000000, &quot;val&quot;: 1.5}, {&quot;col&quot;: &quot;significant_wave_height (m)&quot;, &quot;idx&quot;: 1367728800000, &quot;val&quot;: 1.5}, {&quot;col&quot;: &quot;significant_wave_height (m)&quot;, &quot;idx&quot;: 1367730600000, &quot;val&quot;: 1.399999976}, {&quot;col&quot;: &quot;significant_wave_height (m)&quot;, &quot;idx&quot;: 1367732400000, &quot;val&quot;: 1.399999976}, {&quot;col&quot;: &quot;significant_wave_height (m)&quot;, &quot;idx&quot;: 1367734200000, &quot;val&quot;: 1.399999976}, {&quot;col&quot;: &quot;significant_wave_height (m)&quot;, &quot;idx&quot;: 1367736000000, &quot;val&quot;: 1.399999976}, {&quot;col&quot;: &quot;significant_wave_height (m)&quot;, &quot;idx&quot;: 1367737800000, &quot;val&quot;: 1.299999952}, {&quot;col&quot;: &quot;significant_wave_height (m)&quot;, &quot;idx&quot;: 1367739600000, &quot;val&quot;: 1.299999952}, {&quot;col&quot;: &quot;significant_wave_height (m)&quot;, &quot;idx&quot;: 1367741400000, &quot;val&quot;: 1.200000048}, {&quot;col&quot;: &quot;significant_wave_height (m)&quot;, &quot;idx&quot;: 1367743200000, &quot;val&quot;: 1.200000048}, {&quot;col&quot;: &quot;significant_wave_height (m)&quot;, &quot;idx&quot;: 1367745000000, &quot;val&quot;: 1.0}, {&quot;col&quot;: &quot;significant_wave_height (m)&quot;, &quot;idx&quot;: 1367746800000, &quot;val&quot;: 1.0}, {&quot;col&quot;: &quot;significant_wave_height (m)&quot;, &quot;idx&quot;: 1367748600000, &quot;val&quot;: 0.8999999759999999}, {&quot;col&quot;: &quot;significant_wave_height (m)&quot;, &quot;idx&quot;: 1367750400000, &quot;val&quot;: 0.8999999759999999}, {&quot;col&quot;: &quot;significant_wave_height (m)&quot;, &quot;idx&quot;: 1367752200000, &quot;val&quot;: 0.8999999759999999}, {&quot;col&quot;: &quot;significant_wave_height (m)&quot;, &quot;idx&quot;: 1367754000000, &quot;val&quot;: 0.800000012}, {&quot;col&quot;: &quot;significant_wave_height (m)&quot;, &quot;idx&quot;: 1367755800000, &quot;val&quot;: 0.800000012}, {&quot;col&quot;: &quot;significant_wave_height (m)&quot;, &quot;idx&quot;: 1367757600000, &quot;val&quot;: 0.8999999759999999}, {&quot;col&quot;: &quot;significant_wave_height (m)&quot;, &quot;idx&quot;: 1367759400000, &quot;val&quot;: 1.0}, {&quot;col&quot;: &quot;significant_wave_height (m)&quot;, &quot;idx&quot;: 1367761200000, &quot;val&quot;: 0.8999999759999999}, {&quot;col&quot;: &quot;significant_wave_height (m)&quot;, &quot;idx&quot;: 1367763000000, &quot;val&quot;: 0.8999999759999999}, {&quot;col&quot;: &quot;significant_wave_height (m)&quot;, &quot;idx&quot;: 1367764800000, &quot;val&quot;: 0.8999999759999999}, {&quot;col&quot;: &quot;significant_wave_height (m)&quot;, &quot;idx&quot;: 1367766600000, &quot;val&quot;: 0.8999999759999999}, {&quot;col&quot;: &quot;significant_wave_height (m)&quot;, &quot;idx&quot;: 1367768400000, &quot;val&quot;: 0.8999999759999999}, {&quot;col&quot;: &quot;significant_wave_height (m)&quot;, &quot;idx&quot;: 1367770200000, &quot;val&quot;: 1.0}, {&quot;col&quot;: &quot;significant_wave_height (m)&quot;, &quot;idx&quot;: 1367772000000, &quot;val&quot;: 1.0}, {&quot;col&quot;: &quot;significant_wave_height (m)&quot;, &quot;idx&quot;: 1367773800000, &quot;val&quot;: 1.0}, {&quot;col&quot;: &quot;significant_wave_height (m)&quot;, &quot;idx&quot;: 1367775600000, &quot;val&quot;: 1.0}, {&quot;col&quot;: &quot;significant_wave_height (m)&quot;, &quot;idx&quot;: 1367777400000, &quot;val&quot;: 1.0}, {&quot;col&quot;: &quot;significant_wave_height (m)&quot;, &quot;idx&quot;: 1367779200000, &quot;val&quot;: 1.0}, {&quot;col&quot;: &quot;significant_wave_height (m)&quot;, &quot;idx&quot;: 1367781000000, &quot;val&quot;: 1.0}, {&quot;col&quot;: &quot;significant_wave_height (m)&quot;, &quot;idx&quot;: 1367782800000, &quot;val&quot;: 1.0}, {&quot;col&quot;: &quot;significant_wave_height (m)&quot;, &quot;idx&quot;: 1367784600000, &quot;val&quot;: 1.0}, {&quot;col&quot;: &quot;significant_wave_height (m)&quot;, &quot;idx&quot;: 1367786400000, &quot;val&quot;: 0.8999999759999999}, {&quot;col&quot;: &quot;significant_wave_height (m)&quot;, &quot;idx&quot;: 1367788200000, &quot;val&quot;: 0.800000012}, {&quot;col&quot;: &quot;significant_wave_height (m)&quot;, &quot;idx&quot;: 1367790000000, &quot;val&quot;: 0.8999999759999999}, {&quot;col&quot;: &quot;significant_wave_height (m)&quot;, &quot;idx&quot;: 1367791800000, &quot;val&quot;: 0.800000012}, {&quot;col&quot;: &quot;significant_wave_height (m)&quot;, &quot;idx&quot;: 1367793600000, &quot;val&quot;: 0.800000012}, {&quot;col&quot;: &quot;significant_wave_height (m)&quot;, &quot;idx&quot;: 1367795400000, &quot;val&quot;: 0.800000012}, {&quot;col&quot;: &quot;significant_wave_height (m)&quot;, &quot;idx&quot;: 1367797200000, &quot;val&quot;: 0.699999988}, {&quot;col&quot;: &quot;significant_wave_height (m)&quot;, &quot;idx&quot;: 1367799000000, &quot;val&quot;: 0.800000012}, {&quot;col&quot;: &quot;significant_wave_height (m)&quot;, &quot;idx&quot;: 1367800800000, &quot;val&quot;: 0.800000012}, {&quot;col&quot;: &quot;significant_wave_height (m)&quot;, &quot;idx&quot;: 1367802600000, &quot;val&quot;: 0.699999988}, {&quot;col&quot;: &quot;significant_wave_height (m)&quot;, &quot;idx&quot;: 1367804400000, &quot;val&quot;: 0.800000012}, {&quot;col&quot;: &quot;significant_wave_height (m)&quot;, &quot;idx&quot;: 1367806200000, &quot;val&quot;: 0.800000012}, {&quot;col&quot;: &quot;significant_wave_height (m)&quot;, &quot;idx&quot;: 1367808000000, &quot;val&quot;: 0.800000012}, {&quot;col&quot;: &quot;significant_wave_height (m)&quot;, &quot;idx&quot;: 1367809800000, &quot;val&quot;: 0.800000012}, {&quot;col&quot;: &quot;significant_wave_height (m)&quot;, &quot;idx&quot;: 1367811600000, &quot;val&quot;: 0.800000012}, {&quot;col&quot;: &quot;significant_wave_height (m)&quot;, &quot;idx&quot;: 1367813400000, &quot;val&quot;: 0.8999999759999999}, {&quot;col&quot;: &quot;significant_wave_height (m)&quot;, &quot;idx&quot;: 1367815200000, &quot;val&quot;: 0.8999999759999999}, {&quot;col&quot;: &quot;significant_wave_height (m)&quot;, &quot;idx&quot;: 1367817000000, &quot;val&quot;: 0.8999999759999999}, {&quot;col&quot;: &quot;significant_wave_height (m)&quot;, &quot;idx&quot;: 1367818800000, &quot;val&quot;: 1.0}, {&quot;col&quot;: &quot;significant_wave_height (m)&quot;, &quot;idx&quot;: 1367820600000, &quot;val&quot;: 1.0}, {&quot;col&quot;: &quot;significant_wave_height (m)&quot;, &quot;idx&quot;: 1367822400000, &quot;val&quot;: 0.8999999759999999}, {&quot;col&quot;: &quot;significant_wave_height (m)&quot;, &quot;idx&quot;: 1367824200000, &quot;val&quot;: 0.8999999759999999}, {&quot;col&quot;: &quot;significant_wave_height (m)&quot;, &quot;idx&quot;: 1367826000000, &quot;val&quot;: 0.800000012}, {&quot;col&quot;: &quot;significant_wave_height (m)&quot;, &quot;idx&quot;: 1367827800000, &quot;val&quot;: 0.800000012}, {&quot;col&quot;: &quot;significant_wave_height (m)&quot;, &quot;idx&quot;: 1367829600000, &quot;val&quot;: 0.699999988}, {&quot;col&quot;: &quot;significant_wave_height (m)&quot;, &quot;idx&quot;: 1367831400000, &quot;val&quot;: 0.699999988}, {&quot;col&quot;: &quot;significant_wave_height (m)&quot;, &quot;idx&quot;: 1367833200000, &quot;val&quot;: 0.8999999759999999}, {&quot;col&quot;: &quot;significant_wave_height (m)&quot;, &quot;idx&quot;: 1367835000000, &quot;val&quot;: 1.299999952}, {&quot;col&quot;: &quot;significant_wave_height (m)&quot;, &quot;idx&quot;: 1367836800000, &quot;val&quot;: 1.600000024}, {&quot;col&quot;: &quot;significant_wave_height (m)&quot;, &quot;idx&quot;: 1367838600000, &quot;val&quot;: 1.5}, {&quot;col&quot;: &quot;significant_wave_height (m)&quot;, &quot;idx&quot;: 1367840400000, &quot;val&quot;: 1.5}, {&quot;col&quot;: &quot;significant_wave_height (m)&quot;, &quot;idx&quot;: 1367844000000, &quot;val&quot;: 1.399999976}, {&quot;col&quot;: &quot;significant_wave_height (m)&quot;, &quot;idx&quot;: 1367845800000, &quot;val&quot;: 1.299999952}, {&quot;col&quot;: &quot;significant_wave_height (m)&quot;, &quot;idx&quot;: 1367847600000, &quot;val&quot;: 1.299999952}, {&quot;col&quot;: &quot;significant_wave_height (m)&quot;, &quot;idx&quot;: 1367849400000, &quot;val&quot;: 1.299999952}, {&quot;col&quot;: &quot;significant_wave_height (m)&quot;, &quot;idx&quot;: 1367851200000, &quot;val&quot;: 1.299999952}, {&quot;col&quot;: &quot;significant_wave_height (m)&quot;, &quot;idx&quot;: 1367853000000, &quot;val&quot;: 1.299999952}, {&quot;col&quot;: &quot;significant_wave_height (m)&quot;, &quot;idx&quot;: 1367854800000, &quot;val&quot;: 1.299999952}, {&quot;col&quot;: &quot;significant_wave_height (m)&quot;, &quot;idx&quot;: 1367856600000, &quot;val&quot;: 1.200000048}, {&quot;col&quot;: &quot;significant_wave_height (m)&quot;, &quot;idx&quot;: 1367858400000, &quot;val&quot;: 1.100000024}, {&quot;col&quot;: &quot;significant_wave_height (m)&quot;, &quot;idx&quot;: 1367860200000, &quot;val&quot;: 1.100000024}, {&quot;col&quot;: &quot;significant_wave_height (m)&quot;, &quot;idx&quot;: 1367862000000, &quot;val&quot;: 1.100000024}, {&quot;col&quot;: &quot;significant_wave_height (m)&quot;, &quot;idx&quot;: 1367863800000, &quot;val&quot;: 1.100000024}, {&quot;col&quot;: &quot;significant_wave_height (m)&quot;, &quot;idx&quot;: 1367865600000, &quot;val&quot;: 1.0}, {&quot;col&quot;: &quot;significant_wave_height (m)&quot;, &quot;idx&quot;: 1367867400000, &quot;val&quot;: 1.100000024}, {&quot;col&quot;: &quot;significant_wave_height (m)&quot;, &quot;idx&quot;: 1367869200000, &quot;val&quot;: 1.100000024}, {&quot;col&quot;: &quot;significant_wave_height (m)&quot;, &quot;idx&quot;: 1367871000000, &quot;val&quot;: 1.100000024}, {&quot;col&quot;: &quot;significant_wave_height (m)&quot;, &quot;idx&quot;: 1367872800000, &quot;val&quot;: 1.100000024}, {&quot;col&quot;: &quot;significant_wave_height (m)&quot;, &quot;idx&quot;: 1367874600000, &quot;val&quot;: 1.100000024}, {&quot;col&quot;: &quot;significant_wave_height (m)&quot;, &quot;idx&quot;: 1367876400000, &quot;val&quot;: 1.100000024}, {&quot;col&quot;: &quot;significant_wave_height (m)&quot;, &quot;idx&quot;: 1367878200000, &quot;val&quot;: 1.100000024}, {&quot;col&quot;: &quot;significant_wave_height (m)&quot;, &quot;idx&quot;: 1367880000000, &quot;val&quot;: 1.100000024}, {&quot;col&quot;: &quot;significant_wave_height (m)&quot;, &quot;idx&quot;: 1367881800000, &quot;val&quot;: 1.100000024}, {&quot;col&quot;: &quot;significant_wave_height (m)&quot;, &quot;idx&quot;: 1367883600000, &quot;val&quot;: 1.100000024}, {&quot;col&quot;: &quot;significant_wave_height (m)&quot;, &quot;idx&quot;: 1367885400000, &quot;val&quot;: 1.100000024}, {&quot;col&quot;: &quot;significant_wave_height (m)&quot;, &quot;idx&quot;: 1367887200000, &quot;val&quot;: 1.100000024}, {&quot;col&quot;: &quot;significant_wave_height (m)&quot;, &quot;idx&quot;: 1367889000000, &quot;val&quot;: 1.100000024}, {&quot;col&quot;: &quot;significant_wave_height (m)&quot;, &quot;idx&quot;: 1367890800000, &quot;val&quot;: 1.0}, {&quot;col&quot;: &quot;significant_wave_height (m)&quot;, &quot;idx&quot;: 1367892600000, &quot;val&quot;: 1.100000024}, {&quot;col&quot;: &quot;significant_wave_height (m)&quot;, &quot;idx&quot;: 1367894400000, &quot;val&quot;: 1.100000024}, {&quot;col&quot;: &quot;significant_wave_height (m)&quot;, &quot;idx&quot;: 1367898000000, &quot;val&quot;: 1.100000024}, {&quot;col&quot;: &quot;significant_wave_height (m)&quot;, &quot;idx&quot;: 1367899800000, &quot;val&quot;: 1.200000048}, {&quot;col&quot;: &quot;significant_wave_height (m)&quot;, &quot;idx&quot;: 1367901600000, &quot;val&quot;: 1.100000024}, {&quot;col&quot;: &quot;significant_wave_height (m)&quot;, &quot;idx&quot;: 1367903400000, &quot;val&quot;: 1.100000024}, {&quot;col&quot;: &quot;significant_wave_height (m)&quot;, &quot;idx&quot;: 1367905200000, &quot;val&quot;: 1.0}, {&quot;col&quot;: &quot;significant_wave_height (m)&quot;, &quot;idx&quot;: 1367907000000, &quot;val&quot;: 1.100000024}, {&quot;col&quot;: &quot;significant_wave_height (m)&quot;, &quot;idx&quot;: 1367908800000, &quot;val&quot;: 1.100000024}, {&quot;col&quot;: &quot;significant_wave_height (m)&quot;, &quot;idx&quot;: 1367910600000, &quot;val&quot;: 1.100000024}, {&quot;col&quot;: &quot;significant_wave_height (m)&quot;, &quot;idx&quot;: 1367912400000, &quot;val&quot;: 1.0}, {&quot;col&quot;: &quot;significant_wave_height (m)&quot;, &quot;idx&quot;: 1367914200000, &quot;val&quot;: 1.0}, {&quot;col&quot;: &quot;significant_wave_height (m)&quot;, &quot;idx&quot;: 1367916000000, &quot;val&quot;: 1.0}, {&quot;col&quot;: &quot;significant_wave_height (m)&quot;, &quot;idx&quot;: 1367917800000, &quot;val&quot;: 1.0}, {&quot;col&quot;: &quot;significant_wave_height (m)&quot;, &quot;idx&quot;: 1367919600000, &quot;val&quot;: 1.0}, {&quot;col&quot;: &quot;significant_wave_height (m)&quot;, &quot;idx&quot;: 1367921400000, &quot;val&quot;: 1.0}, {&quot;col&quot;: &quot;significant_wave_height (m)&quot;, &quot;idx&quot;: 1367923200000, &quot;val&quot;: 1.0}, {&quot;col&quot;: &quot;significant_wave_height (m)&quot;, &quot;idx&quot;: 1367925000000, &quot;val&quot;: 1.100000024}, {&quot;col&quot;: &quot;significant_wave_height (m)&quot;, &quot;idx&quot;: 1367926800000, &quot;val&quot;: 1.100000024}, {&quot;col&quot;: &quot;significant_wave_height (m)&quot;, &quot;idx&quot;: 1367928600000, &quot;val&quot;: 1.200000048}, {&quot;col&quot;: &quot;significant_wave_height (m)&quot;, &quot;idx&quot;: 1367930400000, &quot;val&quot;: 1.200000048}, {&quot;col&quot;: &quot;significant_wave_height (m)&quot;, &quot;idx&quot;: 1367932200000, &quot;val&quot;: 1.200000048}, {&quot;col&quot;: &quot;significant_wave_height (m)&quot;, &quot;idx&quot;: 1367934000000, &quot;val&quot;: 1.200000048}, {&quot;col&quot;: &quot;significant_wave_height (m)&quot;, &quot;idx&quot;: 1367935800000, &quot;val&quot;: 1.200000048}, {&quot;col&quot;: &quot;significant_wave_height (m)&quot;, &quot;idx&quot;: 1367937600000, &quot;val&quot;: 1.299999952}, {&quot;col&quot;: &quot;significant_wave_height (m)&quot;, &quot;idx&quot;: 1367939400000, &quot;val&quot;: 1.399999976}, {&quot;col&quot;: &quot;significant_wave_height (m)&quot;, &quot;idx&quot;: 1367941200000, &quot;val&quot;: 1.299999952}, {&quot;col&quot;: &quot;significant_wave_height (m)&quot;, &quot;idx&quot;: 1367943000000, &quot;val&quot;: 1.299999952}, {&quot;col&quot;: &quot;significant_wave_height (m)&quot;, &quot;idx&quot;: 1367944800000, &quot;val&quot;: 1.399999976}, {&quot;col&quot;: &quot;significant_wave_height (m)&quot;, &quot;idx&quot;: 1367946600000, &quot;val&quot;: 1.5}, {&quot;col&quot;: &quot;significant_wave_height (m)&quot;, &quot;idx&quot;: 1367948400000, &quot;val&quot;: 1.399999976}, {&quot;col&quot;: &quot;significant_wave_height (m)&quot;, &quot;idx&quot;: 1367950200000, &quot;val&quot;: 1.399999976}, {&quot;col&quot;: &quot;significant_wave_height (m)&quot;, &quot;idx&quot;: 1367952000000, &quot;val&quot;: 1.399999976}, {&quot;col&quot;: &quot;significant_wave_height (m)&quot;, &quot;idx&quot;: 1367953800000, &quot;val&quot;: 1.5}, {&quot;col&quot;: &quot;significant_wave_height (m)&quot;, &quot;idx&quot;: 1367955600000, &quot;val&quot;: 1.5}, {&quot;col&quot;: &quot;significant_wave_height (m)&quot;, &quot;idx&quot;: 1367957400000, &quot;val&quot;: 1.5}, {&quot;col&quot;: &quot;significant_wave_height (m)&quot;, &quot;idx&quot;: 1367959200000, &quot;val&quot;: 1.399999976}, {&quot;col&quot;: &quot;significant_wave_height (m)&quot;, &quot;idx&quot;: 1367961000000, &quot;val&quot;: 1.5}, {&quot;col&quot;: &quot;significant_wave_height (m)&quot;, &quot;idx&quot;: 1367962800000, &quot;val&quot;: 1.5}, {&quot;col&quot;: &quot;significant_wave_height (m)&quot;, &quot;idx&quot;: 1367964600000, &quot;val&quot;: 1.5}, {&quot;col&quot;: &quot;significant_wave_height (m)&quot;, &quot;idx&quot;: 1367966400000, &quot;val&quot;: 1.5}, {&quot;col&quot;: &quot;significant_wave_height (m)&quot;, &quot;idx&quot;: 1367968200000, &quot;val&quot;: 1.399999976}, {&quot;col&quot;: &quot;significant_wave_height (m)&quot;, &quot;idx&quot;: 1367970000000, &quot;val&quot;: 1.5}, {&quot;col&quot;: &quot;significant_wave_height (m)&quot;, &quot;idx&quot;: 1367971800000, &quot;val&quot;: 1.399999976}, {&quot;col&quot;: &quot;significant_wave_height (m)&quot;, &quot;idx&quot;: 1367973600000, &quot;val&quot;: 1.299999952}, {&quot;col&quot;: &quot;significant_wave_height (m)&quot;, &quot;idx&quot;: 1367975400000, &quot;val&quot;: 1.399999976}, {&quot;col&quot;: &quot;significant_wave_height (m)&quot;, &quot;idx&quot;: 1367977200000, &quot;val&quot;: 1.399999976}, {&quot;col&quot;: &quot;significant_wave_height (m)&quot;, &quot;idx&quot;: 1367979000000, &quot;val&quot;: 1.399999976}, {&quot;col&quot;: &quot;significant_wave_height (m)&quot;, &quot;idx&quot;: 1367980800000, &quot;val&quot;: 1.299999952}, {&quot;col&quot;: &quot;significant_wave_height (m)&quot;, &quot;idx&quot;: 1367982600000, &quot;val&quot;: 1.299999952}, {&quot;col&quot;: &quot;significant_wave_height (m)&quot;, &quot;idx&quot;: 1367984400000, &quot;val&quot;: 1.399999976}, {&quot;col&quot;: &quot;significant_wave_height (m)&quot;, &quot;idx&quot;: 1367986200000, &quot;val&quot;: 1.399999976}, {&quot;col&quot;: &quot;significant_wave_height (m)&quot;, &quot;idx&quot;: 1367988000000, &quot;val&quot;: 1.5}, {&quot;col&quot;: &quot;significant_wave_height (m)&quot;, &quot;idx&quot;: 1367989800000, &quot;val&quot;: 1.5}, {&quot;col&quot;: &quot;significant_wave_height (m)&quot;, &quot;idx&quot;: 1367991600000, &quot;val&quot;: 1.600000024}, {&quot;col&quot;: &quot;significant_wave_height (m)&quot;, &quot;idx&quot;: 1367993400000, &quot;val&quot;: 1.5}, {&quot;col&quot;: &quot;significant_wave_height (m)&quot;, &quot;idx&quot;: 1367995200000, &quot;val&quot;: 1.600000024}, {&quot;col&quot;: &quot;significant_wave_height (m)&quot;, &quot;idx&quot;: 1367997000000, &quot;val&quot;: 1.399999976}, {&quot;col&quot;: &quot;significant_wave_height (m)&quot;, &quot;idx&quot;: 1367998800000, &quot;val&quot;: 1.399999976}, {&quot;col&quot;: &quot;significant_wave_height (m)&quot;, &quot;idx&quot;: 1368000600000, &quot;val&quot;: 1.5}, {&quot;col&quot;: &quot;significant_wave_height (m)&quot;, &quot;idx&quot;: 1368002400000, &quot;val&quot;: 1.5}, {&quot;col&quot;: &quot;significant_wave_height (m)&quot;, &quot;idx&quot;: 1368004200000, &quot;val&quot;: 1.399999976}, {&quot;col&quot;: &quot;significant_wave_height (m)&quot;, &quot;idx&quot;: 1368006000000, &quot;val&quot;: 1.399999976}, {&quot;col&quot;: &quot;significant_wave_height (m)&quot;, &quot;idx&quot;: 1368007800000, &quot;val&quot;: 1.299999952}, {&quot;col&quot;: &quot;significant_wave_height (m)&quot;, &quot;idx&quot;: 1368009600000, &quot;val&quot;: 1.5}, {&quot;col&quot;: &quot;significant_wave_height (m)&quot;, &quot;idx&quot;: 1368011400000, &quot;val&quot;: 1.5}, {&quot;col&quot;: &quot;significant_wave_height (m)&quot;, &quot;idx&quot;: 1368013200000, &quot;val&quot;: 1.399999976}, {&quot;col&quot;: &quot;significant_wave_height (m)&quot;, &quot;idx&quot;: 1368015000000, &quot;val&quot;: 1.299999952}, {&quot;col&quot;: &quot;significant_wave_height (m)&quot;, &quot;idx&quot;: 1368016800000, &quot;val&quot;: 1.299999952}, {&quot;col&quot;: &quot;significant_wave_height (m)&quot;, &quot;idx&quot;: 1368018600000, &quot;val&quot;: 1.299999952}, {&quot;col&quot;: &quot;significant_wave_height (m)&quot;, &quot;idx&quot;: 1368020400000, &quot;val&quot;: 1.299999952}, {&quot;col&quot;: &quot;significant_wave_height (m)&quot;, &quot;idx&quot;: 1368022200000, &quot;val&quot;: 1.299999952}, {&quot;col&quot;: &quot;significant_wave_height (m)&quot;, &quot;idx&quot;: 1368024000000, &quot;val&quot;: 1.200000048}, {&quot;col&quot;: &quot;significant_wave_height (m)&quot;, &quot;idx&quot;: 1368025800000, &quot;val&quot;: 1.399999976}, {&quot;col&quot;: &quot;significant_wave_height (m)&quot;, &quot;idx&quot;: 1368027600000, &quot;val&quot;: 1.399999976}, {&quot;col&quot;: &quot;significant_wave_height (m)&quot;, &quot;idx&quot;: 1368029400000, &quot;val&quot;: 1.299999952}, {&quot;col&quot;: &quot;significant_wave_height (m)&quot;, &quot;idx&quot;: 1368031200000, &quot;val&quot;: 1.200000048}, {&quot;col&quot;: &quot;significant_wave_height (m)&quot;, &quot;idx&quot;: 1368033000000, &quot;val&quot;: 1.299999952}, {&quot;col&quot;: &quot;significant_wave_height (m)&quot;, &quot;idx&quot;: 1368034800000, &quot;val&quot;: 1.299999952}, {&quot;col&quot;: &quot;significant_wave_height (m)&quot;, &quot;idx&quot;: 1368036600000, &quot;val&quot;: 1.299999952}, {&quot;col&quot;: &quot;significant_wave_height (m)&quot;, &quot;idx&quot;: 1368038400000, &quot;val&quot;: 1.200000048}, {&quot;col&quot;: &quot;significant_wave_height (m)&quot;, &quot;idx&quot;: 1368040200000, &quot;val&quot;: 1.399999976}, {&quot;col&quot;: &quot;significant_wave_height (m)&quot;, &quot;idx&quot;: 1368042000000, &quot;val&quot;: 1.299999952}, {&quot;col&quot;: &quot;significant_wave_height (m)&quot;, &quot;idx&quot;: 1368043800000, &quot;val&quot;: 1.200000048}, {&quot;col&quot;: &quot;significant_wave_height (m)&quot;, &quot;idx&quot;: 1368045600000, &quot;val&quot;: 1.299999952}, {&quot;col&quot;: &quot;significant_wave_height (m)&quot;, &quot;idx&quot;: 1368047400000, &quot;val&quot;: 1.299999952}, {&quot;col&quot;: &quot;significant_wave_height (m)&quot;, &quot;idx&quot;: 1368049200000, &quot;val&quot;: 1.299999952}, {&quot;col&quot;: &quot;significant_wave_height (m)&quot;, &quot;idx&quot;: 1368051000000, &quot;val&quot;: 1.200000048}, {&quot;col&quot;: &quot;significant_wave_height (m)&quot;, &quot;idx&quot;: 1368052800000, &quot;val&quot;: 1.200000048}, {&quot;col&quot;: &quot;significant_wave_height (m)&quot;, &quot;idx&quot;: 1368054600000, &quot;val&quot;: 1.200000048}, {&quot;col&quot;: &quot;significant_wave_height (m)&quot;, &quot;idx&quot;: 1368056400000, &quot;val&quot;: 1.200000048}, {&quot;col&quot;: &quot;significant_wave_height (m)&quot;, &quot;idx&quot;: 1368058200000, &quot;val&quot;: 1.200000048}, {&quot;col&quot;: &quot;significant_wave_height (m)&quot;, &quot;idx&quot;: 1368060000000, &quot;val&quot;: 1.100000024}, {&quot;col&quot;: &quot;significant_wave_height (m)&quot;, &quot;idx&quot;: 1368061800000, &quot;val&quot;: 1.100000024}, {&quot;col&quot;: &quot;significant_wave_height (m)&quot;, &quot;idx&quot;: 1368063600000, &quot;val&quot;: 1.100000024}, {&quot;col&quot;: &quot;significant_wave_height (m)&quot;, &quot;idx&quot;: 1368065400000, &quot;val&quot;: 1.100000024}, {&quot;col&quot;: &quot;significant_wave_height (m)&quot;, &quot;idx&quot;: 1368067200000, &quot;val&quot;: 1.100000024}, {&quot;col&quot;: &quot;significant_wave_height (m)&quot;, &quot;idx&quot;: 1368069000000, &quot;val&quot;: 1.100000024}, {&quot;col&quot;: &quot;significant_wave_height (m)&quot;, &quot;idx&quot;: 1368070800000, &quot;val&quot;: 0.8999999759999999}, {&quot;col&quot;: &quot;significant_wave_height (m)&quot;, &quot;idx&quot;: 1368072600000, &quot;val&quot;: 1.100000024}, {&quot;col&quot;: &quot;significant_wave_height (m)&quot;, &quot;idx&quot;: 1368074400000, &quot;val&quot;: 1.0}, {&quot;col&quot;: &quot;significant_wave_height (m)&quot;, &quot;idx&quot;: 1368076200000, &quot;val&quot;: 1.100000024}, {&quot;col&quot;: &quot;significant_wave_height (m)&quot;, &quot;idx&quot;: 1368078000000, &quot;val&quot;: 1.0}, {&quot;col&quot;: &quot;significant_wave_height (m)&quot;, &quot;idx&quot;: 1368079800000, &quot;val&quot;: 1.100000024}, {&quot;col&quot;: &quot;significant_wave_height (m)&quot;, &quot;idx&quot;: 1368081600000, &quot;val&quot;: 1.100000024}, {&quot;col&quot;: &quot;significant_wave_height (m)&quot;, &quot;idx&quot;: 1368083400000, &quot;val&quot;: 1.0}, {&quot;col&quot;: &quot;significant_wave_height (m)&quot;, &quot;idx&quot;: 1368085200000, &quot;val&quot;: 1.0}, {&quot;col&quot;: &quot;significant_wave_height (m)&quot;, &quot;idx&quot;: 1368087000000, &quot;val&quot;: 1.0}, {&quot;col&quot;: &quot;significant_wave_height (m)&quot;, &quot;idx&quot;: 1368088800000, &quot;val&quot;: 1.0}, {&quot;col&quot;: &quot;significant_wave_height (m)&quot;, &quot;idx&quot;: 1368090600000, &quot;val&quot;: 1.0}, {&quot;col&quot;: &quot;significant_wave_height (m)&quot;, &quot;idx&quot;: 1368092400000, &quot;val&quot;: 1.0}, {&quot;col&quot;: &quot;significant_wave_height (m)&quot;, &quot;idx&quot;: 1368094200000, &quot;val&quot;: 1.100000024}, {&quot;col&quot;: &quot;significant_wave_height (m)&quot;, &quot;idx&quot;: 1368096000000, &quot;val&quot;: 1.0}, {&quot;col&quot;: &quot;significant_wave_height (m)&quot;, &quot;idx&quot;: 1368097800000, &quot;val&quot;: 0.8999999759999999}, {&quot;col&quot;: &quot;significant_wave_height (m)&quot;, &quot;idx&quot;: 1368099600000, &quot;val&quot;: 0.8999999759999999}, {&quot;col&quot;: &quot;significant_wave_height (m)&quot;, &quot;idx&quot;: 1368101400000, &quot;val&quot;: 0.8999999759999999}, {&quot;col&quot;: &quot;significant_wave_height (m)&quot;, &quot;idx&quot;: 1368103200000, &quot;val&quot;: 1.0}, {&quot;col&quot;: &quot;significant_wave_height (m)&quot;, &quot;idx&quot;: 1368105000000, &quot;val&quot;: 0.8999999759999999}, {&quot;col&quot;: &quot;significant_wave_height (m)&quot;, &quot;idx&quot;: 1368106800000, &quot;val&quot;: 1.0}, {&quot;col&quot;: &quot;significant_wave_height (m)&quot;, &quot;idx&quot;: 1368108600000, &quot;val&quot;: 1.0}, {&quot;col&quot;: &quot;significant_wave_height (m)&quot;, &quot;idx&quot;: 1368110400000, &quot;val&quot;: 1.0}, {&quot;col&quot;: &quot;significant_wave_height (m)&quot;, &quot;idx&quot;: 1368112200000, &quot;val&quot;: 0.800000012}, {&quot;col&quot;: &quot;significant_wave_height (m)&quot;, &quot;idx&quot;: 1368114000000, &quot;val&quot;: 1.0}, {&quot;col&quot;: &quot;significant_wave_height (m)&quot;, &quot;idx&quot;: 1368115800000, &quot;val&quot;: 0.8999999759999999}, {&quot;col&quot;: &quot;significant_wave_height (m)&quot;, &quot;idx&quot;: 1368117600000, &quot;val&quot;: 0.800000012}, {&quot;col&quot;: &quot;significant_wave_height (m)&quot;, &quot;idx&quot;: 1368119400000, &quot;val&quot;: 0.800000012}, {&quot;col&quot;: &quot;significant_wave_height (m)&quot;, &quot;idx&quot;: 1368121200000, &quot;val&quot;: 0.800000012}, {&quot;col&quot;: &quot;significant_wave_height (m)&quot;, &quot;idx&quot;: 1368123000000, &quot;val&quot;: 0.800000012}, {&quot;col&quot;: &quot;significant_wave_height (m)&quot;, &quot;idx&quot;: 1368124800000, &quot;val&quot;: 0.800000012}, {&quot;col&quot;: &quot;significant_wave_height (m)&quot;, &quot;idx&quot;: 1368126600000, &quot;val&quot;: 0.800000012}, {&quot;col&quot;: &quot;significant_wave_height (m)&quot;, &quot;idx&quot;: 1368128400000, &quot;val&quot;: 0.800000012}, {&quot;col&quot;: &quot;significant_wave_height (m)&quot;, &quot;idx&quot;: 1368130200000, &quot;val&quot;: 0.800000012}, {&quot;col&quot;: &quot;significant_wave_height (m)&quot;, &quot;idx&quot;: 1368132000000, &quot;val&quot;: 0.800000012}, {&quot;col&quot;: &quot;significant_wave_height (m)&quot;, &quot;idx&quot;: 1368133800000, &quot;val&quot;: 0.800000012}, {&quot;col&quot;: &quot;significant_wave_height (m)&quot;, &quot;idx&quot;: 1368135600000, &quot;val&quot;: 0.699999988}, {&quot;col&quot;: &quot;significant_wave_height (m)&quot;, &quot;idx&quot;: 1368137400000, &quot;val&quot;: 0.800000012}, {&quot;col&quot;: &quot;significant_wave_height (m)&quot;, &quot;idx&quot;: 1368139200000, &quot;val&quot;: 0.800000012}, {&quot;col&quot;: &quot;significant_wave_height (m)&quot;, &quot;idx&quot;: 1368141000000, &quot;val&quot;: 0.800000012}, {&quot;col&quot;: &quot;significant_wave_height (m)&quot;, &quot;idx&quot;: 1368142800000, &quot;val&quot;: 0.800000012}, {&quot;col&quot;: &quot;significant_wave_height (m)&quot;, &quot;idx&quot;: 1368144600000, &quot;val&quot;: 0.800000012}, {&quot;col&quot;: &quot;significant_wave_height (m)&quot;, &quot;idx&quot;: 1368146400000, &quot;val&quot;: 0.800000012}, {&quot;col&quot;: &quot;significant_wave_height (m)&quot;, &quot;idx&quot;: 1368148200000, &quot;val&quot;: 0.800000012}, {&quot;col&quot;: &quot;significant_wave_height (m)&quot;, &quot;idx&quot;: 1368151800000, &quot;val&quot;: 0.8999999759999999}, {&quot;col&quot;: &quot;significant_wave_height (m)&quot;, &quot;idx&quot;: 1368153600000, &quot;val&quot;: 0.800000012}, {&quot;col&quot;: &quot;significant_wave_height (m)&quot;, &quot;idx&quot;: 1368155400000, &quot;val&quot;: 0.800000012}, {&quot;col&quot;: &quot;significant_wave_height (m)&quot;, &quot;idx&quot;: 1368157200000, &quot;val&quot;: 0.800000012}, {&quot;col&quot;: &quot;significant_wave_height (m)&quot;, &quot;idx&quot;: 1368159000000, &quot;val&quot;: 0.800000012}, {&quot;col&quot;: &quot;significant_wave_height (m)&quot;, &quot;idx&quot;: 1368160800000, &quot;val&quot;: 0.800000012}, {&quot;col&quot;: &quot;significant_wave_height (m)&quot;, &quot;idx&quot;: 1368162600000, &quot;val&quot;: 0.800000012}, {&quot;col&quot;: &quot;significant_wave_height (m)&quot;, &quot;idx&quot;: 1368164400000, &quot;val&quot;: 0.800000012}, {&quot;col&quot;: &quot;significant_wave_height (m)&quot;, &quot;idx&quot;: 1368166200000, &quot;val&quot;: 0.800000012}, {&quot;col&quot;: &quot;significant_wave_height (m)&quot;, &quot;idx&quot;: 1368168000000, &quot;val&quot;: 0.800000012}, {&quot;col&quot;: &quot;significant_wave_height (m)&quot;, &quot;idx&quot;: 1368169800000, &quot;val&quot;: 0.800000012}, {&quot;col&quot;: &quot;significant_wave_height (m)&quot;, &quot;idx&quot;: 1368171600000, &quot;val&quot;: 0.800000012}, {&quot;col&quot;: &quot;significant_wave_height (m)&quot;, &quot;idx&quot;: 1368173400000, &quot;val&quot;: 0.800000012}, {&quot;col&quot;: &quot;significant_wave_height (m)&quot;, &quot;idx&quot;: 1368175200000, &quot;val&quot;: 0.800000012}, {&quot;col&quot;: &quot;significant_wave_height (m)&quot;, &quot;idx&quot;: 1368177000000, &quot;val&quot;: 0.800000012}, {&quot;col&quot;: &quot;significant_wave_height (m)&quot;, &quot;idx&quot;: 1368178800000, &quot;val&quot;: 0.699999988}, {&quot;col&quot;: &quot;significant_wave_height (m)&quot;, &quot;idx&quot;: 1368180600000, &quot;val&quot;: 0.800000012}, {&quot;col&quot;: &quot;significant_wave_height (m)&quot;, &quot;idx&quot;: 1368182400000, &quot;val&quot;: 0.800000012}, {&quot;col&quot;: &quot;significant_wave_height (m)&quot;, &quot;idx&quot;: 1368184200000, &quot;val&quot;: 0.800000012}, {&quot;col&quot;: &quot;significant_wave_height (m)&quot;, &quot;idx&quot;: 1368186000000, &quot;val&quot;: 0.800000012}, {&quot;col&quot;: &quot;significant_wave_height (m)&quot;, &quot;idx&quot;: 1368187800000, &quot;val&quot;: 0.800000012}, {&quot;col&quot;: &quot;significant_wave_height (m)&quot;, &quot;idx&quot;: 1368189600000, &quot;val&quot;: 0.800000012}, {&quot;col&quot;: &quot;significant_wave_height (m)&quot;, &quot;idx&quot;: 1368191400000, &quot;val&quot;: 0.800000012}, {&quot;col&quot;: &quot;significant_wave_height (m)&quot;, &quot;idx&quot;: 1368193200000, &quot;val&quot;: 0.800000012}, {&quot;col&quot;: &quot;significant_wave_height (m)&quot;, &quot;idx&quot;: 1368195000000, &quot;val&quot;: 0.8999999759999999}, {&quot;col&quot;: &quot;significant_wave_height (m)&quot;, &quot;idx&quot;: 1368196800000, &quot;val&quot;: 0.8999999759999999}, {&quot;col&quot;: &quot;significant_wave_height (m)&quot;, &quot;idx&quot;: 1368198600000, &quot;val&quot;: 0.800000012}, {&quot;col&quot;: &quot;significant_wave_height (m)&quot;, &quot;idx&quot;: 1368200400000, &quot;val&quot;: 0.800000012}, {&quot;col&quot;: &quot;significant_wave_height (m)&quot;, &quot;idx&quot;: 1368202200000, &quot;val&quot;: 0.699999988}, {&quot;col&quot;: &quot;significant_wave_height (m)&quot;, &quot;idx&quot;: 1368204000000, &quot;val&quot;: 0.800000012}, {&quot;col&quot;: &quot;significant_wave_height (m)&quot;, &quot;idx&quot;: 1368205800000, &quot;val&quot;: 0.699999988}, {&quot;col&quot;: &quot;significant_wave_height (m)&quot;, &quot;idx&quot;: 1368207600000, &quot;val&quot;: 0.699999988}, {&quot;col&quot;: &quot;significant_wave_height (m)&quot;, &quot;idx&quot;: 1368209400000, &quot;val&quot;: 0.699999988}, {&quot;col&quot;: &quot;significant_wave_height (m)&quot;, &quot;idx&quot;: 1368211200000, &quot;val&quot;: 0.699999988}, {&quot;col&quot;: &quot;significant_wave_height (m)&quot;, &quot;idx&quot;: 1368213000000, &quot;val&quot;: 0.699999988}, {&quot;col&quot;: &quot;significant_wave_height (m)&quot;, &quot;idx&quot;: 1368214800000, &quot;val&quot;: 0.699999988}, {&quot;col&quot;: &quot;significant_wave_height (m)&quot;, &quot;idx&quot;: 1368216600000, &quot;val&quot;: 0.699999988}, {&quot;col&quot;: &quot;significant_wave_height (m)&quot;, &quot;idx&quot;: 1368218400000, &quot;val&quot;: 0.600000024}, {&quot;col&quot;: &quot;significant_wave_height (m)&quot;, &quot;idx&quot;: 1368220200000, &quot;val&quot;: 0.600000024}, {&quot;col&quot;: &quot;significant_wave_height (m)&quot;, &quot;idx&quot;: 1368222000000, &quot;val&quot;: 0.600000024}, {&quot;col&quot;: &quot;significant_wave_height (m)&quot;, &quot;idx&quot;: 1368223800000, &quot;val&quot;: 0.600000024}, {&quot;col&quot;: &quot;significant_wave_height (m)&quot;, &quot;idx&quot;: 1368229200000, &quot;val&quot;: 0.600000024}, {&quot;col&quot;: &quot;significant_wave_height (m)&quot;, &quot;idx&quot;: 1368231000000, &quot;val&quot;: 0.600000024}, {&quot;col&quot;: &quot;significant_wave_height (m)&quot;, &quot;idx&quot;: 1368232800000, &quot;val&quot;: 0.600000024}, {&quot;col&quot;: &quot;significant_wave_height (m)&quot;, &quot;idx&quot;: 1368234600000, &quot;val&quot;: 0.600000024}, {&quot;col&quot;: &quot;significant_wave_height (m)&quot;, &quot;idx&quot;: 1368236400000, &quot;val&quot;: 0.5}, {&quot;col&quot;: &quot;significant_wave_height (m)&quot;, &quot;idx&quot;: 1368238200000, &quot;val&quot;: 0.5}, {&quot;col&quot;: &quot;significant_wave_height (m)&quot;, &quot;idx&quot;: 1368240000000, &quot;val&quot;: 0.600000024}, {&quot;col&quot;: &quot;significant_wave_height (m)&quot;, &quot;idx&quot;: 1368241800000, &quot;val&quot;: 0.600000024}, {&quot;col&quot;: &quot;significant_wave_height (m)&quot;, &quot;idx&quot;: 1368243600000, &quot;val&quot;: 0.5}, {&quot;col&quot;: &quot;significant_wave_height (m)&quot;, &quot;idx&quot;: 1368245400000, &quot;val&quot;: 0.5}, {&quot;col&quot;: &quot;significant_wave_height (m)&quot;, &quot;idx&quot;: 1368247200000, &quot;val&quot;: 0.5}, {&quot;col&quot;: &quot;significant_wave_height (m)&quot;, &quot;idx&quot;: 1368249000000, &quot;val&quot;: 0.5}, {&quot;col&quot;: &quot;significant_wave_height (m)&quot;, &quot;idx&quot;: 1368250800000, &quot;val&quot;: 0.5}, {&quot;col&quot;: &quot;significant_wave_height (m)&quot;, &quot;idx&quot;: 1368252600000, &quot;val&quot;: 0.5}, {&quot;col&quot;: &quot;significant_wave_height (m)&quot;, &quot;idx&quot;: 1368254400000, &quot;val&quot;: 0.5}, {&quot;col&quot;: &quot;significant_wave_height (m)&quot;, &quot;idx&quot;: 1368256200000, &quot;val&quot;: 0.5}, {&quot;col&quot;: &quot;significant_wave_height (m)&quot;, &quot;idx&quot;: 1368258000000, &quot;val&quot;: 0.5}, {&quot;col&quot;: &quot;significant_wave_height (m)&quot;, &quot;idx&quot;: 1368259800000, &quot;val&quot;: 0.5}, {&quot;col&quot;: &quot;significant_wave_height (m)&quot;, &quot;idx&quot;: 1368261600000, &quot;val&quot;: 0.600000024}, {&quot;col&quot;: &quot;significant_wave_height (m)&quot;, &quot;idx&quot;: 1368263400000, &quot;val&quot;: 0.5}, {&quot;col&quot;: &quot;significant_wave_height (m)&quot;, &quot;idx&quot;: 1368265200000, &quot;val&quot;: 0.5}, {&quot;col&quot;: &quot;significant_wave_height (m)&quot;, &quot;idx&quot;: 1368267000000, &quot;val&quot;: 0.5}, {&quot;col&quot;: &quot;significant_wave_height (m)&quot;, &quot;idx&quot;: 1368268800000, &quot;val&quot;: 0.5}, {&quot;col&quot;: &quot;significant_wave_height (m)&quot;, &quot;idx&quot;: 1368270600000, &quot;val&quot;: 0.600000024}, {&quot;col&quot;: &quot;significant_wave_height (m)&quot;, &quot;idx&quot;: 1368272400000, &quot;val&quot;: 0.600000024}, {&quot;col&quot;: &quot;significant_wave_height (m)&quot;, &quot;idx&quot;: 1368274200000, &quot;val&quot;: 0.600000024}, {&quot;col&quot;: &quot;significant_wave_height (m)&quot;, &quot;idx&quot;: 1368276000000, &quot;val&quot;: 0.600000024}, {&quot;col&quot;: &quot;significant_wave_height (m)&quot;, &quot;idx&quot;: 1368277800000, &quot;val&quot;: 0.699999988}, {&quot;col&quot;: &quot;significant_wave_height (m)&quot;, &quot;idx&quot;: 1368279600000, &quot;val&quot;: 0.699999988}, {&quot;col&quot;: &quot;significant_wave_height (m)&quot;, &quot;idx&quot;: 1368281400000, &quot;val&quot;: 0.699999988}, {&quot;col&quot;: &quot;significant_wave_height (m)&quot;, &quot;idx&quot;: 1368283200000, &quot;val&quot;: 0.699999988}, {&quot;col&quot;: &quot;significant_wave_height (m)&quot;, &quot;idx&quot;: 1368285000000, &quot;val&quot;: 0.600000024}, {&quot;col&quot;: &quot;significant_wave_height (m)&quot;, &quot;idx&quot;: 1368286800000, &quot;val&quot;: 0.699999988}, {&quot;col&quot;: &quot;significant_wave_height (m)&quot;, &quot;idx&quot;: 1368288600000, &quot;val&quot;: 0.600000024}, {&quot;col&quot;: &quot;significant_wave_height (m)&quot;, &quot;idx&quot;: 1368290400000, &quot;val&quot;: 0.600000024}, {&quot;col&quot;: &quot;significant_wave_height (m)&quot;, &quot;idx&quot;: 1368292200000, &quot;val&quot;: 0.600000024}, {&quot;col&quot;: &quot;significant_wave_height (m)&quot;, &quot;idx&quot;: 1368294000000, &quot;val&quot;: 0.600000024}, {&quot;col&quot;: &quot;significant_wave_height (m)&quot;, &quot;idx&quot;: 1368295800000, &quot;val&quot;: 0.5}, {&quot;col&quot;: &quot;significant_wave_height (m)&quot;, &quot;idx&quot;: 1368297600000, &quot;val&quot;: 0.600000024}, {&quot;col&quot;: &quot;significant_wave_height (m)&quot;, &quot;idx&quot;: 1368299400000, &quot;val&quot;: 0.600000024}, {&quot;col&quot;: &quot;significant_wave_height (m)&quot;, &quot;idx&quot;: 1368301200000, &quot;val&quot;: 0.600000024}, {&quot;col&quot;: &quot;significant_wave_height (m)&quot;, &quot;idx&quot;: 1368303000000, &quot;val&quot;: 0.699999988}, {&quot;col&quot;: &quot;significant_wave_height (m)&quot;, &quot;idx&quot;: 1368304800000, &quot;val&quot;: 0.699999988}, {&quot;col&quot;: &quot;significant_wave_height (m)&quot;, &quot;idx&quot;: 1368306600000, &quot;val&quot;: 0.699999988}, {&quot;col&quot;: &quot;significant_wave_height (m)&quot;, &quot;idx&quot;: 1368308400000, &quot;val&quot;: 0.699999988}, {&quot;col&quot;: &quot;significant_wave_height (m)&quot;, &quot;idx&quot;: 1368310200000, &quot;val&quot;: 0.699999988}, {&quot;col&quot;: &quot;significant_wave_height (m)&quot;, &quot;idx&quot;: 1368312000000, &quot;val&quot;: 0.800000012}, {&quot;col&quot;: &quot;significant_wave_height (m)&quot;, &quot;idx&quot;: 1368313800000, &quot;val&quot;: 0.699999988}, {&quot;col&quot;: &quot;significant_wave_height (m)&quot;, &quot;idx&quot;: 1368315600000, &quot;val&quot;: 0.800000012}, {&quot;col&quot;: &quot;significant_wave_height (m)&quot;, &quot;idx&quot;: 1368317400000, &quot;val&quot;: 0.800000012}, {&quot;col&quot;: &quot;significant_wave_height (m)&quot;, &quot;idx&quot;: 1368319200000, &quot;val&quot;: 0.800000012}, {&quot;col&quot;: &quot;significant_wave_height (m)&quot;, &quot;idx&quot;: 1368321000000, &quot;val&quot;: 0.8999999759999999}, {&quot;col&quot;: &quot;significant_wave_height (m)&quot;, &quot;idx&quot;: 1368322800000, &quot;val&quot;: 1.0}, {&quot;col&quot;: &quot;significant_wave_height (m)&quot;, &quot;idx&quot;: 1368324600000, &quot;val&quot;: 1.0}, {&quot;col&quot;: &quot;significant_wave_height (m)&quot;, &quot;idx&quot;: 1368326400000, &quot;val&quot;: 1.200000048}, {&quot;col&quot;: &quot;significant_wave_height (m)&quot;, &quot;idx&quot;: 1368328200000, &quot;val&quot;: 1.200000048}, {&quot;col&quot;: &quot;significant_wave_height (m)&quot;, &quot;idx&quot;: 1368330000000, &quot;val&quot;: 1.200000048}, {&quot;col&quot;: &quot;significant_wave_height (m)&quot;, &quot;idx&quot;: 1368331800000, &quot;val&quot;: 1.200000048}, {&quot;col&quot;: &quot;significant_wave_height (m)&quot;, &quot;idx&quot;: 1368333600000, &quot;val&quot;: 1.299999952}, {&quot;col&quot;: &quot;significant_wave_height (m)&quot;, &quot;idx&quot;: 1368335400000, &quot;val&quot;: 1.299999952}, {&quot;col&quot;: &quot;significant_wave_height (m)&quot;, &quot;idx&quot;: 1368337200000, &quot;val&quot;: 1.200000048}, {&quot;col&quot;: &quot;significant_wave_height (m)&quot;, &quot;idx&quot;: 1368339000000, &quot;val&quot;: 1.200000048}, {&quot;col&quot;: &quot;significant_wave_height (m)&quot;, &quot;idx&quot;: 1368340800000, &quot;val&quot;: 1.200000048}, {&quot;col&quot;: &quot;significant_wave_height (m)&quot;, &quot;idx&quot;: 1368342600000, &quot;val&quot;: 1.200000048}, {&quot;col&quot;: &quot;significant_wave_height (m)&quot;, &quot;idx&quot;: 1368344400000, &quot;val&quot;: 1.100000024}, {&quot;col&quot;: &quot;significant_wave_height (m)&quot;, &quot;idx&quot;: 1368346200000, &quot;val&quot;: 1.200000048}, {&quot;col&quot;: &quot;significant_wave_height (m)&quot;, &quot;idx&quot;: 1368348000000, &quot;val&quot;: 1.200000048}, {&quot;col&quot;: &quot;significant_wave_height (m)&quot;, &quot;idx&quot;: 1368349800000, &quot;val&quot;: 1.200000048}, {&quot;col&quot;: &quot;significant_wave_height (m)&quot;, &quot;idx&quot;: 1368351600000, &quot;val&quot;: 1.200000048}, {&quot;col&quot;: &quot;significant_wave_height (m)&quot;, &quot;idx&quot;: 1368353400000, &quot;val&quot;: 1.200000048}, {&quot;col&quot;: &quot;significant_wave_height (m)&quot;, &quot;idx&quot;: 1368355200000, &quot;val&quot;: 1.100000024}, {&quot;col&quot;: &quot;significant_wave_height (m)&quot;, &quot;idx&quot;: 1368357000000, &quot;val&quot;: 1.100000024}, {&quot;col&quot;: &quot;significant_wave_height (m)&quot;, &quot;idx&quot;: 1368358800000, &quot;val&quot;: 1.0}, {&quot;col&quot;: &quot;significant_wave_height (m)&quot;, &quot;idx&quot;: 1368360600000, &quot;val&quot;: 1.0}, {&quot;col&quot;: &quot;significant_wave_height (m)&quot;, &quot;idx&quot;: 1368362400000, &quot;val&quot;: 1.0}, {&quot;col&quot;: &quot;significant_wave_height (m)&quot;, &quot;idx&quot;: 1368364200000, &quot;val&quot;: 1.100000024}, {&quot;col&quot;: &quot;significant_wave_height (m)&quot;, &quot;idx&quot;: 1368366000000, &quot;val&quot;: 1.100000024}, {&quot;col&quot;: &quot;significant_wave_height (m)&quot;, &quot;idx&quot;: 1368367800000, &quot;val&quot;: 1.200000048}, {&quot;col&quot;: &quot;significant_wave_height (m)&quot;, &quot;idx&quot;: 1368369600000, &quot;val&quot;: 1.200000048}, {&quot;col&quot;: &quot;significant_wave_height (m)&quot;, &quot;idx&quot;: 1368371400000, &quot;val&quot;: 1.299999952}, {&quot;col&quot;: &quot;significant_wave_height (m)&quot;, &quot;idx&quot;: 1368373200000, &quot;val&quot;: 1.299999952}, {&quot;col&quot;: &quot;significant_wave_height (m)&quot;, &quot;idx&quot;: 1368375000000, &quot;val&quot;: 1.399999976}, {&quot;col&quot;: &quot;significant_wave_height (m)&quot;, &quot;idx&quot;: 1368376800000, &quot;val&quot;: 1.399999976}, {&quot;col&quot;: &quot;significant_wave_height (m)&quot;, &quot;idx&quot;: 1368378600000, &quot;val&quot;: 1.399999976}, {&quot;col&quot;: &quot;significant_wave_height (m)&quot;, &quot;idx&quot;: 1368380400000, &quot;val&quot;: 1.399999976}, {&quot;col&quot;: &quot;significant_wave_height (m)&quot;, &quot;idx&quot;: 1368382200000, &quot;val&quot;: 1.399999976}, {&quot;col&quot;: &quot;significant_wave_height (m)&quot;, &quot;idx&quot;: 1368384000000, &quot;val&quot;: 1.399999976}, {&quot;col&quot;: &quot;significant_wave_height (m)&quot;, &quot;idx&quot;: 1368385800000, &quot;val&quot;: 1.399999976}, {&quot;col&quot;: &quot;significant_wave_height (m)&quot;, &quot;idx&quot;: 1368387600000, &quot;val&quot;: 1.399999976}, {&quot;col&quot;: &quot;significant_wave_height (m)&quot;, &quot;idx&quot;: 1368389400000, &quot;val&quot;: 1.5}, {&quot;col&quot;: &quot;significant_wave_height (m)&quot;, &quot;idx&quot;: 1368391200000, &quot;val&quot;: 1.5}, {&quot;col&quot;: &quot;significant_wave_height (m)&quot;, &quot;idx&quot;: 1368393000000, &quot;val&quot;: 1.5}, {&quot;col&quot;: &quot;significant_wave_height (m)&quot;, &quot;idx&quot;: 1368394800000, &quot;val&quot;: 1.5}, {&quot;col&quot;: &quot;significant_wave_height (m)&quot;, &quot;idx&quot;: 1368396600000, &quot;val&quot;: 1.399999976}, {&quot;col&quot;: &quot;significant_wave_height (m)&quot;, &quot;idx&quot;: 1368398400000, &quot;val&quot;: 1.399999976}, {&quot;col&quot;: &quot;significant_wave_height (m)&quot;, &quot;idx&quot;: 1368400200000, &quot;val&quot;: 1.399999976}, {&quot;col&quot;: &quot;significant_wave_height (m)&quot;, &quot;idx&quot;: 1368402000000, &quot;val&quot;: 1.399999976}, {&quot;col&quot;: &quot;significant_wave_height (m)&quot;, &quot;idx&quot;: 1368403800000, &quot;val&quot;: 1.5}, {&quot;col&quot;: &quot;significant_wave_height (m)&quot;, &quot;idx&quot;: 1368405600000, &quot;val&quot;: 1.5}, {&quot;col&quot;: &quot;significant_wave_height (m)&quot;, &quot;idx&quot;: 1368407400000, &quot;val&quot;: 1.5}, {&quot;col&quot;: &quot;significant_wave_height (m)&quot;, &quot;idx&quot;: 1368409200000, &quot;val&quot;: 1.5}, {&quot;col&quot;: &quot;significant_wave_height (m)&quot;, &quot;idx&quot;: 1368411000000, &quot;val&quot;: 1.5}, {&quot;col&quot;: &quot;significant_wave_height (m)&quot;, &quot;idx&quot;: 1368412800000, &quot;val&quot;: 1.600000024}, {&quot;col&quot;: &quot;significant_wave_height (m)&quot;, &quot;idx&quot;: 1368414600000, &quot;val&quot;: 1.600000024}, {&quot;col&quot;: &quot;significant_wave_height (m)&quot;, &quot;idx&quot;: 1368416400000, &quot;val&quot;: 1.600000024}, {&quot;col&quot;: &quot;significant_wave_height (m)&quot;, &quot;idx&quot;: 1368418200000, &quot;val&quot;: 1.600000024}, {&quot;col&quot;: &quot;significant_wave_height (m)&quot;, &quot;idx&quot;: 1368420000000, &quot;val&quot;: 1.600000024}, {&quot;col&quot;: &quot;significant_wave_height (m)&quot;, &quot;idx&quot;: 1368421800000, &quot;val&quot;: 1.600000024}, {&quot;col&quot;: &quot;significant_wave_height (m)&quot;, &quot;idx&quot;: 1368423600000, &quot;val&quot;: 1.600000024}, {&quot;col&quot;: &quot;significant_wave_height (m)&quot;, &quot;idx&quot;: 1368425400000, &quot;val&quot;: 1.5}, {&quot;col&quot;: &quot;significant_wave_height (m)&quot;, &quot;idx&quot;: 1368427200000, &quot;val&quot;: 1.5}, {&quot;col&quot;: &quot;significant_wave_height (m)&quot;, &quot;idx&quot;: 1368429000000, &quot;val&quot;: 1.5}, {&quot;col&quot;: &quot;significant_wave_height (m)&quot;, &quot;idx&quot;: 1368430800000, &quot;val&quot;: 1.5}, {&quot;col&quot;: &quot;significant_wave_height (m)&quot;, &quot;idx&quot;: 1368432600000, &quot;val&quot;: 1.399999976}, {&quot;col&quot;: &quot;significant_wave_height (m)&quot;, &quot;idx&quot;: 1368434400000, &quot;val&quot;: 1.5}, {&quot;col&quot;: &quot;significant_wave_height (m)&quot;, &quot;idx&quot;: 1368436200000, &quot;val&quot;: 1.299999952}, {&quot;col&quot;: &quot;significant_wave_height (m)&quot;, &quot;idx&quot;: 1368438000000, &quot;val&quot;: 1.399999976}, {&quot;col&quot;: &quot;significant_wave_height (m)&quot;, &quot;idx&quot;: 1368439800000, &quot;val&quot;: 1.299999952}, {&quot;col&quot;: &quot;significant_wave_height (m)&quot;, &quot;idx&quot;: 1368441600000, &quot;val&quot;: 1.299999952}, {&quot;col&quot;: &quot;significant_wave_height (m)&quot;, &quot;idx&quot;: 1368443400000, &quot;val&quot;: 1.299999952}, {&quot;col&quot;: &quot;significant_wave_height (m)&quot;, &quot;idx&quot;: 1368445200000, &quot;val&quot;: 1.399999976}, {&quot;col&quot;: &quot;significant_wave_height (m)&quot;, &quot;idx&quot;: 1368447000000, &quot;val&quot;: 1.600000024}, {&quot;col&quot;: &quot;significant_wave_height (m)&quot;, &quot;idx&quot;: 1368448800000, &quot;val&quot;: 1.5}, {&quot;col&quot;: &quot;significant_wave_height (m)&quot;, &quot;idx&quot;: 1368450600000, &quot;val&quot;: 1.5}, {&quot;col&quot;: &quot;significant_wave_height (m)&quot;, &quot;idx&quot;: 1368452400000, &quot;val&quot;: 1.399999976}, {&quot;col&quot;: &quot;significant_wave_height (m)&quot;, &quot;idx&quot;: 1368454200000, &quot;val&quot;: 1.5}, {&quot;col&quot;: &quot;significant_wave_height (m)&quot;, &quot;idx&quot;: 1368456000000, &quot;val&quot;: 1.5}, {&quot;col&quot;: &quot;significant_wave_height (m)&quot;, &quot;idx&quot;: 1368457800000, &quot;val&quot;: 1.5}, {&quot;col&quot;: &quot;significant_wave_height (m)&quot;, &quot;idx&quot;: 1368459600000, &quot;val&quot;: 1.5}, {&quot;col&quot;: &quot;significant_wave_height (m)&quot;, &quot;idx&quot;: 1368461400000, &quot;val&quot;: 1.399999976}, {&quot;col&quot;: &quot;significant_wave_height (m)&quot;, &quot;idx&quot;: 1368463200000, &quot;val&quot;: 1.5}, {&quot;col&quot;: &quot;significant_wave_height (m)&quot;, &quot;idx&quot;: 1368465000000, &quot;val&quot;: 1.399999976}, {&quot;col&quot;: &quot;significant_wave_height (m)&quot;, &quot;idx&quot;: 1368466800000, &quot;val&quot;: 1.600000024}, {&quot;col&quot;: &quot;significant_wave_height (m)&quot;, &quot;idx&quot;: 1368468600000, &quot;val&quot;: 1.5}, {&quot;col&quot;: &quot;significant_wave_height (m)&quot;, &quot;idx&quot;: 1368470400000, &quot;val&quot;: 1.600000024}, {&quot;col&quot;: &quot;significant_wave_height (m)&quot;, &quot;idx&quot;: 1368474000000, &quot;val&quot;: 1.600000024}, {&quot;col&quot;: &quot;significant_wave_height (m)&quot;, &quot;idx&quot;: 1368475800000, &quot;val&quot;: 1.7000000480000002}, {&quot;col&quot;: &quot;significant_wave_height (m)&quot;, &quot;idx&quot;: 1368477600000, &quot;val&quot;: 1.7999999519999998}, {&quot;col&quot;: &quot;significant_wave_height (m)&quot;, &quot;idx&quot;: 1368479400000, &quot;val&quot;: 2.0}, {&quot;col&quot;: &quot;significant_wave_height (m)&quot;, &quot;idx&quot;: 1368481200000, &quot;val&quot;: 2.0}, {&quot;col&quot;: &quot;significant_wave_height (m)&quot;, &quot;idx&quot;: 1368483000000, &quot;val&quot;: 2.0}, {&quot;col&quot;: &quot;significant_wave_height (m)&quot;, &quot;idx&quot;: 1368484800000, &quot;val&quot;: 2.099999905}, {&quot;col&quot;: &quot;significant_wave_height (m)&quot;, &quot;idx&quot;: 1368486600000, &quot;val&quot;: 2.200000048}, {&quot;col&quot;: &quot;significant_wave_height (m)&quot;, &quot;idx&quot;: 1368488400000, &quot;val&quot;: 2.099999905}, {&quot;col&quot;: &quot;significant_wave_height (m)&quot;, &quot;idx&quot;: 1368490200000, &quot;val&quot;: 2.200000048}, {&quot;col&quot;: &quot;significant_wave_height (m)&quot;, &quot;idx&quot;: 1368492000000, &quot;val&quot;: 2.200000048}, {&quot;col&quot;: &quot;significant_wave_height (m)&quot;, &quot;idx&quot;: 1368493800000, &quot;val&quot;: 2.299999952}, {&quot;col&quot;: &quot;significant_wave_height (m)&quot;, &quot;idx&quot;: 1368495600000, &quot;val&quot;: 2.200000048}, {&quot;col&quot;: &quot;significant_wave_height (m)&quot;, &quot;idx&quot;: 1368497400000, &quot;val&quot;: 2.299999952}, {&quot;col&quot;: &quot;significant_wave_height (m)&quot;, &quot;idx&quot;: 1368499200000, &quot;val&quot;: 2.200000048}, {&quot;col&quot;: &quot;significant_wave_height (m)&quot;, &quot;idx&quot;: 1368501000000, &quot;val&quot;: 2.299999952}, {&quot;col&quot;: &quot;significant_wave_height (m)&quot;, &quot;idx&quot;: 1368502800000, &quot;val&quot;: 2.200000048}, {&quot;col&quot;: &quot;significant_wave_height (m)&quot;, &quot;idx&quot;: 1368504600000, &quot;val&quot;: 2.299999952}, {&quot;col&quot;: &quot;significant_wave_height (m)&quot;, &quot;idx&quot;: 1368506400000, &quot;val&quot;: 2.299999952}, {&quot;col&quot;: &quot;significant_wave_height (m)&quot;, &quot;idx&quot;: 1368508200000, &quot;val&quot;: 2.200000048}, {&quot;col&quot;: &quot;significant_wave_height (m)&quot;, &quot;idx&quot;: 1368510000000, &quot;val&quot;: 2.400000095}, {&quot;col&quot;: &quot;significant_wave_height (m)&quot;, &quot;idx&quot;: 1368511800000, &quot;val&quot;: 2.200000048}, {&quot;col&quot;: &quot;significant_wave_height (m)&quot;, &quot;idx&quot;: 1368513600000, &quot;val&quot;: 2.200000048}, {&quot;col&quot;: &quot;significant_wave_height (m)&quot;, &quot;idx&quot;: 1368515400000, &quot;val&quot;: 2.299999952}, {&quot;col&quot;: &quot;significant_wave_height (m)&quot;, &quot;idx&quot;: 1368517200000, &quot;val&quot;: 2.0}, {&quot;col&quot;: &quot;significant_wave_height (m)&quot;, &quot;idx&quot;: 1368519000000, &quot;val&quot;: 1.899999976}, {&quot;col&quot;: &quot;significant_wave_height (m)&quot;, &quot;idx&quot;: 1368520800000, &quot;val&quot;: 2.099999905}, {&quot;col&quot;: &quot;significant_wave_height (m)&quot;, &quot;idx&quot;: 1368522600000, &quot;val&quot;: 2.099999905}, {&quot;col&quot;: &quot;significant_wave_height (m)&quot;, &quot;idx&quot;: 1368524400000, &quot;val&quot;: 1.899999976}, {&quot;col&quot;: &quot;significant_wave_height (m)&quot;, &quot;idx&quot;: 1368526200000, &quot;val&quot;: 1.899999976}, {&quot;col&quot;: &quot;significant_wave_height (m)&quot;, &quot;idx&quot;: 1368528000000, &quot;val&quot;: 1.7000000480000002}, {&quot;col&quot;: &quot;significant_wave_height (m)&quot;, &quot;idx&quot;: 1368529800000, &quot;val&quot;: 1.7999999519999998}, {&quot;col&quot;: &quot;significant_wave_height (m)&quot;, &quot;idx&quot;: 1368531600000, &quot;val&quot;: 1.7000000480000002}, {&quot;col&quot;: &quot;significant_wave_height (m)&quot;, &quot;idx&quot;: 1368533400000, &quot;val&quot;: 1.7000000480000002}, {&quot;col&quot;: &quot;significant_wave_height (m)&quot;, &quot;idx&quot;: 1368535200000, &quot;val&quot;: 1.7000000480000002}, {&quot;col&quot;: &quot;significant_wave_height (m)&quot;, &quot;idx&quot;: 1368537000000, &quot;val&quot;: 1.7999999519999998}, {&quot;col&quot;: &quot;significant_wave_height (m)&quot;, &quot;idx&quot;: 1368538800000, &quot;val&quot;: 1.7999999519999998}, {&quot;col&quot;: &quot;significant_wave_height (m)&quot;, &quot;idx&quot;: 1368540600000, &quot;val&quot;: 1.7999999519999998}, {&quot;col&quot;: &quot;significant_wave_height (m)&quot;, &quot;idx&quot;: 1368542400000, &quot;val&quot;: 1.899999976}, {&quot;col&quot;: &quot;significant_wave_height (m)&quot;, &quot;idx&quot;: 1368544200000, &quot;val&quot;: 1.899999976}, {&quot;col&quot;: &quot;significant_wave_height (m)&quot;, &quot;idx&quot;: 1368546000000, &quot;val&quot;: 1.899999976}, {&quot;col&quot;: &quot;significant_wave_height (m)&quot;, &quot;idx&quot;: 1368547800000, &quot;val&quot;: 2.0}, {&quot;col&quot;: &quot;significant_wave_height (m)&quot;, &quot;idx&quot;: 1368549600000, &quot;val&quot;: 1.899999976}, {&quot;col&quot;: &quot;significant_wave_height (m)&quot;, &quot;idx&quot;: 1368551400000, &quot;val&quot;: 1.899999976}, {&quot;col&quot;: &quot;significant_wave_height (m)&quot;, &quot;idx&quot;: 1368553200000, &quot;val&quot;: 1.7999999519999998}, {&quot;col&quot;: &quot;significant_wave_height (m)&quot;, &quot;idx&quot;: 1368555000000, &quot;val&quot;: 1.7000000480000002}, {&quot;col&quot;: &quot;significant_wave_height (m)&quot;, &quot;idx&quot;: 1368556800000, &quot;val&quot;: 1.600000024}, {&quot;col&quot;: &quot;significant_wave_height (m)&quot;, &quot;idx&quot;: 1368558600000, &quot;val&quot;: 1.600000024}, {&quot;col&quot;: &quot;significant_wave_height (m)&quot;, &quot;idx&quot;: 1368560400000, &quot;val&quot;: 1.7000000480000002}, {&quot;col&quot;: &quot;significant_wave_height (m)&quot;, &quot;idx&quot;: 1368562200000, &quot;val&quot;: 1.7000000480000002}, {&quot;col&quot;: &quot;significant_wave_height (m)&quot;, &quot;idx&quot;: 1368564000000, &quot;val&quot;: 1.7999999519999998}, {&quot;col&quot;: &quot;significant_wave_height (m)&quot;, &quot;idx&quot;: 1368565800000, &quot;val&quot;: 1.7999999519999998}, {&quot;col&quot;: &quot;significant_wave_height (m)&quot;, &quot;idx&quot;: 1368567600000, &quot;val&quot;: 2.0}, {&quot;col&quot;: &quot;significant_wave_height (m)&quot;, &quot;idx&quot;: 1368569400000, &quot;val&quot;: 1.899999976}, {&quot;col&quot;: &quot;significant_wave_height (m)&quot;, &quot;idx&quot;: 1368571200000, &quot;val&quot;: 2.0}, {&quot;col&quot;: &quot;significant_wave_height (m)&quot;, &quot;idx&quot;: 1368573000000, &quot;val&quot;: 1.899999976}, {&quot;col&quot;: &quot;significant_wave_height (m)&quot;, &quot;idx&quot;: 1368574800000, &quot;val&quot;: 1.7999999519999998}, {&quot;col&quot;: &quot;significant_wave_height (m)&quot;, &quot;idx&quot;: 1368576600000, &quot;val&quot;: 1.7999999519999998}, {&quot;col&quot;: &quot;significant_wave_height (m)&quot;, &quot;idx&quot;: 1368578400000, &quot;val&quot;: 1.899999976}, {&quot;col&quot;: &quot;significant_wave_height (m)&quot;, &quot;idx&quot;: 1368580200000, &quot;val&quot;: 2.0}, {&quot;col&quot;: &quot;significant_wave_height (m)&quot;, &quot;idx&quot;: 1368582000000, &quot;val&quot;: 1.7999999519999998}, {&quot;col&quot;: &quot;significant_wave_height (m)&quot;, &quot;idx&quot;: 1368583800000, &quot;val&quot;: 1.7999999519999998}, {&quot;col&quot;: &quot;significant_wave_height (m)&quot;, &quot;idx&quot;: 1368585600000, &quot;val&quot;: 1.7999999519999998}, {&quot;col&quot;: &quot;significant_wave_height (m)&quot;, &quot;idx&quot;: 1368587400000, &quot;val&quot;: 1.7000000480000002}, {&quot;col&quot;: &quot;significant_wave_height (m)&quot;, &quot;idx&quot;: 1368589200000, &quot;val&quot;: 1.7999999519999998}, {&quot;col&quot;: &quot;significant_wave_height (m)&quot;, &quot;idx&quot;: 1368591000000, &quot;val&quot;: 1.7000000480000002}, {&quot;col&quot;: &quot;significant_wave_height (m)&quot;, &quot;idx&quot;: 1368592800000, &quot;val&quot;: 1.7999999519999998}, {&quot;col&quot;: &quot;significant_wave_height (m)&quot;, &quot;idx&quot;: 1368594600000, &quot;val&quot;: 1.600000024}, {&quot;col&quot;: &quot;significant_wave_height (m)&quot;, &quot;idx&quot;: 1368596400000, &quot;val&quot;: 1.600000024}, {&quot;col&quot;: &quot;significant_wave_height (m)&quot;, &quot;idx&quot;: 1368598200000, &quot;val&quot;: 1.5}, {&quot;col&quot;: &quot;significant_wave_height (m)&quot;, &quot;idx&quot;: 1368600000000, &quot;val&quot;: 1.7000000480000002}, {&quot;col&quot;: &quot;significant_wave_height (m)&quot;, &quot;idx&quot;: 1368601800000, &quot;val&quot;: 1.7000000480000002}, {&quot;col&quot;: &quot;significant_wave_height (m)&quot;, &quot;idx&quot;: 1368603600000, &quot;val&quot;: 1.600000024}, {&quot;col&quot;: &quot;significant_wave_height (m)&quot;, &quot;idx&quot;: 1368605400000, &quot;val&quot;: 1.7000000480000002}, {&quot;col&quot;: &quot;significant_wave_height (m)&quot;, &quot;idx&quot;: 1368607200000, &quot;val&quot;: 1.5}, {&quot;col&quot;: &quot;significant_wave_height (m)&quot;, &quot;idx&quot;: 1368609000000, &quot;val&quot;: 1.399999976}, {&quot;col&quot;: &quot;significant_wave_height (m)&quot;, &quot;idx&quot;: 1368610800000, &quot;val&quot;: 1.5}, {&quot;col&quot;: &quot;significant_wave_height (m)&quot;, &quot;idx&quot;: 1368612600000, &quot;val&quot;: 1.399999976}, {&quot;col&quot;: &quot;significant_wave_height (m)&quot;, &quot;idx&quot;: 1368614400000, &quot;val&quot;: 1.399999976}, {&quot;col&quot;: &quot;significant_wave_height (m)&quot;, &quot;idx&quot;: 1368616200000, &quot;val&quot;: 1.5}, {&quot;col&quot;: &quot;significant_wave_height (m)&quot;, &quot;idx&quot;: 1368618000000, &quot;val&quot;: 1.600000024}, {&quot;col&quot;: &quot;significant_wave_height (m)&quot;, &quot;idx&quot;: 1368619800000, &quot;val&quot;: 1.600000024}, {&quot;col&quot;: &quot;significant_wave_height (m)&quot;, &quot;idx&quot;: 1368621600000, &quot;val&quot;: 1.5}, {&quot;col&quot;: &quot;significant_wave_height (m)&quot;, &quot;idx&quot;: 1368623400000, &quot;val&quot;: 1.7000000480000002}, {&quot;col&quot;: &quot;significant_wave_height (m)&quot;, &quot;idx&quot;: 1368625200000, &quot;val&quot;: 1.600000024}, {&quot;col&quot;: &quot;significant_wave_height (m)&quot;, &quot;idx&quot;: 1368627000000, &quot;val&quot;: 1.399999976}, {&quot;col&quot;: &quot;significant_wave_height (m)&quot;, &quot;idx&quot;: 1368628800000, &quot;val&quot;: 1.5}, {&quot;col&quot;: &quot;significant_wave_height (m)&quot;, &quot;idx&quot;: 1368630600000, &quot;val&quot;: 1.5}, {&quot;col&quot;: &quot;significant_wave_height (m)&quot;, &quot;idx&quot;: 1368632400000, &quot;val&quot;: 1.399999976}, {&quot;col&quot;: &quot;significant_wave_height (m)&quot;, &quot;idx&quot;: 1368634200000, &quot;val&quot;: 1.399999976}, {&quot;col&quot;: &quot;significant_wave_height (m)&quot;, &quot;idx&quot;: 1368636000000, &quot;val&quot;: 1.399999976}, {&quot;col&quot;: &quot;significant_wave_height (m)&quot;, &quot;idx&quot;: 1368637800000, &quot;val&quot;: 1.299999952}, {&quot;col&quot;: &quot;significant_wave_height (m)&quot;, &quot;idx&quot;: 1368639600000, &quot;val&quot;: 1.299999952}, {&quot;col&quot;: &quot;significant_wave_height (m)&quot;, &quot;idx&quot;: 1368641400000, &quot;val&quot;: 1.200000048}, {&quot;col&quot;: &quot;significant_wave_height (m)&quot;, &quot;idx&quot;: 1368643200000, &quot;val&quot;: 1.200000048}, {&quot;col&quot;: &quot;significant_wave_height (m)&quot;, &quot;idx&quot;: 1368645000000, &quot;val&quot;: 1.100000024}, {&quot;col&quot;: &quot;significant_wave_height (m)&quot;, &quot;idx&quot;: 1368646800000, &quot;val&quot;: 1.299999952}, {&quot;col&quot;: &quot;significant_wave_height (m)&quot;, &quot;idx&quot;: 1368648600000, &quot;val&quot;: 1.200000048}, {&quot;col&quot;: &quot;significant_wave_height (m)&quot;, &quot;idx&quot;: 1368650400000, &quot;val&quot;: 1.200000048}, {&quot;col&quot;: &quot;significant_wave_height (m)&quot;, &quot;idx&quot;: 1368652200000, &quot;val&quot;: 1.200000048}, {&quot;col&quot;: &quot;significant_wave_height (m)&quot;, &quot;idx&quot;: 1368654000000, &quot;val&quot;: 1.200000048}, {&quot;col&quot;: &quot;significant_wave_height (m)&quot;, &quot;idx&quot;: 1368655800000, &quot;val&quot;: 1.299999952}, {&quot;col&quot;: &quot;significant_wave_height (m)&quot;, &quot;idx&quot;: 1368657600000, &quot;val&quot;: 1.299999952}, {&quot;col&quot;: &quot;significant_wave_height (m)&quot;, &quot;idx&quot;: 1368659400000, &quot;val&quot;: 1.200000048}, {&quot;col&quot;: &quot;significant_wave_height (m)&quot;, &quot;idx&quot;: 1368661200000, &quot;val&quot;: 1.299999952}, {&quot;col&quot;: &quot;significant_wave_height (m)&quot;, &quot;idx&quot;: 1368663000000, &quot;val&quot;: 1.299999952}, {&quot;col&quot;: &quot;significant_wave_height (m)&quot;, &quot;idx&quot;: 1368664800000, &quot;val&quot;: 1.200000048}, {&quot;col&quot;: &quot;significant_wave_height (m)&quot;, &quot;idx&quot;: 1368666600000, &quot;val&quot;: 1.200000048}, {&quot;col&quot;: &quot;significant_wave_height (m)&quot;, &quot;idx&quot;: 1368668400000, &quot;val&quot;: 1.200000048}, {&quot;col&quot;: &quot;significant_wave_height (m)&quot;, &quot;idx&quot;: 1368670200000, &quot;val&quot;: 1.299999952}, {&quot;col&quot;: &quot;significant_wave_height (m)&quot;, &quot;idx&quot;: 1368672000000, &quot;val&quot;: 1.399999976}, {&quot;col&quot;: &quot;significant_wave_height (m)&quot;, &quot;idx&quot;: 1368673800000, &quot;val&quot;: 1.600000024}, {&quot;col&quot;: &quot;significant_wave_height (m)&quot;, &quot;idx&quot;: 1368675600000, &quot;val&quot;: 1.7999999519999998}, {&quot;col&quot;: &quot;significant_wave_height (m)&quot;, &quot;idx&quot;: 1368677400000, &quot;val&quot;: 1.899999976}, {&quot;col&quot;: &quot;significant_wave_height (m)&quot;, &quot;idx&quot;: 1368679200000, &quot;val&quot;: 1.7999999519999998}, {&quot;col&quot;: &quot;significant_wave_height (m)&quot;, &quot;idx&quot;: 1368681000000, &quot;val&quot;: 1.7999999519999998}, {&quot;col&quot;: &quot;significant_wave_height (m)&quot;, &quot;idx&quot;: 1368682800000, &quot;val&quot;: 1.7000000480000002}, {&quot;col&quot;: &quot;significant_wave_height (m)&quot;, &quot;idx&quot;: 1368684600000, &quot;val&quot;: 1.7999999519999998}, {&quot;col&quot;: &quot;significant_wave_height (m)&quot;, &quot;idx&quot;: 1368686400000, &quot;val&quot;: 1.7999999519999998}, {&quot;col&quot;: &quot;significant_wave_height (m)&quot;, &quot;idx&quot;: 1368688200000, &quot;val&quot;: 1.7000000480000002}, {&quot;col&quot;: &quot;significant_wave_height (m)&quot;, &quot;idx&quot;: 1368690000000, &quot;val&quot;: 1.7000000480000002}, {&quot;col&quot;: &quot;significant_wave_height (m)&quot;, &quot;idx&quot;: 1368691800000, &quot;val&quot;: 1.7000000480000002}, {&quot;col&quot;: &quot;significant_wave_height (m)&quot;, &quot;idx&quot;: 1368693600000, &quot;val&quot;: 1.600000024}, {&quot;col&quot;: &quot;significant_wave_height (m)&quot;, &quot;idx&quot;: 1368695400000, &quot;val&quot;: 1.600000024}, {&quot;col&quot;: &quot;significant_wave_height (m)&quot;, &quot;idx&quot;: 1368697200000, &quot;val&quot;: 1.5}, {&quot;col&quot;: &quot;significant_wave_height (m)&quot;, &quot;idx&quot;: 1368699000000, &quot;val&quot;: 1.5}, {&quot;col&quot;: &quot;significant_wave_height (m)&quot;, &quot;idx&quot;: 1368700800000, &quot;val&quot;: 1.399999976}, {&quot;col&quot;: &quot;significant_wave_height (m)&quot;, &quot;idx&quot;: 1368702600000, &quot;val&quot;: 1.399999976}, {&quot;col&quot;: &quot;significant_wave_height (m)&quot;, &quot;idx&quot;: 1368704400000, &quot;val&quot;: 1.399999976}, {&quot;col&quot;: &quot;significant_wave_height (m)&quot;, &quot;idx&quot;: 1368706200000, &quot;val&quot;: 1.200000048}, {&quot;col&quot;: &quot;significant_wave_height (m)&quot;, &quot;idx&quot;: 1368708000000, &quot;val&quot;: 1.200000048}, {&quot;col&quot;: &quot;significant_wave_height (m)&quot;, &quot;idx&quot;: 1368709800000, &quot;val&quot;: 1.200000048}, {&quot;col&quot;: &quot;significant_wave_height (m)&quot;, &quot;idx&quot;: 1368711600000, &quot;val&quot;: 1.299999952}, {&quot;col&quot;: &quot;significant_wave_height (m)&quot;, &quot;idx&quot;: 1368713400000, &quot;val&quot;: 1.200000048}, {&quot;col&quot;: &quot;significant_wave_height (m)&quot;, &quot;idx&quot;: 1368715200000, &quot;val&quot;: 1.100000024}, {&quot;col&quot;: &quot;significant_wave_height (m)&quot;, &quot;idx&quot;: 1368717000000, &quot;val&quot;: 1.200000048}, {&quot;col&quot;: &quot;significant_wave_height (m)&quot;, &quot;idx&quot;: 1368718800000, &quot;val&quot;: 1.200000048}, {&quot;col&quot;: &quot;significant_wave_height (m)&quot;, &quot;idx&quot;: 1368720600000, &quot;val&quot;: 1.399999976}, {&quot;col&quot;: &quot;significant_wave_height (m)&quot;, &quot;idx&quot;: 1368722400000, &quot;val&quot;: 1.299999952}, {&quot;col&quot;: &quot;significant_wave_height (m)&quot;, &quot;idx&quot;: 1368724200000, &quot;val&quot;: 1.299999952}, {&quot;col&quot;: &quot;significant_wave_height (m)&quot;, &quot;idx&quot;: 1368726000000, &quot;val&quot;: 1.299999952}, {&quot;col&quot;: &quot;significant_wave_height (m)&quot;, &quot;idx&quot;: 1368727800000, &quot;val&quot;: 1.299999952}, {&quot;col&quot;: &quot;significant_wave_height (m)&quot;, &quot;idx&quot;: 1368729600000, &quot;val&quot;: 1.399999976}, {&quot;col&quot;: &quot;significant_wave_height (m)&quot;, &quot;idx&quot;: 1368731400000, &quot;val&quot;: 1.5}, {&quot;col&quot;: &quot;significant_wave_height (m)&quot;, &quot;idx&quot;: 1368733200000, &quot;val&quot;: 1.5}, {&quot;col&quot;: &quot;significant_wave_height (m)&quot;, &quot;idx&quot;: 1368735000000, &quot;val&quot;: 1.399999976}, {&quot;col&quot;: &quot;significant_wave_height (m)&quot;, &quot;idx&quot;: 1368736800000, &quot;val&quot;: 1.299999952}, {&quot;col&quot;: &quot;significant_wave_height (m)&quot;, &quot;idx&quot;: 1368738600000, &quot;val&quot;: 1.399999976}, {&quot;col&quot;: &quot;significant_wave_height (m)&quot;, &quot;idx&quot;: 1368742200000, &quot;val&quot;: 1.5}, {&quot;col&quot;: &quot;significant_wave_height (m)&quot;, &quot;idx&quot;: 1368744000000, &quot;val&quot;: 1.600000024}, {&quot;col&quot;: &quot;significant_wave_height (m)&quot;, &quot;idx&quot;: 1368745800000, &quot;val&quot;: 1.7999999519999998}, {&quot;col&quot;: &quot;significant_wave_height (m)&quot;, &quot;idx&quot;: 1368747600000, &quot;val&quot;: 1.899999976}, {&quot;col&quot;: &quot;significant_wave_height (m)&quot;, &quot;idx&quot;: 1368749400000, &quot;val&quot;: 1.899999976}, {&quot;col&quot;: &quot;significant_wave_height (m)&quot;, &quot;idx&quot;: 1368751200000, &quot;val&quot;: 1.7999999519999998}, {&quot;col&quot;: &quot;significant_wave_height (m)&quot;, &quot;idx&quot;: 1368753000000, &quot;val&quot;: 1.899999976}, {&quot;col&quot;: &quot;significant_wave_height (m)&quot;, &quot;idx&quot;: 1368754800000, &quot;val&quot;: 1.7000000480000002}, {&quot;col&quot;: &quot;significant_wave_height (m)&quot;, &quot;idx&quot;: 1368756600000, &quot;val&quot;: 1.7000000480000002}, {&quot;col&quot;: &quot;significant_wave_height (m)&quot;, &quot;idx&quot;: 1368758400000, &quot;val&quot;: 1.600000024}, {&quot;col&quot;: &quot;significant_wave_height (m)&quot;, &quot;idx&quot;: 1368760200000, &quot;val&quot;: 1.5}, {&quot;col&quot;: &quot;significant_wave_height (m)&quot;, &quot;idx&quot;: 1368762000000, &quot;val&quot;: 1.600000024}, {&quot;col&quot;: &quot;significant_wave_height (m)&quot;, &quot;idx&quot;: 1368763800000, &quot;val&quot;: 1.600000024}, {&quot;col&quot;: &quot;significant_wave_height (m)&quot;, &quot;idx&quot;: 1368765600000, &quot;val&quot;: 1.5}, {&quot;col&quot;: &quot;significant_wave_height (m)&quot;, &quot;idx&quot;: 1368767400000, &quot;val&quot;: 1.399999976}, {&quot;col&quot;: &quot;significant_wave_height (m)&quot;, &quot;idx&quot;: 1368769200000, &quot;val&quot;: 1.399999976}, {&quot;col&quot;: &quot;significant_wave_height (m)&quot;, &quot;idx&quot;: 1368771000000, &quot;val&quot;: 1.5}, {&quot;col&quot;: &quot;significant_wave_height (m)&quot;, &quot;idx&quot;: 1368772800000, &quot;val&quot;: 1.5}, {&quot;col&quot;: &quot;significant_wave_height (m)&quot;, &quot;idx&quot;: 1368774600000, &quot;val&quot;: 1.299999952}, {&quot;col&quot;: &quot;significant_wave_height (m)&quot;, &quot;idx&quot;: 1368776400000, &quot;val&quot;: 1.299999952}, {&quot;col&quot;: &quot;significant_wave_height (m)&quot;, &quot;idx&quot;: 1368778200000, &quot;val&quot;: 1.299999952}, {&quot;col&quot;: &quot;significant_wave_height (m)&quot;, &quot;idx&quot;: 1368780000000, &quot;val&quot;: 1.399999976}, {&quot;col&quot;: &quot;significant_wave_height (m)&quot;, &quot;idx&quot;: 1368781800000, &quot;val&quot;: 1.399999976}, {&quot;col&quot;: &quot;significant_wave_height (m)&quot;, &quot;idx&quot;: 1368783600000, &quot;val&quot;: 1.399999976}, {&quot;col&quot;: &quot;significant_wave_height (m)&quot;, &quot;idx&quot;: 1368785400000, &quot;val&quot;: 1.399999976}, {&quot;col&quot;: &quot;significant_wave_height (m)&quot;, &quot;idx&quot;: 1368787200000, &quot;val&quot;: 1.5}, {&quot;col&quot;: &quot;significant_wave_height (m)&quot;, &quot;idx&quot;: 1368789000000, &quot;val&quot;: 1.5}, {&quot;col&quot;: &quot;significant_wave_height (m)&quot;, &quot;idx&quot;: 1368790800000, &quot;val&quot;: 1.5}, {&quot;col&quot;: &quot;significant_wave_height (m)&quot;, &quot;idx&quot;: 1368792600000, &quot;val&quot;: 1.399999976}, {&quot;col&quot;: &quot;significant_wave_height (m)&quot;, &quot;idx&quot;: 1368794400000, &quot;val&quot;: 1.600000024}, {&quot;col&quot;: &quot;significant_wave_height (m)&quot;, &quot;idx&quot;: 1368796200000, &quot;val&quot;: 1.7000000480000002}, {&quot;col&quot;: &quot;significant_wave_height (m)&quot;, &quot;idx&quot;: 1368798000000, &quot;val&quot;: 1.600000024}, {&quot;col&quot;: &quot;significant_wave_height (m)&quot;, &quot;idx&quot;: 1368799800000, &quot;val&quot;: 1.600000024}, {&quot;col&quot;: &quot;significant_wave_height (m)&quot;, &quot;idx&quot;: 1368801600000, &quot;val&quot;: 1.7000000480000002}, {&quot;col&quot;: &quot;significant_wave_height (m)&quot;, &quot;idx&quot;: 1368803400000, &quot;val&quot;: 1.7000000480000002}, {&quot;col&quot;: &quot;significant_wave_height (m)&quot;, &quot;idx&quot;: 1368805200000, &quot;val&quot;: 1.600000024}, {&quot;col&quot;: &quot;significant_wave_height (m)&quot;, &quot;idx&quot;: 1368807000000, &quot;val&quot;: 1.7999999519999998}, {&quot;col&quot;: &quot;significant_wave_height (m)&quot;, &quot;idx&quot;: 1368808800000, &quot;val&quot;: 1.7000000480000002}, {&quot;col&quot;: &quot;significant_wave_height (m)&quot;, &quot;idx&quot;: 1368810600000, &quot;val&quot;: 1.600000024}, {&quot;col&quot;: &quot;significant_wave_height (m)&quot;, &quot;idx&quot;: 1368812400000, &quot;val&quot;: 1.7000000480000002}, {&quot;col&quot;: &quot;significant_wave_height (m)&quot;, &quot;idx&quot;: 1368814200000, &quot;val&quot;: 1.7000000480000002}, {&quot;col&quot;: &quot;significant_wave_height (m)&quot;, &quot;idx&quot;: 1368816000000, &quot;val&quot;: 1.600000024}, {&quot;col&quot;: &quot;significant_wave_height (m)&quot;, &quot;idx&quot;: 1368817800000, &quot;val&quot;: 1.5}, {&quot;col&quot;: &quot;significant_wave_height (m)&quot;, &quot;idx&quot;: 1368819600000, &quot;val&quot;: 1.5}, {&quot;col&quot;: &quot;significant_wave_height (m)&quot;, &quot;idx&quot;: 1368821400000, &quot;val&quot;: 1.5}, {&quot;col&quot;: &quot;significant_wave_height (m)&quot;, &quot;idx&quot;: 1368823200000, &quot;val&quot;: 1.399999976}, {&quot;col&quot;: &quot;significant_wave_height (m)&quot;, &quot;idx&quot;: 1368825000000, &quot;val&quot;: 1.5}, {&quot;col&quot;: &quot;significant_wave_height (m)&quot;, &quot;idx&quot;: 1368826800000, &quot;val&quot;: 1.5}, {&quot;col&quot;: &quot;significant_wave_height (m)&quot;, &quot;idx&quot;: 1368828600000, &quot;val&quot;: 1.399999976}, {&quot;col&quot;: &quot;significant_wave_height (m)&quot;, &quot;idx&quot;: 1368830400000, &quot;val&quot;: 1.399999976}, {&quot;col&quot;: &quot;significant_wave_height (m)&quot;, &quot;idx&quot;: 1368832200000, &quot;val&quot;: 1.399999976}, {&quot;col&quot;: &quot;significant_wave_height (m)&quot;, &quot;idx&quot;: 1368834000000, &quot;val&quot;: 1.5}, {&quot;col&quot;: &quot;significant_wave_height (m)&quot;, &quot;idx&quot;: 1368835800000, &quot;val&quot;: 1.5}, {&quot;col&quot;: &quot;significant_wave_height (m)&quot;, &quot;idx&quot;: 1368837600000, &quot;val&quot;: 1.399999976}, {&quot;col&quot;: &quot;significant_wave_height (m)&quot;, &quot;idx&quot;: 1368839400000, &quot;val&quot;: 1.5}, {&quot;col&quot;: &quot;significant_wave_height (m)&quot;, &quot;idx&quot;: 1368841200000, &quot;val&quot;: 1.299999952}, {&quot;col&quot;: &quot;significant_wave_height (m)&quot;, &quot;idx&quot;: 1368843000000, &quot;val&quot;: 1.5}, {&quot;col&quot;: &quot;significant_wave_height (m)&quot;, &quot;idx&quot;: 1368844800000, &quot;val&quot;: 1.299999952}, {&quot;col&quot;: &quot;significant_wave_height (m)&quot;, &quot;idx&quot;: 1368846600000, &quot;val&quot;: 1.399999976}, {&quot;col&quot;: &quot;significant_wave_height (m)&quot;, &quot;idx&quot;: 1368848400000, &quot;val&quot;: 1.299999952}, {&quot;col&quot;: &quot;significant_wave_height (m)&quot;, &quot;idx&quot;: 1368850200000, &quot;val&quot;: 1.399999976}, {&quot;col&quot;: &quot;significant_wave_height (m)&quot;, &quot;idx&quot;: 1368852000000, &quot;val&quot;: 1.200000048}, {&quot;col&quot;: &quot;significant_wave_height (m)&quot;, &quot;idx&quot;: 1368853800000, &quot;val&quot;: 1.299999952}, {&quot;col&quot;: &quot;significant_wave_height (m)&quot;, &quot;idx&quot;: 1368855600000, &quot;val&quot;: 1.399999976}, {&quot;col&quot;: &quot;significant_wave_height (m)&quot;, &quot;idx&quot;: 1368857400000, &quot;val&quot;: 1.299999952}, {&quot;col&quot;: &quot;significant_wave_height (m)&quot;, &quot;idx&quot;: 1368859200000, &quot;val&quot;: 1.399999976}, {&quot;col&quot;: &quot;significant_wave_height (m)&quot;, &quot;idx&quot;: 1368861000000, &quot;val&quot;: 1.299999952}, {&quot;col&quot;: &quot;significant_wave_height (m)&quot;, &quot;idx&quot;: 1368862800000, &quot;val&quot;: 1.399999976}, {&quot;col&quot;: &quot;significant_wave_height (m)&quot;, &quot;idx&quot;: 1368864600000, &quot;val&quot;: 1.399999976}, {&quot;col&quot;: &quot;significant_wave_height (m)&quot;, &quot;idx&quot;: 1368866400000, &quot;val&quot;: 1.299999952}, {&quot;col&quot;: &quot;significant_wave_height (m)&quot;, &quot;idx&quot;: 1368868200000, &quot;val&quot;: 1.399999976}, {&quot;col&quot;: &quot;significant_wave_height (m)&quot;, &quot;idx&quot;: 1368870000000, &quot;val&quot;: 1.399999976}, {&quot;col&quot;: &quot;significant_wave_height (m)&quot;, &quot;idx&quot;: 1368871800000, &quot;val&quot;: 1.399999976}, {&quot;col&quot;: &quot;significant_wave_height (m)&quot;, &quot;idx&quot;: 1368873600000, &quot;val&quot;: 1.299999952}, {&quot;col&quot;: &quot;significant_wave_height (m)&quot;, &quot;idx&quot;: 1368875400000, &quot;val&quot;: 1.200000048}, {&quot;col&quot;: &quot;significant_wave_height (m)&quot;, &quot;idx&quot;: 1368877200000, &quot;val&quot;: 1.100000024}, {&quot;col&quot;: &quot;significant_wave_height (m)&quot;, &quot;idx&quot;: 1368879000000, &quot;val&quot;: 1.100000024}, {&quot;col&quot;: &quot;significant_wave_height (m)&quot;, &quot;idx&quot;: 1368880800000, &quot;val&quot;: 1.200000048}, {&quot;col&quot;: &quot;significant_wave_height (m)&quot;, &quot;idx&quot;: 1368882600000, &quot;val&quot;: 1.100000024}, {&quot;col&quot;: &quot;significant_wave_height (m)&quot;, &quot;idx&quot;: 1368884400000, &quot;val&quot;: 1.100000024}]}, {&quot;name&quot;: &quot;stats&quot;, &quot;source&quot;: &quot;table&quot;, &quot;transform&quot;: [{&quot;keys&quot;: [&quot;data.idx&quot;], &quot;type&quot;: &quot;facet&quot;}, {&quot;type&quot;: &quot;stats&quot;, &quot;value&quot;: &quot;data.val&quot;}]}], &quot;height&quot;: 200, &quot;legends&quot;: [], &quot;marks&quot;: [{&quot;from&quot;: {&quot;data&quot;: &quot;table&quot;, &quot;transform&quot;: [{&quot;keys&quot;: [&quot;data.col&quot;], &quot;type&quot;: &quot;facet&quot;}, {&quot;height&quot;: &quot;data.val&quot;, &quot;point&quot;: &quot;data.idx&quot;, &quot;type&quot;: &quot;stack&quot;}]}, &quot;marks&quot;: [{&quot;properties&quot;: {&quot;enter&quot;: {&quot;fill&quot;: {&quot;field&quot;: &quot;data.col&quot;, &quot;scale&quot;: &quot;color&quot;}, &quot;interpolate&quot;: {&quot;value&quot;: &quot;monotone&quot;}, &quot;x&quot;: {&quot;field&quot;: &quot;data.idx&quot;, &quot;scale&quot;: &quot;x&quot;}, &quot;y&quot;: {&quot;field&quot;: &quot;y&quot;, &quot;scale&quot;: &quot;y&quot;}, &quot;y2&quot;: {&quot;field&quot;: &quot;y2&quot;, &quot;scale&quot;: &quot;y&quot;}}}, &quot;type&quot;: &quot;area&quot;}], &quot;type&quot;: &quot;group&quot;}], &quot;padding&quot;: &quot;auto&quot;, &quot;scales&quot;: [{&quot;domain&quot;: {&quot;data&quot;: &quot;table&quot;, &quot;field&quot;: &quot;data.idx&quot;}, &quot;name&quot;: &quot;x&quot;, &quot;range&quot;: &quot;width&quot;, &quot;type&quot;: &quot;time&quot;, &quot;zero&quot;: false}, {&quot;domain&quot;: {&quot;data&quot;: &quot;stats&quot;, &quot;field&quot;: &quot;sum&quot;}, &quot;name&quot;: &quot;y&quot;, &quot;nice&quot;: true, &quot;range&quot;: &quot;height&quot;}, {&quot;domain&quot;: {&quot;data&quot;: &quot;table&quot;, &quot;field&quot;: &quot;data.col&quot;}, &quot;name&quot;: &quot;color&quot;, &quot;range&quot;: &quot;category20&quot;, &quot;type&quot;: &quot;ordinal&quot;}], &quot;width&quot;: 400},vega_9349e6d99c8529330fbddd4a2f4c6c9f);\n",
              "            \n",
              "        \n",
              "    \n",
              "&lt;/script&gt;\n",
              "&lt;/html&gt;\" style=\"position:absolute;width:100%;height:100%;left:0;top:0;border:none !important;\" allowfullscreen webkitallowfullscreen mozallowfullscreen></iframe></div></div>"
            ],
            "text/plain": [
              "<folium.folium.Map at 0x7f614fd28dc0>"
            ]
          },
          "execution_count": 141,
          "metadata": {},
          "output_type": "execute_result"
        }
      ],
      "source": [
        "m = folium.Map(location=[46.3014, -123.7390], zoom_start=7, tiles=\"Stamen Terrain\")\n",
        "\n",
        "folium.Marker(\n",
        "    location=[47.3489, -124.708],\n",
        "    popup=folium.Popup(max_width=450).add_child(\n",
        "        folium.Vega(vis1, width=450, height=250)\n",
        "    ),\n",
        ").add_to(m)\n",
        "\n",
        "folium.Marker(\n",
        "    location=[44.639, -124.5339],\n",
        "    popup=folium.Popup(max_width=450).add_child(\n",
        "        folium.Vega(vis2, width=450, height=250)\n",
        "    ),\n",
        ").add_to(m)\n",
        "\n",
        "folium.Marker(\n",
        "    location=[46.216, -124.1280],\n",
        "    popup=folium.Popup(max_width=450).add_child(\n",
        "        folium.Vega(vis3, width=450, height=250)\n",
        "    ),\n",
        ").add_to(m)\n",
        "\n",
        "\n",
        "m"
      ]
    },
    {
      "cell_type": "code",
      "execution_count": null,
      "metadata": {
        "id": "wPK0lyfrZwo0"
      },
      "outputs": [],
      "source": [
        "pontos = localizacoes_geo[['latitude', 'longitude']].values.tolist()\n",
        "for point in range(0, len(pontos)):\n",
        "    folium.Marker(locationlist[point]).add_to(mapa)\n",
        "mapa"
      ]
    },
    {
      "cell_type": "code",
      "execution_count": null,
      "metadata": {
        "colab": {
          "base_uri": "https://localhost:8080/",
          "height": 432
        },
        "id": "k6hfWLz8ZwgW",
        "outputId": "62e416eb-0df9-43f6-8879-f1f22dd3f877"
      },
      "outputs": [
        {
          "ename": "ValueError",
          "evalue": "ignored",
          "output_type": "error",
          "traceback": [
            "\u001b[0;31m---------------------------------------------------------------------------\u001b[0m",
            "\u001b[0;31mValueError\u001b[0m                                Traceback (most recent call last)",
            "\u001b[0;32m/usr/local/lib/python3.8/dist-packages/folium/utilities.py\u001b[0m in \u001b[0;36mvalidate_location\u001b[0;34m(location)\u001b[0m\n\u001b[1;32m     59\u001b[0m         \u001b[0;32mtry\u001b[0m\u001b[0;34m:\u001b[0m\u001b[0;34m\u001b[0m\u001b[0;34m\u001b[0m\u001b[0m\n\u001b[0;32m---> 60\u001b[0;31m             \u001b[0mfloat\u001b[0m\u001b[0;34m(\u001b[0m\u001b[0mcoord\u001b[0m\u001b[0;34m)\u001b[0m\u001b[0;34m\u001b[0m\u001b[0;34m\u001b[0m\u001b[0m\n\u001b[0m\u001b[1;32m     61\u001b[0m         \u001b[0;32mexcept\u001b[0m \u001b[0;34m(\u001b[0m\u001b[0mTypeError\u001b[0m\u001b[0;34m,\u001b[0m \u001b[0mValueError\u001b[0m\u001b[0;34m)\u001b[0m\u001b[0;34m:\u001b[0m\u001b[0;34m\u001b[0m\u001b[0;34m\u001b[0m\u001b[0m\n",
            "\u001b[0;31mValueError\u001b[0m: could not convert string to float: '15° 44\\' 22.0999\" S'",
            "\nDuring handling of the above exception, another exception occurred:\n",
            "\u001b[0;31mValueError\u001b[0m                                Traceback (most recent call last)",
            "\u001b[0;32m<ipython-input-129-fdbfa0feacfd>\u001b[0m in \u001b[0;36m<module>\u001b[0;34m\u001b[0m\n\u001b[1;32m      4\u001b[0m   \u001b[0;31m# print(geo_json_mapa['features'][i]['properties']['latitude'], geo_json_mapa['features'][i]['properties']['longitude'])\u001b[0m\u001b[0;34m\u001b[0m\u001b[0;34m\u001b[0m\u001b[0;34m\u001b[0m\u001b[0m\n\u001b[1;32m      5\u001b[0m   \u001b[0mponto\u001b[0m \u001b[0;34m=\u001b[0m \u001b[0mgeo_json_mapa\u001b[0m\u001b[0;34m[\u001b[0m\u001b[0;34m'features'\u001b[0m\u001b[0;34m]\u001b[0m\u001b[0;34m[\u001b[0m\u001b[0mi\u001b[0m\u001b[0;34m]\u001b[0m\u001b[0;34m[\u001b[0m\u001b[0;34m'properties'\u001b[0m\u001b[0;34m]\u001b[0m\u001b[0;34m[\u001b[0m\u001b[0;34m'latitude'\u001b[0m\u001b[0;34m]\u001b[0m\u001b[0;34m,\u001b[0m \u001b[0mgeo_json_mapa\u001b[0m\u001b[0;34m[\u001b[0m\u001b[0;34m'features'\u001b[0m\u001b[0;34m]\u001b[0m\u001b[0;34m[\u001b[0m\u001b[0mi\u001b[0m\u001b[0;34m]\u001b[0m\u001b[0;34m[\u001b[0m\u001b[0;34m'properties'\u001b[0m\u001b[0;34m]\u001b[0m\u001b[0;34m[\u001b[0m\u001b[0;34m'longitude'\u001b[0m\u001b[0;34m]\u001b[0m\u001b[0;34m\u001b[0m\u001b[0;34m\u001b[0m\u001b[0m\n\u001b[0;32m----> 6\u001b[0;31m   \u001b[0mfolium\u001b[0m\u001b[0;34m.\u001b[0m\u001b[0mMarker\u001b[0m\u001b[0;34m(\u001b[0m\u001b[0mponto\u001b[0m\u001b[0;34m)\u001b[0m\u001b[0;34m.\u001b[0m\u001b[0madd_to\u001b[0m\u001b[0;34m(\u001b[0m\u001b[0mmapa\u001b[0m\u001b[0;34m)\u001b[0m\u001b[0;34m\u001b[0m\u001b[0;34m\u001b[0m\u001b[0m\n\u001b[0m\u001b[1;32m      7\u001b[0m \u001b[0mmapa\u001b[0m\u001b[0;34m\u001b[0m\u001b[0;34m\u001b[0m\u001b[0m\n",
            "\u001b[0;32m/usr/local/lib/python3.8/dist-packages/folium/map.py\u001b[0m in \u001b[0;36m__init__\u001b[0;34m(self, location, popup, tooltip, icon, draggable, **kwargs)\u001b[0m\n\u001b[1;32m    275\u001b[0m         \u001b[0msuper\u001b[0m\u001b[0;34m(\u001b[0m\u001b[0mMarker\u001b[0m\u001b[0;34m,\u001b[0m \u001b[0mself\u001b[0m\u001b[0;34m)\u001b[0m\u001b[0;34m.\u001b[0m\u001b[0m__init__\u001b[0m\u001b[0;34m(\u001b[0m\u001b[0;34m)\u001b[0m\u001b[0;34m\u001b[0m\u001b[0;34m\u001b[0m\u001b[0m\n\u001b[1;32m    276\u001b[0m         \u001b[0mself\u001b[0m\u001b[0;34m.\u001b[0m\u001b[0m_name\u001b[0m \u001b[0;34m=\u001b[0m \u001b[0;34m'Marker'\u001b[0m\u001b[0;34m\u001b[0m\u001b[0;34m\u001b[0m\u001b[0m\n\u001b[0;32m--> 277\u001b[0;31m         \u001b[0mself\u001b[0m\u001b[0;34m.\u001b[0m\u001b[0mlocation\u001b[0m \u001b[0;34m=\u001b[0m \u001b[0mvalidate_location\u001b[0m\u001b[0;34m(\u001b[0m\u001b[0mlocation\u001b[0m\u001b[0;34m)\u001b[0m \u001b[0;32mif\u001b[0m \u001b[0mlocation\u001b[0m \u001b[0;32melse\u001b[0m \u001b[0;32mNone\u001b[0m\u001b[0;34m\u001b[0m\u001b[0;34m\u001b[0m\u001b[0m\n\u001b[0m\u001b[1;32m    278\u001b[0m         self.options = parse_options(\n\u001b[1;32m    279\u001b[0m             \u001b[0mdraggable\u001b[0m\u001b[0;34m=\u001b[0m\u001b[0mdraggable\u001b[0m \u001b[0;32mor\u001b[0m \u001b[0;32mNone\u001b[0m\u001b[0;34m,\u001b[0m\u001b[0;34m\u001b[0m\u001b[0;34m\u001b[0m\u001b[0m\n",
            "\u001b[0;32m/usr/local/lib/python3.8/dist-packages/folium/utilities.py\u001b[0m in \u001b[0;36mvalidate_location\u001b[0;34m(location)\u001b[0m\n\u001b[1;32m     60\u001b[0m             \u001b[0mfloat\u001b[0m\u001b[0;34m(\u001b[0m\u001b[0mcoord\u001b[0m\u001b[0;34m)\u001b[0m\u001b[0;34m\u001b[0m\u001b[0;34m\u001b[0m\u001b[0m\n\u001b[1;32m     61\u001b[0m         \u001b[0;32mexcept\u001b[0m \u001b[0;34m(\u001b[0m\u001b[0mTypeError\u001b[0m\u001b[0;34m,\u001b[0m \u001b[0mValueError\u001b[0m\u001b[0;34m)\u001b[0m\u001b[0;34m:\u001b[0m\u001b[0;34m\u001b[0m\u001b[0;34m\u001b[0m\u001b[0m\n\u001b[0;32m---> 62\u001b[0;31m             raise ValueError('Location should consist of two numerical values, '\n\u001b[0m\u001b[1;32m     63\u001b[0m                              \u001b[0;34m'but {!r} of type {} is not convertible to float.'\u001b[0m\u001b[0;34m\u001b[0m\u001b[0;34m\u001b[0m\u001b[0m\n\u001b[1;32m     64\u001b[0m                              .format(coord, type(coord)))\n",
            "\u001b[0;31mValueError\u001b[0m: Location should consist of two numerical values, but '15° 44\\' 22.0999\" S' of type <class 'str'> is not convertible to float."
          ]
        }
      ],
      "source": [
        "geo_json_mapa['features'][0]['properties']['latitude'], geo_json_mapa['features'][0]['properties']['longitude']\n",
        "\n",
        "for i in range(0, len(geo_json_mapa['features'])):\n",
        "  # print(geo_json_mapa['features'][i]['properties']['latitude'], geo_json_mapa['features'][i]['properties']['longitude'])\n",
        "  ponto = geo_json_mapa['features'][i]['properties']['latitude'], geo_json_mapa['features'][i]['properties']['longitude']\n",
        "  folium.Marker(ponto).add_to(mapa)\n",
        "mapa"
      ]
    },
    {
      "cell_type": "markdown",
      "metadata": {
        "id": "vf7ekWN_ZS7e"
      },
      "source": [
        "---\n",
        "\n",
        "### Fim de rascunho"
      ]
    },
    {
      "cell_type": "markdown",
      "metadata": {
        "id": "KldkKZb3RYvR"
      },
      "source": [
        "### Exibindo as coordenadas do local do clique:"
      ]
    },
    {
      "cell_type": "code",
      "execution_count": null,
      "metadata": {
        "colab": {
          "base_uri": "https://localhost:8080/",
          "height": 958
        },
        "id": "nXVcAIplQvOy",
        "outputId": "17534836-e7c5-4f08-cef4-83187041f319"
      },
      "outputs": [
        {
          "data": {
            "text/html": [
              "<div style=\"width:100%;\"><div style=\"position:relative;width:100%;height:0;padding-bottom:60%;\"><span style=\"color:#565656\">Make this Notebook Trusted to load map: File -> Trust Notebook</span><iframe srcdoc=\"&lt;!DOCTYPE html&gt;\n",
              "&lt;html&gt;\n",
              "&lt;head&gt;\n",
              "    \n",
              "    &lt;meta http-equiv=&quot;content-type&quot; content=&quot;text/html; charset=UTF-8&quot; /&gt;\n",
              "    \n",
              "        &lt;script&gt;\n",
              "            L_NO_TOUCH = false;\n",
              "            L_DISABLE_3D = false;\n",
              "        &lt;/script&gt;\n",
              "    \n",
              "    &lt;style&gt;html, body {width: 100%;height: 100%;margin: 0;padding: 0;}&lt;/style&gt;\n",
              "    &lt;style&gt;#map {position:absolute;top:0;bottom:0;right:0;left:0;}&lt;/style&gt;\n",
              "    &lt;script src=&quot;https://cdn.jsdelivr.net/npm/leaflet@1.6.0/dist/leaflet.js&quot;&gt;&lt;/script&gt;\n",
              "    &lt;script src=&quot;https://code.jquery.com/jquery-1.12.4.min.js&quot;&gt;&lt;/script&gt;\n",
              "    &lt;script src=&quot;https://maxcdn.bootstrapcdn.com/bootstrap/3.2.0/js/bootstrap.min.js&quot;&gt;&lt;/script&gt;\n",
              "    &lt;script src=&quot;https://cdnjs.cloudflare.com/ajax/libs/Leaflet.awesome-markers/2.0.2/leaflet.awesome-markers.js&quot;&gt;&lt;/script&gt;\n",
              "    &lt;link rel=&quot;stylesheet&quot; href=&quot;https://cdn.jsdelivr.net/npm/leaflet@1.6.0/dist/leaflet.css&quot;/&gt;\n",
              "    &lt;link rel=&quot;stylesheet&quot; href=&quot;https://maxcdn.bootstrapcdn.com/bootstrap/3.2.0/css/bootstrap.min.css&quot;/&gt;\n",
              "    &lt;link rel=&quot;stylesheet&quot; href=&quot;https://maxcdn.bootstrapcdn.com/bootstrap/3.2.0/css/bootstrap-theme.min.css&quot;/&gt;\n",
              "    &lt;link rel=&quot;stylesheet&quot; href=&quot;https://maxcdn.bootstrapcdn.com/font-awesome/4.6.3/css/font-awesome.min.css&quot;/&gt;\n",
              "    &lt;link rel=&quot;stylesheet&quot; href=&quot;https://cdnjs.cloudflare.com/ajax/libs/Leaflet.awesome-markers/2.0.2/leaflet.awesome-markers.css&quot;/&gt;\n",
              "    &lt;link rel=&quot;stylesheet&quot; href=&quot;https://cdn.jsdelivr.net/gh/python-visualization/folium/folium/templates/leaflet.awesome.rotate.min.css&quot;/&gt;\n",
              "    \n",
              "            &lt;meta name=&quot;viewport&quot; content=&quot;width=device-width,\n",
              "                initial-scale=1.0, maximum-scale=1.0, user-scalable=no&quot; /&gt;\n",
              "            &lt;style&gt;\n",
              "                #map_9eabfc67e9712a65d9ab78ef43d66b99 {\n",
              "                    position: relative;\n",
              "                    width: 100.0%;\n",
              "                    height: 100.0%;\n",
              "                    left: 0.0%;\n",
              "                    top: 0.0%;\n",
              "                }\n",
              "            &lt;/style&gt;\n",
              "        \n",
              "&lt;/head&gt;\n",
              "&lt;body&gt;\n",
              "    \n",
              "    \n",
              "            &lt;div class=&quot;folium-map&quot; id=&quot;map_9eabfc67e9712a65d9ab78ef43d66b99&quot; &gt;&lt;/div&gt;\n",
              "        \n",
              "&lt;/body&gt;\n",
              "&lt;script&gt;\n",
              "    \n",
              "    \n",
              "            var map_9eabfc67e9712a65d9ab78ef43d66b99 = L.map(\n",
              "                &quot;map_9eabfc67e9712a65d9ab78ef43d66b99&quot;,\n",
              "                {\n",
              "                    center: [-19.916667, -43.9333333],\n",
              "                    crs: L.CRS.EPSG3857,\n",
              "                    zoom: 14,\n",
              "                    zoomControl: true,\n",
              "                    preferCanvas: false,\n",
              "                }\n",
              "            );\n",
              "\n",
              "            \n",
              "\n",
              "        \n",
              "    \n",
              "            var tile_layer_c591ccdc5af1d5783f720266ed376709 = L.tileLayer(\n",
              "                &quot;https://stamen-tiles-{s}.a.ssl.fastly.net/terrain/{z}/{x}/{y}.jpg&quot;,\n",
              "                {&quot;attribution&quot;: &quot;Map tiles by \\u003ca href=\\&quot;http://stamen.com\\&quot;\\u003eStamen Design\\u003c/a\\u003e, under \\u003ca href=\\&quot;http://creativecommons.org/licenses/by/3.0\\&quot;\\u003eCC BY 3.0\\u003c/a\\u003e. Data by \\u0026copy; \\u003ca href=\\&quot;http://openstreetmap.org\\&quot;\\u003eOpenStreetMap\\u003c/a\\u003e, under \\u003ca href=\\&quot;http://creativecommons.org/licenses/by-sa/3.0\\&quot;\\u003eCC BY SA\\u003c/a\\u003e.&quot;, &quot;detectRetina&quot;: false, &quot;maxNativeZoom&quot;: 18, &quot;maxZoom&quot;: 18, &quot;minZoom&quot;: 0, &quot;noWrap&quot;: false, &quot;opacity&quot;: 1, &quot;subdomains&quot;: &quot;abc&quot;, &quot;tms&quot;: false}\n",
              "            ).addTo(map_9eabfc67e9712a65d9ab78ef43d66b99);\n",
              "        \n",
              "    \n",
              "            var marker_847bb36bb7f228154e0a68920f5f0b11 = L.marker(\n",
              "                [-19.9559872, -43.9151621],\n",
              "                {}\n",
              "            ).addTo(map_9eabfc67e9712a65d9ab78ef43d66b99);\n",
              "        \n",
              "    \n",
              "            var icon_f05c02dd130ec5a194787aba377faf95 = L.AwesomeMarkers.icon(\n",
              "                {&quot;extraClasses&quot;: &quot;fa-rotate-0&quot;, &quot;icon&quot;: &quot;info-sign&quot;, &quot;iconColor&quot;: &quot;white&quot;, &quot;markerColor&quot;: &quot;red&quot;, &quot;prefix&quot;: &quot;glyphicon&quot;}\n",
              "            );\n",
              "            marker_847bb36bb7f228154e0a68920f5f0b11.setIcon(icon_f05c02dd130ec5a194787aba377faf95);\n",
              "        \n",
              "    \n",
              "        var popup_2913e29d837744007157ee74fe28f524 = L.popup({&quot;maxWidth&quot;: &quot;100%&quot;});\n",
              "\n",
              "        \n",
              "            var html_0fdd911a58be4858f8cfa634314c0adf = $(`&lt;div id=&quot;html_0fdd911a58be4858f8cfa634314c0adf&quot; style=&quot;width: 100.0%; height: 100.0%;&quot;&gt;&lt;i&gt;Praça do Papa&lt;\\i&gt;&lt;/div&gt;`)[0];\n",
              "            popup_2913e29d837744007157ee74fe28f524.setContent(html_0fdd911a58be4858f8cfa634314c0adf);\n",
              "        \n",
              "\n",
              "        marker_847bb36bb7f228154e0a68920f5f0b11.bindPopup(popup_2913e29d837744007157ee74fe28f524)\n",
              "        ;\n",
              "\n",
              "        \n",
              "    \n",
              "    \n",
              "            marker_847bb36bb7f228154e0a68920f5f0b11.bindTooltip(\n",
              "                `&lt;div&gt;\n",
              "                     Clique aqui\n",
              "                 &lt;/div&gt;`,\n",
              "                {&quot;sticky&quot;: true}\n",
              "            );\n",
              "        \n",
              "    \n",
              "            var circle_marker_9c8f909f1231a7f6cd903c482bf3369d = L.circleMarker(\n",
              "                [-19.9559872, -43.9151621],\n",
              "                {&quot;bubblingMouseEvents&quot;: true, &quot;color&quot;: &quot;#3186cc&quot;, &quot;dashArray&quot;: null, &quot;dashOffset&quot;: null, &quot;fill&quot;: true, &quot;fillColor&quot;: &quot;#3186cc&quot;, &quot;fillOpacity&quot;: 0.2, &quot;fillRule&quot;: &quot;evenodd&quot;, &quot;lineCap&quot;: &quot;round&quot;, &quot;lineJoin&quot;: &quot;round&quot;, &quot;opacity&quot;: 1.0, &quot;radius&quot;: 50, &quot;stroke&quot;: true, &quot;weight&quot;: 3}\n",
              "            ).addTo(map_9eabfc67e9712a65d9ab78ef43d66b99);\n",
              "        \n",
              "    \n",
              "                var lat_lng_popup_809e566c7537779d7816eae3c575cd3a = L.popup();\n",
              "                function latLngPop(e) {\n",
              "                    lat_lng_popup_809e566c7537779d7816eae3c575cd3a\n",
              "                        .setLatLng(e.latlng)\n",
              "                        .setContent(&quot;Latitude: &quot; + e.latlng.lat.toFixed(4) +\n",
              "                                    &quot;&lt;br&gt;Longitude: &quot; + e.latlng.lng.toFixed(4))\n",
              "                        .openOn(map_9eabfc67e9712a65d9ab78ef43d66b99);\n",
              "                    }\n",
              "                map_9eabfc67e9712a65d9ab78ef43d66b99.on(&#x27;click&#x27;, latLngPop);\n",
              "            \n",
              "&lt;/script&gt;\n",
              "&lt;/html&gt;\" style=\"position:absolute;width:100%;height:100%;left:0;top:0;border:none !important;\" allowfullscreen webkitallowfullscreen mozallowfullscreen></iframe></div></div>"
            ],
            "text/plain": [
              "<folium.folium.Map at 0x7f9d827c3d60>"
            ]
          },
          "execution_count": 116,
          "metadata": {},
          "output_type": "execute_result"
        }
      ],
      "source": [
        "mapa.add_child(folium.LatLngPopup())"
      ]
    },
    {
      "cell_type": "markdown",
      "metadata": {
        "id": "iYK9dPsiTgRl"
      },
      "source": [
        "### Adicionando diversos pontos no mapa:"
      ]
    },
    {
      "cell_type": "code",
      "execution_count": null,
      "metadata": {
        "id": "2dEg854ZTkUG"
      },
      "outputs": [],
      "source": []
    },
    {
      "cell_type": "markdown",
      "metadata": {
        "id": "z5l4XKmoTWZP"
      },
      "source": [
        "### Salvando o mapa resultante em um arquivo `html`:"
      ]
    },
    {
      "cell_type": "code",
      "execution_count": null,
      "metadata": {
        "id": "on0f5ItiRkMG"
      },
      "outputs": [],
      "source": [
        "mapa.save('meu_mapa.html')"
      ]
    },
    {
      "cell_type": "markdown",
      "metadata": {
        "id": "J1KLIsKMVsNB"
      },
      "source": [
        "https://python-visualization.github.io/folium/modules.html:"
      ]
    },
    {
      "cell_type": "code",
      "execution_count": null,
      "metadata": {
        "id": "wmPYxiCtTB1n"
      },
      "outputs": [],
      "source": [
        "m = folium.Map(location=[45.523, -122.675], width=750, height=500)\n",
        "m = folium.Map(location=[45.523, -122.675], tiles='cartodb positron')\n",
        "m = folium.Map(\n",
        "   location=[45.523, -122.675],\n",
        "   zoom_start=2,\n",
        "   tiles='https://api.mapbox.com/v4/mapbox.streets/{z}/{x}/{y}.png?access_token=mytoken',\n",
        "   attr='Mapbox attribution'\n",
        ")\n"
      ]
    },
    {
      "cell_type": "code",
      "execution_count": null,
      "metadata": {
        "id": "9CzyVDxmV00I"
      },
      "outputs": [],
      "source": [
        "m.fit_bounds([[52.193636, -2.221575], [52.636878, -1.139759]])"
      ]
    },
    {
      "cell_type": "code",
      "execution_count": null,
      "metadata": {
        "colab": {
          "base_uri": "https://localhost:8080/",
          "height": 958
        },
        "id": "mMqmsAozXzp4",
        "outputId": "f45aa9e1-d60c-4659-9f5a-7515ba063972"
      },
      "outputs": [
        {
          "data": {
            "text/html": [
              "<div style=\"width:100%;\"><div style=\"position:relative;width:100%;height:0;padding-bottom:60%;\"><span style=\"color:#565656\">Make this Notebook Trusted to load map: File -> Trust Notebook</span><iframe srcdoc=\"&lt;!DOCTYPE html&gt;\n",
              "&lt;html&gt;\n",
              "&lt;head&gt;\n",
              "    \n",
              "    &lt;meta http-equiv=&quot;content-type&quot; content=&quot;text/html; charset=UTF-8&quot; /&gt;\n",
              "    \n",
              "        &lt;script&gt;\n",
              "            L_NO_TOUCH = false;\n",
              "            L_DISABLE_3D = false;\n",
              "        &lt;/script&gt;\n",
              "    \n",
              "    &lt;style&gt;html, body {width: 100%;height: 100%;margin: 0;padding: 0;}&lt;/style&gt;\n",
              "    &lt;style&gt;#map {position:absolute;top:0;bottom:0;right:0;left:0;}&lt;/style&gt;\n",
              "    &lt;script src=&quot;https://cdn.jsdelivr.net/npm/leaflet@1.6.0/dist/leaflet.js&quot;&gt;&lt;/script&gt;\n",
              "    &lt;script src=&quot;https://code.jquery.com/jquery-1.12.4.min.js&quot;&gt;&lt;/script&gt;\n",
              "    &lt;script src=&quot;https://maxcdn.bootstrapcdn.com/bootstrap/3.2.0/js/bootstrap.min.js&quot;&gt;&lt;/script&gt;\n",
              "    &lt;script src=&quot;https://cdnjs.cloudflare.com/ajax/libs/Leaflet.awesome-markers/2.0.2/leaflet.awesome-markers.js&quot;&gt;&lt;/script&gt;\n",
              "    &lt;link rel=&quot;stylesheet&quot; href=&quot;https://cdn.jsdelivr.net/npm/leaflet@1.6.0/dist/leaflet.css&quot;/&gt;\n",
              "    &lt;link rel=&quot;stylesheet&quot; href=&quot;https://maxcdn.bootstrapcdn.com/bootstrap/3.2.0/css/bootstrap.min.css&quot;/&gt;\n",
              "    &lt;link rel=&quot;stylesheet&quot; href=&quot;https://maxcdn.bootstrapcdn.com/bootstrap/3.2.0/css/bootstrap-theme.min.css&quot;/&gt;\n",
              "    &lt;link rel=&quot;stylesheet&quot; href=&quot;https://maxcdn.bootstrapcdn.com/font-awesome/4.6.3/css/font-awesome.min.css&quot;/&gt;\n",
              "    &lt;link rel=&quot;stylesheet&quot; href=&quot;https://cdnjs.cloudflare.com/ajax/libs/Leaflet.awesome-markers/2.0.2/leaflet.awesome-markers.css&quot;/&gt;\n",
              "    &lt;link rel=&quot;stylesheet&quot; href=&quot;https://cdn.jsdelivr.net/gh/python-visualization/folium/folium/templates/leaflet.awesome.rotate.min.css&quot;/&gt;\n",
              "    \n",
              "            &lt;meta name=&quot;viewport&quot; content=&quot;width=device-width,\n",
              "                initial-scale=1.0, maximum-scale=1.0, user-scalable=no&quot; /&gt;\n",
              "            &lt;style&gt;\n",
              "                #map_9ca4e59f6e7c9ad72a4a3d992388c9b9 {\n",
              "                    position: relative;\n",
              "                    width: 100.0%;\n",
              "                    height: 100.0%;\n",
              "                    left: 0.0%;\n",
              "                    top: 0.0%;\n",
              "                }\n",
              "            &lt;/style&gt;\n",
              "        \n",
              "&lt;/head&gt;\n",
              "&lt;body&gt;\n",
              "    \n",
              "    \n",
              "            &lt;div class=&quot;folium-map&quot; id=&quot;map_9ca4e59f6e7c9ad72a4a3d992388c9b9&quot; &gt;&lt;/div&gt;\n",
              "        \n",
              "&lt;/body&gt;\n",
              "&lt;script&gt;\n",
              "    \n",
              "    \n",
              "            var map_9ca4e59f6e7c9ad72a4a3d992388c9b9 = L.map(\n",
              "                &quot;map_9ca4e59f6e7c9ad72a4a3d992388c9b9&quot;,\n",
              "                {\n",
              "                    center: [45.523, -122.675],\n",
              "                    crs: L.CRS.EPSG3857,\n",
              "                    zoom: 2,\n",
              "                    zoomControl: true,\n",
              "                    preferCanvas: false,\n",
              "                }\n",
              "            );\n",
              "\n",
              "            \n",
              "\n",
              "        \n",
              "    \n",
              "            var tile_layer_b19d501490483f9c17c1704a4bd2dbff = L.tileLayer(\n",
              "                &quot;https://api.mapbox.com/v4/mapbox.streets/{z}/{x}/{y}.png?access_token=mytoken&quot;,\n",
              "                {&quot;attribution&quot;: &quot;Mapbox attribution&quot;, &quot;detectRetina&quot;: false, &quot;maxNativeZoom&quot;: 18, &quot;maxZoom&quot;: 18, &quot;minZoom&quot;: 0, &quot;noWrap&quot;: false, &quot;opacity&quot;: 1, &quot;subdomains&quot;: &quot;abc&quot;, &quot;tms&quot;: false}\n",
              "            ).addTo(map_9ca4e59f6e7c9ad72a4a3d992388c9b9);\n",
              "        \n",
              "    \n",
              "            map_9ca4e59f6e7c9ad72a4a3d992388c9b9.fitBounds(\n",
              "                [[52.193636, -2.221575], [52.636878, -1.139759]],\n",
              "                {}\n",
              "            );\n",
              "        \n",
              "&lt;/script&gt;\n",
              "&lt;/html&gt;\" style=\"position:absolute;width:100%;height:100%;left:0;top:0;border:none !important;\" allowfullscreen webkitallowfullscreen mozallowfullscreen></iframe></div></div>"
            ],
            "text/plain": [
              "<folium.folium.Map at 0x7f9d8275a130>"
            ]
          },
          "execution_count": 153,
          "metadata": {},
          "output_type": "execute_result"
        }
      ],
      "source": [
        "m"
      ]
    }
  ],
  "metadata": {
    "colab": {
      "authorship_tag": "ABX9TyNn0k6mIPWItNDfrb5xK5IR",
      "include_colab_link": true,
      "provenance": []
    },
    "kernelspec": {
      "display_name": "ImaGeo",
      "language": "python",
      "name": "python3"
    },
    "language_info": {
      "codemirror_mode": {
        "name": "ipython",
        "version": 3
      },
      "file_extension": ".py",
      "mimetype": "text/x-python",
      "name": "python",
      "nbconvert_exporter": "python",
      "pygments_lexer": "ipython3",
      "version": "3.10.4"
    },
    "vscode": {
      "interpreter": {
        "hash": "ef296c3c6fa8c01b04bdc44201e7b081e8e9504af48d8f0476fb3bd67ccbba53"
      }
    }
  },
  "nbformat": 4,
  "nbformat_minor": 0
}
